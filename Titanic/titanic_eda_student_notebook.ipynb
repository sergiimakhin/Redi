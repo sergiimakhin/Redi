{
 "cells": [
  {
   "cell_type": "markdown",
   "id": "1e4b679a",
   "metadata": {},
   "source": [
    "# Titanic Dataset: Exploratory Data Analysis (EDA)\n",
    "\n",
    "Welcome to the Titanic dataset EDA notebook! In this notebook, you will explore the Titanic dataset, clean the data, and perform some basic visualizations. Follow the instructions in each cell and complete the tasks where needed.\n",
    "\n",
    "Let's get started!"
   ]
  },
  {
   "cell_type": "code",
   "execution_count": 11,
   "id": "b49f9bcb",
   "metadata": {},
   "outputs": [],
   "source": [
    "# Task: Import the necessary libraries for data analysis and visualization\n",
    "# Libraries to import: pandas, numpy, matplotlib, seaborn\n",
    "\n",
    "import pandas as pd\n",
    "import numpy as np\n",
    "import matplotlib.pyplot as plt\n",
    "import seaborn as sns\n",
    "%matplotlib inline \n",
    "# Use %matplotlib inline if you are using Jupyter Notebook for inline plotting"
   ]
  },
  {
   "cell_type": "code",
   "execution_count": 12,
   "id": "52bbd01a",
   "metadata": {},
   "outputs": [],
   "source": [
    "# Task: Load the Titanic dataset into a pandas DataFrame\n",
    "# You can use 'titanic.csv' if the dataset is available locally or provide a URL to load it.\n",
    "\n",
    "# Example: df = pd.read_csv('titanic.csv')\n",
    "\n",
    "# Load your dataset here\n",
    "# df = pd.read_csv('titanic3.csv')\n",
    "# or \n",
    "df = sns.load_dataset('titanic')\n",
    "# Preview the first few rows of the dataset using df.head()"
   ]
  },
  {
   "cell_type": "code",
   "execution_count": 13,
   "id": "addf558d",
   "metadata": {},
   "outputs": [
    {
     "name": "stdout",
     "output_type": "stream",
     "text": [
      "<class 'pandas.core.frame.DataFrame'>\n",
      "RangeIndex: 891 entries, 0 to 890\n",
      "Data columns (total 15 columns):\n",
      " #   Column       Non-Null Count  Dtype   \n",
      "---  ------       --------------  -----   \n",
      " 0   survived     891 non-null    int64   \n",
      " 1   pclass       891 non-null    int64   \n",
      " 2   sex          891 non-null    object  \n",
      " 3   age          714 non-null    float64 \n",
      " 4   sibsp        891 non-null    int64   \n",
      " 5   parch        891 non-null    int64   \n",
      " 6   fare         891 non-null    float64 \n",
      " 7   embarked     889 non-null    object  \n",
      " 8   class        891 non-null    category\n",
      " 9   who          891 non-null    object  \n",
      " 10  adult_male   891 non-null    bool    \n",
      " 11  deck         203 non-null    category\n",
      " 12  embark_town  889 non-null    object  \n",
      " 13  alive        891 non-null    object  \n",
      " 14  alone        891 non-null    bool    \n",
      "dtypes: bool(2), category(2), float64(2), int64(4), object(5)\n",
      "memory usage: 80.7+ KB\n"
     ]
    },
    {
     "data": {
      "application/vnd.microsoft.datawrangler.viewer.v0+json": {
       "columns": [
        {
         "name": "index",
         "rawType": "object",
         "type": "string"
        },
        {
         "name": "survived",
         "rawType": "float64",
         "type": "float"
        },
        {
         "name": "pclass",
         "rawType": "float64",
         "type": "float"
        },
        {
         "name": "age",
         "rawType": "float64",
         "type": "float"
        },
        {
         "name": "sibsp",
         "rawType": "float64",
         "type": "float"
        },
        {
         "name": "parch",
         "rawType": "float64",
         "type": "float"
        },
        {
         "name": "fare",
         "rawType": "float64",
         "type": "float"
        }
       ],
       "conversionMethod": "pd.DataFrame",
       "ref": "522d6d31-39e5-40d9-9894-d5835fdb422e",
       "rows": [
        [
         "count",
         "891.0",
         "891.0",
         "714.0",
         "891.0",
         "891.0",
         "891.0"
        ],
        [
         "mean",
         "0.384",
         "2.309",
         "29.699",
         "0.523",
         "0.382",
         "32.204"
        ],
        [
         "std",
         "0.487",
         "0.836",
         "14.526",
         "1.103",
         "0.806",
         "49.693"
        ],
        [
         "min",
         "0.0",
         "1.0",
         "0.42",
         "0.0",
         "0.0",
         "0.0"
        ],
        [
         "25%",
         "0.0",
         "2.0",
         "20.125",
         "0.0",
         "0.0",
         "7.91"
        ],
        [
         "50%",
         "0.0",
         "3.0",
         "28.0",
         "0.0",
         "0.0",
         "14.454"
        ],
        [
         "75%",
         "1.0",
         "3.0",
         "38.0",
         "1.0",
         "0.0",
         "31.0"
        ],
        [
         "max",
         "1.0",
         "3.0",
         "80.0",
         "8.0",
         "6.0",
         "512.329"
        ]
       ],
       "shape": {
        "columns": 6,
        "rows": 8
       }
      },
      "text/html": [
       "<div>\n",
       "<style scoped>\n",
       "    .dataframe tbody tr th:only-of-type {\n",
       "        vertical-align: middle;\n",
       "    }\n",
       "\n",
       "    .dataframe tbody tr th {\n",
       "        vertical-align: top;\n",
       "    }\n",
       "\n",
       "    .dataframe thead th {\n",
       "        text-align: right;\n",
       "    }\n",
       "</style>\n",
       "<table border=\"1\" class=\"dataframe\">\n",
       "  <thead>\n",
       "    <tr style=\"text-align: right;\">\n",
       "      <th></th>\n",
       "      <th>survived</th>\n",
       "      <th>pclass</th>\n",
       "      <th>age</th>\n",
       "      <th>sibsp</th>\n",
       "      <th>parch</th>\n",
       "      <th>fare</th>\n",
       "    </tr>\n",
       "  </thead>\n",
       "  <tbody>\n",
       "    <tr>\n",
       "      <th>count</th>\n",
       "      <td>891.000</td>\n",
       "      <td>891.000</td>\n",
       "      <td>714.000</td>\n",
       "      <td>891.000</td>\n",
       "      <td>891.000</td>\n",
       "      <td>891.000</td>\n",
       "    </tr>\n",
       "    <tr>\n",
       "      <th>mean</th>\n",
       "      <td>0.384</td>\n",
       "      <td>2.309</td>\n",
       "      <td>29.699</td>\n",
       "      <td>0.523</td>\n",
       "      <td>0.382</td>\n",
       "      <td>32.204</td>\n",
       "    </tr>\n",
       "    <tr>\n",
       "      <th>std</th>\n",
       "      <td>0.487</td>\n",
       "      <td>0.836</td>\n",
       "      <td>14.526</td>\n",
       "      <td>1.103</td>\n",
       "      <td>0.806</td>\n",
       "      <td>49.693</td>\n",
       "    </tr>\n",
       "    <tr>\n",
       "      <th>min</th>\n",
       "      <td>0.000</td>\n",
       "      <td>1.000</td>\n",
       "      <td>0.420</td>\n",
       "      <td>0.000</td>\n",
       "      <td>0.000</td>\n",
       "      <td>0.000</td>\n",
       "    </tr>\n",
       "    <tr>\n",
       "      <th>25%</th>\n",
       "      <td>0.000</td>\n",
       "      <td>2.000</td>\n",
       "      <td>20.125</td>\n",
       "      <td>0.000</td>\n",
       "      <td>0.000</td>\n",
       "      <td>7.910</td>\n",
       "    </tr>\n",
       "    <tr>\n",
       "      <th>50%</th>\n",
       "      <td>0.000</td>\n",
       "      <td>3.000</td>\n",
       "      <td>28.000</td>\n",
       "      <td>0.000</td>\n",
       "      <td>0.000</td>\n",
       "      <td>14.454</td>\n",
       "    </tr>\n",
       "    <tr>\n",
       "      <th>75%</th>\n",
       "      <td>1.000</td>\n",
       "      <td>3.000</td>\n",
       "      <td>38.000</td>\n",
       "      <td>1.000</td>\n",
       "      <td>0.000</td>\n",
       "      <td>31.000</td>\n",
       "    </tr>\n",
       "    <tr>\n",
       "      <th>max</th>\n",
       "      <td>1.000</td>\n",
       "      <td>3.000</td>\n",
       "      <td>80.000</td>\n",
       "      <td>8.000</td>\n",
       "      <td>6.000</td>\n",
       "      <td>512.329</td>\n",
       "    </tr>\n",
       "  </tbody>\n",
       "</table>\n",
       "</div>"
      ],
      "text/plain": [
       "       survived   pclass      age    sibsp    parch     fare\n",
       "count   891.000  891.000  714.000  891.000  891.000  891.000\n",
       "mean      0.384    2.309   29.699    0.523    0.382   32.204\n",
       "std       0.487    0.836   14.526    1.103    0.806   49.693\n",
       "min       0.000    1.000    0.420    0.000    0.000    0.000\n",
       "25%       0.000    2.000   20.125    0.000    0.000    7.910\n",
       "50%       0.000    3.000   28.000    0.000    0.000   14.454\n",
       "75%       1.000    3.000   38.000    1.000    0.000   31.000\n",
       "max       1.000    3.000   80.000    8.000    6.000  512.329"
      ]
     },
     "execution_count": 13,
     "metadata": {},
     "output_type": "execute_result"
    }
   ],
   "source": [
    "# Task: Inspect the dataset to understand its structure\n",
    "# Instructions: Use df.info() to check the data types and non-null values for each column.\n",
    "df.info()\n",
    "# Add df.describe() to get a summary of the numerical features.\n",
    "df.describe().round(3)\n",
    "# Inspect data"
   ]
  },
  {
   "cell_type": "code",
   "execution_count": 14,
   "id": "68666667",
   "metadata": {},
   "outputs": [
    {
     "data": {
      "text/plain": [
       "survived         0\n",
       "pclass           0\n",
       "sex              0\n",
       "age            177\n",
       "sibsp            0\n",
       "parch            0\n",
       "fare             0\n",
       "embarked         2\n",
       "class            0\n",
       "who              0\n",
       "adult_male       0\n",
       "deck           688\n",
       "embark_town      2\n",
       "alive            0\n",
       "alone            0\n",
       "dtype: int64"
      ]
     },
     "execution_count": 14,
     "metadata": {},
     "output_type": "execute_result"
    }
   ],
   "source": [
    "# Task: Check for missing data in the dataset\n",
    "# Instructions: Use isnull().sum() to count missing values per column.\n",
    "\n",
    "# Explore how to handle missing values (fillna or dropna).\n",
    "\n",
    "# Example:\n",
    "df.isnull().sum()\n",
    "\n",
    "# Now handle missing values by either dropping or filling them"
   ]
  },
  {
   "cell_type": "code",
   "execution_count": 15,
   "id": "4f887984",
   "metadata": {},
   "outputs": [],
   "source": [
    "# Task: Perform additional data cleaning steps if needed\n",
    "# Instructions: Look for duplicates, adjust data types, and rename columns where necessary.\n",
    "\n",
    "# Remove duplicate rows, if any\n",
    "df.drop_duplicates(inplace=True)\n",
    "\n",
    "# Check if any columns need renaming or converting to appropriate data types\n",
    "# Example: df['column_name'] = df['column_name'].astype('new_dtype') if you need to change the data type of a column\n",
    "# Example: df.rename(columns={'old_name': 'new_name'}, inplace=True) if you need to rename a column"
   ]
  },
  {
   "cell_type": "code",
   "execution_count": 17,
   "id": "9fb8bd99",
   "metadata": {},
   "outputs": [
    {
     "data": {
      "text/plain": [
       "(29.869351032448375,\n",
       " survived\n",
       " 0    461\n",
       " 1    323\n",
       " Name: count, dtype: int64)"
      ]
     },
     "execution_count": 17,
     "metadata": {},
     "output_type": "execute_result"
    }
   ],
   "source": [
    "# Task: Generate descriptive statistics for the dataset\n",
    "# Instructions: Use df.describe() to get an overview of the numerical columns.\n",
    "# Use value_counts() for categorical columns to see the distribution of values.\n",
    "\n",
    "# Example:\n",
    "df.describe()\n",
    "\n",
    "# Now calculate statistics for specific columns (e.g., mean, median)\n",
    "df['age'].mean(), df['survived'].value_counts()"
   ]
  },
  {
   "cell_type": "code",
   "execution_count": null,
   "id": "47882bfc",
   "metadata": {},
   "outputs": [],
   "source": [
    "# Task: Create visualizations to explore the data\n",
    "# Instructions: Create a bar chart or a histogram to visualize the distribution of certain features.\n",
    "\n",
    "# Example: Use matplotlib or seaborn to plot the distribution of 'Age' or 'Fare'\n",
    "sns.histplot(df['Age'].dropna(), bins=30)\n"
   ]
  },
  {
   "cell_type": "code",
   "execution_count": null,
   "id": "c56cd940",
   "metadata": {},
   "outputs": [],
   "source": [
    "\n",
    "# Now create a bar chart for categorical data such as 'Pclass' or 'Sex'\n",
    "#sns.countplot(x='Pclass', data=df)\n",
    "#sns.barplot(x='Pclass', y='Survived', data=df)"
   ]
  },
  {
   "cell_type": "code",
   "execution_count": null,
   "id": "824bc654",
   "metadata": {},
   "outputs": [],
   "source": [
    "# Task: Explore relationships between variables\n",
    "# Instructions: Create a correlation matrix to see how features are related to each other.\n",
    "# Use a heatmap from seaborn to visualize the correlations.\n",
    "\n",
    "# Example: sns.heatmap(df.corr(), annot=True, cmap='coolwarm')\n",
    "sns.heatmap(df.corr(), annot=True, cmap='coolwarm')\n",
    "\n",
    "# This wont work because we have non-numeric columns in the dataset\n",
    "# We need to convert them to numeric or drop them before creating the correlation\n"
   ]
  },
  {
   "cell_type": "code",
   "execution_count": null,
   "id": "233d6a5f",
   "metadata": {},
   "outputs": [],
   "source": [
    "# Find the non-numeric columns\n",
    "df.select_dtypes(include=['object'])"
   ]
  },
  {
   "cell_type": "code",
   "execution_count": null,
   "id": "3dfc4ee2",
   "metadata": {},
   "outputs": [],
   "source": [
    "# Find the numeric columns\n",
    "df.select_dtypes(include=['int64', 'float64'])"
   ]
  },
  {
   "cell_type": "code",
   "execution_count": null,
   "id": "fa2f00f7",
   "metadata": {},
   "outputs": [],
   "source": [
    "# First we can look at only the numeric columns to see the correlation\n",
    "sns.heatmap(df.select_dtypes(include=['int64', 'float64']).corr(), annot=True, cmap='coolwarm')"
   ]
  },
  {
   "cell_type": "code",
   "execution_count": null,
   "id": "991bc42b",
   "metadata": {},
   "outputs": [],
   "source": [
    "# Now we can convert the non-numeric columns to numeric\n",
    "# using one-hot encoding\n",
    "df_dummies = pd.get_dummies(df , columns=['Sex', 'Embarked'], drop_first=True)"
   ]
  },
  {
   "cell_type": "code",
   "execution_count": null,
   "id": "1ea0fbda",
   "metadata": {},
   "outputs": [],
   "source": [
    "df_dummies.head()"
   ]
  },
  {
   "cell_type": "code",
   "execution_count": null,
   "id": "1d86cb15",
   "metadata": {},
   "outputs": [],
   "source": [
    "# Now we can look at the correlation matrix\n",
    "# But first lets drop the name,cabin  and the ticket column\n",
    "# because they are not useful for the correlation matrix    \n",
    "df_dummies.drop(['Name', 'Ticket','Cabin'], axis=1, inplace=True)\n",
    "\n",
    "sns.heatmap(df_dummies.corr(), annot=True, cmap='coolwarm')"
   ]
  },
  {
   "cell_type": "code",
   "execution_count": null,
   "id": "07811557",
   "metadata": {},
   "outputs": [],
   "source": [
    "# Task: Explore further! \n",
    "# Instructions: Feel free to explore other relationships in the data using scatter plots or other visualizations.\n",
    "\n",
    "# For example, plot 'Fare' vs 'Age' to see if there's any trend:\n",
    "plt.scatter(df['Fare'], df['Age'])\n",
    "\n",
    "# Try exploring any other interesting relationships in the dataset."
   ]
  },
  {
   "cell_type": "code",
   "execution_count": null,
   "id": "3715baa0",
   "metadata": {},
   "outputs": [],
   "source": [
    "# and again using seaborn\n",
    "sns.scatterplot(x='Fare', y='Age', data=df)"
   ]
  },
  {
   "cell_type": "markdown",
   "id": "ee0c29cf",
   "metadata": {},
   "source": [
    "# Task: Summarize your findings\n",
    "Now that you’ve completed the EDA, take a moment to reflect on the key insights you gathered from the Titanic dataset. What interesting patterns did you observe? Are there any obvious outliers or trends?\n",
    "\n",
    "Feel free to add your conclusions here."
   ]
  },
  {
   "cell_type": "markdown",
   "id": "58c81655",
   "metadata": {},
   "source": [
    "1. Seaborn: Includes datasets like tips, iris, titanic, and diamonds.\n",
    "Example: sns.load_dataset('tips')\n",
    "2. Scikit-learn: Offers various datasets such as iris, digits, wine, and breast_cancer.\n",
    "Example: from sklearn.datasets import load_iris"
   ]
  }
 ],
 "metadata": {
  "kernelspec": {
   "display_name": "myenv",
   "language": "python",
   "name": "python3"
  },
  "language_info": {
   "codemirror_mode": {
    "name": "ipython",
    "version": 3
   },
   "file_extension": ".py",
   "mimetype": "text/x-python",
   "name": "python",
   "nbconvert_exporter": "python",
   "pygments_lexer": "ipython3",
   "version": "3.10.13"
  }
 },
 "nbformat": 4,
 "nbformat_minor": 5
}
