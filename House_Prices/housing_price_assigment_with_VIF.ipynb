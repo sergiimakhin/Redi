{
 "cells": [
  {
   "cell_type": "markdown",
   "metadata": {},
   "source": [
    "#ML Course Regression Assignment: Predicting Housing Prices\n",
    "\n",
    "## Dataset: Boston Housing Prices\n",
    "\n",
    "In this assignment, you will explore a dataset of housing prices and use regression to predict house prices based on various features. You will also perform exploratory data analysis (EDA), visualize the data, and select important features.\n",
    "\n",
    "### Instructions:\n",
    "- Answer the following questions by writing code in the cells below.\n",
    "- Be sure to visualize your findings and explain your reasoning.\n",
    "- Finally, train a regression model to predict housing prices and evaluate its performance.\n",
    "\n",
    "---\n",
    "\n",
    "## **1. Data Loading and Exploration**\n",
    "\n",
    "### Question 1: Load the dataset and inspect the first few rows.\n",
    "- Load the Boston housing dataset (from `sklearn.datasets`) into a pandas DataFrame.\n",
    "Since the **Boston Housing dataset** is deprecated, you can download the alternative housing dataset from [Kaggle Housing Prices Dataset](https://www.kaggle.com/c/house-prices-advanced-regression-techniques/data) if necessary.\n",
    "\n",
    "- Display the first 5 rows to understand the structure of the data.\n",
    "\n"
   ]
  },
  {
   "cell_type": "code",
   "execution_count": 1,
   "metadata": {},
   "outputs": [],
   "source": [
    "import numpy as np\n",
    "import pandas as pd\n",
    "import matplotlib.pyplot as plt\n",
    "import seaborn as sns\n",
    "from sklearn.model_selection import train_test_split\n",
    "from sklearn.linear_model import LinearRegression\n",
    "from sklearn.metrics import mean_squared_error\n",
    "from sklearn.preprocessing import StandardScaler, LabelEncoder"
   ]
  },
  {
   "cell_type": "code",
   "execution_count": 2,
   "metadata": {},
   "outputs": [
    {
     "data": {
      "application/vnd.microsoft.datawrangler.viewer.v0+json": {
       "columns": [
        {
         "name": "index",
         "rawType": "int64",
         "type": "integer"
        },
        {
         "name": "Id",
         "rawType": "int64",
         "type": "integer"
        },
        {
         "name": "MSSubClass",
         "rawType": "int64",
         "type": "integer"
        },
        {
         "name": "MSZoning",
         "rawType": "object",
         "type": "string"
        },
        {
         "name": "LotFrontage",
         "rawType": "float64",
         "type": "float"
        },
        {
         "name": "LotArea",
         "rawType": "int64",
         "type": "integer"
        },
        {
         "name": "Street",
         "rawType": "object",
         "type": "string"
        },
        {
         "name": "Alley",
         "rawType": "object",
         "type": "unknown"
        },
        {
         "name": "LotShape",
         "rawType": "object",
         "type": "string"
        },
        {
         "name": "LandContour",
         "rawType": "object",
         "type": "string"
        },
        {
         "name": "Utilities",
         "rawType": "object",
         "type": "string"
        },
        {
         "name": "LotConfig",
         "rawType": "object",
         "type": "string"
        },
        {
         "name": "LandSlope",
         "rawType": "object",
         "type": "string"
        },
        {
         "name": "Neighborhood",
         "rawType": "object",
         "type": "string"
        },
        {
         "name": "Condition1",
         "rawType": "object",
         "type": "string"
        },
        {
         "name": "Condition2",
         "rawType": "object",
         "type": "string"
        },
        {
         "name": "BldgType",
         "rawType": "object",
         "type": "string"
        },
        {
         "name": "HouseStyle",
         "rawType": "object",
         "type": "string"
        },
        {
         "name": "OverallQual",
         "rawType": "int64",
         "type": "integer"
        },
        {
         "name": "OverallCond",
         "rawType": "int64",
         "type": "integer"
        },
        {
         "name": "YearBuilt",
         "rawType": "int64",
         "type": "integer"
        },
        {
         "name": "YearRemodAdd",
         "rawType": "int64",
         "type": "integer"
        },
        {
         "name": "RoofStyle",
         "rawType": "object",
         "type": "string"
        },
        {
         "name": "RoofMatl",
         "rawType": "object",
         "type": "string"
        },
        {
         "name": "Exterior1st",
         "rawType": "object",
         "type": "string"
        },
        {
         "name": "Exterior2nd",
         "rawType": "object",
         "type": "string"
        },
        {
         "name": "MasVnrType",
         "rawType": "object",
         "type": "unknown"
        },
        {
         "name": "MasVnrArea",
         "rawType": "float64",
         "type": "float"
        },
        {
         "name": "ExterQual",
         "rawType": "object",
         "type": "string"
        },
        {
         "name": "ExterCond",
         "rawType": "object",
         "type": "string"
        },
        {
         "name": "Foundation",
         "rawType": "object",
         "type": "string"
        },
        {
         "name": "BsmtQual",
         "rawType": "object",
         "type": "string"
        },
        {
         "name": "BsmtCond",
         "rawType": "object",
         "type": "string"
        },
        {
         "name": "BsmtExposure",
         "rawType": "object",
         "type": "string"
        },
        {
         "name": "BsmtFinType1",
         "rawType": "object",
         "type": "string"
        },
        {
         "name": "BsmtFinSF1",
         "rawType": "int64",
         "type": "integer"
        },
        {
         "name": "BsmtFinType2",
         "rawType": "object",
         "type": "string"
        },
        {
         "name": "BsmtFinSF2",
         "rawType": "int64",
         "type": "integer"
        },
        {
         "name": "BsmtUnfSF",
         "rawType": "int64",
         "type": "integer"
        },
        {
         "name": "TotalBsmtSF",
         "rawType": "int64",
         "type": "integer"
        },
        {
         "name": "Heating",
         "rawType": "object",
         "type": "string"
        },
        {
         "name": "HeatingQC",
         "rawType": "object",
         "type": "string"
        },
        {
         "name": "CentralAir",
         "rawType": "object",
         "type": "string"
        },
        {
         "name": "Electrical",
         "rawType": "object",
         "type": "string"
        },
        {
         "name": "1stFlrSF",
         "rawType": "int64",
         "type": "integer"
        },
        {
         "name": "2ndFlrSF",
         "rawType": "int64",
         "type": "integer"
        },
        {
         "name": "LowQualFinSF",
         "rawType": "int64",
         "type": "integer"
        },
        {
         "name": "GrLivArea",
         "rawType": "int64",
         "type": "integer"
        },
        {
         "name": "BsmtFullBath",
         "rawType": "int64",
         "type": "integer"
        },
        {
         "name": "BsmtHalfBath",
         "rawType": "int64",
         "type": "integer"
        },
        {
         "name": "FullBath",
         "rawType": "int64",
         "type": "integer"
        },
        {
         "name": "HalfBath",
         "rawType": "int64",
         "type": "integer"
        },
        {
         "name": "BedroomAbvGr",
         "rawType": "int64",
         "type": "integer"
        },
        {
         "name": "KitchenAbvGr",
         "rawType": "int64",
         "type": "integer"
        },
        {
         "name": "KitchenQual",
         "rawType": "object",
         "type": "string"
        },
        {
         "name": "TotRmsAbvGrd",
         "rawType": "int64",
         "type": "integer"
        },
        {
         "name": "Functional",
         "rawType": "object",
         "type": "string"
        },
        {
         "name": "Fireplaces",
         "rawType": "int64",
         "type": "integer"
        },
        {
         "name": "FireplaceQu",
         "rawType": "object",
         "type": "unknown"
        },
        {
         "name": "GarageType",
         "rawType": "object",
         "type": "string"
        },
        {
         "name": "GarageYrBlt",
         "rawType": "float64",
         "type": "float"
        },
        {
         "name": "GarageFinish",
         "rawType": "object",
         "type": "string"
        },
        {
         "name": "GarageCars",
         "rawType": "int64",
         "type": "integer"
        },
        {
         "name": "GarageArea",
         "rawType": "int64",
         "type": "integer"
        },
        {
         "name": "GarageQual",
         "rawType": "object",
         "type": "string"
        },
        {
         "name": "GarageCond",
         "rawType": "object",
         "type": "string"
        },
        {
         "name": "PavedDrive",
         "rawType": "object",
         "type": "string"
        },
        {
         "name": "WoodDeckSF",
         "rawType": "int64",
         "type": "integer"
        },
        {
         "name": "OpenPorchSF",
         "rawType": "int64",
         "type": "integer"
        },
        {
         "name": "EnclosedPorch",
         "rawType": "int64",
         "type": "integer"
        },
        {
         "name": "3SsnPorch",
         "rawType": "int64",
         "type": "integer"
        },
        {
         "name": "ScreenPorch",
         "rawType": "int64",
         "type": "integer"
        },
        {
         "name": "PoolArea",
         "rawType": "int64",
         "type": "integer"
        },
        {
         "name": "PoolQC",
         "rawType": "object",
         "type": "unknown"
        },
        {
         "name": "Fence",
         "rawType": "object",
         "type": "unknown"
        },
        {
         "name": "MiscFeature",
         "rawType": "object",
         "type": "unknown"
        },
        {
         "name": "MiscVal",
         "rawType": "int64",
         "type": "integer"
        },
        {
         "name": "MoSold",
         "rawType": "int64",
         "type": "integer"
        },
        {
         "name": "YrSold",
         "rawType": "int64",
         "type": "integer"
        },
        {
         "name": "SaleType",
         "rawType": "object",
         "type": "string"
        },
        {
         "name": "SaleCondition",
         "rawType": "object",
         "type": "string"
        },
        {
         "name": "SalePrice",
         "rawType": "int64",
         "type": "integer"
        }
       ],
       "conversionMethod": "pd.DataFrame",
       "ref": "6ce7962e-ee26-41fc-ad0c-68452822e33a",
       "rows": [
        [
         "0",
         "1",
         "60",
         "RL",
         "65.0",
         "8450",
         "Pave",
         null,
         "Reg",
         "Lvl",
         "AllPub",
         "Inside",
         "Gtl",
         "CollgCr",
         "Norm",
         "Norm",
         "1Fam",
         "2Story",
         "7",
         "5",
         "2003",
         "2003",
         "Gable",
         "CompShg",
         "VinylSd",
         "VinylSd",
         "BrkFace",
         "196.0",
         "Gd",
         "TA",
         "PConc",
         "Gd",
         "TA",
         "No",
         "GLQ",
         "706",
         "Unf",
         "0",
         "150",
         "856",
         "GasA",
         "Ex",
         "Y",
         "SBrkr",
         "856",
         "854",
         "0",
         "1710",
         "1",
         "0",
         "2",
         "1",
         "3",
         "1",
         "Gd",
         "8",
         "Typ",
         "0",
         null,
         "Attchd",
         "2003.0",
         "RFn",
         "2",
         "548",
         "TA",
         "TA",
         "Y",
         "0",
         "61",
         "0",
         "0",
         "0",
         "0",
         null,
         null,
         null,
         "0",
         "2",
         "2008",
         "WD",
         "Normal",
         "208500"
        ],
        [
         "1",
         "2",
         "20",
         "RL",
         "80.0",
         "9600",
         "Pave",
         null,
         "Reg",
         "Lvl",
         "AllPub",
         "FR2",
         "Gtl",
         "Veenker",
         "Feedr",
         "Norm",
         "1Fam",
         "1Story",
         "6",
         "8",
         "1976",
         "1976",
         "Gable",
         "CompShg",
         "MetalSd",
         "MetalSd",
         null,
         "0.0",
         "TA",
         "TA",
         "CBlock",
         "Gd",
         "TA",
         "Gd",
         "ALQ",
         "978",
         "Unf",
         "0",
         "284",
         "1262",
         "GasA",
         "Ex",
         "Y",
         "SBrkr",
         "1262",
         "0",
         "0",
         "1262",
         "0",
         "1",
         "2",
         "0",
         "3",
         "1",
         "TA",
         "6",
         "Typ",
         "1",
         "TA",
         "Attchd",
         "1976.0",
         "RFn",
         "2",
         "460",
         "TA",
         "TA",
         "Y",
         "298",
         "0",
         "0",
         "0",
         "0",
         "0",
         null,
         null,
         null,
         "0",
         "5",
         "2007",
         "WD",
         "Normal",
         "181500"
        ],
        [
         "2",
         "3",
         "60",
         "RL",
         "68.0",
         "11250",
         "Pave",
         null,
         "IR1",
         "Lvl",
         "AllPub",
         "Inside",
         "Gtl",
         "CollgCr",
         "Norm",
         "Norm",
         "1Fam",
         "2Story",
         "7",
         "5",
         "2001",
         "2002",
         "Gable",
         "CompShg",
         "VinylSd",
         "VinylSd",
         "BrkFace",
         "162.0",
         "Gd",
         "TA",
         "PConc",
         "Gd",
         "TA",
         "Mn",
         "GLQ",
         "486",
         "Unf",
         "0",
         "434",
         "920",
         "GasA",
         "Ex",
         "Y",
         "SBrkr",
         "920",
         "866",
         "0",
         "1786",
         "1",
         "0",
         "2",
         "1",
         "3",
         "1",
         "Gd",
         "6",
         "Typ",
         "1",
         "TA",
         "Attchd",
         "2001.0",
         "RFn",
         "2",
         "608",
         "TA",
         "TA",
         "Y",
         "0",
         "42",
         "0",
         "0",
         "0",
         "0",
         null,
         null,
         null,
         "0",
         "9",
         "2008",
         "WD",
         "Normal",
         "223500"
        ],
        [
         "3",
         "4",
         "70",
         "RL",
         "60.0",
         "9550",
         "Pave",
         null,
         "IR1",
         "Lvl",
         "AllPub",
         "Corner",
         "Gtl",
         "Crawfor",
         "Norm",
         "Norm",
         "1Fam",
         "2Story",
         "7",
         "5",
         "1915",
         "1970",
         "Gable",
         "CompShg",
         "Wd Sdng",
         "Wd Shng",
         null,
         "0.0",
         "TA",
         "TA",
         "BrkTil",
         "TA",
         "Gd",
         "No",
         "ALQ",
         "216",
         "Unf",
         "0",
         "540",
         "756",
         "GasA",
         "Gd",
         "Y",
         "SBrkr",
         "961",
         "756",
         "0",
         "1717",
         "1",
         "0",
         "1",
         "0",
         "3",
         "1",
         "Gd",
         "7",
         "Typ",
         "1",
         "Gd",
         "Detchd",
         "1998.0",
         "Unf",
         "3",
         "642",
         "TA",
         "TA",
         "Y",
         "0",
         "35",
         "272",
         "0",
         "0",
         "0",
         null,
         null,
         null,
         "0",
         "2",
         "2006",
         "WD",
         "Abnorml",
         "140000"
        ],
        [
         "4",
         "5",
         "60",
         "RL",
         "84.0",
         "14260",
         "Pave",
         null,
         "IR1",
         "Lvl",
         "AllPub",
         "FR2",
         "Gtl",
         "NoRidge",
         "Norm",
         "Norm",
         "1Fam",
         "2Story",
         "8",
         "5",
         "2000",
         "2000",
         "Gable",
         "CompShg",
         "VinylSd",
         "VinylSd",
         "BrkFace",
         "350.0",
         "Gd",
         "TA",
         "PConc",
         "Gd",
         "TA",
         "Av",
         "GLQ",
         "655",
         "Unf",
         "0",
         "490",
         "1145",
         "GasA",
         "Ex",
         "Y",
         "SBrkr",
         "1145",
         "1053",
         "0",
         "2198",
         "1",
         "0",
         "2",
         "1",
         "4",
         "1",
         "Gd",
         "9",
         "Typ",
         "1",
         "TA",
         "Attchd",
         "2000.0",
         "RFn",
         "3",
         "836",
         "TA",
         "TA",
         "Y",
         "192",
         "84",
         "0",
         "0",
         "0",
         "0",
         null,
         null,
         null,
         "0",
         "12",
         "2008",
         "WD",
         "Normal",
         "250000"
        ]
       ],
       "shape": {
        "columns": 81,
        "rows": 5
       }
      },
      "text/html": [
       "<div>\n",
       "<style scoped>\n",
       "    .dataframe tbody tr th:only-of-type {\n",
       "        vertical-align: middle;\n",
       "    }\n",
       "\n",
       "    .dataframe tbody tr th {\n",
       "        vertical-align: top;\n",
       "    }\n",
       "\n",
       "    .dataframe thead th {\n",
       "        text-align: right;\n",
       "    }\n",
       "</style>\n",
       "<table border=\"1\" class=\"dataframe\">\n",
       "  <thead>\n",
       "    <tr style=\"text-align: right;\">\n",
       "      <th></th>\n",
       "      <th>Id</th>\n",
       "      <th>MSSubClass</th>\n",
       "      <th>MSZoning</th>\n",
       "      <th>LotFrontage</th>\n",
       "      <th>LotArea</th>\n",
       "      <th>Street</th>\n",
       "      <th>Alley</th>\n",
       "      <th>LotShape</th>\n",
       "      <th>LandContour</th>\n",
       "      <th>Utilities</th>\n",
       "      <th>...</th>\n",
       "      <th>PoolArea</th>\n",
       "      <th>PoolQC</th>\n",
       "      <th>Fence</th>\n",
       "      <th>MiscFeature</th>\n",
       "      <th>MiscVal</th>\n",
       "      <th>MoSold</th>\n",
       "      <th>YrSold</th>\n",
       "      <th>SaleType</th>\n",
       "      <th>SaleCondition</th>\n",
       "      <th>SalePrice</th>\n",
       "    </tr>\n",
       "  </thead>\n",
       "  <tbody>\n",
       "    <tr>\n",
       "      <th>0</th>\n",
       "      <td>1</td>\n",
       "      <td>60</td>\n",
       "      <td>RL</td>\n",
       "      <td>65.0</td>\n",
       "      <td>8450</td>\n",
       "      <td>Pave</td>\n",
       "      <td>NaN</td>\n",
       "      <td>Reg</td>\n",
       "      <td>Lvl</td>\n",
       "      <td>AllPub</td>\n",
       "      <td>...</td>\n",
       "      <td>0</td>\n",
       "      <td>NaN</td>\n",
       "      <td>NaN</td>\n",
       "      <td>NaN</td>\n",
       "      <td>0</td>\n",
       "      <td>2</td>\n",
       "      <td>2008</td>\n",
       "      <td>WD</td>\n",
       "      <td>Normal</td>\n",
       "      <td>208500</td>\n",
       "    </tr>\n",
       "    <tr>\n",
       "      <th>1</th>\n",
       "      <td>2</td>\n",
       "      <td>20</td>\n",
       "      <td>RL</td>\n",
       "      <td>80.0</td>\n",
       "      <td>9600</td>\n",
       "      <td>Pave</td>\n",
       "      <td>NaN</td>\n",
       "      <td>Reg</td>\n",
       "      <td>Lvl</td>\n",
       "      <td>AllPub</td>\n",
       "      <td>...</td>\n",
       "      <td>0</td>\n",
       "      <td>NaN</td>\n",
       "      <td>NaN</td>\n",
       "      <td>NaN</td>\n",
       "      <td>0</td>\n",
       "      <td>5</td>\n",
       "      <td>2007</td>\n",
       "      <td>WD</td>\n",
       "      <td>Normal</td>\n",
       "      <td>181500</td>\n",
       "    </tr>\n",
       "    <tr>\n",
       "      <th>2</th>\n",
       "      <td>3</td>\n",
       "      <td>60</td>\n",
       "      <td>RL</td>\n",
       "      <td>68.0</td>\n",
       "      <td>11250</td>\n",
       "      <td>Pave</td>\n",
       "      <td>NaN</td>\n",
       "      <td>IR1</td>\n",
       "      <td>Lvl</td>\n",
       "      <td>AllPub</td>\n",
       "      <td>...</td>\n",
       "      <td>0</td>\n",
       "      <td>NaN</td>\n",
       "      <td>NaN</td>\n",
       "      <td>NaN</td>\n",
       "      <td>0</td>\n",
       "      <td>9</td>\n",
       "      <td>2008</td>\n",
       "      <td>WD</td>\n",
       "      <td>Normal</td>\n",
       "      <td>223500</td>\n",
       "    </tr>\n",
       "    <tr>\n",
       "      <th>3</th>\n",
       "      <td>4</td>\n",
       "      <td>70</td>\n",
       "      <td>RL</td>\n",
       "      <td>60.0</td>\n",
       "      <td>9550</td>\n",
       "      <td>Pave</td>\n",
       "      <td>NaN</td>\n",
       "      <td>IR1</td>\n",
       "      <td>Lvl</td>\n",
       "      <td>AllPub</td>\n",
       "      <td>...</td>\n",
       "      <td>0</td>\n",
       "      <td>NaN</td>\n",
       "      <td>NaN</td>\n",
       "      <td>NaN</td>\n",
       "      <td>0</td>\n",
       "      <td>2</td>\n",
       "      <td>2006</td>\n",
       "      <td>WD</td>\n",
       "      <td>Abnorml</td>\n",
       "      <td>140000</td>\n",
       "    </tr>\n",
       "    <tr>\n",
       "      <th>4</th>\n",
       "      <td>5</td>\n",
       "      <td>60</td>\n",
       "      <td>RL</td>\n",
       "      <td>84.0</td>\n",
       "      <td>14260</td>\n",
       "      <td>Pave</td>\n",
       "      <td>NaN</td>\n",
       "      <td>IR1</td>\n",
       "      <td>Lvl</td>\n",
       "      <td>AllPub</td>\n",
       "      <td>...</td>\n",
       "      <td>0</td>\n",
       "      <td>NaN</td>\n",
       "      <td>NaN</td>\n",
       "      <td>NaN</td>\n",
       "      <td>0</td>\n",
       "      <td>12</td>\n",
       "      <td>2008</td>\n",
       "      <td>WD</td>\n",
       "      <td>Normal</td>\n",
       "      <td>250000</td>\n",
       "    </tr>\n",
       "  </tbody>\n",
       "</table>\n",
       "<p>5 rows × 81 columns</p>\n",
       "</div>"
      ],
      "text/plain": [
       "   Id  MSSubClass MSZoning  LotFrontage  LotArea Street Alley LotShape  \\\n",
       "0   1          60       RL         65.0     8450   Pave   NaN      Reg   \n",
       "1   2          20       RL         80.0     9600   Pave   NaN      Reg   \n",
       "2   3          60       RL         68.0    11250   Pave   NaN      IR1   \n",
       "3   4          70       RL         60.0     9550   Pave   NaN      IR1   \n",
       "4   5          60       RL         84.0    14260   Pave   NaN      IR1   \n",
       "\n",
       "  LandContour Utilities  ... PoolArea PoolQC Fence MiscFeature MiscVal MoSold  \\\n",
       "0         Lvl    AllPub  ...        0    NaN   NaN         NaN       0      2   \n",
       "1         Lvl    AllPub  ...        0    NaN   NaN         NaN       0      5   \n",
       "2         Lvl    AllPub  ...        0    NaN   NaN         NaN       0      9   \n",
       "3         Lvl    AllPub  ...        0    NaN   NaN         NaN       0      2   \n",
       "4         Lvl    AllPub  ...        0    NaN   NaN         NaN       0     12   \n",
       "\n",
       "  YrSold  SaleType  SaleCondition  SalePrice  \n",
       "0   2008        WD         Normal     208500  \n",
       "1   2007        WD         Normal     181500  \n",
       "2   2008        WD         Normal     223500  \n",
       "3   2006        WD        Abnorml     140000  \n",
       "4   2008        WD         Normal     250000  \n",
       "\n",
       "[5 rows x 81 columns]"
      ]
     },
     "execution_count": 2,
     "metadata": {},
     "output_type": "execute_result"
    }
   ],
   "source": [
    "df = pd.read_csv('Data/train.csv')\n",
    "df.head()"
   ]
  },
  {
   "cell_type": "markdown",
   "metadata": {},
   "source": [
    "### Question 2: Check for missing values.\n",
    "- Identify if there are any missing values in the dataset. How would you handle them if any exist?\n"
   ]
  },
  {
   "cell_type": "code",
   "execution_count": 3,
   "metadata": {},
   "outputs": [
    {
     "name": "stdout",
     "output_type": "stream",
     "text": [
      "The dimensionality of the dataframe: (1460, 81)\n",
      "\n",
      "NaN counts for numerical columns:\n",
      "\n",
      "LotFrontage    259\n",
      "MasVnrArea       8\n",
      "GarageYrBlt     81\n",
      "dtype: int64\n"
     ]
    }
   ],
   "source": [
    "num_cols_na_count = df.select_dtypes(include='number').isnull().sum()       # count NaNs in numerical columns\n",
    "num_cols_with_na_count = num_cols_na_count[num_cols_na_count > 0]           # filter numerical columns with NaNs\n",
    "print(f\"The dimensionality of the dataframe: {df.shape}\\n\")\n",
    "print(f\"NaN counts for numerical columns:\\n\\n{num_cols_with_na_count}\")"
   ]
  },
  {
   "cell_type": "code",
   "execution_count": 4,
   "metadata": {},
   "outputs": [
    {
     "data": {
      "application/vnd.microsoft.datawrangler.viewer.v0+json": {
       "columns": [
        {
         "name": "index",
         "rawType": "object",
         "type": "string"
        },
        {
         "name": "LotFrontage",
         "rawType": "float64",
         "type": "float"
        },
        {
         "name": "MasVnrArea",
         "rawType": "float64",
         "type": "float"
        },
        {
         "name": "GarageYrBlt",
         "rawType": "float64",
         "type": "float"
        }
       ],
       "conversionMethod": "pd.DataFrame",
       "ref": "fef4d33a-024b-420d-acef-22b0e3e6d3ad",
       "rows": [
        [
         "count",
         "1201.0",
         "1452.0",
         "1379.0"
        ],
        [
         "mean",
         "70.0",
         "103.7",
         "1978.5"
        ],
        [
         "std",
         "24.3",
         "181.1",
         "24.7"
        ],
        [
         "min",
         "21.0",
         "0.0",
         "1900.0"
        ],
        [
         "25%",
         "59.0",
         "0.0",
         "1961.0"
        ],
        [
         "50%",
         "69.0",
         "0.0",
         "1980.0"
        ],
        [
         "75%",
         "80.0",
         "166.0",
         "2002.0"
        ],
        [
         "max",
         "313.0",
         "1600.0",
         "2010.0"
        ]
       ],
       "shape": {
        "columns": 3,
        "rows": 8
       }
      },
      "text/html": [
       "<div>\n",
       "<style scoped>\n",
       "    .dataframe tbody tr th:only-of-type {\n",
       "        vertical-align: middle;\n",
       "    }\n",
       "\n",
       "    .dataframe tbody tr th {\n",
       "        vertical-align: top;\n",
       "    }\n",
       "\n",
       "    .dataframe thead th {\n",
       "        text-align: right;\n",
       "    }\n",
       "</style>\n",
       "<table border=\"1\" class=\"dataframe\">\n",
       "  <thead>\n",
       "    <tr style=\"text-align: right;\">\n",
       "      <th></th>\n",
       "      <th>LotFrontage</th>\n",
       "      <th>MasVnrArea</th>\n",
       "      <th>GarageYrBlt</th>\n",
       "    </tr>\n",
       "  </thead>\n",
       "  <tbody>\n",
       "    <tr>\n",
       "      <th>count</th>\n",
       "      <td>1201.0</td>\n",
       "      <td>1452.0</td>\n",
       "      <td>1379.0</td>\n",
       "    </tr>\n",
       "    <tr>\n",
       "      <th>mean</th>\n",
       "      <td>70.0</td>\n",
       "      <td>103.7</td>\n",
       "      <td>1978.5</td>\n",
       "    </tr>\n",
       "    <tr>\n",
       "      <th>std</th>\n",
       "      <td>24.3</td>\n",
       "      <td>181.1</td>\n",
       "      <td>24.7</td>\n",
       "    </tr>\n",
       "    <tr>\n",
       "      <th>min</th>\n",
       "      <td>21.0</td>\n",
       "      <td>0.0</td>\n",
       "      <td>1900.0</td>\n",
       "    </tr>\n",
       "    <tr>\n",
       "      <th>25%</th>\n",
       "      <td>59.0</td>\n",
       "      <td>0.0</td>\n",
       "      <td>1961.0</td>\n",
       "    </tr>\n",
       "    <tr>\n",
       "      <th>50%</th>\n",
       "      <td>69.0</td>\n",
       "      <td>0.0</td>\n",
       "      <td>1980.0</td>\n",
       "    </tr>\n",
       "    <tr>\n",
       "      <th>75%</th>\n",
       "      <td>80.0</td>\n",
       "      <td>166.0</td>\n",
       "      <td>2002.0</td>\n",
       "    </tr>\n",
       "    <tr>\n",
       "      <th>max</th>\n",
       "      <td>313.0</td>\n",
       "      <td>1600.0</td>\n",
       "      <td>2010.0</td>\n",
       "    </tr>\n",
       "  </tbody>\n",
       "</table>\n",
       "</div>"
      ],
      "text/plain": [
       "       LotFrontage  MasVnrArea  GarageYrBlt\n",
       "count       1201.0      1452.0       1379.0\n",
       "mean          70.0       103.7       1978.5\n",
       "std           24.3       181.1         24.7\n",
       "min           21.0         0.0       1900.0\n",
       "25%           59.0         0.0       1961.0\n",
       "50%           69.0         0.0       1980.0\n",
       "75%           80.0       166.0       2002.0\n",
       "max          313.0      1600.0       2010.0"
      ]
     },
     "execution_count": 4,
     "metadata": {},
     "output_type": "execute_result"
    }
   ],
   "source": [
    "num_cols_with_na = num_cols_with_na_count.index.tolist()                    # list of columns with NaNs\n",
    "df[num_cols_with_na].describe().round(1)                                    # basic descriptive statistics"
   ]
  },
  {
   "cell_type": "code",
   "execution_count": 5,
   "metadata": {},
   "outputs": [
    {
     "name": "stdout",
     "output_type": "stream",
     "text": [
      "Skewness of LotFrontage: 2.16\n"
     ]
    },
    {
     "data": {
      "text/plain": [
       "<Axes: xlabel='LotFrontage', ylabel='Count'>"
      ]
     },
     "execution_count": 5,
     "metadata": {},
     "output_type": "execute_result"
    },
    {
     "data": {
      "image/png": "[encoded data removed]",
      "text/plain": [
       "<Figure size 800x300 with 1 Axes>"
      ]
     },
     "metadata": {},
     "output_type": "display_data"
    }
   ],
   "source": [
    "# Check the distribution of the LotFrontage (Linear feet of street connected to property) feature\n",
    "from scipy.stats import skew\n",
    "skewness = skew(df['LotFrontage'].dropna())\n",
    "print(f\"Skewness of LotFrontage: {skewness:.2f}\")\n",
    "\n",
    "plt.figure(figsize=(8, 3))\n",
    "sns.histplot(df['LotFrontage'].dropna(), kde=True)"
   ]
  },
  {
   "cell_type": "code",
   "execution_count": 6,
   "metadata": {},
   "outputs": [
    {
     "name": "stdout",
     "output_type": "stream",
     "text": [
      "Skewness of SalePrice: 1.88\n"
     ]
    },
    {
     "data": {
      "text/plain": [
       "<Axes: xlabel='SalePrice', ylabel='Count'>"
      ]
     },
     "execution_count": 6,
     "metadata": {},
     "output_type": "execute_result"
    },
    {
     "data": {
      "image/png": "[encoded data removed]",
      "text/plain": [
       "<Figure size 800x300 with 1 Axes>"
      ]
     },
     "metadata": {},
     "output_type": "display_data"
    }
   ],
   "source": [
    "# Check additionaly the distribution of the target variable SalePrice\n",
    "skewness = skew(df['SalePrice'])\n",
    "print(f\"Skewness of SalePrice: {skewness:.2f}\")\n",
    "\n",
    "plt.figure(figsize=(8, 3))\n",
    "sns.histplot(df['SalePrice'])"
   ]
  },
  {
   "cell_type": "code",
   "execution_count": 7,
   "metadata": {},
   "outputs": [
    {
     "name": "stdout",
     "output_type": "stream",
     "text": [
      "Missing LotFrontage (1460 rows): Median SalePrice: 172400.00\n",
      "Present LotFrontage (1460 rows): Median SalePrice: 159500.00\n",
      "Difference (Missing - Present): 12900.00\n"
     ]
    }
   ],
   "source": [
    "# The skewness of LotFrontage exceeds 2 which suggests substantial nonnormality. Imputing the mean looks not justified. \n",
    "# The skewness of the target feature is as well relatively high. Let's compare its median values for missing and present LotFrontage values to decide on the imputation strategy.\n",
    "\n",
    "median_missing = df.loc[df['LotFrontage'].isna(), 'SalePrice'].median()\n",
    "median_present = df.loc[df['LotFrontage'].notna(), 'SalePrice'].median()\n",
    "\n",
    "print(f\"Missing LotFrontage ({df['LotFrontage'].isna().shape[0]} rows): Median SalePrice: {median_missing:.2f}\")\n",
    "print(f\"Present LotFrontage ({df['LotFrontage'].notna().shape[0]} rows): Median SalePrice: {median_present:.2f}\")\n",
    "print(f\"Difference (Missing - Present): {median_missing - median_present:.2f}\")"
   ]
  },
  {
   "cell_type": "markdown",
   "metadata": {},
   "source": [
    "The 12900 median SalePrice difference suggests missingness is informative. Filling with the mean (or even median) of LotFrontage ignores this pattern and could bias the model by assuming missing values behave like present ones, which they don’t (higher median SalePrice).\n",
    "To account for this factor let's introduce a new binary feature to flag missingness in addition to filling the original column with median values."
   ]
  },
  {
   "cell_type": "code",
   "execution_count": 8,
   "metadata": {},
   "outputs": [],
   "source": [
    "df['LotFrontage_missing'] = df['LotFrontage'].isna().astype(int)            # 1 if LotFrontage is missing, 0 otherwise\n",
    "df['LotFrontage'] = df['LotFrontage'].fillna(df['LotFrontage'].median())    # impute the median value"
   ]
  },
  {
   "cell_type": "markdown",
   "metadata": {},
   "source": [
    "Let's now evaluate how the imputation of LotFrontage affected its correlation with SalePrice"
   ]
  },
  {
   "cell_type": "code",
   "execution_count": 9,
   "metadata": {},
   "outputs": [
    {
     "name": "stdout",
     "output_type": "stream",
     "text": [
      "Correlation between LotFrontage (post-imputation) and SalePrice: 0.335\n",
      "Correlation between LotFrontage (pre-imputation) and SalePrice: 0.352\n"
     ]
    }
   ],
   "source": [
    "# Correlation between LotFrontage (post-imputation) and SalePrice\n",
    "correlation = df['LotFrontage'].corr(df['SalePrice'])\n",
    "print(f\"Correlation between LotFrontage (post-imputation) and SalePrice: {correlation:.3f}\")\n",
    "\n",
    "# For comparison, compute correlation pre-imputation (on non-missing data)\n",
    "correlation_pre = df.loc[df['LotFrontage_missing'] == 0, 'LotFrontage'].corr(df.loc[df['LotFrontage_missing'] == 0, 'SalePrice'])\n",
    "print(f\"Correlation between LotFrontage (pre-imputation) and SalePrice: {correlation_pre:.3f}\")"
   ]
  },
  {
   "cell_type": "markdown",
   "metadata": {},
   "source": [
    "Impact of Imputation:\n",
    "- The drop from 0.352 to 0.335 is small (~4.8% relative decrease). This suggests that median imputation didn’t significantly distort the relationship between LotFrontage and SalePrice.\n",
    "- However, even this slight decrease indicates that the imputation introduced a bit of noise. The 259 imputed values (17.7% of the data) are all set to the median, which reduces the variability in LotFrontage and slightly weakens its linear relationship with SalePrice."
   ]
  },
  {
   "cell_type": "markdown",
   "metadata": {},
   "source": [
    "- As an alternative we can try to implement regression imputation to predict missing LotFrontage values using other features correlated with them. \n",
    "- This might better preserve the relationship with SalePrice by imputing values that reflect patterns in the data.\n",
    "- Then we will compare which approach turns to be more efficient.\n",
    "- For this purpose let's first extract a few numerical features which show the strongest association with LotFrontage."
   ]
  },
  {
   "cell_type": "code",
   "execution_count": 10,
   "metadata": {},
   "outputs": [
    {
     "name": "stdout",
     "output_type": "stream",
     "text": [
      "Correlations between LotFrontage and numerical features (<-0.3 or >0.3):\n",
      "MSSubClass     -0.357\n",
      "LotArea         0.305\n",
      "TotRmsAbvGrd    0.321\n",
      "GarageArea      0.324\n",
      "SalePrice       0.335\n",
      "TotalBsmtSF     0.363\n",
      "GrLivArea       0.368\n",
      "1stFlrSF        0.414\n",
      "Name: LotFrontage, dtype: float64\n"
     ]
    }
   ],
   "source": [
    "# Select numerical features and compute the correlation matrix\n",
    "corr_matrix = df.select_dtypes(include='number').corr().round(3)\n",
    "\n",
    "# Extract correlations involving LotFrontage and sort\n",
    "lotfrontage_corrs = corr_matrix['LotFrontage'].sort_values()\n",
    "\n",
    "# Filter correlations: keep only those < -0.3 or > 0.3\n",
    "filtered_corrs = lotfrontage_corrs[(lotfrontage_corrs < -0.3) | (lotfrontage_corrs > 0.3)].drop('LotFrontage')\n",
    "\n",
    "# Display the result\n",
    "print(\"Correlations between LotFrontage and numerical features (<-0.3 or >0.3):\")\n",
    "print(filtered_corrs)"
   ]
  },
  {
   "cell_type": "code",
   "execution_count": 11,
   "metadata": {},
   "outputs": [],
   "source": [
    "# Select features for prediction\n",
    "features = filtered_corrs.index.tolist()\n",
    "\n",
    "# Split data\n",
    "train_data = df[df['LotFrontage_missing'] == 0]\n",
    "test_data = df[df['LotFrontage_missing'] == 1]\n",
    "\n",
    "# Fit model\n",
    "model = LinearRegression()\n",
    "model.fit(train_data[features], train_data['LotFrontage'])\n",
    "\n",
    "# Predict missing values. Assign the predicted values to the missing LotFrontage entries in the original DataFrame\n",
    "df.loc[df['LotFrontage_missing'] == 1, 'LotFrontage'] = model.predict(test_data[features])"
   ]
  },
  {
   "cell_type": "markdown",
   "metadata": {},
   "source": [
    "Now let's recheck the correlation to see if it improves"
   ]
  },
  {
   "cell_type": "code",
   "execution_count": 12,
   "metadata": {},
   "outputs": [
    {
     "name": "stdout",
     "output_type": "stream",
     "text": [
      "Correlation between LotFrontage (post-imputation) and SalePrice: 0.366\n",
      "Correlation between LotFrontage (pre-imputation) and SalePrice: 0.352\n"
     ]
    }
   ],
   "source": [
    "# Correlation between LotFrontage (post-imputation) and SalePrice\n",
    "correlation = df['LotFrontage'].corr(df['SalePrice'])\n",
    "print(f\"Correlation between LotFrontage (post-imputation) and SalePrice: {correlation:.3f}\")\n",
    "\n",
    "# For comparison, compute correlation pre-imputation (on non-missing data)\n",
    "correlation_pre = df.loc[df['LotFrontage_missing'] == 0, 'LotFrontage'].corr(\n",
    "    df.loc[df['LotFrontage_missing'] == 0, 'SalePrice']\n",
    ")\n",
    "print(f\"Correlation between LotFrontage (pre-imputation) and SalePrice: {correlation_pre:.3f}\")"
   ]
  },
  {
   "cell_type": "markdown",
   "metadata": {},
   "source": [
    "- The correlation with SalePrice improved (regression imputation vs median imputation: 0.368 vs. 0.335), indicating that LotFrontage is now a stronger predictor of SalePrice.\n",
    "- Unlike median imputation, which weakened the relationship, regression imputation strengthened it, suggesting that the imputed values are more representative of the true underlying LotFrontage values."
   ]
  },
  {
   "cell_type": "markdown",
   "metadata": {},
   "source": [
    "Now let's explore the next numeric variable win 8 NaNs: MasVnrArea (Masonry veneer area in square feet)"
   ]
  },
  {
   "cell_type": "code",
   "execution_count": 13,
   "metadata": {},
   "outputs": [
    {
     "data": {
      "text/plain": [
       "<Axes: xlabel='MasVnrArea', ylabel='Count'>"
      ]
     },
     "execution_count": 13,
     "metadata": {},
     "output_type": "execute_result"
    },
    {
     "data": {
      "image/png": "[encoded data removed]",
      "text/plain": [
       "<Figure size 800x300 with 1 Axes>"
      ]
     },
     "metadata": {},
     "output_type": "display_data"
    }
   ],
   "source": [
    "plt.figure(figsize=(8, 3))\n",
    "sns.histplot(df['MasVnrArea'].dropna(), kde=True)"
   ]
  },
  {
   "cell_type": "markdown",
   "metadata": {},
   "source": [
    "- There are a lot of zero values which correspond to absence of masonry veneer in certain houses. We just need to make sure that 8 missing values also belong to houses without masonry veneer.\n",
    "- In the dataset there is a categorical feature MasVnrType which signifies which type of masonry veneer was used. \n",
    "- If in the corresponding rows there are no values, this would indicate that 8 missing values comply with the above-mentioned requirement."
   ]
  },
  {
   "cell_type": "code",
   "execution_count": 14,
   "metadata": {},
   "outputs": [
    {
     "data": {
      "text/plain": [
       "234     NaN\n",
       "529     NaN\n",
       "650     NaN\n",
       "936     NaN\n",
       "973     NaN\n",
       "977     NaN\n",
       "1243    NaN\n",
       "1278    NaN\n",
       "Name: MasVnrType, dtype: object"
      ]
     },
     "execution_count": 14,
     "metadata": {},
     "output_type": "execute_result"
    }
   ],
   "source": [
    "df.loc[df['MasVnrArea'].isna(), 'MasVnrType']"
   ]
  },
  {
   "cell_type": "code",
   "execution_count": 15,
   "metadata": {},
   "outputs": [
    {
     "data": {
      "text/plain": [
       "np.int64(0)"
      ]
     },
     "execution_count": 15,
     "metadata": {},
     "output_type": "execute_result"
    }
   ],
   "source": [
    "df['MasVnrArea'] = df['MasVnrArea'].fillna(df['MasVnrArea'].median())       # fill NaNs with median which is equal 0\n",
    "df['MasVnrArea'].isnull().sum()                                             # check if NaNs are filled\n",
    "\n",
    "# The 0 values in MasVnrArea are not missing values but rather indicate that there is no masonry veneer.\n",
    "# In the dataset there is already the categorical feature MasVnrType where absent veneer is indicated by the value None.\n",
    "# So we already have a feature indicating the absence of masonry veneer. No need to create new one based on null values in MasVnrArea."
   ]
  },
  {
   "cell_type": "markdown",
   "metadata": {},
   "source": [
    "Let's check the last numerical feature containing 81 NaNs: GarageYrBlt (Year garage was built)"
   ]
  },
  {
   "cell_type": "code",
   "execution_count": 16,
   "metadata": {},
   "outputs": [
    {
     "data": {
      "text/plain": [
       "<Axes: xlabel='GarageYrBlt', ylabel='Count'>"
      ]
     },
     "execution_count": 16,
     "metadata": {},
     "output_type": "execute_result"
    },
    {
     "data": {
      "image/png": "[encoded data removed]",
      "text/plain": [
       "<Figure size 800x300 with 1 Axes>"
      ]
     },
     "metadata": {},
     "output_type": "display_data"
    }
   ],
   "source": [
    "plt.figure(figsize=(8, 3))\n",
    "sns.histplot(df['GarageYrBlt'].dropna(), kde=True)"
   ]
  },
  {
   "cell_type": "code",
   "execution_count": 17,
   "metadata": {},
   "outputs": [
    {
     "name": "stdout",
     "output_type": "stream",
     "text": [
      "Correlation between GarageYrBlt and YearBuilt: 0.826\n"
     ]
    }
   ],
   "source": [
    "# This feature has relatively hight number of NaNs and is likely to be strongly correlated with another feature (YearBuilt) which has no NaNs\n",
    "# Let's check the correlation between GarageYrBlt and YearBuilt\n",
    "corr = df.GarageYrBlt.corr(df[\"YearBuilt\"])\n",
    "print(f\"Correlation between GarageYrBlt and YearBuilt: {corr:.3f}\")"
   ]
  },
  {
   "cell_type": "code",
   "execution_count": 18,
   "metadata": {},
   "outputs": [],
   "source": [
    "# The correlation is fairly strong -> danger of multicollinearity\n",
    "# It seems justified to drop GarageYrBlt as YearBuilt must be enough to generally cover the relevant to the house age info\n",
    "df = df.drop(['GarageYrBlt'], axis=1)"
   ]
  },
  {
   "cell_type": "markdown",
   "metadata": {},
   "source": [
    "### Let's now deal with categorical features containing NaNs"
   ]
  },
  {
   "cell_type": "code",
   "execution_count": 19,
   "metadata": {},
   "outputs": [
    {
     "data": {
      "application/vnd.microsoft.datawrangler.viewer.v0+json": {
       "columns": [
        {
         "name": "index",
         "rawType": "object",
         "type": "string"
        },
        {
         "name": "Alley",
         "rawType": "object",
         "type": "unknown"
        },
        {
         "name": "MasVnrType",
         "rawType": "object",
         "type": "unknown"
        },
        {
         "name": "BsmtQual",
         "rawType": "object",
         "type": "unknown"
        },
        {
         "name": "BsmtCond",
         "rawType": "object",
         "type": "unknown"
        },
        {
         "name": "BsmtExposure",
         "rawType": "object",
         "type": "unknown"
        },
        {
         "name": "BsmtFinType1",
         "rawType": "object",
         "type": "unknown"
        },
        {
         "name": "BsmtFinType2",
         "rawType": "object",
         "type": "unknown"
        },
        {
         "name": "Electrical",
         "rawType": "object",
         "type": "unknown"
        },
        {
         "name": "FireplaceQu",
         "rawType": "object",
         "type": "unknown"
        },
        {
         "name": "GarageType",
         "rawType": "object",
         "type": "unknown"
        },
        {
         "name": "GarageFinish",
         "rawType": "object",
         "type": "unknown"
        },
        {
         "name": "GarageQual",
         "rawType": "object",
         "type": "unknown"
        },
        {
         "name": "GarageCond",
         "rawType": "object",
         "type": "unknown"
        },
        {
         "name": "PoolQC",
         "rawType": "object",
         "type": "unknown"
        },
        {
         "name": "Fence",
         "rawType": "object",
         "type": "unknown"
        },
        {
         "name": "MiscFeature",
         "rawType": "object",
         "type": "unknown"
        }
       ],
       "conversionMethod": "pd.DataFrame",
       "ref": "a26ccc62-12c8-4117-abd5-4ed92ad1cfd0",
       "rows": [
        [
         "count",
         "91",
         "588",
         "1423",
         "1423",
         "1422",
         "1423",
         "1422",
         "1459",
         "770",
         "1379",
         "1379",
         "1379",
         "1379",
         "7",
         "281",
         "54"
        ],
        [
         "unique",
         "2",
         "3",
         "4",
         "4",
         "4",
         "6",
         "6",
         "5",
         "5",
         "6",
         "3",
         "5",
         "5",
         "3",
         "4",
         "4"
        ],
        [
         "top",
         "Grvl",
         "BrkFace",
         "TA",
         "TA",
         "No",
         "Unf",
         "Unf",
         "SBrkr",
         "Gd",
         "Attchd",
         "Unf",
         "TA",
         "TA",
         "Gd",
         "MnPrv",
         "Shed"
        ],
        [
         "freq",
         "50",
         "445",
         "649",
         "1311",
         "953",
         "430",
         "1256",
         "1334",
         "380",
         "870",
         "605",
         "1311",
         "1326",
         "3",
         "157",
         "49"
        ]
       ],
       "shape": {
        "columns": 16,
        "rows": 4
       }
      },
      "text/html": [
       "<div>\n",
       "<style scoped>\n",
       "    .dataframe tbody tr th:only-of-type {\n",
       "        vertical-align: middle;\n",
       "    }\n",
       "\n",
       "    .dataframe tbody tr th {\n",
       "        vertical-align: top;\n",
       "    }\n",
       "\n",
       "    .dataframe thead th {\n",
       "        text-align: right;\n",
       "    }\n",
       "</style>\n",
       "<table border=\"1\" class=\"dataframe\">\n",
       "  <thead>\n",
       "    <tr style=\"text-align: right;\">\n",
       "      <th></th>\n",
       "      <th>Alley</th>\n",
       "      <th>MasVnrType</th>\n",
       "      <th>BsmtQual</th>\n",
       "      <th>BsmtCond</th>\n",
       "      <th>BsmtExposure</th>\n",
       "      <th>BsmtFinType1</th>\n",
       "      <th>BsmtFinType2</th>\n",
       "      <th>Electrical</th>\n",
       "      <th>FireplaceQu</th>\n",
       "      <th>GarageType</th>\n",
       "      <th>GarageFinish</th>\n",
       "      <th>GarageQual</th>\n",
       "      <th>GarageCond</th>\n",
       "      <th>PoolQC</th>\n",
       "      <th>Fence</th>\n",
       "      <th>MiscFeature</th>\n",
       "    </tr>\n",
       "  </thead>\n",
       "  <tbody>\n",
       "    <tr>\n",
       "      <th>count</th>\n",
       "      <td>91</td>\n",
       "      <td>588</td>\n",
       "      <td>1423</td>\n",
       "      <td>1423</td>\n",
       "      <td>1422</td>\n",
       "      <td>1423</td>\n",
       "      <td>1422</td>\n",
       "      <td>1459</td>\n",
       "      <td>770</td>\n",
       "      <td>1379</td>\n",
       "      <td>1379</td>\n",
       "      <td>1379</td>\n",
       "      <td>1379</td>\n",
       "      <td>7</td>\n",
       "      <td>281</td>\n",
       "      <td>54</td>\n",
       "    </tr>\n",
       "    <tr>\n",
       "      <th>unique</th>\n",
       "      <td>2</td>\n",
       "      <td>3</td>\n",
       "      <td>4</td>\n",
       "      <td>4</td>\n",
       "      <td>4</td>\n",
       "      <td>6</td>\n",
       "      <td>6</td>\n",
       "      <td>5</td>\n",
       "      <td>5</td>\n",
       "      <td>6</td>\n",
       "      <td>3</td>\n",
       "      <td>5</td>\n",
       "      <td>5</td>\n",
       "      <td>3</td>\n",
       "      <td>4</td>\n",
       "      <td>4</td>\n",
       "    </tr>\n",
       "    <tr>\n",
       "      <th>top</th>\n",
       "      <td>Grvl</td>\n",
       "      <td>BrkFace</td>\n",
       "      <td>TA</td>\n",
       "      <td>TA</td>\n",
       "      <td>No</td>\n",
       "      <td>Unf</td>\n",
       "      <td>Unf</td>\n",
       "      <td>SBrkr</td>\n",
       "      <td>Gd</td>\n",
       "      <td>Attchd</td>\n",
       "      <td>Unf</td>\n",
       "      <td>TA</td>\n",
       "      <td>TA</td>\n",
       "      <td>Gd</td>\n",
       "      <td>MnPrv</td>\n",
       "      <td>Shed</td>\n",
       "    </tr>\n",
       "    <tr>\n",
       "      <th>freq</th>\n",
       "      <td>50</td>\n",
       "      <td>445</td>\n",
       "      <td>649</td>\n",
       "      <td>1311</td>\n",
       "      <td>953</td>\n",
       "      <td>430</td>\n",
       "      <td>1256</td>\n",
       "      <td>1334</td>\n",
       "      <td>380</td>\n",
       "      <td>870</td>\n",
       "      <td>605</td>\n",
       "      <td>1311</td>\n",
       "      <td>1326</td>\n",
       "      <td>3</td>\n",
       "      <td>157</td>\n",
       "      <td>49</td>\n",
       "    </tr>\n",
       "  </tbody>\n",
       "</table>\n",
       "</div>"
      ],
      "text/plain": [
       "       Alley MasVnrType BsmtQual BsmtCond BsmtExposure BsmtFinType1  \\\n",
       "count     91        588     1423     1423         1422         1423   \n",
       "unique     2          3        4        4            4            6   \n",
       "top     Grvl    BrkFace       TA       TA           No          Unf   \n",
       "freq      50        445      649     1311          953          430   \n",
       "\n",
       "       BsmtFinType2 Electrical FireplaceQu GarageType GarageFinish GarageQual  \\\n",
       "count          1422       1459         770       1379         1379       1379   \n",
       "unique            6          5           5          6            3          5   \n",
       "top             Unf      SBrkr          Gd     Attchd          Unf         TA   \n",
       "freq           1256       1334         380        870          605       1311   \n",
       "\n",
       "       GarageCond PoolQC  Fence MiscFeature  \n",
       "count        1379      7    281          54  \n",
       "unique          5      3      4           4  \n",
       "top            TA     Gd  MnPrv        Shed  \n",
       "freq         1326      3    157          49  "
      ]
     },
     "execution_count": 19,
     "metadata": {},
     "output_type": "execute_result"
    }
   ],
   "source": [
    "cols_obj_null_count = df.select_dtypes(include='object').isnull().sum()                             # count NaNs in categorical columns\n",
    "cols_obj_with_nulls = df.select_dtypes(include='object').columns[cols_obj_null_count > 0].tolist()  # list of categorical features with NaNs\n",
    "df[cols_obj_with_nulls].select_dtypes(include=['object']).describe(include='all').round(2)          # describe features to better understand their quality and granularity"
   ]
  },
  {
   "cell_type": "code",
   "execution_count": 20,
   "metadata": {},
   "outputs": [
    {
     "name": "stdout",
     "output_type": "stream",
     "text": [
      "Alley           1369\n",
      "MasVnrType       872\n",
      "BsmtQual          37\n",
      "BsmtCond          37\n",
      "BsmtExposure      38\n",
      "BsmtFinType1      37\n",
      "BsmtFinType2      38\n",
      "Electrical         1\n",
      "FireplaceQu      690\n",
      "GarageType        81\n",
      "GarageFinish      81\n",
      "GarageQual        81\n",
      "GarageCond        81\n",
      "PoolQC          1453\n",
      "Fence           1179\n",
      "MiscFeature     1406\n",
      "dtype: int64\n"
     ]
    }
   ],
   "source": [
    "obj_with_nulls = df.select_dtypes(include=['object']).isnull().sum()    # count null values in remaining 'object' features\n",
    "print(obj_with_nulls[obj_with_nulls > 0])                               # filter columns with null values"
   ]
  },
  {
   "cell_type": "markdown",
   "metadata": {},
   "source": [
    "### Alley (1369 NaNs)"
   ]
  },
  {
   "cell_type": "code",
   "execution_count": 21,
   "metadata": {},
   "outputs": [
    {
     "name": "stdout",
     "output_type": "stream",
     "text": [
      "Alley\n",
      "NaN     1369\n",
      "Grvl      50\n",
      "Pave      41\n",
      "Name: count, dtype: int64\n"
     ]
    },
    {
     "data": {
      "text/plain": [
       "<Axes: xlabel='Alley', ylabel='SalePrice'>"
      ]
     },
     "execution_count": 21,
     "metadata": {},
     "output_type": "execute_result"
    },
    {
     "data": {
      "image/png": "[encoded data removed]",
      "text/plain": [
       "<Figure size 640x480 with 1 Axes>"
      ]
     },
     "metadata": {},
     "output_type": "display_data"
    }
   ],
   "source": [
    "print(df['Alley'].value_counts(dropna=False))       # check the distribution of the Alley (Type of alley access to property: Gravel, Paved and NaN) feature\n",
    "df['Alley'] = df['Alley'].fillna('None')            # fill nulls with 'None' (no alley access)\n",
    "sns.boxenplot(x='Alley', y='SalePrice', data=df)    # check the distribution of SalePrice by Alley type"
   ]
  },
  {
   "cell_type": "code",
   "execution_count": 22,
   "metadata": {},
   "outputs": [
    {
     "name": "stdout",
     "output_type": "stream",
     "text": [
      "Median SalePrice by Alley:\n",
      "Alley\n",
      "Grvl    119500.0\n",
      "None    165000.0\n",
      "Pave    172500.0\n",
      "Name: SalePrice, dtype: float64\n"
     ]
    }
   ],
   "source": [
    "# The visually significant differences in the target justify keeping all features and distinguishing between Grvl and Pave and NoAlley.\n",
    "# Use target encoding with the median SalePrice. This preserves the signal from all three categories (NoAlley, Grvl, Pave) while handling the rare categories effectively\n",
    "alley_medians = df.groupby('Alley')['SalePrice'].median()\n",
    "df['Alley'] = df['Alley'].map(alley_medians)\n",
    "print(\"Median SalePrice by Alley:\")\n",
    "print(alley_medians)"
   ]
  },
  {
   "cell_type": "markdown",
   "metadata": {},
   "source": [
    "### MasVnrType (872 NaNs)"
   ]
  },
  {
   "cell_type": "code",
   "execution_count": 23,
   "metadata": {},
   "outputs": [
    {
     "data": {
      "text/plain": [
       "MasVnrType\n",
       "None       872\n",
       "BrkFace    445\n",
       "Stone      128\n",
       "BrkCmn      15\n",
       "Name: count, dtype: int64"
      ]
     },
     "execution_count": 23,
     "metadata": {},
     "output_type": "execute_result"
    }
   ],
   "source": [
    "# Replace NaN with \"None\"\n",
    "df['MasVnrType'] = df['MasVnrType'].fillna('None')\n",
    "# Check the frequency distribution of the MasVnrType (Masonry veneer type: Brick Face, Stone, Cinder Block, None) feature\n",
    "df['MasVnrType'].value_counts(dropna=False)       "
   ]
  },
  {
   "cell_type": "code",
   "execution_count": 24,
   "metadata": {},
   "outputs": [
    {
     "name": "stdout",
     "output_type": "stream",
     "text": [
      "Median SalePrice by MasVnrType:\n",
      "MasVnrType\n",
      "BrkCmn     139000.0\n",
      "BrkFace    181000.0\n",
      "None       143125.0\n",
      "Stone      246839.0\n",
      "Name: SalePrice, dtype: float64\n"
     ]
    }
   ],
   "source": [
    "# Given the rare category BrkCmn (only 15 instances), target encoding (replacing each category with the median SalePrice for that category) seems like a good choice. \n",
    "# It handles rare categories well and keeps the feature as a single column.\n",
    "masvnr_medians = df.groupby('MasVnrType')['SalePrice'].median()\n",
    "df['MasVnrType'] = df['MasVnrType'].map(masvnr_medians)\n",
    "print(\"Median SalePrice by MasVnrType:\")\n",
    "print(masvnr_medians)"
   ]
  },
  {
   "cell_type": "markdown",
   "metadata": {},
   "source": [
    "### Bsmt... features (37-38 NaNs)"
   ]
  },
  {
   "cell_type": "markdown",
   "metadata": {},
   "source": [
    "- BsmtQual (Evaluates the height of the basement), \n",
    "- BsmtCond (Evaluates the general condition of the basement), \n",
    "- BsmtExposure (Refers to walkout or garden level walls), \n",
    "- BsmtFinType1 (Rating of basement finished area), \n",
    "- BsmtFinType2 (Rating of basement finished area (if multiple types))"
   ]
  },
  {
   "cell_type": "code",
   "execution_count": 25,
   "metadata": {},
   "outputs": [
    {
     "name": "stdout",
     "output_type": "stream",
     "text": [
      "Categorical basement related features: ['BsmtQual', 'BsmtCond', 'BsmtExposure', 'BsmtFinType1', 'BsmtFinType2']\n",
      "Numerical basement related features: ['BsmtFinSF1', 'BsmtFinSF2', 'BsmtUnfSF', 'TotalBsmtSF', 'BsmtFullBath', 'BsmtHalfBath']\n"
     ]
    }
   ],
   "source": [
    "# Select columns that contains \"bsmt\" in their names\n",
    "bsmt_cat_features = [col for col in df.columns if 'bsmt' in col.lower() and df[col].dtype == 'object']              # create a list of categorical features\n",
    "bsmt_num_features = [col for col in df.columns if 'bsmt' in col.lower() and df[col].dtype in ['int64', 'float64']]  # for a reference create a list of numerical features as well\n",
    "print(f\"Categorical basement related features: {bsmt_cat_features}\")\n",
    "print(f\"Numerical basement related features: {bsmt_num_features}\")"
   ]
  },
  {
   "cell_type": "markdown",
   "metadata": {},
   "source": [
    "Let's first check whether the missed categorical values correspond to some numerical ones. If there are zeroes this would most likely indicate that missing categorical values imply no basement at all."
   ]
  },
  {
   "cell_type": "code",
   "execution_count": 26,
   "metadata": {},
   "outputs": [
    {
     "name": "stdout",
     "output_type": "stream",
     "text": [
      "\n",
      "Mean of numeric features grouped by BsmtQual:\n",
      "          BsmtFinSF1  BsmtFinSF2  BsmtUnfSF  TotalBsmtSF  BsmtFullBath  \\\n",
      "BsmtQual                                                                 \n",
      "Ex            855.33       23.56     766.71      1645.60          0.68   \n",
      "Fa            130.71        7.89     594.43       733.03          0.17   \n",
      "Gd            472.50       34.66     623.91      1131.07          0.48   \n",
      "TA            381.57       66.90     506.96       955.43          0.37   \n",
      "NaN             0.00        0.00       0.00         0.00          0.00   \n",
      "\n",
      "          BsmtHalfBath  \n",
      "BsmtQual                \n",
      "Ex                0.05  \n",
      "Fa                0.06  \n",
      "Gd                0.04  \n",
      "TA                0.08  \n",
      "NaN               0.00  \n",
      "--------------------------------------------------\n",
      "\n",
      "Mean of numeric features grouped by BsmtCond:\n",
      "          BsmtFinSF1  BsmtFinSF2  BsmtUnfSF  TotalBsmtSF  BsmtFullBath  \\\n",
      "BsmtCond                                                                 \n",
      "Fa            217.76       13.07     640.91       871.73          0.18   \n",
      "Gd            450.37      104.77     579.02      1134.15          0.54   \n",
      "Po            175.00        0.00     647.00       822.00          0.50   \n",
      "TA            463.99       46.20     580.02      1090.20          0.44   \n",
      "NaN             0.00        0.00       0.00         0.00          0.00   \n",
      "\n",
      "          BsmtHalfBath  \n",
      "BsmtCond                \n",
      "Fa                0.07  \n",
      "Gd                0.15  \n",
      "Po                0.00  \n",
      "TA                0.05  \n",
      "NaN               0.00  \n",
      "--------------------------------------------------\n",
      "\n",
      "Mean of numeric features grouped by BsmtExposure:\n",
      "              BsmtFinSF1  BsmtFinSF2  BsmtUnfSF  TotalBsmtSF  BsmtFullBath  \\\n",
      "BsmtExposure                                                                 \n",
      "Av                553.67       43.55     586.17      1183.38          0.59   \n",
      "Gd                925.77       95.81     439.02      1460.60          0.87   \n",
      "Mn                468.85       77.58     553.76      1100.19          0.48   \n",
      "No                365.01       38.46     604.13      1007.60          0.33   \n",
      "NaN                 0.00        0.00      24.63        24.63          0.00   \n",
      "\n",
      "              BsmtHalfBath  \n",
      "BsmtExposure                \n",
      "Av                    0.07  \n",
      "Gd                    0.11  \n",
      "Mn                    0.06  \n",
      "No                    0.05  \n",
      "NaN                   0.00  \n",
      "--------------------------------------------------\n",
      "\n",
      "Mean of numeric features grouped by BsmtFinType1:\n",
      "              BsmtFinSF1  BsmtFinSF2  BsmtUnfSF  TotalBsmtSF  BsmtFullBath  \\\n",
      "BsmtFinType1                                                                 \n",
      "ALQ               619.86       77.23     346.71      1043.81          0.60   \n",
      "BLQ               536.67       94.26     371.99      1002.91          0.49   \n",
      "GLQ               801.73       19.63     455.84      1277.20          0.79   \n",
      "LwQ               379.54      257.47     388.57      1025.58          0.31   \n",
      "Rec               516.60       73.40     424.49      1014.49          0.35   \n",
      "Unf                 0.00        0.00     979.27       979.27          0.03   \n",
      "NaN                 0.00        0.00       0.00         0.00          0.00   \n",
      "\n",
      "              BsmtHalfBath  \n",
      "BsmtFinType1                \n",
      "ALQ                   0.10  \n",
      "BLQ                   0.09  \n",
      "GLQ                   0.06  \n",
      "LwQ                   0.11  \n",
      "Rec                   0.06  \n",
      "Unf                   0.02  \n",
      "NaN                   0.00  \n",
      "--------------------------------------------------\n",
      "\n",
      "Mean of numeric features grouped by BsmtFinType2:\n",
      "              BsmtFinSF1  BsmtFinSF2  BsmtUnfSF  TotalBsmtSF  BsmtFullBath  \\\n",
      "BsmtFinType2                                                                 \n",
      "ALQ               350.79      626.16     237.84      1214.79          0.74   \n",
      "BLQ               399.27      329.91     357.18      1086.36          0.67   \n",
      "GLQ               231.14      658.00     234.07      1123.21          0.86   \n",
      "LwQ               621.07      310.74     149.96      1081.76          0.59   \n",
      "Rec               401.22      392.46     330.67      1124.35          0.56   \n",
      "Unf               456.43        0.00     622.80      1079.23          0.41   \n",
      "NaN                29.58       12.61      42.18        84.37          0.03   \n",
      "\n",
      "              BsmtHalfBath  \n",
      "BsmtFinType2                \n",
      "ALQ                   0.21  \n",
      "BLQ                   0.06  \n",
      "GLQ                   0.07  \n",
      "LwQ                   0.13  \n",
      "Rec                   0.19  \n",
      "Unf                   0.05  \n",
      "NaN                   0.00  \n",
      "--------------------------------------------------\n"
     ]
    }
   ],
   "source": [
    "# Dictionary to store results\n",
    "results = {}\n",
    "\n",
    "# Loop through each categorical feature\n",
    "for feature in bsmt_cat_features:\n",
    "    # Group by the categorical feature and calculate the mean of numeric features\n",
    "    group_means = df.groupby(feature, dropna=False)[bsmt_num_features].mean()   # Use dropna=False to include NA as a category\n",
    "    results[feature] = group_means                                              # Store the results in the dictionary\n",
    "\n",
    "# Display the results for each categorical feature\n",
    "for feature, means in results.items():\n",
    "    print(f\"\\nMean of numeric features grouped by {feature}:\")\n",
    "    print(means.round(2))\n",
    "    print(\"-\" * 50)"
   ]
  },
  {
   "cell_type": "markdown",
   "metadata": {},
   "source": [
    "- For all categorical features (BsmtQual, BsmtCond, BsmtExposure, BsmtFinType1, BsmtFinType2), when the value is NaN, the numerical features are mostly 0, except for small values in BsmtExposure and BsmtFinType2 (e.g., BsmtUnfSF = 24.63 for BsmtExposure = NaN).\n",
    "- This strongly suggests that NaN means \"No Basement,\" and the small non-zero values might be data inconsistencies (e.g., a small unfinished area recorded but no basement quality specified).\n",
    "- Given the small proportion of missing values and the discovered relationship with numerical features let's just replace NaNs with 'NA'. This would allows the model to treat it as a valid category meaning \"No Basement\"."
   ]
  },
  {
   "cell_type": "code",
   "execution_count": 27,
   "metadata": {},
   "outputs": [
    {
     "name": "stdout",
     "output_type": "stream",
     "text": [
      "Missing values after replacement:\n",
      "BsmtQual        0\n",
      "BsmtCond        0\n",
      "BsmtExposure    0\n",
      "BsmtFinType1    0\n",
      "BsmtFinType2    0\n",
      "dtype: int64\n"
     ]
    }
   ],
   "source": [
    "# Replace NaN with \"NA\"\n",
    "for feature in bsmt_cat_features:\n",
    "    df[feature] = df[feature].fillna('NA')\n",
    "\n",
    "# Verify no more missing values\n",
    "print(\"Missing values after replacement:\")\n",
    "print(df[bsmt_cat_features].isnull().sum())"
   ]
  },
  {
   "cell_type": "markdown",
   "metadata": {},
   "source": [
    "- Now we need to encode them into a numerical format for modeling. Options include ordinal encoding (if the categories have a natural order), one-hot encoding, or target encoding.\n",
    "- Ordinal encoding could be a possibility but can be somewhat subjective.\n",
    "- One-hot-encoding would create a lot of dummies which would expand the model dimensionality too much.\n",
    "- The best choice can be again target-encoding which implies replacing each subcategory with the median (the target has rather skewed distribution) SalePrice for it. This captures the relationship with the target directly, keeps each feature as a single column, and handles rare categories well (e.g., Po in BsmtCond has few instances)."
   ]
  },
  {
   "cell_type": "code",
   "execution_count": 28,
   "metadata": {},
   "outputs": [],
   "source": [
    "# Target encode each categorical feature using median SalePrice\n",
    "for feature in bsmt_cat_features:\n",
    "    medians = df.groupby(feature)['SalePrice'].median()     # Compute median SalePrice for each category\n",
    "    df[feature] = df[feature].map(medians)                  # Map the medians to the feature values"
   ]
  },
  {
   "cell_type": "code",
   "execution_count": 29,
   "metadata": {},
   "outputs": [
    {
     "name": "stdout",
     "output_type": "stream",
     "text": [
      "<class 'pandas.core.frame.DataFrame'>\n",
      "RangeIndex: 1460 entries, 0 to 1459\n",
      "Data columns (total 5 columns):\n",
      " #   Column        Non-Null Count  Dtype  \n",
      "---  ------        --------------  -----  \n",
      " 0   BsmtQual      1460 non-null   float64\n",
      " 1   BsmtCond      1460 non-null   float64\n",
      " 2   BsmtExposure  1460 non-null   float64\n",
      " 3   BsmtFinType1  1460 non-null   float64\n",
      " 4   BsmtFinType2  1460 non-null   float64\n",
      "dtypes: float64(5)\n",
      "memory usage: 57.2 KB\n"
     ]
    }
   ],
   "source": [
    "# Check the resulting formerly categorical (now numerical) Basement-related features\n",
    "df[bsmt_cat_features].info()"
   ]
  },
  {
   "cell_type": "code",
   "execution_count": 30,
   "metadata": {},
   "outputs": [
    {
     "name": "stdout",
     "output_type": "stream",
     "text": [
      "<class 'pandas.core.frame.DataFrame'>\n",
      "RangeIndex: 1460 entries, 0 to 1459\n",
      "Data columns (total 6 columns):\n",
      " #   Column        Non-Null Count  Dtype\n",
      "---  ------        --------------  -----\n",
      " 0   BsmtFinSF1    1460 non-null   int64\n",
      " 1   BsmtFinSF2    1460 non-null   int64\n",
      " 2   BsmtUnfSF     1460 non-null   int64\n",
      " 3   TotalBsmtSF   1460 non-null   int64\n",
      " 4   BsmtFullBath  1460 non-null   int64\n",
      " 5   BsmtHalfBath  1460 non-null   int64\n",
      "dtypes: int64(6)\n",
      "memory usage: 68.6 KB\n"
     ]
    }
   ],
   "source": [
    "# Check the resulting numerical Basement-related features\n",
    "df[bsmt_num_features].info()"
   ]
  },
  {
   "cell_type": "markdown",
   "metadata": {},
   "source": [
    "### Electrical feature (1 NaN)"
   ]
  },
  {
   "cell_type": "code",
   "execution_count": 31,
   "metadata": {},
   "outputs": [
    {
     "data": {
      "text/plain": [
       "Electrical\n",
       "SBrkr    1334\n",
       "FuseA      94\n",
       "FuseF      27\n",
       "FuseP       3\n",
       "Mix         1\n",
       "NaN         1\n",
       "Name: count, dtype: int64"
      ]
     },
     "execution_count": 31,
     "metadata": {},
     "output_type": "execute_result"
    }
   ],
   "source": [
    "# Check the distribution of the Electrical (Electrical system: SBrkr, FuseA, FuseF, FuseP, Mix) feature\n",
    "df['Electrical'].value_counts(dropna=False)      "
   ]
  },
  {
   "cell_type": "markdown",
   "metadata": {},
   "source": [
    "Given that SBrkr is the overwhelming majority (>90%), the most likely value for the missing entry is SBrkr."
   ]
  },
  {
   "cell_type": "code",
   "execution_count": 32,
   "metadata": {},
   "outputs": [
    {
     "name": "stdout",
     "output_type": "stream",
     "text": [
      "Missing values after imputation:\n",
      "0\n"
     ]
    }
   ],
   "source": [
    "# Impute NaN with the mode\n",
    "df['Electrical'] = df['Electrical'].fillna(df['Electrical'].mode()[0])\n",
    "\n",
    "# Verify no missing values remain\n",
    "print(\"Missing values after imputation:\")\n",
    "print(df['Electrical'].isnull().sum())"
   ]
  },
  {
   "cell_type": "code",
   "execution_count": 33,
   "metadata": {},
   "outputs": [
    {
     "data": {
      "image/png": "[encoded data removed]",
      "text/plain": [
       "<Figure size 640x480 with 1 Axes>"
      ]
     },
     "metadata": {},
     "output_type": "display_data"
    }
   ],
   "source": [
    "# Check the distribution of SalePrice by Electrical type\n",
    "sns.boxenplot(x='Electrical', y='SalePrice', data=df)    # Check the distribution of SalePrice by Electrical type\n",
    "plt.show()"
   ]
  },
  {
   "cell_type": "markdown",
   "metadata": {},
   "source": [
    "Taking into consideration that SBrkr is the modern standard (circuit breakers), while FuseA, FuseF, and FuseP indicate older fuse box systems with varying capacities and wiring types (Mix indicates a combination of systems) and that there is a clear differentiation between SBrkr and others by SalePrice, it seems reasonable to transform the feature to a binary type."
   ]
  },
  {
   "cell_type": "code",
   "execution_count": 34,
   "metadata": {},
   "outputs": [
    {
     "name": "stdout",
     "output_type": "stream",
     "text": [
      "Electrical\n",
      "1    1335\n",
      "0     125\n",
      "Name: count, dtype: int64\n"
     ]
    }
   ],
   "source": [
    "# Create a binary feature: 1 for SBrkr, 0 for others\n",
    "df['Electrical'] = (df['Electrical'] == 'SBrkr').astype(int)\n",
    "\n",
    "# Check the distribution\n",
    "print(df['Electrical'].value_counts())"
   ]
  },
  {
   "cell_type": "markdown",
   "metadata": {},
   "source": [
    "### FireplaceQu (690 NaNs)"
   ]
  },
  {
   "cell_type": "code",
   "execution_count": 35,
   "metadata": {},
   "outputs": [
    {
     "data": {
      "text/plain": [
       "FireplaceQu\n",
       "NaN    690\n",
       "Gd     380\n",
       "TA     313\n",
       "Fa      33\n",
       "Ex      24\n",
       "Po      20\n",
       "Name: count, dtype: int64"
      ]
     },
     "execution_count": 35,
     "metadata": {},
     "output_type": "execute_result"
    }
   ],
   "source": [
    "df.FireplaceQu.value_counts(dropna=False)       # check the distribution of the FireplaceQu (Fireplace quality: Ex, Gd, TA, Fa, Po, NA) feature"
   ]
  },
  {
   "cell_type": "markdown",
   "metadata": {},
   "source": [
    "- NaN: 690 (47.3%) – Likely means \"No Fireplace\"\n",
    "- Gd (Good): 380 (26.0%)\n",
    "- TA (Average): 313 (21.4%)\n",
    "- Fa (Fair): 33 (2.3%)\n",
    "- Ex Excellent): 24 (1.6%)\n",
    "- Po (Poor): 20 (1.4%)"
   ]
  },
  {
   "cell_type": "code",
   "execution_count": 36,
   "metadata": {},
   "outputs": [],
   "source": [
    "# Replace NaN with 'NA' (no fireplace)\n",
    "df['FireplaceQu'] = df['FireplaceQu'].fillna('NA')"
   ]
  },
  {
   "cell_type": "code",
   "execution_count": 37,
   "metadata": {},
   "outputs": [
    {
     "data": {
      "image/png": "[encoded data removed]",
      "text/plain": [
       "<Figure size 640x480 with 1 Axes>"
      ]
     },
     "metadata": {},
     "output_type": "display_data"
    }
   ],
   "source": [
    "# The feature has a clear ordinal nature. Let's define the order of the categories\n",
    "ordinal_mapping = {'NA': 0, 'Po': 1, 'Fa': 2, 'TA': 3, 'Gd': 4, 'Ex': 5}\n",
    "df['FireplaceQu'] = df['FireplaceQu'].map(ordinal_mapping)    # Map the ordinal values to the feature\n",
    "\n",
    "sns.boxenplot(x='FireplaceQu', y='SalePrice', data=df)    # Check the distribution of SalePrice by FireplaceQu type\n",
    "plt.show()\n",
    "\n",
    "# Looks good! Almost each following category has a higher median SalePrice than the previous one."
   ]
  },
  {
   "cell_type": "markdown",
   "metadata": {},
   "source": [
    "### GarageType, GarageFinish, GarageQual, GarageCond (81 NaNs each)"
   ]
  },
  {
   "cell_type": "code",
   "execution_count": 38,
   "metadata": {},
   "outputs": [
    {
     "data": {
      "application/vnd.microsoft.datawrangler.viewer.v0+json": {
       "columns": [
        {
         "name": "index",
         "rawType": "object",
         "type": "string"
        },
        {
         "name": "GarageType",
         "rawType": "object",
         "type": "unknown"
        },
        {
         "name": "GarageFinish",
         "rawType": "object",
         "type": "unknown"
        },
        {
         "name": "GarageQual",
         "rawType": "object",
         "type": "unknown"
        },
        {
         "name": "GarageCond",
         "rawType": "object",
         "type": "unknown"
        }
       ],
       "conversionMethod": "pd.DataFrame",
       "ref": "88fc2d0e-2496-4b26-97a1-72ec8c36c6a6",
       "rows": [
        [
         "count",
         "1379",
         "1379",
         "1379",
         "1379"
        ],
        [
         "unique",
         "6",
         "3",
         "5",
         "5"
        ],
        [
         "top",
         "Attchd",
         "Unf",
         "TA",
         "TA"
        ],
        [
         "freq",
         "870",
         "605",
         "1311",
         "1326"
        ]
       ],
       "shape": {
        "columns": 4,
        "rows": 4
       }
      },
      "text/html": [
       "<div>\n",
       "<style scoped>\n",
       "    .dataframe tbody tr th:only-of-type {\n",
       "        vertical-align: middle;\n",
       "    }\n",
       "\n",
       "    .dataframe tbody tr th {\n",
       "        vertical-align: top;\n",
       "    }\n",
       "\n",
       "    .dataframe thead th {\n",
       "        text-align: right;\n",
       "    }\n",
       "</style>\n",
       "<table border=\"1\" class=\"dataframe\">\n",
       "  <thead>\n",
       "    <tr style=\"text-align: right;\">\n",
       "      <th></th>\n",
       "      <th>GarageType</th>\n",
       "      <th>GarageFinish</th>\n",
       "      <th>GarageQual</th>\n",
       "      <th>GarageCond</th>\n",
       "    </tr>\n",
       "  </thead>\n",
       "  <tbody>\n",
       "    <tr>\n",
       "      <th>count</th>\n",
       "      <td>1379</td>\n",
       "      <td>1379</td>\n",
       "      <td>1379</td>\n",
       "      <td>1379</td>\n",
       "    </tr>\n",
       "    <tr>\n",
       "      <th>unique</th>\n",
       "      <td>6</td>\n",
       "      <td>3</td>\n",
       "      <td>5</td>\n",
       "      <td>5</td>\n",
       "    </tr>\n",
       "    <tr>\n",
       "      <th>top</th>\n",
       "      <td>Attchd</td>\n",
       "      <td>Unf</td>\n",
       "      <td>TA</td>\n",
       "      <td>TA</td>\n",
       "    </tr>\n",
       "    <tr>\n",
       "      <th>freq</th>\n",
       "      <td>870</td>\n",
       "      <td>605</td>\n",
       "      <td>1311</td>\n",
       "      <td>1326</td>\n",
       "    </tr>\n",
       "  </tbody>\n",
       "</table>\n",
       "</div>"
      ],
      "text/plain": [
       "       GarageType GarageFinish GarageQual GarageCond\n",
       "count        1379         1379       1379       1379\n",
       "unique          6            3          5          5\n",
       "top        Attchd          Unf         TA         TA\n",
       "freq          870          605       1311       1326"
      ]
     },
     "execution_count": 38,
     "metadata": {},
     "output_type": "execute_result"
    }
   ],
   "source": [
    "garage_features = ['GarageType', 'GarageFinish', 'GarageQual', 'GarageCond'] # list of categorical features\n",
    "df[garage_features].describe(include='all')    # describe features to better understand their quality and granularity"
   ]
  },
  {
   "cell_type": "code",
   "execution_count": 39,
   "metadata": {},
   "outputs": [
    {
     "name": "stdout",
     "output_type": "stream",
     "text": [
      "GarageArea has 81 rows with 0 values\n"
     ]
    }
   ],
   "source": [
    "# Check another Garage-related feature (with no NaNs) to explore the pattern of missing values\n",
    "df.GarageArea[df.GarageArea == 0].count()    # count the number of 0 values in GarageArea\n",
    "print(f\"GarageArea has {df.GarageArea[df.GarageArea == 0].count()} rows with 0 values\")"
   ]
  },
  {
   "cell_type": "code",
   "execution_count": 40,
   "metadata": {},
   "outputs": [],
   "source": [
    "# It is now clear that missing values correspond to the absence of a garage.\n",
    "# Impute NaNs with 'NA' (no garage)\n",
    "for feature in garage_features: \n",
    "    df[feature] = df[feature].fillna('NA')"
   ]
  },
  {
   "cell_type": "code",
   "execution_count": 41,
   "metadata": {},
   "outputs": [
    {
     "data": {
      "text/plain": [
       "GarageType\n",
       "Attchd     870\n",
       "Detchd     387\n",
       "BuiltIn     88\n",
       "NA          81\n",
       "Basment     19\n",
       "CarPort      9\n",
       "2Types       6\n",
       "Name: count, dtype: int64"
      ]
     },
     "execution_count": 41,
     "metadata": {},
     "output_type": "execute_result"
    }
   ],
   "source": [
    "# Check 'GarageType' distribution\n",
    "df['GarageType'].value_counts()"
   ]
  },
  {
   "cell_type": "code",
   "execution_count": 42,
   "metadata": {},
   "outputs": [
    {
     "data": {
      "image/png": "[encoded data removed]",
      "text/plain": [
       "<Figure size 640x480 with 1 Axes>"
      ]
     },
     "metadata": {},
     "output_type": "display_data"
    }
   ],
   "source": [
    "# Due to some very rare subcategories let's combine Basment (19), CarPort (9), 2Types (6) into \"Other\"\n",
    "df['GarageType'] = df['GarageType'].replace({'Basment': 'Other', 'CarPort': 'Other', '2Types': 'Other'})\n",
    "sns.boxenplot(x='GarageType', y='SalePrice', data=df)    # Check the distribution of SalePrice by GarageType type\n",
    "plt.show()"
   ]
  },
  {
   "cell_type": "code",
   "execution_count": 43,
   "metadata": {},
   "outputs": [],
   "source": [
    "# Use target encoding (median SalePrice per category) to capture the relationship with SalePrice\n",
    "medians = df.groupby('GarageType')['SalePrice'].median()     # Compute median SalePrice for each category\n",
    "df['GarageType'] = df['GarageType'].map(medians)             # Map the medians to the feature values"
   ]
  },
  {
   "cell_type": "code",
   "execution_count": 44,
   "metadata": {},
   "outputs": [
    {
     "data": {
      "image/png": "[encoded data removed]",
      "text/plain": [
       "<Figure size 1500x500 with 3 Axes>"
      ]
     },
     "metadata": {},
     "output_type": "display_data"
    }
   ],
   "source": [
    "# 'GarageFinish', 'GarageQual', 'GarageCond' are ordinal features. Let's define the order of the categories\n",
    "\n",
    "# For GarageFinish the sequence is: NA < Unf < RFn < Fin:\n",
    "ordinal_mapping1 = {'NA': 0, 'Unf': 1, 'RFn': 2, 'Fin': 3}\n",
    "df['GarageFinish'] = df['GarageFinish'].map(ordinal_mapping1)    # Map the ordinal values to the feature\n",
    "\n",
    "# For GarageQual and GarageCond the sequence is the same as for FireplaceQu:\n",
    "ordinal_mapping2 = {'NA': 0, 'Po': 1, 'Fa': 2, 'TA': 3, 'Gd': 4, 'Ex': 5}\n",
    "df['GarageQual'] = df['GarageQual'].map(ordinal_mapping2)    # Map the ordinal values to the feature\n",
    "df['GarageCond'] = df['GarageCond'].map(ordinal_mapping2)    # Map the ordinal values to the feature\n",
    "\n",
    "# Check the distribution of SalePrice by ordinal Garage-related features\n",
    "figure, (ax1, ax2, ax3) = plt.subplots(1, 3, figsize=(15, 5))\n",
    "sns.boxenplot(x='GarageFinish', y='SalePrice', data=df, ax=ax1)    \n",
    "sns.boxenplot(x='GarageQual', y='SalePrice', data=df, ax=ax2)    \n",
    "sns.boxenplot(x='GarageCond', y='SalePrice', data=df, ax=ax3)    \n",
    "plt.show()"
   ]
  },
  {
   "cell_type": "markdown",
   "metadata": {},
   "source": [
    "### PoolQC (1453 NaNs)\n"
   ]
  },
  {
   "cell_type": "code",
   "execution_count": 45,
   "metadata": {},
   "outputs": [
    {
     "data": {
      "text/plain": [
       "PoolQC\n",
       "NaN    1453\n",
       "Gd        3\n",
       "Ex        2\n",
       "Fa        2\n",
       "Name: count, dtype: int64"
      ]
     },
     "execution_count": 45,
     "metadata": {},
     "output_type": "execute_result"
    }
   ],
   "source": [
    "# check the distribution of the PoolQC (Pool quality: Ex, Gd, TA, Fa, NA) feature\n",
    "df.PoolQC.value_counts(dropna=False)"
   ]
  },
  {
   "cell_type": "code",
   "execution_count": 46,
   "metadata": {},
   "outputs": [
    {
     "data": {
      "text/plain": [
       "np.int64(1453)"
      ]
     },
     "execution_count": 46,
     "metadata": {},
     "output_type": "execute_result"
    }
   ],
   "source": [
    "# Missing values are massive. Let's check another associated with PoolQC numeric feature: PoolArea\n",
    "df.PoolArea[df.PoolArea == 0].count()    # count the number of 0 values in PoolArea"
   ]
  },
  {
   "cell_type": "markdown",
   "metadata": {},
   "source": [
    "The prognostic power of both features is extremely small. It seems justified to drop them off."
   ]
  },
  {
   "cell_type": "code",
   "execution_count": 47,
   "metadata": {},
   "outputs": [],
   "source": [
    "df = df.drop(['PoolQC', 'PoolArea'], axis=1)    # drop PoolQC and PoolArea as completely uninformative"
   ]
  },
  {
   "cell_type": "markdown",
   "metadata": {},
   "source": [
    "### Fence (1179 NaNs)"
   ]
  },
  {
   "cell_type": "code",
   "execution_count": 48,
   "metadata": {},
   "outputs": [
    {
     "data": {
      "text/plain": [
       "'\\nGdPrv:\\tGood Privacy\\nMnPrv:\\tMinimum Privacy\\nGdWo:\\tGood Wood\\nMnWw:\\tMinimum Wood/Wire\\nNA:\\t    No Fence\\n'"
      ]
     },
     "execution_count": 48,
     "metadata": {},
     "output_type": "execute_result"
    }
   ],
   "source": [
    "df.Fence.value_counts(dropna=False) # check the distribution of the Fence (Fence quality: GdWo, MnPrv, GdPrv, NA) feature\n",
    "\n",
    "\"\"\"\n",
    "GdPrv:\tGood Privacy\n",
    "MnPrv:\tMinimum Privacy\n",
    "GdWo:\tGood Wood\n",
    "MnWw:\tMinimum Wood/Wire\n",
    "NA:\t    No Fence\n",
    "\"\"\""
   ]
  },
  {
   "cell_type": "code",
   "execution_count": 49,
   "metadata": {},
   "outputs": [
    {
     "data": {
      "text/plain": [
       "<Axes: xlabel='Fence', ylabel='SalePrice'>"
      ]
     },
     "execution_count": 49,
     "metadata": {},
     "output_type": "execute_result"
    },
    {
     "data": {
      "image/png": "[encoded data removed]",
      "text/plain": [
       "<Figure size 640x480 with 1 Axes>"
      ]
     },
     "metadata": {},
     "output_type": "display_data"
    }
   ],
   "source": [
    "# It is clear that NaNs correspond to the absence of a fence\n",
    "# Impute NaNs with 'NA' (no fence)\n",
    "df['Fence'] = df['Fence'].fillna('NA')\n",
    "sns.boxenplot(x='Fence', y='SalePrice', data=df)    # Check the distribution of SalePrice by Fence type"
   ]
  },
  {
   "cell_type": "markdown",
   "metadata": {},
   "source": [
    "- The number of missing values is very high. Among rare features only GdPrv (Fence with good privacy) seems to be associated with higher SalesPrice.\n",
    "- On the other hand, it look no much different from the very large group of \"No Fence\".\n",
    "- It seems justified to drop this feature from the model."
   ]
  },
  {
   "cell_type": "code",
   "execution_count": 50,
   "metadata": {},
   "outputs": [],
   "source": [
    "df = df.drop(['Fence'], axis=1)    # drop Fence as completely uninformative"
   ]
  },
  {
   "cell_type": "markdown",
   "metadata": {},
   "source": [
    "### MiscFeature (1406 NaNs)"
   ]
  },
  {
   "cell_type": "code",
   "execution_count": 51,
   "metadata": {},
   "outputs": [
    {
     "data": {
      "text/plain": [
       "'\\nElev\\tElevator\\nGar2\\t2nd Garage (if not described in garage section)\\nOthr\\tOther\\nShed\\tShed (over 100 SF)\\nTenC\\tTennis Court\\nNA\\tNone\\n'"
      ]
     },
     "execution_count": 51,
     "metadata": {},
     "output_type": "execute_result"
    }
   ],
   "source": [
    "df.MiscFeature.value_counts(dropna=False) # check the distribution of the MiscFeature (Miscellaneous feature: Tenis Court, Shed, NA) feature\n",
    "\n",
    "\"\"\"\n",
    "Elev\tElevator\n",
    "Gar2\t2nd Garage (if not described in garage section)\n",
    "Othr\tOther\n",
    "Shed\tShed (over 100 SF)\n",
    "TenC\tTennis Court\n",
    "NA\tNone\n",
    "\"\"\""
   ]
  },
  {
   "cell_type": "code",
   "execution_count": 52,
   "metadata": {},
   "outputs": [
    {
     "data": {
      "text/plain": [
       "<Axes: xlabel='MiscFeature', ylabel='SalePrice'>"
      ]
     },
     "execution_count": 52,
     "metadata": {},
     "output_type": "execute_result"
    },
    {
     "data": {
      "image/png": "[encoded data removed]",
      "text/plain": [
       "<Figure size 640x480 with 1 Axes>"
      ]
     },
     "metadata": {},
     "output_type": "display_data"
    }
   ],
   "source": [
    "# It is reasonable to join all subcategories into \"Other\" and impute NaNs with 'NA' (no miscellaneous feature)\n",
    "df['MiscFeature'] = df['MiscFeature'].replace({'Elev': 'Other', 'Gar2': 'Other', 'Othr': 'Other', 'Shed': 'Other', 'TenC': 'Other'})\n",
    "df['MiscFeature'] = df['MiscFeature'].fillna('NA')    # fill NaNs with 'NA' (no miscellaneous feature)\n",
    "sns.boxenplot(x='MiscFeature', y='SalePrice', data=df)    # Check the distribution of SalePrice by MiscFeature type"
   ]
  },
  {
   "cell_type": "code",
   "execution_count": 53,
   "metadata": {},
   "outputs": [
    {
     "name": "stdout",
     "output_type": "stream",
     "text": [
      "Missing values in the dataset:\n",
      "Series([], dtype: int64)\n"
     ]
    }
   ],
   "source": [
    "df_na_count = df.isnull().sum()    # check if there are any missing values left in the dataset\n",
    "print(f\"Missing values in the dataset:\\n{df_na_count[df_na_count > 0]}\")    # filter columns with NaNs"
   ]
  },
  {
   "cell_type": "markdown",
   "metadata": {},
   "source": [
    "\n",
    "---\n",
    "\n",
    "## **2. Exploratory Data Analysis (EDA)**\n",
    "\n",
    "### Question 3: Describe the dataset's numerical features.\n",
    "- Use `describe()` to get a summary of the dataset's numerical columns.\n",
    "- Which feature(s) have the highest and lowest values? Are there any surprising observations?"
   ]
  },
  {
   "cell_type": "code",
   "execution_count": 54,
   "metadata": {},
   "outputs": [
    {
     "data": {
      "application/vnd.microsoft.datawrangler.viewer.v0+json": {
       "columns": [
        {
         "name": "index",
         "rawType": "object",
         "type": "string"
        },
        {
         "name": "Id",
         "rawType": "float64",
         "type": "float"
        },
        {
         "name": "MSSubClass",
         "rawType": "float64",
         "type": "float"
        },
        {
         "name": "LotFrontage",
         "rawType": "float64",
         "type": "float"
        },
        {
         "name": "LotArea",
         "rawType": "float64",
         "type": "float"
        },
        {
         "name": "Alley",
         "rawType": "float64",
         "type": "float"
        },
        {
         "name": "OverallQual",
         "rawType": "float64",
         "type": "float"
        },
        {
         "name": "OverallCond",
         "rawType": "float64",
         "type": "float"
        },
        {
         "name": "YearBuilt",
         "rawType": "float64",
         "type": "float"
        },
        {
         "name": "YearRemodAdd",
         "rawType": "float64",
         "type": "float"
        },
        {
         "name": "MasVnrType",
         "rawType": "float64",
         "type": "float"
        },
        {
         "name": "MasVnrArea",
         "rawType": "float64",
         "type": "float"
        },
        {
         "name": "BsmtQual",
         "rawType": "float64",
         "type": "float"
        },
        {
         "name": "BsmtCond",
         "rawType": "float64",
         "type": "float"
        },
        {
         "name": "BsmtExposure",
         "rawType": "float64",
         "type": "float"
        },
        {
         "name": "BsmtFinType1",
         "rawType": "float64",
         "type": "float"
        },
        {
         "name": "BsmtFinSF1",
         "rawType": "float64",
         "type": "float"
        },
        {
         "name": "BsmtFinType2",
         "rawType": "float64",
         "type": "float"
        },
        {
         "name": "BsmtFinSF2",
         "rawType": "float64",
         "type": "float"
        },
        {
         "name": "BsmtUnfSF",
         "rawType": "float64",
         "type": "float"
        },
        {
         "name": "TotalBsmtSF",
         "rawType": "float64",
         "type": "float"
        },
        {
         "name": "Electrical",
         "rawType": "float64",
         "type": "float"
        },
        {
         "name": "1stFlrSF",
         "rawType": "float64",
         "type": "float"
        },
        {
         "name": "2ndFlrSF",
         "rawType": "float64",
         "type": "float"
        },
        {
         "name": "LowQualFinSF",
         "rawType": "float64",
         "type": "float"
        },
        {
         "name": "GrLivArea",
         "rawType": "float64",
         "type": "float"
        },
        {
         "name": "BsmtFullBath",
         "rawType": "float64",
         "type": "float"
        },
        {
         "name": "BsmtHalfBath",
         "rawType": "float64",
         "type": "float"
        },
        {
         "name": "FullBath",
         "rawType": "float64",
         "type": "float"
        },
        {
         "name": "HalfBath",
         "rawType": "float64",
         "type": "float"
        },
        {
         "name": "BedroomAbvGr",
         "rawType": "float64",
         "type": "float"
        },
        {
         "name": "KitchenAbvGr",
         "rawType": "float64",
         "type": "float"
        },
        {
         "name": "TotRmsAbvGrd",
         "rawType": "float64",
         "type": "float"
        },
        {
         "name": "Fireplaces",
         "rawType": "float64",
         "type": "float"
        },
        {
         "name": "FireplaceQu",
         "rawType": "float64",
         "type": "float"
        },
        {
         "name": "GarageType",
         "rawType": "float64",
         "type": "float"
        },
        {
         "name": "GarageFinish",
         "rawType": "float64",
         "type": "float"
        },
        {
         "name": "GarageCars",
         "rawType": "float64",
         "type": "float"
        },
        {
         "name": "GarageArea",
         "rawType": "float64",
         "type": "float"
        },
        {
         "name": "GarageQual",
         "rawType": "float64",
         "type": "float"
        },
        {
         "name": "GarageCond",
         "rawType": "float64",
         "type": "float"
        },
        {
         "name": "WoodDeckSF",
         "rawType": "float64",
         "type": "float"
        },
        {
         "name": "OpenPorchSF",
         "rawType": "float64",
         "type": "float"
        },
        {
         "name": "EnclosedPorch",
         "rawType": "float64",
         "type": "float"
        },
        {
         "name": "3SsnPorch",
         "rawType": "float64",
         "type": "float"
        },
        {
         "name": "ScreenPorch",
         "rawType": "float64",
         "type": "float"
        },
        {
         "name": "MiscVal",
         "rawType": "float64",
         "type": "float"
        },
        {
         "name": "MoSold",
         "rawType": "float64",
         "type": "float"
        },
        {
         "name": "YrSold",
         "rawType": "float64",
         "type": "float"
        },
        {
         "name": "SalePrice",
         "rawType": "float64",
         "type": "float"
        },
        {
         "name": "LotFrontage_missing",
         "rawType": "float64",
         "type": "float"
        }
       ],
       "conversionMethod": "pd.DataFrame",
       "ref": "02c1cf80-a2e0-44b9-9b8e-7f4118ddeccf",
       "rows": [
        [
         "count",
         "1460.0",
         "1460.0",
         "1460.0",
         "1460.0",
         "1460.0",
         "1460.0",
         "1460.0",
         "1460.0",
         "1460.0",
         "1460.0",
         "1460.0",
         "1460.0",
         "1460.0",
         "1460.0",
         "1460.0",
         "1460.0",
         "1460.0",
         "1460.0",
         "1460.0",
         "1460.0",
         "1460.0",
         "1460.0",
         "1460.0",
         "1460.0",
         "1460.0",
         "1460.0",
         "1460.0",
         "1460.0",
         "1460.0",
         "1460.0",
         "1460.0",
         "1460.0",
         "1460.0",
         "1460.0",
         "1460.0",
         "1460.0",
         "1460.0",
         "1460.0",
         "1460.0",
         "1460.0",
         "1460.0",
         "1460.0",
         "1460.0",
         "1460.0",
         "1460.0",
         "1460.0",
         "1460.0",
         "1460.0",
         "1460.0",
         "1460.0"
        ],
        [
         "mean",
         "730.5",
         "56.9",
         "70.57",
         "10516.83",
         "163652.4",
         "6.1",
         "5.58",
         "1971.27",
         "1984.87",
         "163719.45",
         "103.12",
         "173152.99",
         "163112.49",
         "166439.55",
         "167986.58",
         "443.64",
         "164183.08",
         "46.55",
         "567.24",
         "1057.43",
         "0.91",
         "1162.63",
         "346.99",
         "5.84",
         "1515.46",
         "0.43",
         "0.06",
         "1.57",
         "0.38",
         "2.87",
         "1.05",
         "6.52",
         "0.61",
         "1.83",
         "167197.26",
         "1.72",
         "1.77",
         "472.98",
         "2.81",
         "2.81",
         "94.24",
         "46.66",
         "21.95",
         "3.41",
         "15.06",
         "43.49",
         "6.32",
         "2007.82",
         "180921.2",
         "0.18"
        ],
        [
         "std",
         "421.61",
         "42.3",
         "23.3",
         "9981.26",
         "8408.98",
         "1.38",
         "1.11",
         "30.2",
         "20.65",
         "30935.02",
         "180.73",
         "52355.07",
         "14681.88",
         "24823.4",
         "31053.51",
         "456.1",
         "11805.5",
         "161.32",
         "441.87",
         "438.71",
         "0.28",
         "386.59",
         "436.53",
         "48.62",
         "525.48",
         "0.52",
         "0.24",
         "0.55",
         "0.5",
         "0.82",
         "0.22",
         "1.63",
         "0.64",
         "1.81",
         "32368.1",
         "0.89",
         "0.75",
         "213.8",
         "0.72",
         "0.72",
         "125.34",
         "66.26",
         "61.12",
         "29.32",
         "55.76",
         "496.12",
         "2.7",
         "1.33",
         "79442.5",
         "0.38"
        ],
        [
         "min",
         "1.0",
         "20.0",
         "21.0",
         "1300.0",
         "119500.0",
         "1.0",
         "1.0",
         "1872.0",
         "1950.0",
         "139000.0",
         "0.0",
         "101800.0",
         "64000.0",
         "104025.0",
         "101800.0",
         "0.0",
         "104025.0",
         "0.0",
         "0.0",
         "0.0",
         "0.0",
         "334.0",
         "0.0",
         "0.0",
         "334.0",
         "0.0",
         "0.0",
         "0.0",
         "0.0",
         "0.0",
         "0.0",
         "2.0",
         "0.0",
         "0.0",
         "100000.0",
         "0.0",
         "0.0",
         "0.0",
         "0.0",
         "0.0",
         "0.0",
         "0.0",
         "0.0",
         "0.0",
         "0.0",
         "0.0",
         "1.0",
         "2006.0",
         "34900.0",
         "0.0"
        ],
        [
         "25%",
         "365.75",
         "20.0",
         "60.0",
         "7553.5",
         "165000.0",
         "5.0",
         "5.0",
         "1954.0",
         "1967.0",
         "143125.0",
         "0.0",
         "135500.0",
         "165000.0",
         "154000.0",
         "142000.0",
         "0.0",
         "167000.0",
         "0.0",
         "223.0",
         "795.75",
         "1.0",
         "882.0",
         "0.0",
         "0.0",
         "1129.5",
         "0.0",
         "0.0",
         "1.0",
         "0.0",
         "2.0",
         "1.0",
         "5.0",
         "0.0",
         "0.0",
         "129500.0",
         "1.0",
         "1.0",
         "334.5",
         "3.0",
         "3.0",
         "0.0",
         "0.0",
         "0.0",
         "0.0",
         "0.0",
         "0.0",
         "5.0",
         "2007.0",
         "129975.0",
         "0.0"
        ],
        [
         "50%",
         "730.5",
         "50.0",
         "70.0",
         "9478.5",
         "165000.0",
         "6.0",
         "5.0",
         "1973.0",
         "1994.0",
         "143125.0",
         "0.0",
         "192070.0",
         "165000.0",
         "154000.0",
         "161750.0",
         "383.5",
         "167000.0",
         "0.0",
         "477.5",
         "991.5",
         "1.0",
         "1087.0",
         "0.0",
         "0.0",
         "1464.0",
         "0.0",
         "0.0",
         "2.0",
         "0.0",
         "3.0",
         "1.0",
         "6.0",
         "1.0",
         "2.0",
         "185000.0",
         "2.0",
         "2.0",
         "480.0",
         "3.0",
         "3.0",
         "0.0",
         "25.0",
         "0.0",
         "0.0",
         "0.0",
         "0.0",
         "6.0",
         "2008.0",
         "163000.0",
         "0.0"
        ],
        [
         "75%",
         "1095.25",
         "70.0",
         "80.0",
         "11601.5",
         "165000.0",
         "7.0",
         "6.0",
         "2000.0",
         "2004.0",
         "181000.0",
         "164.25",
         "192070.0",
         "165000.0",
         "182450.0",
         "213750.0",
         "712.25",
         "167000.0",
         "0.0",
         "808.0",
         "1298.25",
         "1.0",
         "1391.25",
         "728.0",
         "0.0",
         "1776.75",
         "1.0",
         "0.0",
         "2.0",
         "1.0",
         "3.0",
         "1.0",
         "7.0",
         "1.0",
         "4.0",
         "185000.0",
         "2.0",
         "2.0",
         "576.0",
         "3.0",
         "3.0",
         "168.0",
         "68.0",
         "0.0",
         "0.0",
         "0.0",
         "0.0",
         "8.0",
         "2009.0",
         "214000.0",
         "0.0"
        ],
        [
         "max",
         "1460.0",
         "190.0",
         "313.0",
         "215245.0",
         "172500.0",
         "10.0",
         "9.0",
         "2010.0",
         "2010.0",
         "246839.0",
         "1600.0",
         "318000.0",
         "193879.0",
         "226975.0",
         "213750.0",
         "5644.0",
         "203125.0",
         "1474.0",
         "2336.0",
         "6110.0",
         "1.0",
         "4692.0",
         "2065.0",
         "572.0",
         "5642.0",
         "3.0",
         "2.0",
         "3.0",
         "2.0",
         "8.0",
         "3.0",
         "14.0",
         "3.0",
         "5.0",
         "227500.0",
         "3.0",
         "4.0",
         "1418.0",
         "5.0",
         "5.0",
         "857.0",
         "547.0",
         "552.0",
         "508.0",
         "480.0",
         "15500.0",
         "12.0",
         "2010.0",
         "755000.0",
         "1.0"
        ]
       ],
       "shape": {
        "columns": 50,
        "rows": 8
       }
      },
      "text/html": [
       "<div>\n",
       "<style scoped>\n",
       "    .dataframe tbody tr th:only-of-type {\n",
       "        vertical-align: middle;\n",
       "    }\n",
       "\n",
       "    .dataframe tbody tr th {\n",
       "        vertical-align: top;\n",
       "    }\n",
       "\n",
       "    .dataframe thead th {\n",
       "        text-align: right;\n",
       "    }\n",
       "</style>\n",
       "<table border=\"1\" class=\"dataframe\">\n",
       "  <thead>\n",
       "    <tr style=\"text-align: right;\">\n",
       "      <th></th>\n",
       "      <th>Id</th>\n",
       "      <th>MSSubClass</th>\n",
       "      <th>LotFrontage</th>\n",
       "      <th>LotArea</th>\n",
       "      <th>Alley</th>\n",
       "      <th>OverallQual</th>\n",
       "      <th>OverallCond</th>\n",
       "      <th>YearBuilt</th>\n",
       "      <th>YearRemodAdd</th>\n",
       "      <th>MasVnrType</th>\n",
       "      <th>...</th>\n",
       "      <th>WoodDeckSF</th>\n",
       "      <th>OpenPorchSF</th>\n",
       "      <th>EnclosedPorch</th>\n",
       "      <th>3SsnPorch</th>\n",
       "      <th>ScreenPorch</th>\n",
       "      <th>MiscVal</th>\n",
       "      <th>MoSold</th>\n",
       "      <th>YrSold</th>\n",
       "      <th>SalePrice</th>\n",
       "      <th>LotFrontage_missing</th>\n",
       "    </tr>\n",
       "  </thead>\n",
       "  <tbody>\n",
       "    <tr>\n",
       "      <th>count</th>\n",
       "      <td>1460.00</td>\n",
       "      <td>1460.0</td>\n",
       "      <td>1460.00</td>\n",
       "      <td>1460.00</td>\n",
       "      <td>1460.00</td>\n",
       "      <td>1460.00</td>\n",
       "      <td>1460.00</td>\n",
       "      <td>1460.00</td>\n",
       "      <td>1460.00</td>\n",
       "      <td>1460.00</td>\n",
       "      <td>...</td>\n",
       "      <td>1460.00</td>\n",
       "      <td>1460.00</td>\n",
       "      <td>1460.00</td>\n",
       "      <td>1460.00</td>\n",
       "      <td>1460.00</td>\n",
       "      <td>1460.00</td>\n",
       "      <td>1460.00</td>\n",
       "      <td>1460.00</td>\n",
       "      <td>1460.0</td>\n",
       "      <td>1460.00</td>\n",
       "    </tr>\n",
       "    <tr>\n",
       "      <th>mean</th>\n",
       "      <td>730.50</td>\n",
       "      <td>56.9</td>\n",
       "      <td>70.57</td>\n",
       "      <td>10516.83</td>\n",
       "      <td>163652.40</td>\n",
       "      <td>6.10</td>\n",
       "      <td>5.58</td>\n",
       "      <td>1971.27</td>\n",
       "      <td>1984.87</td>\n",
       "      <td>163719.45</td>\n",
       "      <td>...</td>\n",
       "      <td>94.24</td>\n",
       "      <td>46.66</td>\n",
       "      <td>21.95</td>\n",
       "      <td>3.41</td>\n",
       "      <td>15.06</td>\n",
       "      <td>43.49</td>\n",
       "      <td>6.32</td>\n",
       "      <td>2007.82</td>\n",
       "      <td>180921.2</td>\n",
       "      <td>0.18</td>\n",
       "    </tr>\n",
       "    <tr>\n",
       "      <th>std</th>\n",
       "      <td>421.61</td>\n",
       "      <td>42.3</td>\n",
       "      <td>23.30</td>\n",
       "      <td>9981.26</td>\n",
       "      <td>8408.98</td>\n",
       "      <td>1.38</td>\n",
       "      <td>1.11</td>\n",
       "      <td>30.20</td>\n",
       "      <td>20.65</td>\n",
       "      <td>30935.02</td>\n",
       "      <td>...</td>\n",
       "      <td>125.34</td>\n",
       "      <td>66.26</td>\n",
       "      <td>61.12</td>\n",
       "      <td>29.32</td>\n",
       "      <td>55.76</td>\n",
       "      <td>496.12</td>\n",
       "      <td>2.70</td>\n",
       "      <td>1.33</td>\n",
       "      <td>79442.5</td>\n",
       "      <td>0.38</td>\n",
       "    </tr>\n",
       "    <tr>\n",
       "      <th>min</th>\n",
       "      <td>1.00</td>\n",
       "      <td>20.0</td>\n",
       "      <td>21.00</td>\n",
       "      <td>1300.00</td>\n",
       "      <td>119500.00</td>\n",
       "      <td>1.00</td>\n",
       "      <td>1.00</td>\n",
       "      <td>1872.00</td>\n",
       "      <td>1950.00</td>\n",
       "      <td>139000.00</td>\n",
       "      <td>...</td>\n",
       "      <td>0.00</td>\n",
       "      <td>0.00</td>\n",
       "      <td>0.00</td>\n",
       "      <td>0.00</td>\n",
       "      <td>0.00</td>\n",
       "      <td>0.00</td>\n",
       "      <td>1.00</td>\n",
       "      <td>2006.00</td>\n",
       "      <td>34900.0</td>\n",
       "      <td>0.00</td>\n",
       "    </tr>\n",
       "    <tr>\n",
       "      <th>25%</th>\n",
       "      <td>365.75</td>\n",
       "      <td>20.0</td>\n",
       "      <td>60.00</td>\n",
       "      <td>7553.50</td>\n",
       "      <td>165000.00</td>\n",
       "      <td>5.00</td>\n",
       "      <td>5.00</td>\n",
       "      <td>1954.00</td>\n",
       "      <td>1967.00</td>\n",
       "      <td>143125.00</td>\n",
       "      <td>...</td>\n",
       "      <td>0.00</td>\n",
       "      <td>0.00</td>\n",
       "      <td>0.00</td>\n",
       "      <td>0.00</td>\n",
       "      <td>0.00</td>\n",
       "      <td>0.00</td>\n",
       "      <td>5.00</td>\n",
       "      <td>2007.00</td>\n",
       "      <td>129975.0</td>\n",
       "      <td>0.00</td>\n",
       "    </tr>\n",
       "    <tr>\n",
       "      <th>50%</th>\n",
       "      <td>730.50</td>\n",
       "      <td>50.0</td>\n",
       "      <td>70.00</td>\n",
       "      <td>9478.50</td>\n",
       "      <td>165000.00</td>\n",
       "      <td>6.00</td>\n",
       "      <td>5.00</td>\n",
       "      <td>1973.00</td>\n",
       "      <td>1994.00</td>\n",
       "      <td>143125.00</td>\n",
       "      <td>...</td>\n",
       "      <td>0.00</td>\n",
       "      <td>25.00</td>\n",
       "      <td>0.00</td>\n",
       "      <td>0.00</td>\n",
       "      <td>0.00</td>\n",
       "      <td>0.00</td>\n",
       "      <td>6.00</td>\n",
       "      <td>2008.00</td>\n",
       "      <td>163000.0</td>\n",
       "      <td>0.00</td>\n",
       "    </tr>\n",
       "    <tr>\n",
       "      <th>75%</th>\n",
       "      <td>1095.25</td>\n",
       "      <td>70.0</td>\n",
       "      <td>80.00</td>\n",
       "      <td>11601.50</td>\n",
       "      <td>165000.00</td>\n",
       "      <td>7.00</td>\n",
       "      <td>6.00</td>\n",
       "      <td>2000.00</td>\n",
       "      <td>2004.00</td>\n",
       "      <td>181000.00</td>\n",
       "      <td>...</td>\n",
       "      <td>168.00</td>\n",
       "      <td>68.00</td>\n",
       "      <td>0.00</td>\n",
       "      <td>0.00</td>\n",
       "      <td>0.00</td>\n",
       "      <td>0.00</td>\n",
       "      <td>8.00</td>\n",
       "      <td>2009.00</td>\n",
       "      <td>214000.0</td>\n",
       "      <td>0.00</td>\n",
       "    </tr>\n",
       "    <tr>\n",
       "      <th>max</th>\n",
       "      <td>1460.00</td>\n",
       "      <td>190.0</td>\n",
       "      <td>313.00</td>\n",
       "      <td>215245.00</td>\n",
       "      <td>172500.00</td>\n",
       "      <td>10.00</td>\n",
       "      <td>9.00</td>\n",
       "      <td>2010.00</td>\n",
       "      <td>2010.00</td>\n",
       "      <td>246839.00</td>\n",
       "      <td>...</td>\n",
       "      <td>857.00</td>\n",
       "      <td>547.00</td>\n",
       "      <td>552.00</td>\n",
       "      <td>508.00</td>\n",
       "      <td>480.00</td>\n",
       "      <td>15500.00</td>\n",
       "      <td>12.00</td>\n",
       "      <td>2010.00</td>\n",
       "      <td>755000.0</td>\n",
       "      <td>1.00</td>\n",
       "    </tr>\n",
       "  </tbody>\n",
       "</table>\n",
       "<p>8 rows × 50 columns</p>\n",
       "</div>"
      ],
      "text/plain": [
       "            Id  MSSubClass  LotFrontage    LotArea      Alley  OverallQual  \\\n",
       "count  1460.00      1460.0      1460.00    1460.00    1460.00      1460.00   \n",
       "mean    730.50        56.9        70.57   10516.83  163652.40         6.10   \n",
       "std     421.61        42.3        23.30    9981.26    8408.98         1.38   \n",
       "min       1.00        20.0        21.00    1300.00  119500.00         1.00   \n",
       "25%     365.75        20.0        60.00    7553.50  165000.00         5.00   \n",
       "50%     730.50        50.0        70.00    9478.50  165000.00         6.00   \n",
       "75%    1095.25        70.0        80.00   11601.50  165000.00         7.00   \n",
       "max    1460.00       190.0       313.00  215245.00  172500.00        10.00   \n",
       "\n",
       "       OverallCond  YearBuilt  YearRemodAdd  MasVnrType  ...  WoodDeckSF  \\\n",
       "count      1460.00    1460.00       1460.00     1460.00  ...     1460.00   \n",
       "mean          5.58    1971.27       1984.87   163719.45  ...       94.24   \n",
       "std           1.11      30.20         20.65    30935.02  ...      125.34   \n",
       "min           1.00    1872.00       1950.00   139000.00  ...        0.00   \n",
       "25%           5.00    1954.00       1967.00   143125.00  ...        0.00   \n",
       "50%           5.00    1973.00       1994.00   143125.00  ...        0.00   \n",
       "75%           6.00    2000.00       2004.00   181000.00  ...      168.00   \n",
       "max           9.00    2010.00       2010.00   246839.00  ...      857.00   \n",
       "\n",
       "       OpenPorchSF  EnclosedPorch  3SsnPorch  ScreenPorch   MiscVal   MoSold  \\\n",
       "count      1460.00        1460.00    1460.00      1460.00   1460.00  1460.00   \n",
       "mean         46.66          21.95       3.41        15.06     43.49     6.32   \n",
       "std          66.26          61.12      29.32        55.76    496.12     2.70   \n",
       "min           0.00           0.00       0.00         0.00      0.00     1.00   \n",
       "25%           0.00           0.00       0.00         0.00      0.00     5.00   \n",
       "50%          25.00           0.00       0.00         0.00      0.00     6.00   \n",
       "75%          68.00           0.00       0.00         0.00      0.00     8.00   \n",
       "max         547.00         552.00     508.00       480.00  15500.00    12.00   \n",
       "\n",
       "        YrSold  SalePrice  LotFrontage_missing  \n",
       "count  1460.00     1460.0              1460.00  \n",
       "mean   2007.82   180921.2                 0.18  \n",
       "std       1.33    79442.5                 0.38  \n",
       "min    2006.00    34900.0                 0.00  \n",
       "25%    2007.00   129975.0                 0.00  \n",
       "50%    2008.00   163000.0                 0.00  \n",
       "75%    2009.00   214000.0                 0.00  \n",
       "max    2010.00   755000.0                 1.00  \n",
       "\n",
       "[8 rows x 50 columns]"
      ]
     },
     "execution_count": 54,
     "metadata": {},
     "output_type": "execute_result"
    }
   ],
   "source": [
    "df.select_dtypes(include='number').describe().round(2)    # check the basic descriptive statistics for numerical features"
   ]
  },
  {
   "cell_type": "code",
   "execution_count": 55,
   "metadata": {},
   "outputs": [
    {
     "name": "stdout",
     "output_type": "stream",
     "text": [
      "At the moment we have 49 numerical features in the dataframe out of 77 total features\n"
     ]
    }
   ],
   "source": [
    "df = df.drop('Id', axis=1)    # drop the Id column as it is not informative for prediction\n",
    "df_num_features = df.select_dtypes(include='number').columns.tolist()    # list of left numerical features\n",
    "print(f\"At the moment we have {len(df_num_features)} numerical features in the dataframe out of {df.shape[1]} total features\")"
   ]
  },
  {
   "cell_type": "markdown",
   "metadata": {},
   "source": [
    "The number of numeric features is large. Many features have very different magnitudes of variability. Some have very different from normal distributions."
   ]
  },
  {
   "cell_type": "markdown",
   "metadata": {},
   "source": [
    "### Question 4: Visualize the distribution of house prices.\n",
    "- Create a histogram of the house prices. Is the distribution normal or skewed?"
   ]
  },
  {
   "cell_type": "code",
   "execution_count": 56,
   "metadata": {},
   "outputs": [
    {
     "name": "stdout",
     "output_type": "stream",
     "text": [
      "Skewness of SalePrice: 1.88\n"
     ]
    },
    {
     "data": {
      "image/png": "[encoded data removed]",
      "text/plain": [
       "<Figure size 800x300 with 1 Axes>"
      ]
     },
     "metadata": {},
     "output_type": "display_data"
    }
   ],
   "source": [
    "# Check the skewness and distribution of the target variable SalePrice\n",
    "skewness = skew(df['SalePrice'])\n",
    "print(f\"Skewness of SalePrice: {skewness:.2f}\")\n",
    "\n",
    "plt.figure(figsize=(8, 3))\n",
    "sns.histplot(df['SalePrice'], kde=True)\n",
    "plt.title('SalePrice distribution')\n",
    "plt.show()"
   ]
  },
  {
   "cell_type": "markdown",
   "metadata": {},
   "source": [
    "The target's distribution is mostly right-skewed, with a long tail on right side, indicating that there are a few cases of very expensive houses in the dataset."
   ]
  },
  {
   "cell_type": "markdown",
   "metadata": {},
   "source": [
    "\n",
    "### Question 5: Explore relationships between features and house prices.\n",
    "- Create scatter plots for at least 3 features vs. house prices (target variable).\n",
    "- What relationships do you observe between the selected features and the target?\n"
   ]
  },
  {
   "cell_type": "code",
   "execution_count": 57,
   "metadata": {},
   "outputs": [
    {
     "data": {
      "text/plain": [
       "SalePrice       1.000\n",
       "OverallQual     0.791\n",
       "GrLivArea       0.709\n",
       "BsmtQual        0.681\n",
       "GarageCars      0.640\n",
       "GarageArea      0.623\n",
       "TotalBsmtSF     0.614\n",
       "1stFlrSF        0.606\n",
       "FullBath        0.561\n",
       "GarageFinish    0.549\n",
       "Name: SalePrice, dtype: float64"
      ]
     },
     "execution_count": 57,
     "metadata": {},
     "output_type": "execute_result"
    }
   ],
   "source": [
    "corr_matrix = df.select_dtypes(include='number').corr().round(3)        # Select numerical features and compute the correlation matrix\n",
    "corr_matrix['SalePrice'].abs().sort_values(ascending=False).head(10)    # Extract strongest correlations with SalePrice and sort by absolute value"
   ]
  },
  {
   "cell_type": "code",
   "execution_count": 58,
   "metadata": {},
   "outputs": [
    {
     "data": {
      "image/png": "[encoded data removed]",
      "text/plain": [
       "<Figure size 1500x600 with 3 Axes>"
      ]
     },
     "metadata": {},
     "output_type": "display_data"
    }
   ],
   "source": [
    "fig, (ax1, ax2, ax3) = plt.subplots(1, 3, figsize=(15, 6))\n",
    "\n",
    "exterqual_order = ['Ex', 'Gd', 'TA', 'Fa']\n",
    "\n",
    "sns.scatterplot(df, x='GrLivArea', y='SalePrice', hue='ExterQual', hue_order=exterqual_order, palette='Set1', ax=ax1)    \n",
    "ax1.set_title('Living Area vs House Price by Exterior Quality')\n",
    "sns.scatterplot(df, x='OverallQual', y='SalePrice', ax=ax2)\n",
    "ax2.set_title('Overall Quality vs House Price')\n",
    "ax2.set_ylabel('')\n",
    "ax2.set_yticklabels([])\n",
    "sns.scatterplot(df, x='GarageArea', y='SalePrice', ax=ax3)\n",
    "ax3.set_title('GarageArea vs House Price')\n",
    "ax3.set_ylabel('')\n",
    "ax3.set_yticklabels([])\n",
    "plt.tight_layout()\n",
    "plt.show()\n"
   ]
  },
  {
   "cell_type": "markdown",
   "metadata": {},
   "source": [
    "The depicted scatterplots represent relatively strong positive correlations between house selling price and such variables as Living Area (moderated by Exterior Quality), Overall Quality of the house and Garage Area. They must have the strongest predictive power for our model."
   ]
  },
  {
   "cell_type": "markdown",
   "metadata": {},
   "source": [
    "\n",
    "---\n",
    "\n",
    "## **3. Feature Selection**\n",
    "\n",
    "### Question 6: Correlation Analysis\n",
    "- Calculate the correlation matrix of the dataset.\n",
    "- Based on the correlation, identify at least 2 features that are highly correlated with house prices.\n",
    "- Are there any features that are strongly correlated with each other but not with the target?\n"
   ]
  },
  {
   "cell_type": "code",
   "execution_count": 59,
   "metadata": {},
   "outputs": [
    {
     "data": {
      "application/vnd.microsoft.datawrangler.viewer.v0+json": {
       "columns": [
        {
         "name": "index",
         "rawType": "object",
         "type": "string"
        },
        {
         "name": "MSZoning",
         "rawType": "object",
         "type": "unknown"
        },
        {
         "name": "Street",
         "rawType": "object",
         "type": "unknown"
        },
        {
         "name": "LotShape",
         "rawType": "object",
         "type": "unknown"
        },
        {
         "name": "LandContour",
         "rawType": "object",
         "type": "unknown"
        },
        {
         "name": "Utilities",
         "rawType": "object",
         "type": "unknown"
        },
        {
         "name": "LotConfig",
         "rawType": "object",
         "type": "unknown"
        },
        {
         "name": "LandSlope",
         "rawType": "object",
         "type": "unknown"
        },
        {
         "name": "Neighborhood",
         "rawType": "object",
         "type": "unknown"
        },
        {
         "name": "Condition1",
         "rawType": "object",
         "type": "unknown"
        },
        {
         "name": "Condition2",
         "rawType": "object",
         "type": "unknown"
        },
        {
         "name": "BldgType",
         "rawType": "object",
         "type": "unknown"
        },
        {
         "name": "HouseStyle",
         "rawType": "object",
         "type": "unknown"
        },
        {
         "name": "RoofStyle",
         "rawType": "object",
         "type": "unknown"
        },
        {
         "name": "RoofMatl",
         "rawType": "object",
         "type": "unknown"
        },
        {
         "name": "Exterior1st",
         "rawType": "object",
         "type": "unknown"
        },
        {
         "name": "Exterior2nd",
         "rawType": "object",
         "type": "unknown"
        },
        {
         "name": "ExterQual",
         "rawType": "object",
         "type": "unknown"
        },
        {
         "name": "ExterCond",
         "rawType": "object",
         "type": "unknown"
        },
        {
         "name": "Foundation",
         "rawType": "object",
         "type": "unknown"
        },
        {
         "name": "Heating",
         "rawType": "object",
         "type": "unknown"
        },
        {
         "name": "HeatingQC",
         "rawType": "object",
         "type": "unknown"
        },
        {
         "name": "CentralAir",
         "rawType": "object",
         "type": "unknown"
        },
        {
         "name": "KitchenQual",
         "rawType": "object",
         "type": "unknown"
        },
        {
         "name": "Functional",
         "rawType": "object",
         "type": "unknown"
        },
        {
         "name": "PavedDrive",
         "rawType": "object",
         "type": "unknown"
        },
        {
         "name": "MiscFeature",
         "rawType": "object",
         "type": "unknown"
        },
        {
         "name": "SaleType",
         "rawType": "object",
         "type": "unknown"
        },
        {
         "name": "SaleCondition",
         "rawType": "object",
         "type": "unknown"
        }
       ],
       "conversionMethod": "pd.DataFrame",
       "ref": "e777ed35-1d39-4af9-a4da-830489f22346",
       "rows": [
        [
         "count",
         "1460",
         "1460",
         "1460",
         "1460",
         "1460",
         "1460",
         "1460",
         "1460",
         "1460",
         "1460",
         "1460",
         "1460",
         "1460",
         "1460",
         "1460",
         "1460",
         "1460",
         "1460",
         "1460",
         "1460",
         "1460",
         "1460",
         "1460",
         "1460",
         "1460",
         "1460",
         "1460",
         "1460"
        ],
        [
         "unique",
         "5",
         "2",
         "4",
         "4",
         "2",
         "5",
         "3",
         "25",
         "9",
         "8",
         "5",
         "8",
         "6",
         "8",
         "15",
         "16",
         "4",
         "5",
         "6",
         "6",
         "5",
         "2",
         "4",
         "7",
         "3",
         "2",
         "9",
         "6"
        ],
        [
         "top",
         "RL",
         "Pave",
         "Reg",
         "Lvl",
         "AllPub",
         "Inside",
         "Gtl",
         "NAmes",
         "Norm",
         "Norm",
         "1Fam",
         "1Story",
         "Gable",
         "CompShg",
         "VinylSd",
         "VinylSd",
         "TA",
         "TA",
         "PConc",
         "GasA",
         "Ex",
         "Y",
         "TA",
         "Typ",
         "Y",
         "NA",
         "WD",
         "Normal"
        ],
        [
         "freq",
         "1151",
         "1454",
         "925",
         "1311",
         "1459",
         "1052",
         "1382",
         "225",
         "1260",
         "1445",
         "1220",
         "726",
         "1141",
         "1434",
         "515",
         "504",
         "906",
         "1282",
         "647",
         "1428",
         "741",
         "1365",
         "735",
         "1360",
         "1340",
         "1406",
         "1267",
         "1198"
        ]
       ],
       "shape": {
        "columns": 28,
        "rows": 4
       }
      },
      "text/html": [
       "<div>\n",
       "<style scoped>\n",
       "    .dataframe tbody tr th:only-of-type {\n",
       "        vertical-align: middle;\n",
       "    }\n",
       "\n",
       "    .dataframe tbody tr th {\n",
       "        vertical-align: top;\n",
       "    }\n",
       "\n",
       "    .dataframe thead th {\n",
       "        text-align: right;\n",
       "    }\n",
       "</style>\n",
       "<table border=\"1\" class=\"dataframe\">\n",
       "  <thead>\n",
       "    <tr style=\"text-align: right;\">\n",
       "      <th></th>\n",
       "      <th>MSZoning</th>\n",
       "      <th>Street</th>\n",
       "      <th>LotShape</th>\n",
       "      <th>LandContour</th>\n",
       "      <th>Utilities</th>\n",
       "      <th>LotConfig</th>\n",
       "      <th>LandSlope</th>\n",
       "      <th>Neighborhood</th>\n",
       "      <th>Condition1</th>\n",
       "      <th>Condition2</th>\n",
       "      <th>...</th>\n",
       "      <th>Foundation</th>\n",
       "      <th>Heating</th>\n",
       "      <th>HeatingQC</th>\n",
       "      <th>CentralAir</th>\n",
       "      <th>KitchenQual</th>\n",
       "      <th>Functional</th>\n",
       "      <th>PavedDrive</th>\n",
       "      <th>MiscFeature</th>\n",
       "      <th>SaleType</th>\n",
       "      <th>SaleCondition</th>\n",
       "    </tr>\n",
       "  </thead>\n",
       "  <tbody>\n",
       "    <tr>\n",
       "      <th>count</th>\n",
       "      <td>1460</td>\n",
       "      <td>1460</td>\n",
       "      <td>1460</td>\n",
       "      <td>1460</td>\n",
       "      <td>1460</td>\n",
       "      <td>1460</td>\n",
       "      <td>1460</td>\n",
       "      <td>1460</td>\n",
       "      <td>1460</td>\n",
       "      <td>1460</td>\n",
       "      <td>...</td>\n",
       "      <td>1460</td>\n",
       "      <td>1460</td>\n",
       "      <td>1460</td>\n",
       "      <td>1460</td>\n",
       "      <td>1460</td>\n",
       "      <td>1460</td>\n",
       "      <td>1460</td>\n",
       "      <td>1460</td>\n",
       "      <td>1460</td>\n",
       "      <td>1460</td>\n",
       "    </tr>\n",
       "    <tr>\n",
       "      <th>unique</th>\n",
       "      <td>5</td>\n",
       "      <td>2</td>\n",
       "      <td>4</td>\n",
       "      <td>4</td>\n",
       "      <td>2</td>\n",
       "      <td>5</td>\n",
       "      <td>3</td>\n",
       "      <td>25</td>\n",
       "      <td>9</td>\n",
       "      <td>8</td>\n",
       "      <td>...</td>\n",
       "      <td>6</td>\n",
       "      <td>6</td>\n",
       "      <td>5</td>\n",
       "      <td>2</td>\n",
       "      <td>4</td>\n",
       "      <td>7</td>\n",
       "      <td>3</td>\n",
       "      <td>2</td>\n",
       "      <td>9</td>\n",
       "      <td>6</td>\n",
       "    </tr>\n",
       "    <tr>\n",
       "      <th>top</th>\n",
       "      <td>RL</td>\n",
       "      <td>Pave</td>\n",
       "      <td>Reg</td>\n",
       "      <td>Lvl</td>\n",
       "      <td>AllPub</td>\n",
       "      <td>Inside</td>\n",
       "      <td>Gtl</td>\n",
       "      <td>NAmes</td>\n",
       "      <td>Norm</td>\n",
       "      <td>Norm</td>\n",
       "      <td>...</td>\n",
       "      <td>PConc</td>\n",
       "      <td>GasA</td>\n",
       "      <td>Ex</td>\n",
       "      <td>Y</td>\n",
       "      <td>TA</td>\n",
       "      <td>Typ</td>\n",
       "      <td>Y</td>\n",
       "      <td>NA</td>\n",
       "      <td>WD</td>\n",
       "      <td>Normal</td>\n",
       "    </tr>\n",
       "    <tr>\n",
       "      <th>freq</th>\n",
       "      <td>1151</td>\n",
       "      <td>1454</td>\n",
       "      <td>925</td>\n",
       "      <td>1311</td>\n",
       "      <td>1459</td>\n",
       "      <td>1052</td>\n",
       "      <td>1382</td>\n",
       "      <td>225</td>\n",
       "      <td>1260</td>\n",
       "      <td>1445</td>\n",
       "      <td>...</td>\n",
       "      <td>647</td>\n",
       "      <td>1428</td>\n",
       "      <td>741</td>\n",
       "      <td>1365</td>\n",
       "      <td>735</td>\n",
       "      <td>1360</td>\n",
       "      <td>1340</td>\n",
       "      <td>1406</td>\n",
       "      <td>1267</td>\n",
       "      <td>1198</td>\n",
       "    </tr>\n",
       "  </tbody>\n",
       "</table>\n",
       "<p>4 rows × 28 columns</p>\n",
       "</div>"
      ],
      "text/plain": [
       "       MSZoning Street LotShape LandContour Utilities LotConfig LandSlope  \\\n",
       "count      1460   1460     1460        1460      1460      1460      1460   \n",
       "unique        5      2        4           4         2         5         3   \n",
       "top          RL   Pave      Reg         Lvl    AllPub    Inside       Gtl   \n",
       "freq       1151   1454      925        1311      1459      1052      1382   \n",
       "\n",
       "       Neighborhood Condition1 Condition2  ... Foundation Heating HeatingQC  \\\n",
       "count          1460       1460       1460  ...       1460    1460      1460   \n",
       "unique           25          9          8  ...          6       6         5   \n",
       "top           NAmes       Norm       Norm  ...      PConc    GasA        Ex   \n",
       "freq            225       1260       1445  ...        647    1428       741   \n",
       "\n",
       "       CentralAir KitchenQual Functional PavedDrive MiscFeature SaleType  \\\n",
       "count        1460        1460       1460       1460        1460     1460   \n",
       "unique          2           4          7          3           2        9   \n",
       "top             Y          TA        Typ          Y          NA       WD   \n",
       "freq         1365         735       1360       1340        1406     1267   \n",
       "\n",
       "       SaleCondition  \n",
       "count           1460  \n",
       "unique             6  \n",
       "top           Normal  \n",
       "freq            1198  \n",
       "\n",
       "[4 rows x 28 columns]"
      ]
     },
     "execution_count": 59,
     "metadata": {},
     "output_type": "execute_result"
    }
   ],
   "source": [
    "df.select_dtypes(include='object').describe(include='all').round(2)    # describe not yet processed categorical features to better understand their granularity\n",
    "                                                                       # we need to convert them to numerical features as well"
   ]
  },
  {
   "cell_type": "code",
   "execution_count": 60,
   "metadata": {},
   "outputs": [],
   "source": [
    "# Divide categorical features for convenience into three groups based on the number of unique values\n",
    "obj_features = df.select_dtypes(include='object').columns.tolist()                  # list of categorical features\n",
    "obj_2_features = [col for col in obj_features if df[col].nunique() ==2]             # list of categorical features with only two categories\n",
    "obj_3_5_features = [col for col in obj_features if 3 <= df[col].nunique() <= 5]     # list of categorical features with 3 to 5 categories\n",
    "obj_6_plus_features = [col for col in obj_features if df[col].nunique() > 5]        # list of categorical features with 6 or more categories"
   ]
  },
  {
   "cell_type": "code",
   "execution_count": 61,
   "metadata": {},
   "outputs": [
    {
     "name": "stdout",
     "output_type": "stream",
     "text": [
      "Distribution of unique values in Street:\n",
      "Pave     1454\n",
      "Grvl     6\n",
      "\n",
      "Distribution of unique values in Utilities:\n",
      "AllPub   1459\n",
      "NoSeWa   1\n",
      "\n",
      "Distribution of unique values in CentralAir:\n",
      "Y        1365\n",
      "N        95\n",
      "\n",
      "Distribution of unique values in MiscFeature:\n",
      "NA       1406\n",
      "Other    54\n",
      "\n"
     ]
    }
   ],
   "source": [
    "# Check the distribution of unique values in categorical features with only two subcategories\n",
    "for col in obj_2_features:\n",
    "    print(f\"Distribution of unique values in {col}:\")\n",
    "    for category, count in df[col].value_counts().items():\n",
    "        print(f\"{category:<8} {count}\")\n",
    "    print()"
   ]
  },
  {
   "cell_type": "code",
   "execution_count": 62,
   "metadata": {},
   "outputs": [],
   "source": [
    "# Street and Utilities have very low differentiation power. Drop them\n",
    "df = df.drop(['Street', 'Utilities'], axis=1)\n",
    "\n",
    "# CentralAir and MiscFeature are good to go. Convert them to 1/0\n",
    "df['CentralAir'] = df['CentralAir'].map({'Y': 1, 'N': 0})           # Convert CentralAir to 1/0\n",
    "df['MiscFeature'] = df['MiscFeature'].map({'NA': 0, 'Other': 1})    # Convert MiscFeature to 1/0"
   ]
  },
  {
   "cell_type": "code",
   "execution_count": 63,
   "metadata": {},
   "outputs": [
    {
     "name": "stdout",
     "output_type": "stream",
     "text": [
      "Distribution of unique values in MSZoning:\n",
      "RL       1151\n",
      "RM       218\n",
      "FV       65\n",
      "RH       16\n",
      "C (all)  10\n",
      "\n",
      "Distribution of unique values in LotShape:\n",
      "Reg      925\n",
      "IR1      484\n",
      "IR2      41\n",
      "IR3      10\n",
      "\n",
      "Distribution of unique values in LandContour:\n",
      "Lvl      1311\n",
      "Bnk      63\n",
      "HLS      50\n",
      "Low      36\n",
      "\n",
      "Distribution of unique values in LotConfig:\n",
      "Inside   1052\n",
      "Corner   263\n",
      "CulDSac  94\n",
      "FR2      47\n",
      "FR3      4\n",
      "\n",
      "Distribution of unique values in LandSlope:\n",
      "Gtl      1382\n",
      "Mod      65\n",
      "Sev      13\n",
      "\n",
      "Distribution of unique values in BldgType:\n",
      "1Fam     1220\n",
      "TwnhsE   114\n",
      "Duplex   52\n",
      "Twnhs    43\n",
      "2fmCon   31\n",
      "\n",
      "Distribution of unique values in ExterQual:\n",
      "TA       906\n",
      "Gd       488\n",
      "Ex       52\n",
      "Fa       14\n",
      "\n",
      "Distribution of unique values in ExterCond:\n",
      "TA       1282\n",
      "Gd       146\n",
      "Fa       28\n",
      "Ex       3\n",
      "Po       1\n",
      "\n",
      "Distribution of unique values in HeatingQC:\n",
      "Ex       741\n",
      "TA       428\n",
      "Gd       241\n",
      "Fa       49\n",
      "Po       1\n",
      "\n",
      "Distribution of unique values in KitchenQual:\n",
      "TA       735\n",
      "Gd       586\n",
      "Ex       100\n",
      "Fa       39\n",
      "\n",
      "Distribution of unique values in PavedDrive:\n",
      "Y        1340\n",
      "N        90\n",
      "P        30\n",
      "\n"
     ]
    }
   ],
   "source": [
    "# Check the distribution of unique values in categorical features with 3 to 5 subcategories\n",
    "for col in obj_3_5_features:\n",
    "    print(f\"Distribution of unique values in {col}:\")\n",
    "    for category, count in df[col].value_counts().items():\n",
    "        print(f\"{category:<8} {count}\")\n",
    "    print()"
   ]
  },
  {
   "cell_type": "code",
   "execution_count": 64,
   "metadata": {},
   "outputs": [
    {
     "name": "stdout",
     "output_type": "stream",
     "text": [
      "The number of resulting numerized categories in MSZoning: 4\n"
     ]
    }
   ],
   "source": [
    "# MSZoning has two very rare categories. Let's combine them into \"Other\" and use target encoding (median SalePrice per category) to capture the relationship with SalePrice\n",
    "df['MSZoning'] = df['MSZoning'].replace({'C (all)': 'Other', 'RH': 'Other'})    # Combine rare categories into \"Other\"\n",
    "mszoning_medians = df.groupby('MSZoning')['SalePrice'].median()                 # Compute median SalePrice for each category\n",
    "df['MSZoning'] = df['MSZoning'].map(mszoning_medians)                           # Map the medians to the feature values\n",
    "print(f\"The number of resulting numerized categories in MSZoning: {df['MSZoning'].nunique()}\")"
   ]
  },
  {
   "cell_type": "code",
   "execution_count": 65,
   "metadata": {},
   "outputs": [
    {
     "name": "stdout",
     "output_type": "stream",
     "text": [
      "The number of resulting numerized categories in LotShape: 3\n"
     ]
    }
   ],
   "source": [
    "# LotShape: IR3 is very rare. Let's combine it with IR2 and use target encoding (median SalePrice per category) to capture the relationship with SalePrice\n",
    "df['LotShape'] = df['LotShape'].replace({'IR3': 'IR2'})                         # Combine rare categories into \"IR2\"\n",
    "lotshape_medians = df.groupby('LotShape')['SalePrice'].median()                 # Compute median SalePrice for each category\n",
    "df['LotShape'] = df['LotShape'].map(lotshape_medians)                           # Map the medians to the feature values\n",
    "print(f\"The number of resulting numerized categories in LotShape: {df['LotShape'].nunique()}\")"
   ]
  },
  {
   "cell_type": "code",
   "execution_count": 66,
   "metadata": {},
   "outputs": [],
   "source": [
    "# LandContour: No extremely rare subcategories, no need to combine categories. \n",
    "# Use target encoding (median SalePrice per category) to capture the relationship with SalePrice\n",
    "landcontour_medians = df.groupby('LandContour')['SalePrice'].median()           # Compute median SalePrice for each category\n",
    "df['LandContour'] = df['LandContour'].map(landcontour_medians)                  # Map the medians to the feature values"
   ]
  },
  {
   "cell_type": "code",
   "execution_count": 67,
   "metadata": {},
   "outputs": [
    {
     "name": "stdout",
     "output_type": "stream",
     "text": [
      "The number of resulting numerized categories in LotConfig: 4\n"
     ]
    }
   ],
   "source": [
    "# LotConfig: Fr3 and Fr2 can be combined into \"Fr\" (Frontage). Use target encoding (median SalePrice per category) to capture the relationship with SalePrice\n",
    "df['LotConfig'] = df['LotConfig'].replace({'FR3': 'FR', 'FR2': 'FR'})           # Combine rare categories into \"Fr\"\n",
    "lotconfig_medians = df.groupby('LotConfig')['SalePrice'].median()               # Compute median SalePrice for each category\n",
    "df['LotConfig'] = df['LotConfig'].map(lotconfig_medians)                        # Map the medians to the feature values\n",
    "print(f\"The number of resulting numerized categories in LotConfig: {df['LotConfig'].nunique()}\")"
   ]
  },
  {
   "cell_type": "code",
   "execution_count": 68,
   "metadata": {},
   "outputs": [
    {
     "name": "stdout",
     "output_type": "stream",
     "text": [
      "The number of resulting numerized categories in LandSlope: 2\n"
     ]
    }
   ],
   "source": [
    "# LandSlope: Rare category Sev will be combined with Mod. Resulting 2 categories will be 1/0 encoded\n",
    "df['LandSlope'] = df['LandSlope'].replace({'Sev': 'Mod'})                    # Combine rare categories into \"Mod\"\n",
    "landslope_mapping = {'Gtl': 1, 'Mod': 0}                                     # Create mapping for LandSlope\n",
    "df['LandSlope'] = df['LandSlope'].map(landslope_mapping)                     # Map the mapping to the feature values\n",
    "print(f\"The number of resulting numerized categories in LandSlope: {df['LandSlope'].nunique()}\")"
   ]
  },
  {
   "cell_type": "code",
   "execution_count": 69,
   "metadata": {},
   "outputs": [],
   "source": [
    "# BldgType: Uneven distribution of categories but no extremely rare subcategories\n",
    "# Use target encoding (median SalePrice per category) to capture the relationship with SalePrice\n",
    "bldgtype_medians = df.groupby('BldgType')['SalePrice'].median()               # Compute median SalePrice for each category\n",
    "df['BldgType'] = df['BldgType'].map(bldgtype_medians)                         # Map the medians to the feature values"
   ]
  },
  {
   "cell_type": "code",
   "execution_count": 70,
   "metadata": {},
   "outputs": [
    {
     "name": "stdout",
     "output_type": "stream",
     "text": [
      "The number of resulting numerized categories in ExterQual: 3\n"
     ]
    }
   ],
   "source": [
    "# ExterQual: Rare category Fa (Fair) will be combined with TA (Typical/Average)\n",
    "# Use target encoding (median SalePrice per category) to capture the relationship with SalePrice\n",
    "df['ExterQual'] = df['ExterQual'].replace({'Fa': 'TA'})                       # Combine rare categories into \"TA\"\n",
    "exterqual_medians = df.groupby('ExterQual')['SalePrice'].median()             # Compute median SalePrice for each category\n",
    "df['ExterQual'] = df['ExterQual'].map(exterqual_medians)                      # Map the medians to the feature values\n",
    "print(f\"The number of resulting numerized categories in ExterQual: {df['ExterQual'].nunique()}\")"
   ]
  },
  {
   "cell_type": "code",
   "execution_count": 71,
   "metadata": {},
   "outputs": [
    {
     "name": "stdout",
     "output_type": "stream",
     "text": [
      "The number of resulting numerized categories in ExterCond: 3\n"
     ]
    }
   ],
   "source": [
    "# ExterCond: Rare category Po (Poor) will be combined with Fa (Fair). Rare category Ex (Excellent) will be combined with Gd (Good)\n",
    "# Use target encoding (median SalePrice per category) to capture the relationship with SalePrice\n",
    "df['ExterCond'] = df['ExterCond'].replace({'Po': 'Fa', 'Ex': 'Gd'})           # Combine rare categories into \"Fa\" and \"Gd\"\n",
    "extercond_medians = df.groupby('ExterCond')['SalePrice'].median()             # Compute median SalePrice for each category\n",
    "df['ExterCond'] = df['ExterCond'].map(extercond_medians)                      # Map the medians to the feature values\n",
    "print(f\"The number of resulting numerized categories in ExterCond: {df['ExterCond'].nunique()}\")"
   ]
  },
  {
   "cell_type": "code",
   "execution_count": 72,
   "metadata": {},
   "outputs": [
    {
     "name": "stdout",
     "output_type": "stream",
     "text": [
      "The number of resulting numerized categories in HeatingQC: 4\n"
     ]
    }
   ],
   "source": [
    "# HeatingQC: Rare category Po (Poor) will be combined with Fa (Fair).\n",
    "# Use target encoding (median SalePrice per category) to capture the relationship with SalePrice\n",
    "df['HeatingQC'] = df['HeatingQC'].replace({'Po': 'Fa'})                      # Combine rare categories into \"Fa\"\n",
    "heatingqc_medians = df.groupby('HeatingQC')['SalePrice'].median()            # Compute median SalePrice for each category\n",
    "df['HeatingQC'] = df['HeatingQC'].map(heatingqc_medians)                     # Map the medians to the feature values\n",
    "print(f\"The number of resulting numerized categories in HeatingQC: {df['HeatingQC'].nunique()}\")"
   ]
  },
  {
   "cell_type": "code",
   "execution_count": 73,
   "metadata": {},
   "outputs": [],
   "source": [
    "# KitchenQual: No extremely rare categories, no need to combine them\n",
    "# Use target encoding (median SalePrice per category) to capture the relationship with SalePrice\n",
    "kitchenqual_medians = df.groupby('KitchenQual')['SalePrice'].median()       # Compute median SalePrice for each category\n",
    "df['KitchenQual'] = df['KitchenQual'].map(kitchenqual_medians)              # Map the medians to the feature values"
   ]
  },
  {
   "cell_type": "code",
   "execution_count": 74,
   "metadata": {},
   "outputs": [],
   "source": [
    "# PavedDrive: No extremely rare categories, no need to combine them\n",
    "# Use target encoding (median SalePrice per category) to capture the relationship with SalePrice\n",
    "paveddrive_medians = df.groupby('PavedDrive')['SalePrice'].median()        # Compute median SalePrice for each category\n",
    "df['PavedDrive'] = df['PavedDrive'].map(paveddrive_medians)               # Map the medians to the feature values"
   ]
  },
  {
   "cell_type": "code",
   "execution_count": 75,
   "metadata": {},
   "outputs": [
    {
     "data": {
      "text/plain": [
       "Neighborhood     25\n",
       "Condition1        9\n",
       "Condition2        8\n",
       "HouseStyle        8\n",
       "RoofStyle         6\n",
       "RoofMatl          8\n",
       "Exterior1st      15\n",
       "Exterior2nd      16\n",
       "Foundation        6\n",
       "Heating           6\n",
       "Functional        7\n",
       "SaleType          9\n",
       "SaleCondition     6\n",
       "dtype: int64"
      ]
     },
     "execution_count": 75,
     "metadata": {},
     "output_type": "execute_result"
    }
   ],
   "source": [
    "df[obj_6_plus_features].nunique()    # check the number of unique values in categorical features with 6 or more subcategories"
   ]
  },
  {
   "cell_type": "code",
   "execution_count": 76,
   "metadata": {},
   "outputs": [
    {
     "data": {
      "text/plain": [
       "Neighborhood\n",
       "NAmes      225\n",
       "CollgCr    150\n",
       "OldTown    113\n",
       "Edwards    100\n",
       "Somerst     86\n",
       "Gilbert     79\n",
       "NridgHt     77\n",
       "Sawyer      74\n",
       "NWAmes      73\n",
       "SawyerW     59\n",
       "BrkSide     58\n",
       "Crawfor     51\n",
       "Mitchel     49\n",
       "NoRidge     41\n",
       "Timber      38\n",
       "IDOTRR      37\n",
       "ClearCr     28\n",
       "SWISU       25\n",
       "StoneBr     25\n",
       "Blmngtn     17\n",
       "MeadowV     17\n",
       "BrDale      16\n",
       "Veenker     11\n",
       "NPkVill      9\n",
       "Blueste      2\n",
       "Name: count, dtype: int64"
      ]
     },
     "execution_count": 76,
     "metadata": {},
     "output_type": "execute_result"
    }
   ],
   "source": [
    "df['Neighborhood'].value_counts(dropna=False)    # check the distribution of the Neighborhood (Physical locations within Ames city limits) feature"
   ]
  },
  {
   "cell_type": "code",
   "execution_count": 77,
   "metadata": {},
   "outputs": [
    {
     "name": "stdout",
     "output_type": "stream",
     "text": [
      "The number of resulting numerized categories in Neighborhood: 23\n"
     ]
    }
   ],
   "source": [
    "# Combine the rarest categories Blueste, NpkVill and Veenker into \"Other\"\n",
    "df['Neighborhood'] = df['Neighborhood'].replace({'Blueste': 'Other', 'NPkVill': 'Other', 'Veenker': 'Other'})\n",
    "# Use target encoding (median SalePrice per category) to capture the relationship with SalePrice\n",
    "neighborhood_medians = df.groupby('Neighborhood')['SalePrice'].median()     # Compute median SalePrice for each category\n",
    "df['Neighborhood'] = df['Neighborhood'].map(neighborhood_medians)           # Map the medians to the feature values\n",
    "print(f\"The number of resulting numerized categories in Neighborhood: {df['Neighborhood'].nunique()}\")"
   ]
  },
  {
   "cell_type": "code",
   "execution_count": 78,
   "metadata": {},
   "outputs": [
    {
     "data": {
      "text/plain": [
       "Condition1\n",
       "Norm      1260\n",
       "Feedr       81\n",
       "Artery      48\n",
       "RRAn        26\n",
       "PosN        19\n",
       "RRAe        11\n",
       "PosA         8\n",
       "RRNn         5\n",
       "RRNe         2\n",
       "Name: count, dtype: int64"
      ]
     },
     "execution_count": 78,
     "metadata": {},
     "output_type": "execute_result"
    }
   ],
   "source": [
    "df['Condition1'].value_counts()   # check the distribution of the Condition1 (Proximity to various conditions) feature"
   ]
  },
  {
   "cell_type": "code",
   "execution_count": 79,
   "metadata": {},
   "outputs": [
    {
     "name": "stdout",
     "output_type": "stream",
     "text": [
      "The number of resulting numerized categories in Condition1: 6\n"
     ]
    }
   ],
   "source": [
    "# Combine RRNe, RRNn, PosA and RRAe into \"Other\"\n",
    "df['Condition1'] = df['Condition1'].replace({'RRNe': 'Other', 'RRNn': 'Other', 'PosA': 'Other', 'RRAe': 'Other'})\n",
    "# Use target encoding (median SalePrice per category) to capture the relationship with SalePrice\n",
    "condition1_medians = df.groupby('Condition1')['SalePrice'].median()         # Compute median SalePrice for each category\n",
    "df['Condition1'] = df['Condition1'].map(condition1_medians)                 # Map the medians to the feature values\n",
    "print(f\"The number of resulting numerized categories in Condition1: {df['Condition1'].nunique()}\")"
   ]
  },
  {
   "cell_type": "code",
   "execution_count": 80,
   "metadata": {},
   "outputs": [
    {
     "data": {
      "text/plain": [
       "Condition2\n",
       "Norm      1445\n",
       "Feedr        6\n",
       "Artery       2\n",
       "RRNn         2\n",
       "PosN         2\n",
       "PosA         1\n",
       "RRAn         1\n",
       "RRAe         1\n",
       "Name: count, dtype: int64"
      ]
     },
     "execution_count": 80,
     "metadata": {},
     "output_type": "execute_result"
    }
   ],
   "source": [
    "df['Condition2'].value_counts()   # check the distribution of the Condition2 (Proximity to various conditions (if not in Condition1)) feature"
   ]
  },
  {
   "cell_type": "code",
   "execution_count": 81,
   "metadata": {},
   "outputs": [],
   "source": [
    "# Condition2 seems to be uninformative for a model and will be dropped\n",
    "df = df.drop(['Condition2'], axis=1)    # drop Condition2 as completely uninformative"
   ]
  },
  {
   "cell_type": "code",
   "execution_count": 82,
   "metadata": {},
   "outputs": [
    {
     "data": {
      "text/plain": [
       "HouseStyle\n",
       "1Story    726\n",
       "2Story    445\n",
       "1.5Fin    154\n",
       "SLvl       65\n",
       "SFoyer     37\n",
       "1.5Unf     14\n",
       "2.5Unf     11\n",
       "2.5Fin      8\n",
       "Name: count, dtype: int64"
      ]
     },
     "execution_count": 82,
     "metadata": {},
     "output_type": "execute_result"
    }
   ],
   "source": [
    "df['HouseStyle'].value_counts()   # check the distribution of the HouseStyle (Style of dwelling) feature"
   ]
  },
  {
   "cell_type": "code",
   "execution_count": 83,
   "metadata": {},
   "outputs": [
    {
     "name": "stdout",
     "output_type": "stream",
     "text": [
      "The number of resulting numerized categories in HouseStyle: 6\n"
     ]
    }
   ],
   "source": [
    "# HouseStyle: three last categories are rare and will be combined into \"Other\"\n",
    "df['HouseStyle'] = df['HouseStyle'].replace({'2.5Fin': 'Other', '2.5Unf': 'Other', '1.5Unf': 'Other'})\n",
    "# Use target encoding (median SalePrice per category) to capture the relationship with SalePrice\n",
    "housestyle_medians = df.groupby('HouseStyle')['SalePrice'].median()         # Compute median SalePrice for each category\n",
    "df['HouseStyle'] = df['HouseStyle'].map(housestyle_medians)                 # Map the medians to the feature values\n",
    "print(f\"The number of resulting numerized categories in HouseStyle: {df['HouseStyle'].nunique()}\")"
   ]
  },
  {
   "cell_type": "code",
   "execution_count": 84,
   "metadata": {},
   "outputs": [
    {
     "data": {
      "text/plain": [
       "RoofStyle\n",
       "Gable      1141\n",
       "Hip         286\n",
       "Flat         13\n",
       "Gambrel      11\n",
       "Mansard       7\n",
       "Shed          2\n",
       "Name: count, dtype: int64"
      ]
     },
     "execution_count": 84,
     "metadata": {},
     "output_type": "execute_result"
    }
   ],
   "source": [
    "df['RoofStyle'].value_counts()   # check the distribution of the RoofStyle (Type of roof) feature"
   ]
  },
  {
   "cell_type": "code",
   "execution_count": 85,
   "metadata": {},
   "outputs": [
    {
     "name": "stdout",
     "output_type": "stream",
     "text": [
      "The number of resulting numerized categories in RoofStyle: 3\n"
     ]
    }
   ],
   "source": [
    "# RoofStyle: four last categories are rare and will be combined into \"Other\"\n",
    "df['RoofStyle'] = df['RoofStyle'].replace({'Shed': 'Other', 'Mansard': 'Other', 'Gambrel': 'Other', 'Flat': 'Other'})\n",
    "# Use target encoding (median SalePrice per category) to capture the relationship with SalePrice\n",
    "roofstyle_medians = df.groupby('RoofStyle')['SalePrice'].median()         # Compute median SalePrice for each category\n",
    "df['RoofStyle'] = df['RoofStyle'].map(roofstyle_medians)                  # Map the medians to the feature values\n",
    "print(f\"The number of resulting numerized categories in RoofStyle: {df['RoofStyle'].nunique()}\")"
   ]
  },
  {
   "cell_type": "code",
   "execution_count": 86,
   "metadata": {},
   "outputs": [
    {
     "data": {
      "text/plain": [
       "RoofMatl\n",
       "CompShg    1434\n",
       "Tar&Grv      11\n",
       "WdShngl       6\n",
       "WdShake       5\n",
       "Metal         1\n",
       "Membran       1\n",
       "Roll          1\n",
       "ClyTile       1\n",
       "Name: count, dtype: int64"
      ]
     },
     "execution_count": 86,
     "metadata": {},
     "output_type": "execute_result"
    }
   ],
   "source": [
    "df['RoofMatl'].value_counts(dropna=False)   # check the distribution of the RoofMatl (Roof material) feature"
   ]
  },
  {
   "cell_type": "code",
   "execution_count": 87,
   "metadata": {},
   "outputs": [
    {
     "name": "stdout",
     "output_type": "stream",
     "text": [
      "The number of resulting numerized categories in RoofMatl: 2\n"
     ]
    }
   ],
   "source": [
    "# RoofMatl: all categories except CompShg are rare and will be combined into \"Other\"\n",
    "df['RoofMatl'] = df['RoofMatl'].replace({'Tar&Grv': 'Other', 'WdShngl': 'Other', 'WdShake': 'Other', 'Metal': 'Other', 'Membran': 'Other', 'Roll': 'Other', 'ClyTile': 'Other'})\n",
    "# Use 1/o encoding for CompShg and Other categories\n",
    "roofmatl_mapping = {'CompShg': 1, 'Other': 0}                               # Create mapping for RoofMatl\n",
    "df['RoofMatl'] = df['RoofMatl'].map(roofmatl_mapping)                       # Map the mapping to the feature values\n",
    "print(f\"The number of resulting numerized categories in RoofMatl: {df['RoofMatl'].nunique()}\")"
   ]
  },
  {
   "cell_type": "code",
   "execution_count": 88,
   "metadata": {},
   "outputs": [
    {
     "data": {
      "text/plain": [
       "Exterior1st\n",
       "VinylSd    515\n",
       "HdBoard    222\n",
       "MetalSd    220\n",
       "Wd Sdng    206\n",
       "Plywood    108\n",
       "CemntBd     61\n",
       "BrkFace     50\n",
       "WdShing     26\n",
       "Stucco      25\n",
       "AsbShng     20\n",
       "BrkComm      2\n",
       "Stone        2\n",
       "AsphShn      1\n",
       "ImStucc      1\n",
       "CBlock       1\n",
       "Name: count, dtype: int64"
      ]
     },
     "execution_count": 88,
     "metadata": {},
     "output_type": "execute_result"
    }
   ],
   "source": [
    "df['Exterior1st'].value_counts()   # check the distribution of the Exterior1st (Exterior covering on house) feature"
   ]
  },
  {
   "cell_type": "code",
   "execution_count": 89,
   "metadata": {},
   "outputs": [
    {
     "name": "stdout",
     "output_type": "stream",
     "text": [
      "The number of resulting numerized categories in Exterior1st: 11\n"
     ]
    }
   ],
   "source": [
    "# Exterior1st: five last categories are rare and will be combined into \"Other\"\n",
    "df['Exterior1st'] = df['Exterior1st'].replace({'CBlock': 'Other', 'ImStucc': 'Other', 'AsphShn': 'Other', 'Stone': 'Other', 'BrkComm': 'Other'})\n",
    "# Use target encoding (median SalePrice per category) to capture the relationship with SalePrice\n",
    "exterior1st_medians = df.groupby('Exterior1st')['SalePrice'].median()         # Compute median SalePrice for each category\n",
    "df['Exterior1st'] = df['Exterior1st'].map(exterior1st_medians)                # Map the medians to the feature values\n",
    "print(f\"The number of resulting numerized categories in Exterior1st: {df['Exterior1st'].nunique()}\")"
   ]
  },
  {
   "cell_type": "code",
   "execution_count": 90,
   "metadata": {},
   "outputs": [
    {
     "data": {
      "text/plain": [
       "Exterior2nd\n",
       "VinylSd    504\n",
       "MetalSd    214\n",
       "HdBoard    207\n",
       "Wd Sdng    197\n",
       "Plywood    142\n",
       "CmentBd     60\n",
       "Wd Shng     38\n",
       "Stucco      26\n",
       "BrkFace     25\n",
       "AsbShng     20\n",
       "ImStucc     10\n",
       "Brk Cmn      7\n",
       "Stone        5\n",
       "AsphShn      3\n",
       "Other        1\n",
       "CBlock       1\n",
       "Name: count, dtype: int64"
      ]
     },
     "execution_count": 90,
     "metadata": {},
     "output_type": "execute_result"
    }
   ],
   "source": [
    "df['Exterior2nd'].value_counts()   # check the distribution of the Exterior2nd (Exterior covering on house) feature"
   ]
  },
  {
   "cell_type": "code",
   "execution_count": 91,
   "metadata": {},
   "outputs": [
    {
     "name": "stdout",
     "output_type": "stream",
     "text": [
      "The number of resulting numerized categories in Exterior2nd: 11\n"
     ]
    }
   ],
   "source": [
    "# Exterior2nd: six last categories are rare and will be combined into \"Other\"\n",
    "df['Exterior2nd'] = df['Exterior2nd'].replace({'CBlock': 'Other', 'AsphShn': 'Other', 'Stone': 'Other', 'Brk Cmn': 'Other', 'ImStucc': 'Other'})\n",
    "# Use target encoding (median SalePrice per category) to capture the relationship with SalePrice\n",
    "exterior2nd_medians = df.groupby('Exterior2nd')['SalePrice'].median()         # Compute median SalePrice for each category\n",
    "df['Exterior2nd'] = df['Exterior2nd'].map(exterior2nd_medians)                # Map the medians to the feature values\n",
    "print(f\"The number of resulting numerized categories in Exterior2nd: {df['Exterior2nd'].nunique()}\")"
   ]
  },
  {
   "cell_type": "code",
   "execution_count": 92,
   "metadata": {},
   "outputs": [
    {
     "data": {
      "text/plain": [
       "Foundation\n",
       "PConc     647\n",
       "CBlock    634\n",
       "BrkTil    146\n",
       "Slab       24\n",
       "Stone       6\n",
       "Wood        3\n",
       "Name: count, dtype: int64"
      ]
     },
     "execution_count": 92,
     "metadata": {},
     "output_type": "execute_result"
    }
   ],
   "source": [
    "df['Foundation'].value_counts()   # check the distribution of the Foundation (Type of foundation) feature"
   ]
  },
  {
   "cell_type": "code",
   "execution_count": 93,
   "metadata": {},
   "outputs": [
    {
     "name": "stdout",
     "output_type": "stream",
     "text": [
      "The number of resulting numerized categories in Foundation: 4\n"
     ]
    }
   ],
   "source": [
    "# Foundation: two last categories are very rare and will be combined with another relatively rare category Slab\n",
    "df['Foundation'] = df['Foundation'].replace({'Wood': 'Slab', 'Stone': 'Slab'})\n",
    "# Use target encoding (median SalePrice per category) to capture the relationship with SalePrice\n",
    "foundation_medians = df.groupby('Foundation')['SalePrice'].median()         # Compute median SalePrice for each category\n",
    "df['Foundation'] = df['Foundation'].map(foundation_medians)                # Map the medians to the feature values\n",
    "print(f\"The number of resulting numerized categories in Foundation: {df['Foundation'].nunique()}\")"
   ]
  },
  {
   "cell_type": "code",
   "execution_count": 94,
   "metadata": {},
   "outputs": [
    {
     "data": {
      "text/plain": [
       "Heating\n",
       "GasA     1428\n",
       "GasW       18\n",
       "Grav        7\n",
       "Wall        4\n",
       "OthW        2\n",
       "Floor       1\n",
       "Name: count, dtype: int64"
      ]
     },
     "execution_count": 94,
     "metadata": {},
     "output_type": "execute_result"
    }
   ],
   "source": [
    "df['Heating'].value_counts()   # check the distribution of the Heating (Type of heating) feature"
   ]
  },
  {
   "cell_type": "code",
   "execution_count": 95,
   "metadata": {},
   "outputs": [
    {
     "name": "stdout",
     "output_type": "stream",
     "text": [
      "The number of resulting numerized categories in Heating: 2\n"
     ]
    }
   ],
   "source": [
    "# Heating: all categories except GasA are rare and will be combined into \"Other\"\n",
    "df['Heating'] = df['Heating'].replace({'GasW': 'Other', 'Grav': 'Other', 'Wall': 'Other', 'OthW': 'Other', 'Floor': 'Other'})\n",
    "# Use 1/o encoding for GasA and Other categories\n",
    "heating_mapping = {'GasA': 1, 'Other': 0}                                # Create mapping for Heating\n",
    "df['Heating'] = df['Heating'].map(heating_mapping)                       # Map the mapping to the feature values\n",
    "print(f\"The number of resulting numerized categories in Heating: {df['Heating'].nunique()}\")"
   ]
  },
  {
   "cell_type": "code",
   "execution_count": 96,
   "metadata": {},
   "outputs": [
    {
     "data": {
      "text/plain": [
       "Functional\n",
       "Typ     1360\n",
       "Min2      34\n",
       "Min1      31\n",
       "Mod       15\n",
       "Maj1      14\n",
       "Maj2       5\n",
       "Sev        1\n",
       "Name: count, dtype: int64"
      ]
     },
     "execution_count": 96,
     "metadata": {},
     "output_type": "execute_result"
    }
   ],
   "source": [
    "df['Functional'].value_counts()   # check the distribution of the Functional (Home functionality) feature"
   ]
  },
  {
   "cell_type": "code",
   "execution_count": 97,
   "metadata": {},
   "outputs": [
    {
     "name": "stdout",
     "output_type": "stream",
     "text": [
      "The number of resulting numerized categories in Functional: 4\n"
     ]
    }
   ],
   "source": [
    "# Functional: four last categories are rare and will be combined into \"Other\"\n",
    "df['Functional'] = df['Functional'].replace({'Mod': 'Other', 'Maj1': 'Other', 'Maj2': 'Other', 'Sev': 'Other'})\n",
    "# Use target encoding (median SalePrice per category) to capture the relationship with SalePrice\n",
    "functional_medians = df.groupby('Functional')['SalePrice'].median()         # Compute median SalePrice for each category\n",
    "df['Functional'] = df['Functional'].map(functional_medians)                # Map the medians to the feature values\n",
    "print(f\"The number of resulting numerized categories in Functional: {df['Functional'].nunique()}\")"
   ]
  },
  {
   "cell_type": "code",
   "execution_count": 98,
   "metadata": {},
   "outputs": [
    {
     "data": {
      "text/plain": [
       "SaleType\n",
       "WD       1267\n",
       "New       122\n",
       "COD        43\n",
       "ConLD       9\n",
       "ConLI       5\n",
       "ConLw       5\n",
       "CWD         4\n",
       "Oth         3\n",
       "Con         2\n",
       "Name: count, dtype: int64"
      ]
     },
     "execution_count": 98,
     "metadata": {},
     "output_type": "execute_result"
    }
   ],
   "source": [
    "df['SaleType'].value_counts()   # check the distribution of the SaleType (Type of sale) feature"
   ]
  },
  {
   "cell_type": "code",
   "execution_count": 99,
   "metadata": {},
   "outputs": [
    {
     "name": "stdout",
     "output_type": "stream",
     "text": [
      "The number of resulting numerized categories in SaleType: 4\n"
     ]
    }
   ],
   "source": [
    "# SaleType: six last categories are rare and will be combined into \"Other\"\n",
    "df['SaleType'] = df['SaleType'].replace({'ConLD': 'Other', 'ConLI': 'Other', 'ConLw': 'Other', 'CWD': 'Other', 'Oth': 'Other', 'Con': 'Other'})\n",
    "# Use target encoding (median SalePrice per category) to capture the relationship with SalePrice\n",
    "saletype_medians = df.groupby('SaleType')['SalePrice'].median()         # Compute median SalePrice for each category\n",
    "df['SaleType'] = df['SaleType'].map(saletype_medians)                   # Map the medians to the feature values\n",
    "print(f\"The number of resulting numerized categories in SaleType: {df['SaleType'].nunique()}\")"
   ]
  },
  {
   "cell_type": "code",
   "execution_count": 100,
   "metadata": {},
   "outputs": [
    {
     "data": {
      "text/plain": [
       "SaleCondition\n",
       "Normal     1198\n",
       "Partial     125\n",
       "Abnorml     101\n",
       "Family       20\n",
       "Alloca       12\n",
       "AdjLand       4\n",
       "Name: count, dtype: int64"
      ]
     },
     "execution_count": 100,
     "metadata": {},
     "output_type": "execute_result"
    }
   ],
   "source": [
    "df['SaleCondition'].value_counts()   # check the distribution of the SaleCondition (Condition of sale) feature"
   ]
  },
  {
   "cell_type": "code",
   "execution_count": 101,
   "metadata": {},
   "outputs": [
    {
     "name": "stdout",
     "output_type": "stream",
     "text": [
      "The number of resulting numerized categories in SaleCondition: 5\n"
     ]
    }
   ],
   "source": [
    "# SaleCondition: two last categories are rare and will be combined into \"Other\"\n",
    "df['SaleCondition'] = df['SaleCondition'].replace({'AdjLand': 'Other', 'Alloca': 'Other'})\n",
    "# Use target encoding (median SalePrice per category) to capture the relationship with SalePrice\n",
    "salecnd_medians = df.groupby('SaleCondition')['SalePrice'].median()         # Compute median SalePrice for each category\n",
    "df['SaleCondition'] = df['SaleCondition'].map(salecnd_medians)            # Map the medians to the feature values\n",
    "print(f\"The number of resulting numerized categories in SaleCondition: {df['SaleCondition'].nunique()}\")"
   ]
  },
  {
   "cell_type": "code",
   "execution_count": 102,
   "metadata": {},
   "outputs": [
    {
     "name": "stdout",
     "output_type": "stream",
     "text": [
      "Index([], dtype='object')\n",
      "(1460, 74)\n"
     ]
    }
   ],
   "source": [
    "# Control for occasionally left 'object' features\n",
    "print(df.select_dtypes(include='object').columns)\n",
    "print(df.shape)"
   ]
  },
  {
   "cell_type": "code",
   "execution_count": 103,
   "metadata": {},
   "outputs": [],
   "source": [
    "# Divide the dataframe features into predictive ones and the target\n",
    "X = df.drop('SalePrice', axis=1).copy()     # Create a copy of the DataFrame without the target variable\n",
    "y = df['SalePrice']                         # Target variable"
   ]
  },
  {
   "cell_type": "markdown",
   "metadata": {},
   "source": [
    "As we haven't yet normalized our features let's do it now. But we should avoid normalizing the 1/0 features."
   ]
  },
  {
   "cell_type": "code",
   "execution_count": 104,
   "metadata": {},
   "outputs": [
    {
     "name": "stdout",
     "output_type": "stream",
     "text": [
      "   MSSubClass  MSZoning  LotFrontage   LotArea     Alley  LotShape  \\\n",
      "0    0.073375  0.349578    -0.239024 -0.207142  0.160312 -0.744139   \n",
      "1   -0.872563  0.349578     0.405027 -0.091886  0.160312 -0.744139   \n",
      "2    0.073375  0.349578    -0.110214  0.073480  0.160312  1.175924   \n",
      "\n",
      "   LandContour  LotConfig  LandSlope  Neighborhood  ...  EnclosedPorch  \\\n",
      "0    -0.133461  -0.287438          1      0.411926  ...      -0.359325   \n",
      "1    -0.133461   0.259433          1     -0.278065  ...      -0.359325   \n",
      "2    -0.133461  -0.287438          1      0.411926  ...      -0.359325   \n",
      "\n",
      "   3SsnPorch  ScreenPorch  MiscFeature   MiscVal    MoSold    YrSold  \\\n",
      "0  -0.116339    -0.270208            0 -0.087688 -1.599111  0.138777   \n",
      "1  -0.116339    -0.270208            0 -0.087688 -0.489110 -0.614439   \n",
      "2  -0.116339    -0.270208            0 -0.087688  0.990891  0.138777   \n",
      "\n",
      "   SaleType  SaleCondition  LotFrontage_missing  \n",
      "0 -0.263201      -0.175021                    0  \n",
      "1 -0.263201      -0.175021                    0  \n",
      "2 -0.263201      -0.175021                    0  \n",
      "\n",
      "[3 rows x 73 columns]\n"
     ]
    }
   ],
   "source": [
    "# Identify non-binary numerical columns\n",
    "non_binary_cols = [col for col in X.columns if set(X[col].unique()) != {0, 1}]\n",
    "\n",
    "# Apply StandardScaler to non-binary columns\n",
    "scaler = StandardScaler()\n",
    "X[non_binary_cols] = scaler.fit_transform(X[non_binary_cols])\n",
    "\n",
    "# Verify the transformation\n",
    "print(X.head(3))"
   ]
  },
  {
   "cell_type": "markdown",
   "metadata": {},
   "source": [
    "#### The number of features is still very high. It will be exhausting to correlate all of them among themselves\n",
    "#### Let's begin first with implementing the VIF (Variance Inflation Factor) Analysis to filter out those features that might critically contribute to the multicollinearity problem"
   ]
  },
  {
   "cell_type": "markdown",
   "metadata": {},
   "source": [
    "VIF implementation:\n",
    "\n",
    "1. Calculates the VIF for each feature in your dataset\n",
    "2. Visualizes the VIF values with a bar plot\n",
    "3. Iteratively removes the feature with the highest VIF (above the threshold)\n",
    "4. Recalculates VIF after each removal until all features have VIF below threshold\n",
    "5. Shows the final VIF values and the features that were removed\n",
    "\n",
    "The default threshold will be 10.0 as commonly used in practice.\n",
    "\n",
    "Key differences from correlation-based approach:\n",
    "- VIF measures how much the variance of a regression coefficient is increased due to multicollinearity\n",
    "- It can detect multicollinearity among multiple variables, not just pairs\n",
    "- It's based on the R² from regressing each feature on all other features\n",
    "\n",
    "This approach is more comprehensive than simple pairwise correlation analysis for detecting and handling multicollinearity"
   ]
  },
  {
   "cell_type": "code",
   "execution_count": 105,
   "metadata": {},
   "outputs": [],
   "source": [
    "from statsmodels.stats.outliers_influence import variance_inflation_factor"
   ]
  },
  {
   "cell_type": "code",
   "execution_count": 106,
   "metadata": {},
   "outputs": [],
   "source": [
    "X = df.drop('SalePrice', axis=1).copy()     # Feature dataframe (copy without target)\n",
    "y = df[['SalePrice']]                       # Target datafreame"
   ]
  },
  {
   "cell_type": "code",
   "execution_count": 107,
   "metadata": {},
   "outputs": [],
   "source": [
    "def calculate_vif(X):\n",
    "    \"\"\"\n",
    "    Calculate VIF for each feature in the dataset\n",
    "    \n",
    "    Parameters:\n",
    "    - X: DataFrame of numeric features\n",
    "    \n",
    "    Returns:\n",
    "    - DataFrame with VIF values for each feature\n",
    "    \"\"\"\n",
    "    # Create a DataFrame to store VIF values\n",
    "    vif_data = pd.DataFrame()\n",
    "    vif_data[\"Feature\"] = X.columns\n",
    "    \n",
    "    # Calculate VIF for each feature\n",
    "    vif_data[\"VIF\"] = [variance_inflation_factor(X.values, i) for i in range(X.shape[1])]\n",
    "    \n",
    "    # Sort by VIF value\n",
    "    vif_data = vif_data.sort_values(\"VIF\", ascending=False)\n",
    "    \n",
    "    return vif_data\n",
    "\n",
    "def handle_multicollinearity_vif(X, threshold=10.0):\n",
    "    \"\"\"\n",
    "    Handle multicollinearity using VIF method\n",
    "    \n",
    "    Parameters:\n",
    "    - X: DataFrame of numeric features\n",
    "    - threshold: VIF threshold above which to consider a feature as problematic\n",
    "    \n",
    "    Returns:\n",
    "    - DataFrame with problematic features removed\n",
    "    \"\"\"\n",
    "    # Make a copy of the data\n",
    "    X_new = X.copy()\n",
    "    \n",
    "    # Keep track of removed features\n",
    "    removed_features = []\n",
    "    \n",
    "    # Calculate initial VIF values\n",
    "    vif = calculate_vif(X_new)\n",
    "    print(\"Initial VIF values:\\n\", vif)\n",
    "    \n",
    "    # Plot initial VIF values\n",
    "    plt.figure(figsize=(10, 6))\n",
    "    sns.barplot(x=\"VIF\", y=\"Feature\", data=vif)\n",
    "    plt.axvline(x=threshold, color='red', linestyle='--', label=f'Threshold: {threshold}')\n",
    "    plt.title(\"VIF Values for Features\")\n",
    "    plt.tight_layout()\n",
    "    plt.legend()\n",
    "    plt.show()\n",
    "    \n",
    "    # Iteratively remove features with high VIF\n",
    "    max_vif = vif[\"VIF\"].max()\n",
    "    while max_vif > threshold:\n",
    "        # Get feature with highest VIF\n",
    "        feature_to_remove = vif.loc[vif[\"VIF\"] == max_vif, \"Feature\"].values[0]\n",
    "        \n",
    "        # Remove the feature\n",
    "        X_new = X_new.drop(columns=[feature_to_remove])\n",
    "        removed_features.append(feature_to_remove)\n",
    "        print(f\"Removed feature: {feature_to_remove} with VIF: {max_vif:.2f}\")\n",
    "        \n",
    "        # Recalculate VIF\n",
    "        if X_new.shape[1] > 0:  # Check if we still have features left\n",
    "            vif = calculate_vif(X_new)\n",
    "            max_vif = vif[\"VIF\"].max()\n",
    "        else:\n",
    "            break\n",
    "    \n",
    "    # Show final VIF values if any features remain\n",
    "    if X_new.shape[1] > 0:\n",
    "        print(\"\\nFinal VIF values after removing high-VIF features:\\n\", vif)\n",
    "        \n",
    "        # Plot final VIF values\n",
    "        plt.figure(figsize=(10, 6))\n",
    "        sns.barplot(x=\"VIF\", y=\"Feature\", data=vif)\n",
    "        plt.axvline(x=threshold, color='red', linestyle='--', label=f'Threshold: {threshold}')\n",
    "        plt.title(\"Final VIF Values After Feature Removal\")\n",
    "        plt.tight_layout()\n",
    "        plt.legend()\n",
    "        plt.show()\n",
    "    \n",
    "    print(f\"\\nRemoved {len(removed_features)} features: {removed_features}\")\n",
    "    print(f\"Remaining features: {X_new.columns.tolist()}\")\n",
    "    \n",
    "    return X_new\n",
    "\n",
    "# Usage example:\n",
    "# X = handle_multicollinearity_vif(X.select_dtypes(include=['int64', 'float64']), threshold=10.0"
   ]
  },
  {
   "cell_type": "code",
   "execution_count": 108,
   "metadata": {},
   "outputs": [
    {
     "name": "stderr",
     "output_type": "stream",
     "text": [
      "c:\\Users\\samak\\AppData\\Local\\Programs\\Python\\Python313\\Lib\\site-packages\\statsmodels\\stats\\outliers_influence.py:197: RuntimeWarning: divide by zero encountered in scalar divide\n",
      "  vif = 1. / (1. - r_squared_i)\n"
     ]
    },
    {
     "name": "stdout",
     "output_type": "stream",
     "text": [
      "Initial VIF values:\n",
      "          Feature       VIF\n",
      "33     BsmtUnfSF       inf\n",
      "41  LowQualFinSF       inf\n",
      "42     GrLivArea       inf\n",
      "32    BsmtFinSF2       inf\n",
      "30    BsmtFinSF1       inf\n",
      "..           ...       ...\n",
      "66   MiscFeature  1.405434\n",
      "67       MiscVal  1.331724\n",
      "44  BsmtHalfBath  1.272377\n",
      "65   ScreenPorch  1.228104\n",
      "64     3SsnPorch  1.057282\n",
      "\n",
      "[73 rows x 2 columns]\n"
     ]
    },
    {
     "data": {
      "image/png": "[encoded data removed]",
      "text/plain": [
       "<Figure size 1000x600 with 1 Axes>"
      ]
     },
     "metadata": {},
     "output_type": "display_data"
    },
    {
     "name": "stdout",
     "output_type": "stream",
     "text": [
      "Removed feature: BsmtUnfSF with VIF: inf\n"
     ]
    },
    {
     "name": "stderr",
     "output_type": "stream",
     "text": [
      "c:\\Users\\samak\\AppData\\Local\\Programs\\Python\\Python313\\Lib\\site-packages\\statsmodels\\stats\\outliers_influence.py:197: RuntimeWarning: divide by zero encountered in scalar divide\n",
      "  vif = 1. / (1. - r_squared_i)\n"
     ]
    },
    {
     "name": "stdout",
     "output_type": "stream",
     "text": [
      "Removed feature: LowQualFinSF with VIF: inf\n",
      "Removed feature: YrSold with VIF: 42354.13\n",
      "Removed feature: YearBuilt with VIF: 19066.77\n",
      "Removed feature: YearRemodAdd with VIF: 4025.45\n",
      "Removed feature: GrLivArea with VIF: 1294.63\n",
      "Removed feature: RoofStyle with VIF: 588.92\n",
      "Removed feature: BldgType with VIF: 528.52\n",
      "Removed feature: Functional with VIF: 480.33\n",
      "Removed feature: Alley with VIF: 379.86\n",
      "Removed feature: SaleType with VIF: 375.06\n",
      "Removed feature: BsmtFinType2 with VIF: 342.79\n",
      "Removed feature: Exterior2nd with VIF: 334.54\n",
      "Removed feature: LotConfig with VIF: 302.28\n",
      "Removed feature: GarageCond with VIF: 224.79\n",
      "Removed feature: Condition1 with VIF: 223.24\n",
      "Removed feature: ExterCond with VIF: 200.36\n",
      "Removed feature: BsmtCond with VIF: 187.44\n",
      "Removed feature: LandContour with VIF: 168.37\n",
      "Removed feature: PavedDrive with VIF: 153.25\n",
      "Removed feature: HouseStyle with VIF: 121.03\n",
      "Removed feature: TotRmsAbvGrd with VIF: 84.79\n",
      "Removed feature: OverallQual with VIF: 83.84\n",
      "Removed feature: MSZoning with VIF: 82.79\n",
      "Removed feature: BsmtExposure with VIF: 72.72\n",
      "Removed feature: GarageType with VIF: 68.38\n",
      "Removed feature: Foundation with VIF: 64.20\n",
      "Removed feature: LotShape with VIF: 62.36\n",
      "Removed feature: HeatingQC with VIF: 59.11\n",
      "Removed feature: Heating with VIF: 55.47\n",
      "Removed feature: RoofMatl with VIF: 54.23\n",
      "Removed feature: SaleCondition with VIF: 52.53\n",
      "Removed feature: BsmtFinType1 with VIF: 50.80\n",
      "Removed feature: 1stFlrSF with VIF: 50.14\n",
      "Removed feature: MasVnrType with VIF: 45.62\n",
      "Removed feature: Exterior1st with VIF: 40.04\n",
      "Removed feature: GarageCars with VIF: 38.72\n",
      "Removed feature: ExterQual with VIF: 33.58\n",
      "Removed feature: GarageQual with VIF: 27.87\n",
      "Removed feature: BsmtQual with VIF: 27.75\n",
      "Removed feature: KitchenAbvGr with VIF: 27.03\n",
      "Removed feature: KitchenQual with VIF: 24.63\n",
      "Removed feature: OverallCond with VIF: 22.21\n",
      "Removed feature: Neighborhood with VIF: 21.33\n",
      "Removed feature: BedroomAbvGr with VIF: 20.66\n",
      "Removed feature: FullBath with VIF: 17.75\n",
      "Removed feature: CentralAir with VIF: 17.03\n",
      "Removed feature: TotalBsmtSF with VIF: 15.26\n",
      "Removed feature: LotFrontage with VIF: 14.28\n",
      "Removed feature: Electrical with VIF: 11.29\n",
      "\n",
      "Final VIF values after removing high-VIF features:\n",
      "                 Feature       VIF\n",
      "11          FireplaceQu  9.082165\n",
      "13           GarageArea  9.071766\n",
      "2             LandSlope  8.951808\n",
      "10           Fireplaces  8.623864\n",
      "12         GarageFinish  7.410267\n",
      "21               MoSold  5.643810\n",
      "4            BsmtFinSF1  4.476994\n",
      "7          BsmtFullBath  3.494574\n",
      "6              2ndFlrSF  3.252444\n",
      "0            MSSubClass  3.081692\n",
      "9              HalfBath  2.729522\n",
      "1               LotArea  2.464983\n",
      "14           WoodDeckSF  1.861589\n",
      "15          OpenPorchSF  1.699155\n",
      "3            MasVnrArea  1.688483\n",
      "19          MiscFeature  1.337354\n",
      "20              MiscVal  1.274110\n",
      "22  LotFrontage_missing  1.271814\n",
      "5            BsmtFinSF2  1.250928\n",
      "16        EnclosedPorch  1.224307\n",
      "8          BsmtHalfBath  1.176270\n",
      "18          ScreenPorch  1.159590\n",
      "17            3SsnPorch  1.029705\n"
     ]
    },
    {
     "data": {
      "image/png": "[encoded data removed]",
      "text/plain": [
       "<Figure size 1000x600 with 1 Axes>"
      ]
     },
     "metadata": {},
     "output_type": "display_data"
    },
    {
     "name": "stdout",
     "output_type": "stream",
     "text": [
      "\n",
      "Removed 50 features: ['BsmtUnfSF', 'LowQualFinSF', 'YrSold', 'YearBuilt', 'YearRemodAdd', 'GrLivArea', 'RoofStyle', 'BldgType', 'Functional', 'Alley', 'SaleType', 'BsmtFinType2', 'Exterior2nd', 'LotConfig', 'GarageCond', 'Condition1', 'ExterCond', 'BsmtCond', 'LandContour', 'PavedDrive', 'HouseStyle', 'TotRmsAbvGrd', 'OverallQual', 'MSZoning', 'BsmtExposure', 'GarageType', 'Foundation', 'LotShape', 'HeatingQC', 'Heating', 'RoofMatl', 'SaleCondition', 'BsmtFinType1', '1stFlrSF', 'MasVnrType', 'Exterior1st', 'GarageCars', 'ExterQual', 'GarageQual', 'BsmtQual', 'KitchenAbvGr', 'KitchenQual', 'OverallCond', 'Neighborhood', 'BedroomAbvGr', 'FullBath', 'CentralAir', 'TotalBsmtSF', 'LotFrontage', 'Electrical']\n",
      "Remaining features: ['MSSubClass', 'LotArea', 'LandSlope', 'MasVnrArea', 'BsmtFinSF1', 'BsmtFinSF2', '2ndFlrSF', 'BsmtFullBath', 'BsmtHalfBath', 'HalfBath', 'Fireplaces', 'FireplaceQu', 'GarageFinish', 'GarageArea', 'WoodDeckSF', 'OpenPorchSF', 'EnclosedPorch', '3SsnPorch', 'ScreenPorch', 'MiscFeature', 'MiscVal', 'MoSold', 'LotFrontage_missing']\n"
     ]
    }
   ],
   "source": [
    "X = handle_multicollinearity_vif(X, threshold=10.0)"
   ]
  },
  {
   "cell_type": "code",
   "execution_count": 111,
   "metadata": {},
   "outputs": [
    {
     "data": {
      "text/plain": [
       "Index(['MSSubClass', 'LotArea', 'LandSlope', 'MasVnrArea', 'BsmtFinSF1',\n",
       "       'BsmtFinSF2', '2ndFlrSF', 'BsmtFullBath', 'BsmtHalfBath', 'HalfBath',\n",
       "       'Fireplaces', 'FireplaceQu', 'GarageFinish', 'GarageArea', 'WoodDeckSF',\n",
       "       'OpenPorchSF', 'EnclosedPorch', '3SsnPorch', 'ScreenPorch',\n",
       "       'MiscFeature', 'MiscVal', 'MoSold', 'LotFrontage_missing'],\n",
       "      dtype='object')"
      ]
     },
     "execution_count": 111,
     "metadata": {},
     "output_type": "execute_result"
    }
   ],
   "source": [
    "X.columns"
   ]
  },
  {
   "cell_type": "markdown",
   "metadata": {},
   "source": [
    "\n",
    "---\n",
    "\n",
    "## **4. Regression Modeling**\n",
    "\n",
    "### Question 7: Split the dataset\n",
    "- Split the dataset into training and testing sets. Use an 80/20 split.\n",
    "- Make sure to separate the target variable (house prices) from the features.\n"
   ]
  },
  {
   "cell_type": "code",
   "execution_count": 114,
   "metadata": {},
   "outputs": [],
   "source": [
    "X_train, X_test, y_train, y_test = train_test_split(X, y, test_size=0.25, random_state=0)"
   ]
  },
  {
   "cell_type": "code",
   "execution_count": 118,
   "metadata": {},
   "outputs": [
    {
     "name": "stdout",
     "output_type": "stream",
     "text": [
      "Linear Regression - Training MSE: 1925555721.8187\n",
      "Linear Regression - Training RMSE: 43881.1545\n",
      "Linear Regression - Test MSE:     2870513321.877070\n",
      "Linear Regression - Test MSE:     53577.171649\n"
     ]
    }
   ],
   "source": [
    "lr = LinearRegression().fit(X_train, y_train)\n",
    "\n",
    "\n",
    "y_train_pred = lr.predict(X_train)\n",
    "y_test_pred = lr.predict(X_test)\n",
    "\n",
    "mse = mean_squared_error(y_test, y_test_pred)\n",
    "rmse = np.sqrt(mse)\n",
    "\n",
    "print(f\"Linear Regression - Training MSE: {mean_squared_error(y_train, y_train_pred):.4f}\")\n",
    "print(f\"Linear Regression - Training RMSE: {np.sqrt(mean_squared_error(y_train, y_train_pred)):.4f}\")\n",
    "\n",
    "print(f\"Linear Regression - Test MSE:     {mse:4f}\")\n",
    "print(f\"Linear Regression - Test MSE:     {rmse:4f}\")"
   ]
  },
  {
   "cell_type": "code",
   "execution_count": null,
   "metadata": {},
   "outputs": [],
   "source": [
    "from sklearn.metrics import mean_squared_error, r2_score\n"
   ]
  },
  {
   "cell_type": "markdown",
   "metadata": {},
   "source": [
    "\n",
    "### Question 8: Train a Linear Regression Model\n",
    "- Train a Linear Regression model using the training data.\n",
    "- Evaluate the model's performance on the test data by calculating the Mean Squared Error (MSE).\n"
   ]
  },
  {
   "cell_type": "code",
   "execution_count": null,
   "metadata": {},
   "outputs": [],
   "source": []
  },
  {
   "cell_type": "code",
   "execution_count": null,
   "metadata": {},
   "outputs": [],
   "source": []
  },
  {
   "cell_type": "code",
   "execution_count": null,
   "metadata": {},
   "outputs": [],
   "source": []
  },
  {
   "cell_type": "markdown",
   "metadata": {},
   "source": [
    "\n",
    "### Question 9: Feature Importance (Optional)\n",
    "- If using a model like Ridge or Lasso, identify which features are most important in predicting house prices.\n",
    "\n",
    "---\n",
    "\n",
    "## **5. Conclusion**\n",
    "- Summarize your findings and observations.\n",
    "- Reflect on the regression model's performance and whether there are any improvements you would recommend."
   ]
  }
 ],
 "metadata": {
  "kernelspec": {
   "display_name": "Python 3",
   "language": "python",
   "name": "python3"
  },
  "language_info": {
   "codemirror_mode": {
    "name": "ipython",
    "version": 3
   },
   "file_extension": ".py",
   "mimetype": "text/x-python",
   "name": "python",
   "nbconvert_exporter": "python",
   "pygments_lexer": "ipython3",
   "version": "3.13.2"
  }
 },
 "nbformat": 4,
 "nbformat_minor": 2
}
