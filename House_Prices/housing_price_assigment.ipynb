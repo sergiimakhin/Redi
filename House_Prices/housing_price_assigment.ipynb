{
 "cells": [
  {
   "cell_type": "markdown",
   "metadata": {},
   "source": [
    "#ML Course Regression Assignment: Predicting Housing Prices\n",
    "\n",
    "## Dataset: Boston Housing Prices\n",
    "\n",
    "In this assignment, you will explore a dataset of housing prices and use regression to predict house prices based on various features. You will also perform exploratory data analysis (EDA), visualize the data, and select important features.\n",
    "\n",
    "### Instructions:\n",
    "- Answer the following questions by writing code in the cells below.\n",
    "- Be sure to visualize your findings and explain your reasoning.\n",
    "- Finally, train a regression model to predict housing prices and evaluate its performance.\n",
    "\n",
    "---\n",
    "\n",
    "## **1. Data Loading and Exploration**\n",
    "\n",
    "### Question 1: Load the dataset and inspect the first few rows.\n",
    "- Load the Boston housing dataset (from `sklearn.datasets`) into a pandas DataFrame.\n",
    "Since the **Boston Housing dataset** is deprecated, you can download the alternative housing dataset from [Kaggle Housing Prices Dataset](https://www.kaggle.com/c/house-prices-advanced-regression-techniques/data) if necessary.\n",
    "\n",
    "- Display the first 5 rows to understand the structure of the data.\n",
    "\n"
   ]
  },
  {
   "cell_type": "code",
   "execution_count": 25,
   "metadata": {},
   "outputs": [],
   "source": [
    "import numpy as np\n",
    "import pandas as pd\n",
    "import matplotlib.pyplot as plt\n",
    "import seaborn as sns\n",
    "from sklearn.model_selection import train_test_split\n",
    "from sklearn.linear_model import LogisticRegression\n",
    "from sklearn.metrics import mean_squared_error\n",
    "from sklearn.preprocessing import StandardScaler, LabelEncoder"
   ]
  },
  {
   "cell_type": "code",
   "execution_count": 26,
   "metadata": {},
   "outputs": [
    {
     "data": {
      "application/vnd.microsoft.datawrangler.viewer.v0+json": {
       "columns": [
        {
         "name": "index",
         "rawType": "int64",
         "type": "integer"
        },
        {
         "name": "Id",
         "rawType": "int64",
         "type": "integer"
        },
        {
         "name": "MSSubClass",
         "rawType": "int64",
         "type": "integer"
        },
        {
         "name": "MSZoning",
         "rawType": "object",
         "type": "string"
        },
        {
         "name": "LotFrontage",
         "rawType": "float64",
         "type": "float"
        },
        {
         "name": "LotArea",
         "rawType": "int64",
         "type": "integer"
        },
        {
         "name": "Street",
         "rawType": "object",
         "type": "string"
        },
        {
         "name": "Alley",
         "rawType": "object",
         "type": "unknown"
        },
        {
         "name": "LotShape",
         "rawType": "object",
         "type": "string"
        },
        {
         "name": "LandContour",
         "rawType": "object",
         "type": "string"
        },
        {
         "name": "Utilities",
         "rawType": "object",
         "type": "string"
        },
        {
         "name": "LotConfig",
         "rawType": "object",
         "type": "string"
        },
        {
         "name": "LandSlope",
         "rawType": "object",
         "type": "string"
        },
        {
         "name": "Neighborhood",
         "rawType": "object",
         "type": "string"
        },
        {
         "name": "Condition1",
         "rawType": "object",
         "type": "string"
        },
        {
         "name": "Condition2",
         "rawType": "object",
         "type": "string"
        },
        {
         "name": "BldgType",
         "rawType": "object",
         "type": "string"
        },
        {
         "name": "HouseStyle",
         "rawType": "object",
         "type": "string"
        },
        {
         "name": "OverallQual",
         "rawType": "int64",
         "type": "integer"
        },
        {
         "name": "OverallCond",
         "rawType": "int64",
         "type": "integer"
        },
        {
         "name": "YearBuilt",
         "rawType": "int64",
         "type": "integer"
        },
        {
         "name": "YearRemodAdd",
         "rawType": "int64",
         "type": "integer"
        },
        {
         "name": "RoofStyle",
         "rawType": "object",
         "type": "string"
        },
        {
         "name": "RoofMatl",
         "rawType": "object",
         "type": "string"
        },
        {
         "name": "Exterior1st",
         "rawType": "object",
         "type": "string"
        },
        {
         "name": "Exterior2nd",
         "rawType": "object",
         "type": "string"
        },
        {
         "name": "MasVnrType",
         "rawType": "object",
         "type": "unknown"
        },
        {
         "name": "MasVnrArea",
         "rawType": "float64",
         "type": "float"
        },
        {
         "name": "ExterQual",
         "rawType": "object",
         "type": "string"
        },
        {
         "name": "ExterCond",
         "rawType": "object",
         "type": "string"
        },
        {
         "name": "Foundation",
         "rawType": "object",
         "type": "string"
        },
        {
         "name": "BsmtQual",
         "rawType": "object",
         "type": "string"
        },
        {
         "name": "BsmtCond",
         "rawType": "object",
         "type": "string"
        },
        {
         "name": "BsmtExposure",
         "rawType": "object",
         "type": "string"
        },
        {
         "name": "BsmtFinType1",
         "rawType": "object",
         "type": "string"
        },
        {
         "name": "BsmtFinSF1",
         "rawType": "int64",
         "type": "integer"
        },
        {
         "name": "BsmtFinType2",
         "rawType": "object",
         "type": "string"
        },
        {
         "name": "BsmtFinSF2",
         "rawType": "int64",
         "type": "integer"
        },
        {
         "name": "BsmtUnfSF",
         "rawType": "int64",
         "type": "integer"
        },
        {
         "name": "TotalBsmtSF",
         "rawType": "int64",
         "type": "integer"
        },
        {
         "name": "Heating",
         "rawType": "object",
         "type": "string"
        },
        {
         "name": "HeatingQC",
         "rawType": "object",
         "type": "string"
        },
        {
         "name": "CentralAir",
         "rawType": "object",
         "type": "string"
        },
        {
         "name": "Electrical",
         "rawType": "object",
         "type": "string"
        },
        {
         "name": "1stFlrSF",
         "rawType": "int64",
         "type": "integer"
        },
        {
         "name": "2ndFlrSF",
         "rawType": "int64",
         "type": "integer"
        },
        {
         "name": "LowQualFinSF",
         "rawType": "int64",
         "type": "integer"
        },
        {
         "name": "GrLivArea",
         "rawType": "int64",
         "type": "integer"
        },
        {
         "name": "BsmtFullBath",
         "rawType": "int64",
         "type": "integer"
        },
        {
         "name": "BsmtHalfBath",
         "rawType": "int64",
         "type": "integer"
        },
        {
         "name": "FullBath",
         "rawType": "int64",
         "type": "integer"
        },
        {
         "name": "HalfBath",
         "rawType": "int64",
         "type": "integer"
        },
        {
         "name": "BedroomAbvGr",
         "rawType": "int64",
         "type": "integer"
        },
        {
         "name": "KitchenAbvGr",
         "rawType": "int64",
         "type": "integer"
        },
        {
         "name": "KitchenQual",
         "rawType": "object",
         "type": "string"
        },
        {
         "name": "TotRmsAbvGrd",
         "rawType": "int64",
         "type": "integer"
        },
        {
         "name": "Functional",
         "rawType": "object",
         "type": "string"
        },
        {
         "name": "Fireplaces",
         "rawType": "int64",
         "type": "integer"
        },
        {
         "name": "FireplaceQu",
         "rawType": "object",
         "type": "unknown"
        },
        {
         "name": "GarageType",
         "rawType": "object",
         "type": "string"
        },
        {
         "name": "GarageYrBlt",
         "rawType": "float64",
         "type": "float"
        },
        {
         "name": "GarageFinish",
         "rawType": "object",
         "type": "string"
        },
        {
         "name": "GarageCars",
         "rawType": "int64",
         "type": "integer"
        },
        {
         "name": "GarageArea",
         "rawType": "int64",
         "type": "integer"
        },
        {
         "name": "GarageQual",
         "rawType": "object",
         "type": "string"
        },
        {
         "name": "GarageCond",
         "rawType": "object",
         "type": "string"
        },
        {
         "name": "PavedDrive",
         "rawType": "object",
         "type": "string"
        },
        {
         "name": "WoodDeckSF",
         "rawType": "int64",
         "type": "integer"
        },
        {
         "name": "OpenPorchSF",
         "rawType": "int64",
         "type": "integer"
        },
        {
         "name": "EnclosedPorch",
         "rawType": "int64",
         "type": "integer"
        },
        {
         "name": "3SsnPorch",
         "rawType": "int64",
         "type": "integer"
        },
        {
         "name": "ScreenPorch",
         "rawType": "int64",
         "type": "integer"
        },
        {
         "name": "PoolArea",
         "rawType": "int64",
         "type": "integer"
        },
        {
         "name": "PoolQC",
         "rawType": "object",
         "type": "unknown"
        },
        {
         "name": "Fence",
         "rawType": "object",
         "type": "unknown"
        },
        {
         "name": "MiscFeature",
         "rawType": "object",
         "type": "unknown"
        },
        {
         "name": "MiscVal",
         "rawType": "int64",
         "type": "integer"
        },
        {
         "name": "MoSold",
         "rawType": "int64",
         "type": "integer"
        },
        {
         "name": "YrSold",
         "rawType": "int64",
         "type": "integer"
        },
        {
         "name": "SaleType",
         "rawType": "object",
         "type": "string"
        },
        {
         "name": "SaleCondition",
         "rawType": "object",
         "type": "string"
        },
        {
         "name": "SalePrice",
         "rawType": "int64",
         "type": "integer"
        }
       ],
       "conversionMethod": "pd.DataFrame",
       "ref": "2e1106a4-2208-4121-bd2b-a10d6510dec4",
       "rows": [
        [
         "0",
         "1",
         "60",
         "RL",
         "65.0",
         "8450",
         "Pave",
         null,
         "Reg",
         "Lvl",
         "AllPub",
         "Inside",
         "Gtl",
         "CollgCr",
         "Norm",
         "Norm",
         "1Fam",
         "2Story",
         "7",
         "5",
         "2003",
         "2003",
         "Gable",
         "CompShg",
         "VinylSd",
         "VinylSd",
         "BrkFace",
         "196.0",
         "Gd",
         "TA",
         "PConc",
         "Gd",
         "TA",
         "No",
         "GLQ",
         "706",
         "Unf",
         "0",
         "150",
         "856",
         "GasA",
         "Ex",
         "Y",
         "SBrkr",
         "856",
         "854",
         "0",
         "1710",
         "1",
         "0",
         "2",
         "1",
         "3",
         "1",
         "Gd",
         "8",
         "Typ",
         "0",
         null,
         "Attchd",
         "2003.0",
         "RFn",
         "2",
         "548",
         "TA",
         "TA",
         "Y",
         "0",
         "61",
         "0",
         "0",
         "0",
         "0",
         null,
         null,
         null,
         "0",
         "2",
         "2008",
         "WD",
         "Normal",
         "208500"
        ],
        [
         "1",
         "2",
         "20",
         "RL",
         "80.0",
         "9600",
         "Pave",
         null,
         "Reg",
         "Lvl",
         "AllPub",
         "FR2",
         "Gtl",
         "Veenker",
         "Feedr",
         "Norm",
         "1Fam",
         "1Story",
         "6",
         "8",
         "1976",
         "1976",
         "Gable",
         "CompShg",
         "MetalSd",
         "MetalSd",
         null,
         "0.0",
         "TA",
         "TA",
         "CBlock",
         "Gd",
         "TA",
         "Gd",
         "ALQ",
         "978",
         "Unf",
         "0",
         "284",
         "1262",
         "GasA",
         "Ex",
         "Y",
         "SBrkr",
         "1262",
         "0",
         "0",
         "1262",
         "0",
         "1",
         "2",
         "0",
         "3",
         "1",
         "TA",
         "6",
         "Typ",
         "1",
         "TA",
         "Attchd",
         "1976.0",
         "RFn",
         "2",
         "460",
         "TA",
         "TA",
         "Y",
         "298",
         "0",
         "0",
         "0",
         "0",
         "0",
         null,
         null,
         null,
         "0",
         "5",
         "2007",
         "WD",
         "Normal",
         "181500"
        ],
        [
         "2",
         "3",
         "60",
         "RL",
         "68.0",
         "11250",
         "Pave",
         null,
         "IR1",
         "Lvl",
         "AllPub",
         "Inside",
         "Gtl",
         "CollgCr",
         "Norm",
         "Norm",
         "1Fam",
         "2Story",
         "7",
         "5",
         "2001",
         "2002",
         "Gable",
         "CompShg",
         "VinylSd",
         "VinylSd",
         "BrkFace",
         "162.0",
         "Gd",
         "TA",
         "PConc",
         "Gd",
         "TA",
         "Mn",
         "GLQ",
         "486",
         "Unf",
         "0",
         "434",
         "920",
         "GasA",
         "Ex",
         "Y",
         "SBrkr",
         "920",
         "866",
         "0",
         "1786",
         "1",
         "0",
         "2",
         "1",
         "3",
         "1",
         "Gd",
         "6",
         "Typ",
         "1",
         "TA",
         "Attchd",
         "2001.0",
         "RFn",
         "2",
         "608",
         "TA",
         "TA",
         "Y",
         "0",
         "42",
         "0",
         "0",
         "0",
         "0",
         null,
         null,
         null,
         "0",
         "9",
         "2008",
         "WD",
         "Normal",
         "223500"
        ],
        [
         "3",
         "4",
         "70",
         "RL",
         "60.0",
         "9550",
         "Pave",
         null,
         "IR1",
         "Lvl",
         "AllPub",
         "Corner",
         "Gtl",
         "Crawfor",
         "Norm",
         "Norm",
         "1Fam",
         "2Story",
         "7",
         "5",
         "1915",
         "1970",
         "Gable",
         "CompShg",
         "Wd Sdng",
         "Wd Shng",
         null,
         "0.0",
         "TA",
         "TA",
         "BrkTil",
         "TA",
         "Gd",
         "No",
         "ALQ",
         "216",
         "Unf",
         "0",
         "540",
         "756",
         "GasA",
         "Gd",
         "Y",
         "SBrkr",
         "961",
         "756",
         "0",
         "1717",
         "1",
         "0",
         "1",
         "0",
         "3",
         "1",
         "Gd",
         "7",
         "Typ",
         "1",
         "Gd",
         "Detchd",
         "1998.0",
         "Unf",
         "3",
         "642",
         "TA",
         "TA",
         "Y",
         "0",
         "35",
         "272",
         "0",
         "0",
         "0",
         null,
         null,
         null,
         "0",
         "2",
         "2006",
         "WD",
         "Abnorml",
         "140000"
        ],
        [
         "4",
         "5",
         "60",
         "RL",
         "84.0",
         "14260",
         "Pave",
         null,
         "IR1",
         "Lvl",
         "AllPub",
         "FR2",
         "Gtl",
         "NoRidge",
         "Norm",
         "Norm",
         "1Fam",
         "2Story",
         "8",
         "5",
         "2000",
         "2000",
         "Gable",
         "CompShg",
         "VinylSd",
         "VinylSd",
         "BrkFace",
         "350.0",
         "Gd",
         "TA",
         "PConc",
         "Gd",
         "TA",
         "Av",
         "GLQ",
         "655",
         "Unf",
         "0",
         "490",
         "1145",
         "GasA",
         "Ex",
         "Y",
         "SBrkr",
         "1145",
         "1053",
         "0",
         "2198",
         "1",
         "0",
         "2",
         "1",
         "4",
         "1",
         "Gd",
         "9",
         "Typ",
         "1",
         "TA",
         "Attchd",
         "2000.0",
         "RFn",
         "3",
         "836",
         "TA",
         "TA",
         "Y",
         "192",
         "84",
         "0",
         "0",
         "0",
         "0",
         null,
         null,
         null,
         "0",
         "12",
         "2008",
         "WD",
         "Normal",
         "250000"
        ]
       ],
       "shape": {
        "columns": 81,
        "rows": 5
       }
      },
      "text/html": [
       "<div>\n",
       "<style scoped>\n",
       "    .dataframe tbody tr th:only-of-type {\n",
       "        vertical-align: middle;\n",
       "    }\n",
       "\n",
       "    .dataframe tbody tr th {\n",
       "        vertical-align: top;\n",
       "    }\n",
       "\n",
       "    .dataframe thead th {\n",
       "        text-align: right;\n",
       "    }\n",
       "</style>\n",
       "<table border=\"1\" class=\"dataframe\">\n",
       "  <thead>\n",
       "    <tr style=\"text-align: right;\">\n",
       "      <th></th>\n",
       "      <th>Id</th>\n",
       "      <th>MSSubClass</th>\n",
       "      <th>MSZoning</th>\n",
       "      <th>LotFrontage</th>\n",
       "      <th>LotArea</th>\n",
       "      <th>Street</th>\n",
       "      <th>Alley</th>\n",
       "      <th>LotShape</th>\n",
       "      <th>LandContour</th>\n",
       "      <th>Utilities</th>\n",
       "      <th>...</th>\n",
       "      <th>PoolArea</th>\n",
       "      <th>PoolQC</th>\n",
       "      <th>Fence</th>\n",
       "      <th>MiscFeature</th>\n",
       "      <th>MiscVal</th>\n",
       "      <th>MoSold</th>\n",
       "      <th>YrSold</th>\n",
       "      <th>SaleType</th>\n",
       "      <th>SaleCondition</th>\n",
       "      <th>SalePrice</th>\n",
       "    </tr>\n",
       "  </thead>\n",
       "  <tbody>\n",
       "    <tr>\n",
       "      <th>0</th>\n",
       "      <td>1</td>\n",
       "      <td>60</td>\n",
       "      <td>RL</td>\n",
       "      <td>65.0</td>\n",
       "      <td>8450</td>\n",
       "      <td>Pave</td>\n",
       "      <td>NaN</td>\n",
       "      <td>Reg</td>\n",
       "      <td>Lvl</td>\n",
       "      <td>AllPub</td>\n",
       "      <td>...</td>\n",
       "      <td>0</td>\n",
       "      <td>NaN</td>\n",
       "      <td>NaN</td>\n",
       "      <td>NaN</td>\n",
       "      <td>0</td>\n",
       "      <td>2</td>\n",
       "      <td>2008</td>\n",
       "      <td>WD</td>\n",
       "      <td>Normal</td>\n",
       "      <td>208500</td>\n",
       "    </tr>\n",
       "    <tr>\n",
       "      <th>1</th>\n",
       "      <td>2</td>\n",
       "      <td>20</td>\n",
       "      <td>RL</td>\n",
       "      <td>80.0</td>\n",
       "      <td>9600</td>\n",
       "      <td>Pave</td>\n",
       "      <td>NaN</td>\n",
       "      <td>Reg</td>\n",
       "      <td>Lvl</td>\n",
       "      <td>AllPub</td>\n",
       "      <td>...</td>\n",
       "      <td>0</td>\n",
       "      <td>NaN</td>\n",
       "      <td>NaN</td>\n",
       "      <td>NaN</td>\n",
       "      <td>0</td>\n",
       "      <td>5</td>\n",
       "      <td>2007</td>\n",
       "      <td>WD</td>\n",
       "      <td>Normal</td>\n",
       "      <td>181500</td>\n",
       "    </tr>\n",
       "    <tr>\n",
       "      <th>2</th>\n",
       "      <td>3</td>\n",
       "      <td>60</td>\n",
       "      <td>RL</td>\n",
       "      <td>68.0</td>\n",
       "      <td>11250</td>\n",
       "      <td>Pave</td>\n",
       "      <td>NaN</td>\n",
       "      <td>IR1</td>\n",
       "      <td>Lvl</td>\n",
       "      <td>AllPub</td>\n",
       "      <td>...</td>\n",
       "      <td>0</td>\n",
       "      <td>NaN</td>\n",
       "      <td>NaN</td>\n",
       "      <td>NaN</td>\n",
       "      <td>0</td>\n",
       "      <td>9</td>\n",
       "      <td>2008</td>\n",
       "      <td>WD</td>\n",
       "      <td>Normal</td>\n",
       "      <td>223500</td>\n",
       "    </tr>\n",
       "    <tr>\n",
       "      <th>3</th>\n",
       "      <td>4</td>\n",
       "      <td>70</td>\n",
       "      <td>RL</td>\n",
       "      <td>60.0</td>\n",
       "      <td>9550</td>\n",
       "      <td>Pave</td>\n",
       "      <td>NaN</td>\n",
       "      <td>IR1</td>\n",
       "      <td>Lvl</td>\n",
       "      <td>AllPub</td>\n",
       "      <td>...</td>\n",
       "      <td>0</td>\n",
       "      <td>NaN</td>\n",
       "      <td>NaN</td>\n",
       "      <td>NaN</td>\n",
       "      <td>0</td>\n",
       "      <td>2</td>\n",
       "      <td>2006</td>\n",
       "      <td>WD</td>\n",
       "      <td>Abnorml</td>\n",
       "      <td>140000</td>\n",
       "    </tr>\n",
       "    <tr>\n",
       "      <th>4</th>\n",
       "      <td>5</td>\n",
       "      <td>60</td>\n",
       "      <td>RL</td>\n",
       "      <td>84.0</td>\n",
       "      <td>14260</td>\n",
       "      <td>Pave</td>\n",
       "      <td>NaN</td>\n",
       "      <td>IR1</td>\n",
       "      <td>Lvl</td>\n",
       "      <td>AllPub</td>\n",
       "      <td>...</td>\n",
       "      <td>0</td>\n",
       "      <td>NaN</td>\n",
       "      <td>NaN</td>\n",
       "      <td>NaN</td>\n",
       "      <td>0</td>\n",
       "      <td>12</td>\n",
       "      <td>2008</td>\n",
       "      <td>WD</td>\n",
       "      <td>Normal</td>\n",
       "      <td>250000</td>\n",
       "    </tr>\n",
       "  </tbody>\n",
       "</table>\n",
       "<p>5 rows × 81 columns</p>\n",
       "</div>"
      ],
      "text/plain": [
       "   Id  MSSubClass MSZoning  LotFrontage  LotArea Street Alley LotShape  \\\n",
       "0   1          60       RL         65.0     8450   Pave   NaN      Reg   \n",
       "1   2          20       RL         80.0     9600   Pave   NaN      Reg   \n",
       "2   3          60       RL         68.0    11250   Pave   NaN      IR1   \n",
       "3   4          70       RL         60.0     9550   Pave   NaN      IR1   \n",
       "4   5          60       RL         84.0    14260   Pave   NaN      IR1   \n",
       "\n",
       "  LandContour Utilities  ... PoolArea PoolQC Fence MiscFeature MiscVal MoSold  \\\n",
       "0         Lvl    AllPub  ...        0    NaN   NaN         NaN       0      2   \n",
       "1         Lvl    AllPub  ...        0    NaN   NaN         NaN       0      5   \n",
       "2         Lvl    AllPub  ...        0    NaN   NaN         NaN       0      9   \n",
       "3         Lvl    AllPub  ...        0    NaN   NaN         NaN       0      2   \n",
       "4         Lvl    AllPub  ...        0    NaN   NaN         NaN       0     12   \n",
       "\n",
       "  YrSold  SaleType  SaleCondition  SalePrice  \n",
       "0   2008        WD         Normal     208500  \n",
       "1   2007        WD         Normal     181500  \n",
       "2   2008        WD         Normal     223500  \n",
       "3   2006        WD        Abnorml     140000  \n",
       "4   2008        WD         Normal     250000  \n",
       "\n",
       "[5 rows x 81 columns]"
      ]
     },
     "execution_count": 26,
     "metadata": {},
     "output_type": "execute_result"
    }
   ],
   "source": [
    "df = pd.read_csv('Misc/train.csv')\n",
    "df.head()"
   ]
  },
  {
   "cell_type": "markdown",
   "metadata": {},
   "source": [
    "### Question 2: Check for missing values.\n",
    "- Identify if there are any missing values in the dataset. How would you handle them if any exist?\n"
   ]
  },
  {
   "cell_type": "code",
   "execution_count": 27,
   "metadata": {},
   "outputs": [
    {
     "name": "stdout",
     "output_type": "stream",
     "text": [
      "(1460, 81)\n"
     ]
    }
   ],
   "source": [
    "print(df.shape)"
   ]
  },
  {
   "cell_type": "code",
   "execution_count": null,
   "metadata": {},
   "outputs": [
    {
     "name": "stdout",
     "output_type": "stream",
     "text": [
      "LotFrontage      259\n",
      "Alley           1369\n",
      "MasVnrType       872\n",
      "MasVnrArea         8\n",
      "BsmtQual          37\n",
      "BsmtCond          37\n",
      "BsmtExposure      38\n",
      "BsmtFinType1      37\n",
      "BsmtFinType2      38\n",
      "Electrical         1\n",
      "FireplaceQu      690\n",
      "GarageType        81\n",
      "GarageYrBlt       81\n",
      "GarageFinish      81\n",
      "GarageQual        81\n",
      "GarageCond        81\n",
      "PoolQC          1453\n",
      "Fence           1179\n",
      "MiscFeature     1406\n",
      "dtype: int64\n"
     ]
    }
   ],
   "source": [
    "cols_null_count = df.isnull().sum()                     # Count null values in each column\n",
    "cols_with_nulls = cols_null_count[cols_null_count > 0]  # Filter columns with null values\n",
    "print(cols_with_nulls)"
   ]
  },
  {
   "cell_type": "code",
   "execution_count": null,
   "metadata": {},
   "outputs": [
    {
     "name": "stdout",
     "output_type": "stream",
     "text": [
      "<class 'pandas.core.frame.DataFrame'>\n",
      "RangeIndex: 1460 entries, 0 to 1459\n",
      "Data columns (total 3 columns):\n",
      " #   Column       Non-Null Count  Dtype  \n",
      "---  ------       --------------  -----  \n",
      " 0   LotFrontage  1201 non-null   float64\n",
      " 1   MasVnrArea   1452 non-null   float64\n",
      " 2   GarageYrBlt  1379 non-null   float64\n",
      "dtypes: float64(3)\n",
      "memory usage: 34.3 KB\n"
     ]
    }
   ],
   "source": [
    "cols_with_nulls_names = cols_with_nulls.index.tolist()              # list of columns with nulls\n",
    "df[cols_with_nulls_names].select_dtypes(include=['number']).info()  # only numeric columns info"
   ]
  },
  {
   "cell_type": "code",
   "execution_count": null,
   "metadata": {},
   "outputs": [
    {
     "name": "stdout",
     "output_type": "stream",
     "text": [
      "count    1460.000000\n",
      "mean       69.863699\n",
      "std        22.027677\n",
      "min        21.000000\n",
      "25%        60.000000\n",
      "50%        69.000000\n",
      "75%        79.000000\n",
      "max       313.000000\n",
      "Name: LotFrontage, dtype: float64\n"
     ]
    },
    {
     "data": {
      "text/plain": [
       "<Axes: xlabel='LotFrontage', ylabel='Count'>"
      ]
     },
     "execution_count": 36,
     "metadata": {},
     "output_type": "execute_result"
    },
    {
     "data": {
      "image/png": "[encoded data removed]",
      "text/plain": [
       "<Figure size 800x300 with 1 Axes>"
      ]
     },
     "metadata": {},
     "output_type": "display_data"
    }
   ],
   "source": [
    "# Explore the LotFrontage feature (Linear feet of street connected to property)\n",
    "print(df['LotFrontage'].describe())\n",
    "\n",
    "plt.figure(figsize=(8, 3))\n",
    "sns.histplot(df['LotFrontage'].dropna(), kde=True)"
   ]
  },
  {
   "cell_type": "code",
   "execution_count": null,
   "metadata": {},
   "outputs": [
    {
     "data": {
      "text/plain": [
       "0"
      ]
     },
     "execution_count": 32,
     "metadata": {},
     "output_type": "execute_result"
    }
   ],
   "source": [
    "df['LotFrontage'] = df['LotFrontage'].fillna(df['LotFrontage'].median())    # fill nulls with median\n",
    "df['LotFrontage'].isnull().sum()                                            # check if nulls are filled"
   ]
  },
  {
   "cell_type": "code",
   "execution_count": null,
   "metadata": {},
   "outputs": [],
   "source": []
  },
  {
   "cell_type": "markdown",
   "metadata": {},
   "source": [
    "\n",
    "---\n",
    "\n",
    "## **2. Exploratory Data Analysis (EDA)**\n",
    "\n",
    "### Question 3: Describe the dataset's numerical features.\n",
    "- Use `describe()` to get a summary of the dataset's numerical columns.\n",
    "- Which feature(s) have the highest and lowest values? Are there any surprising observations?\n",
    "\n",
    "### Question 4: Visualize the distribution of house prices.\n",
    "- Create a histogram of the house prices. Is the distribution normal or skewed?\n",
    "\n",
    "### Question 5: Explore relationships between features and house prices.\n",
    "- Create scatter plots for at least 3 features vs. house prices (target variable).\n",
    "- What relationships do you observe between the selected features and the target?\n",
    "\n",
    "---\n",
    "\n",
    "## **3. Feature Selection**\n",
    "\n",
    "### Question 6: Correlation Analysis\n",
    "- Calculate the correlation matrix of the dataset.\n",
    "- Based on the correlation, identify at least 2 features that are highly correlated with house prices.\n",
    "- Are there any features that are strongly correlated with each other but not with the target?\n",
    "\n",
    "---\n",
    "\n",
    "## **4. Regression Modeling**\n",
    "\n",
    "### Question 7: Split the dataset\n",
    "- Split the dataset into training and testing sets. Use an 80/20 split.\n",
    "- Make sure to separate the target variable (house prices) from the features.\n",
    "\n",
    "### Question 8: Train a Linear Regression Model\n",
    "- Train a Linear Regression model using the training data.\n",
    "- Evaluate the model's performance on the test data by calculating the Mean Squared Error (MSE).\n",
    "\n",
    "### Question 9: Feature Importance (Optional)\n",
    "- If using a model like Ridge or Lasso, identify which features are most important in predicting house prices.\n",
    "\n",
    "---\n",
    "\n",
    "## **5. Conclusion**\n",
    "- Summarize your findings and observations.\n",
    "- Reflect on the regression model's performance and whether there are any improvements you would recommend."
   ]
  }
 ],
 "metadata": {
  "kernelspec": {
   "display_name": "myenv",
   "language": "python",
   "name": "python3"
  },
  "language_info": {
   "codemirror_mode": {
    "name": "ipython",
    "version": 3
   },
   "file_extension": ".py",
   "mimetype": "text/x-python",
   "name": "python",
   "nbconvert_exporter": "python",
   "pygments_lexer": "ipython3",
   "version": "3.10.13"
  }
 },
 "nbformat": 4,
 "nbformat_minor": 2
}
