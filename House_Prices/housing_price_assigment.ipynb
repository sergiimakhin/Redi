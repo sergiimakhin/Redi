{
 "cells": [
  {
   "cell_type": "markdown",
   "metadata": {},
   "source": [
    "#ML Course Regression Assignment: Predicting Housing Prices\n",
    "\n",
    "## Dataset: Boston Housing Prices\n",
    "\n",
    "In this assignment, you will explore a dataset of housing prices and use regression to predict house prices based on various features. You will also perform exploratory data analysis (EDA), visualize the data, and select important features.\n",
    "\n",
    "### Instructions:\n",
    "- Answer the following questions by writing code in the cells below.\n",
    "- Be sure to visualize your findings and explain your reasoning.\n",
    "- Finally, train a regression model to predict housing prices and evaluate its performance.\n",
    "\n",
    "---\n",
    "\n",
    "## **1. Data Loading and Exploration**\n",
    "\n",
    "### Question 1: Load the dataset and inspect the first few rows.\n",
    "- Load the Boston housing dataset (from `sklearn.datasets`) into a pandas DataFrame.\n",
    "Since the **Boston Housing dataset** is deprecated, you can download the alternative housing dataset from [Kaggle Housing Prices Dataset](https://www.kaggle.com/c/house-prices-advanced-regression-techniques/data) if necessary.\n",
    "\n",
    "- Display the first 5 rows to understand the structure of the data.\n",
    "\n"
   ]
  },
  {
   "cell_type": "code",
   "execution_count": 226,
   "metadata": {},
   "outputs": [],
   "source": [
    "import numpy as np\n",
    "import pandas as pd\n",
    "import matplotlib.pyplot as plt\n",
    "import seaborn as sns\n",
    "from sklearn.model_selection import train_test_split\n",
    "from sklearn.linear_model import LinearRegression\n",
    "from sklearn.metrics import mean_squared_error\n",
    "from sklearn.preprocessing import StandardScaler, LabelEncoder"
   ]
  },
  {
   "cell_type": "code",
   "execution_count": 227,
   "metadata": {},
   "outputs": [
    {
     "data": {
      "application/vnd.microsoft.datawrangler.viewer.v0+json": {
       "columns": [
        {
         "name": "index",
         "rawType": "int64",
         "type": "integer"
        },
        {
         "name": "Id",
         "rawType": "int64",
         "type": "integer"
        },
        {
         "name": "MSSubClass",
         "rawType": "int64",
         "type": "integer"
        },
        {
         "name": "MSZoning",
         "rawType": "object",
         "type": "string"
        },
        {
         "name": "LotFrontage",
         "rawType": "float64",
         "type": "float"
        },
        {
         "name": "LotArea",
         "rawType": "int64",
         "type": "integer"
        },
        {
         "name": "Street",
         "rawType": "object",
         "type": "string"
        },
        {
         "name": "Alley",
         "rawType": "object",
         "type": "unknown"
        },
        {
         "name": "LotShape",
         "rawType": "object",
         "type": "string"
        },
        {
         "name": "LandContour",
         "rawType": "object",
         "type": "string"
        },
        {
         "name": "Utilities",
         "rawType": "object",
         "type": "string"
        },
        {
         "name": "LotConfig",
         "rawType": "object",
         "type": "string"
        },
        {
         "name": "LandSlope",
         "rawType": "object",
         "type": "string"
        },
        {
         "name": "Neighborhood",
         "rawType": "object",
         "type": "string"
        },
        {
         "name": "Condition1",
         "rawType": "object",
         "type": "string"
        },
        {
         "name": "Condition2",
         "rawType": "object",
         "type": "string"
        },
        {
         "name": "BldgType",
         "rawType": "object",
         "type": "string"
        },
        {
         "name": "HouseStyle",
         "rawType": "object",
         "type": "string"
        },
        {
         "name": "OverallQual",
         "rawType": "int64",
         "type": "integer"
        },
        {
         "name": "OverallCond",
         "rawType": "int64",
         "type": "integer"
        },
        {
         "name": "YearBuilt",
         "rawType": "int64",
         "type": "integer"
        },
        {
         "name": "YearRemodAdd",
         "rawType": "int64",
         "type": "integer"
        },
        {
         "name": "RoofStyle",
         "rawType": "object",
         "type": "string"
        },
        {
         "name": "RoofMatl",
         "rawType": "object",
         "type": "string"
        },
        {
         "name": "Exterior1st",
         "rawType": "object",
         "type": "string"
        },
        {
         "name": "Exterior2nd",
         "rawType": "object",
         "type": "string"
        },
        {
         "name": "MasVnrType",
         "rawType": "object",
         "type": "unknown"
        },
        {
         "name": "MasVnrArea",
         "rawType": "float64",
         "type": "float"
        },
        {
         "name": "ExterQual",
         "rawType": "object",
         "type": "string"
        },
        {
         "name": "ExterCond",
         "rawType": "object",
         "type": "string"
        },
        {
         "name": "Foundation",
         "rawType": "object",
         "type": "string"
        },
        {
         "name": "BsmtQual",
         "rawType": "object",
         "type": "string"
        },
        {
         "name": "BsmtCond",
         "rawType": "object",
         "type": "string"
        },
        {
         "name": "BsmtExposure",
         "rawType": "object",
         "type": "string"
        },
        {
         "name": "BsmtFinType1",
         "rawType": "object",
         "type": "string"
        },
        {
         "name": "BsmtFinSF1",
         "rawType": "int64",
         "type": "integer"
        },
        {
         "name": "BsmtFinType2",
         "rawType": "object",
         "type": "string"
        },
        {
         "name": "BsmtFinSF2",
         "rawType": "int64",
         "type": "integer"
        },
        {
         "name": "BsmtUnfSF",
         "rawType": "int64",
         "type": "integer"
        },
        {
         "name": "TotalBsmtSF",
         "rawType": "int64",
         "type": "integer"
        },
        {
         "name": "Heating",
         "rawType": "object",
         "type": "string"
        },
        {
         "name": "HeatingQC",
         "rawType": "object",
         "type": "string"
        },
        {
         "name": "CentralAir",
         "rawType": "object",
         "type": "string"
        },
        {
         "name": "Electrical",
         "rawType": "object",
         "type": "string"
        },
        {
         "name": "1stFlrSF",
         "rawType": "int64",
         "type": "integer"
        },
        {
         "name": "2ndFlrSF",
         "rawType": "int64",
         "type": "integer"
        },
        {
         "name": "LowQualFinSF",
         "rawType": "int64",
         "type": "integer"
        },
        {
         "name": "GrLivArea",
         "rawType": "int64",
         "type": "integer"
        },
        {
         "name": "BsmtFullBath",
         "rawType": "int64",
         "type": "integer"
        },
        {
         "name": "BsmtHalfBath",
         "rawType": "int64",
         "type": "integer"
        },
        {
         "name": "FullBath",
         "rawType": "int64",
         "type": "integer"
        },
        {
         "name": "HalfBath",
         "rawType": "int64",
         "type": "integer"
        },
        {
         "name": "BedroomAbvGr",
         "rawType": "int64",
         "type": "integer"
        },
        {
         "name": "KitchenAbvGr",
         "rawType": "int64",
         "type": "integer"
        },
        {
         "name": "KitchenQual",
         "rawType": "object",
         "type": "string"
        },
        {
         "name": "TotRmsAbvGrd",
         "rawType": "int64",
         "type": "integer"
        },
        {
         "name": "Functional",
         "rawType": "object",
         "type": "string"
        },
        {
         "name": "Fireplaces",
         "rawType": "int64",
         "type": "integer"
        },
        {
         "name": "FireplaceQu",
         "rawType": "object",
         "type": "unknown"
        },
        {
         "name": "GarageType",
         "rawType": "object",
         "type": "string"
        },
        {
         "name": "GarageYrBlt",
         "rawType": "float64",
         "type": "float"
        },
        {
         "name": "GarageFinish",
         "rawType": "object",
         "type": "string"
        },
        {
         "name": "GarageCars",
         "rawType": "int64",
         "type": "integer"
        },
        {
         "name": "GarageArea",
         "rawType": "int64",
         "type": "integer"
        },
        {
         "name": "GarageQual",
         "rawType": "object",
         "type": "string"
        },
        {
         "name": "GarageCond",
         "rawType": "object",
         "type": "string"
        },
        {
         "name": "PavedDrive",
         "rawType": "object",
         "type": "string"
        },
        {
         "name": "WoodDeckSF",
         "rawType": "int64",
         "type": "integer"
        },
        {
         "name": "OpenPorchSF",
         "rawType": "int64",
         "type": "integer"
        },
        {
         "name": "EnclosedPorch",
         "rawType": "int64",
         "type": "integer"
        },
        {
         "name": "3SsnPorch",
         "rawType": "int64",
         "type": "integer"
        },
        {
         "name": "ScreenPorch",
         "rawType": "int64",
         "type": "integer"
        },
        {
         "name": "PoolArea",
         "rawType": "int64",
         "type": "integer"
        },
        {
         "name": "PoolQC",
         "rawType": "object",
         "type": "unknown"
        },
        {
         "name": "Fence",
         "rawType": "object",
         "type": "unknown"
        },
        {
         "name": "MiscFeature",
         "rawType": "object",
         "type": "unknown"
        },
        {
         "name": "MiscVal",
         "rawType": "int64",
         "type": "integer"
        },
        {
         "name": "MoSold",
         "rawType": "int64",
         "type": "integer"
        },
        {
         "name": "YrSold",
         "rawType": "int64",
         "type": "integer"
        },
        {
         "name": "SaleType",
         "rawType": "object",
         "type": "string"
        },
        {
         "name": "SaleCondition",
         "rawType": "object",
         "type": "string"
        },
        {
         "name": "SalePrice",
         "rawType": "int64",
         "type": "integer"
        }
       ],
       "conversionMethod": "pd.DataFrame",
       "ref": "bc85a65a-10f3-412c-8e0f-baba0bcf4b13",
       "rows": [
        [
         "0",
         "1",
         "60",
         "RL",
         "65.0",
         "8450",
         "Pave",
         null,
         "Reg",
         "Lvl",
         "AllPub",
         "Inside",
         "Gtl",
         "CollgCr",
         "Norm",
         "Norm",
         "1Fam",
         "2Story",
         "7",
         "5",
         "2003",
         "2003",
         "Gable",
         "CompShg",
         "VinylSd",
         "VinylSd",
         "BrkFace",
         "196.0",
         "Gd",
         "TA",
         "PConc",
         "Gd",
         "TA",
         "No",
         "GLQ",
         "706",
         "Unf",
         "0",
         "150",
         "856",
         "GasA",
         "Ex",
         "Y",
         "SBrkr",
         "856",
         "854",
         "0",
         "1710",
         "1",
         "0",
         "2",
         "1",
         "3",
         "1",
         "Gd",
         "8",
         "Typ",
         "0",
         null,
         "Attchd",
         "2003.0",
         "RFn",
         "2",
         "548",
         "TA",
         "TA",
         "Y",
         "0",
         "61",
         "0",
         "0",
         "0",
         "0",
         null,
         null,
         null,
         "0",
         "2",
         "2008",
         "WD",
         "Normal",
         "208500"
        ],
        [
         "1",
         "2",
         "20",
         "RL",
         "80.0",
         "9600",
         "Pave",
         null,
         "Reg",
         "Lvl",
         "AllPub",
         "FR2",
         "Gtl",
         "Veenker",
         "Feedr",
         "Norm",
         "1Fam",
         "1Story",
         "6",
         "8",
         "1976",
         "1976",
         "Gable",
         "CompShg",
         "MetalSd",
         "MetalSd",
         null,
         "0.0",
         "TA",
         "TA",
         "CBlock",
         "Gd",
         "TA",
         "Gd",
         "ALQ",
         "978",
         "Unf",
         "0",
         "284",
         "1262",
         "GasA",
         "Ex",
         "Y",
         "SBrkr",
         "1262",
         "0",
         "0",
         "1262",
         "0",
         "1",
         "2",
         "0",
         "3",
         "1",
         "TA",
         "6",
         "Typ",
         "1",
         "TA",
         "Attchd",
         "1976.0",
         "RFn",
         "2",
         "460",
         "TA",
         "TA",
         "Y",
         "298",
         "0",
         "0",
         "0",
         "0",
         "0",
         null,
         null,
         null,
         "0",
         "5",
         "2007",
         "WD",
         "Normal",
         "181500"
        ],
        [
         "2",
         "3",
         "60",
         "RL",
         "68.0",
         "11250",
         "Pave",
         null,
         "IR1",
         "Lvl",
         "AllPub",
         "Inside",
         "Gtl",
         "CollgCr",
         "Norm",
         "Norm",
         "1Fam",
         "2Story",
         "7",
         "5",
         "2001",
         "2002",
         "Gable",
         "CompShg",
         "VinylSd",
         "VinylSd",
         "BrkFace",
         "162.0",
         "Gd",
         "TA",
         "PConc",
         "Gd",
         "TA",
         "Mn",
         "GLQ",
         "486",
         "Unf",
         "0",
         "434",
         "920",
         "GasA",
         "Ex",
         "Y",
         "SBrkr",
         "920",
         "866",
         "0",
         "1786",
         "1",
         "0",
         "2",
         "1",
         "3",
         "1",
         "Gd",
         "6",
         "Typ",
         "1",
         "TA",
         "Attchd",
         "2001.0",
         "RFn",
         "2",
         "608",
         "TA",
         "TA",
         "Y",
         "0",
         "42",
         "0",
         "0",
         "0",
         "0",
         null,
         null,
         null,
         "0",
         "9",
         "2008",
         "WD",
         "Normal",
         "223500"
        ],
        [
         "3",
         "4",
         "70",
         "RL",
         "60.0",
         "9550",
         "Pave",
         null,
         "IR1",
         "Lvl",
         "AllPub",
         "Corner",
         "Gtl",
         "Crawfor",
         "Norm",
         "Norm",
         "1Fam",
         "2Story",
         "7",
         "5",
         "1915",
         "1970",
         "Gable",
         "CompShg",
         "Wd Sdng",
         "Wd Shng",
         null,
         "0.0",
         "TA",
         "TA",
         "BrkTil",
         "TA",
         "Gd",
         "No",
         "ALQ",
         "216",
         "Unf",
         "0",
         "540",
         "756",
         "GasA",
         "Gd",
         "Y",
         "SBrkr",
         "961",
         "756",
         "0",
         "1717",
         "1",
         "0",
         "1",
         "0",
         "3",
         "1",
         "Gd",
         "7",
         "Typ",
         "1",
         "Gd",
         "Detchd",
         "1998.0",
         "Unf",
         "3",
         "642",
         "TA",
         "TA",
         "Y",
         "0",
         "35",
         "272",
         "0",
         "0",
         "0",
         null,
         null,
         null,
         "0",
         "2",
         "2006",
         "WD",
         "Abnorml",
         "140000"
        ],
        [
         "4",
         "5",
         "60",
         "RL",
         "84.0",
         "14260",
         "Pave",
         null,
         "IR1",
         "Lvl",
         "AllPub",
         "FR2",
         "Gtl",
         "NoRidge",
         "Norm",
         "Norm",
         "1Fam",
         "2Story",
         "8",
         "5",
         "2000",
         "2000",
         "Gable",
         "CompShg",
         "VinylSd",
         "VinylSd",
         "BrkFace",
         "350.0",
         "Gd",
         "TA",
         "PConc",
         "Gd",
         "TA",
         "Av",
         "GLQ",
         "655",
         "Unf",
         "0",
         "490",
         "1145",
         "GasA",
         "Ex",
         "Y",
         "SBrkr",
         "1145",
         "1053",
         "0",
         "2198",
         "1",
         "0",
         "2",
         "1",
         "4",
         "1",
         "Gd",
         "9",
         "Typ",
         "1",
         "TA",
         "Attchd",
         "2000.0",
         "RFn",
         "3",
         "836",
         "TA",
         "TA",
         "Y",
         "192",
         "84",
         "0",
         "0",
         "0",
         "0",
         null,
         null,
         null,
         "0",
         "12",
         "2008",
         "WD",
         "Normal",
         "250000"
        ]
       ],
       "shape": {
        "columns": 81,
        "rows": 5
       }
      },
      "text/html": [
       "<div>\n",
       "<style scoped>\n",
       "    .dataframe tbody tr th:only-of-type {\n",
       "        vertical-align: middle;\n",
       "    }\n",
       "\n",
       "    .dataframe tbody tr th {\n",
       "        vertical-align: top;\n",
       "    }\n",
       "\n",
       "    .dataframe thead th {\n",
       "        text-align: right;\n",
       "    }\n",
       "</style>\n",
       "<table border=\"1\" class=\"dataframe\">\n",
       "  <thead>\n",
       "    <tr style=\"text-align: right;\">\n",
       "      <th></th>\n",
       "      <th>Id</th>\n",
       "      <th>MSSubClass</th>\n",
       "      <th>MSZoning</th>\n",
       "      <th>LotFrontage</th>\n",
       "      <th>LotArea</th>\n",
       "      <th>Street</th>\n",
       "      <th>Alley</th>\n",
       "      <th>LotShape</th>\n",
       "      <th>LandContour</th>\n",
       "      <th>Utilities</th>\n",
       "      <th>...</th>\n",
       "      <th>PoolArea</th>\n",
       "      <th>PoolQC</th>\n",
       "      <th>Fence</th>\n",
       "      <th>MiscFeature</th>\n",
       "      <th>MiscVal</th>\n",
       "      <th>MoSold</th>\n",
       "      <th>YrSold</th>\n",
       "      <th>SaleType</th>\n",
       "      <th>SaleCondition</th>\n",
       "      <th>SalePrice</th>\n",
       "    </tr>\n",
       "  </thead>\n",
       "  <tbody>\n",
       "    <tr>\n",
       "      <th>0</th>\n",
       "      <td>1</td>\n",
       "      <td>60</td>\n",
       "      <td>RL</td>\n",
       "      <td>65.0</td>\n",
       "      <td>8450</td>\n",
       "      <td>Pave</td>\n",
       "      <td>NaN</td>\n",
       "      <td>Reg</td>\n",
       "      <td>Lvl</td>\n",
       "      <td>AllPub</td>\n",
       "      <td>...</td>\n",
       "      <td>0</td>\n",
       "      <td>NaN</td>\n",
       "      <td>NaN</td>\n",
       "      <td>NaN</td>\n",
       "      <td>0</td>\n",
       "      <td>2</td>\n",
       "      <td>2008</td>\n",
       "      <td>WD</td>\n",
       "      <td>Normal</td>\n",
       "      <td>208500</td>\n",
       "    </tr>\n",
       "    <tr>\n",
       "      <th>1</th>\n",
       "      <td>2</td>\n",
       "      <td>20</td>\n",
       "      <td>RL</td>\n",
       "      <td>80.0</td>\n",
       "      <td>9600</td>\n",
       "      <td>Pave</td>\n",
       "      <td>NaN</td>\n",
       "      <td>Reg</td>\n",
       "      <td>Lvl</td>\n",
       "      <td>AllPub</td>\n",
       "      <td>...</td>\n",
       "      <td>0</td>\n",
       "      <td>NaN</td>\n",
       "      <td>NaN</td>\n",
       "      <td>NaN</td>\n",
       "      <td>0</td>\n",
       "      <td>5</td>\n",
       "      <td>2007</td>\n",
       "      <td>WD</td>\n",
       "      <td>Normal</td>\n",
       "      <td>181500</td>\n",
       "    </tr>\n",
       "    <tr>\n",
       "      <th>2</th>\n",
       "      <td>3</td>\n",
       "      <td>60</td>\n",
       "      <td>RL</td>\n",
       "      <td>68.0</td>\n",
       "      <td>11250</td>\n",
       "      <td>Pave</td>\n",
       "      <td>NaN</td>\n",
       "      <td>IR1</td>\n",
       "      <td>Lvl</td>\n",
       "      <td>AllPub</td>\n",
       "      <td>...</td>\n",
       "      <td>0</td>\n",
       "      <td>NaN</td>\n",
       "      <td>NaN</td>\n",
       "      <td>NaN</td>\n",
       "      <td>0</td>\n",
       "      <td>9</td>\n",
       "      <td>2008</td>\n",
       "      <td>WD</td>\n",
       "      <td>Normal</td>\n",
       "      <td>223500</td>\n",
       "    </tr>\n",
       "    <tr>\n",
       "      <th>3</th>\n",
       "      <td>4</td>\n",
       "      <td>70</td>\n",
       "      <td>RL</td>\n",
       "      <td>60.0</td>\n",
       "      <td>9550</td>\n",
       "      <td>Pave</td>\n",
       "      <td>NaN</td>\n",
       "      <td>IR1</td>\n",
       "      <td>Lvl</td>\n",
       "      <td>AllPub</td>\n",
       "      <td>...</td>\n",
       "      <td>0</td>\n",
       "      <td>NaN</td>\n",
       "      <td>NaN</td>\n",
       "      <td>NaN</td>\n",
       "      <td>0</td>\n",
       "      <td>2</td>\n",
       "      <td>2006</td>\n",
       "      <td>WD</td>\n",
       "      <td>Abnorml</td>\n",
       "      <td>140000</td>\n",
       "    </tr>\n",
       "    <tr>\n",
       "      <th>4</th>\n",
       "      <td>5</td>\n",
       "      <td>60</td>\n",
       "      <td>RL</td>\n",
       "      <td>84.0</td>\n",
       "      <td>14260</td>\n",
       "      <td>Pave</td>\n",
       "      <td>NaN</td>\n",
       "      <td>IR1</td>\n",
       "      <td>Lvl</td>\n",
       "      <td>AllPub</td>\n",
       "      <td>...</td>\n",
       "      <td>0</td>\n",
       "      <td>NaN</td>\n",
       "      <td>NaN</td>\n",
       "      <td>NaN</td>\n",
       "      <td>0</td>\n",
       "      <td>12</td>\n",
       "      <td>2008</td>\n",
       "      <td>WD</td>\n",
       "      <td>Normal</td>\n",
       "      <td>250000</td>\n",
       "    </tr>\n",
       "  </tbody>\n",
       "</table>\n",
       "<p>5 rows × 81 columns</p>\n",
       "</div>"
      ],
      "text/plain": [
       "   Id  MSSubClass MSZoning  LotFrontage  LotArea Street Alley LotShape  \\\n",
       "0   1          60       RL         65.0     8450   Pave   NaN      Reg   \n",
       "1   2          20       RL         80.0     9600   Pave   NaN      Reg   \n",
       "2   3          60       RL         68.0    11250   Pave   NaN      IR1   \n",
       "3   4          70       RL         60.0     9550   Pave   NaN      IR1   \n",
       "4   5          60       RL         84.0    14260   Pave   NaN      IR1   \n",
       "\n",
       "  LandContour Utilities  ... PoolArea PoolQC Fence MiscFeature MiscVal MoSold  \\\n",
       "0         Lvl    AllPub  ...        0    NaN   NaN         NaN       0      2   \n",
       "1         Lvl    AllPub  ...        0    NaN   NaN         NaN       0      5   \n",
       "2         Lvl    AllPub  ...        0    NaN   NaN         NaN       0      9   \n",
       "3         Lvl    AllPub  ...        0    NaN   NaN         NaN       0      2   \n",
       "4         Lvl    AllPub  ...        0    NaN   NaN         NaN       0     12   \n",
       "\n",
       "  YrSold  SaleType  SaleCondition  SalePrice  \n",
       "0   2008        WD         Normal     208500  \n",
       "1   2007        WD         Normal     181500  \n",
       "2   2008        WD         Normal     223500  \n",
       "3   2006        WD        Abnorml     140000  \n",
       "4   2008        WD         Normal     250000  \n",
       "\n",
       "[5 rows x 81 columns]"
      ]
     },
     "execution_count": 227,
     "metadata": {},
     "output_type": "execute_result"
    }
   ],
   "source": [
    "df = pd.read_csv('Data/train.csv')\n",
    "df.head()"
   ]
  },
  {
   "cell_type": "markdown",
   "metadata": {},
   "source": [
    "### Question 2: Check for missing values.\n",
    "- Identify if there are any missing values in the dataset. How would you handle them if any exist?\n"
   ]
  },
  {
   "cell_type": "code",
   "execution_count": 228,
   "metadata": {},
   "outputs": [
    {
     "name": "stdout",
     "output_type": "stream",
     "text": [
      "(1460, 81)\n",
      "LotFrontage    259\n",
      "MasVnrArea       8\n",
      "GarageYrBlt     81\n",
      "dtype: int64\n"
     ]
    }
   ],
   "source": [
    "num_cols_na_count = df.select_dtypes(include='number').isnull().sum()       # count NaNs in numerical columns\n",
    "num_cols_with_na_count = num_cols_na_count[num_cols_na_count > 0]           # filter numerical columns with NaNs\n",
    "print(df.shape)\n",
    "print(num_cols_with_na_count)"
   ]
  },
  {
   "cell_type": "code",
   "execution_count": 229,
   "metadata": {},
   "outputs": [
    {
     "data": {
      "application/vnd.microsoft.datawrangler.viewer.v0+json": {
       "columns": [
        {
         "name": "index",
         "rawType": "object",
         "type": "string"
        },
        {
         "name": "LotFrontage",
         "rawType": "float64",
         "type": "float"
        },
        {
         "name": "MasVnrArea",
         "rawType": "float64",
         "type": "float"
        },
        {
         "name": "GarageYrBlt",
         "rawType": "float64",
         "type": "float"
        }
       ],
       "conversionMethod": "pd.DataFrame",
       "ref": "6e295dac-91cf-4e2b-a968-4aa9cbd09c41",
       "rows": [
        [
         "count",
         "1201.0",
         "1452.0",
         "1379.0"
        ],
        [
         "mean",
         "70.0",
         "103.7",
         "1978.5"
        ],
        [
         "std",
         "24.3",
         "181.1",
         "24.7"
        ],
        [
         "min",
         "21.0",
         "0.0",
         "1900.0"
        ],
        [
         "25%",
         "59.0",
         "0.0",
         "1961.0"
        ],
        [
         "50%",
         "69.0",
         "0.0",
         "1980.0"
        ],
        [
         "75%",
         "80.0",
         "166.0",
         "2002.0"
        ],
        [
         "max",
         "313.0",
         "1600.0",
         "2010.0"
        ]
       ],
       "shape": {
        "columns": 3,
        "rows": 8
       }
      },
      "text/html": [
       "<div>\n",
       "<style scoped>\n",
       "    .dataframe tbody tr th:only-of-type {\n",
       "        vertical-align: middle;\n",
       "    }\n",
       "\n",
       "    .dataframe tbody tr th {\n",
       "        vertical-align: top;\n",
       "    }\n",
       "\n",
       "    .dataframe thead th {\n",
       "        text-align: right;\n",
       "    }\n",
       "</style>\n",
       "<table border=\"1\" class=\"dataframe\">\n",
       "  <thead>\n",
       "    <tr style=\"text-align: right;\">\n",
       "      <th></th>\n",
       "      <th>LotFrontage</th>\n",
       "      <th>MasVnrArea</th>\n",
       "      <th>GarageYrBlt</th>\n",
       "    </tr>\n",
       "  </thead>\n",
       "  <tbody>\n",
       "    <tr>\n",
       "      <th>count</th>\n",
       "      <td>1201.0</td>\n",
       "      <td>1452.0</td>\n",
       "      <td>1379.0</td>\n",
       "    </tr>\n",
       "    <tr>\n",
       "      <th>mean</th>\n",
       "      <td>70.0</td>\n",
       "      <td>103.7</td>\n",
       "      <td>1978.5</td>\n",
       "    </tr>\n",
       "    <tr>\n",
       "      <th>std</th>\n",
       "      <td>24.3</td>\n",
       "      <td>181.1</td>\n",
       "      <td>24.7</td>\n",
       "    </tr>\n",
       "    <tr>\n",
       "      <th>min</th>\n",
       "      <td>21.0</td>\n",
       "      <td>0.0</td>\n",
       "      <td>1900.0</td>\n",
       "    </tr>\n",
       "    <tr>\n",
       "      <th>25%</th>\n",
       "      <td>59.0</td>\n",
       "      <td>0.0</td>\n",
       "      <td>1961.0</td>\n",
       "    </tr>\n",
       "    <tr>\n",
       "      <th>50%</th>\n",
       "      <td>69.0</td>\n",
       "      <td>0.0</td>\n",
       "      <td>1980.0</td>\n",
       "    </tr>\n",
       "    <tr>\n",
       "      <th>75%</th>\n",
       "      <td>80.0</td>\n",
       "      <td>166.0</td>\n",
       "      <td>2002.0</td>\n",
       "    </tr>\n",
       "    <tr>\n",
       "      <th>max</th>\n",
       "      <td>313.0</td>\n",
       "      <td>1600.0</td>\n",
       "      <td>2010.0</td>\n",
       "    </tr>\n",
       "  </tbody>\n",
       "</table>\n",
       "</div>"
      ],
      "text/plain": [
       "       LotFrontage  MasVnrArea  GarageYrBlt\n",
       "count       1201.0      1452.0       1379.0\n",
       "mean          70.0       103.7       1978.5\n",
       "std           24.3       181.1         24.7\n",
       "min           21.0         0.0       1900.0\n",
       "25%           59.0         0.0       1961.0\n",
       "50%           69.0         0.0       1980.0\n",
       "75%           80.0       166.0       2002.0\n",
       "max          313.0      1600.0       2010.0"
      ]
     },
     "execution_count": 229,
     "metadata": {},
     "output_type": "execute_result"
    }
   ],
   "source": [
    "num_cols_with_na = num_cols_with_na_count.index.tolist()                    # list of columns with NaNs\n",
    "df[num_cols_with_na].describe().round(1)                                    # basic descriptive statistics"
   ]
  },
  {
   "cell_type": "code",
   "execution_count": 230,
   "metadata": {},
   "outputs": [
    {
     "name": "stdout",
     "output_type": "stream",
     "text": [
      "Skewness of LotFrontage: 2.16\n"
     ]
    },
    {
     "data": {
      "text/plain": [
       "<Axes: xlabel='LotFrontage', ylabel='Count'>"
      ]
     },
     "execution_count": 230,
     "metadata": {},
     "output_type": "execute_result"
    },
    {
     "data": {
      "image/png": "[encoded data removed]",
      "text/plain": [
       "<Figure size 800x300 with 1 Axes>"
      ]
     },
     "metadata": {},
     "output_type": "display_data"
    }
   ],
   "source": [
    "# Check the distribution of the LotFrontage (Linear feet of street connected to property) feature\n",
    "from scipy.stats import skew\n",
    "skewness = skew(df['LotFrontage'].dropna())\n",
    "print(f\"Skewness of LotFrontage: {skewness:.2f}\")\n",
    "\n",
    "plt.figure(figsize=(8, 3))\n",
    "sns.histplot(df['LotFrontage'].dropna(), kde=True)"
   ]
  },
  {
   "cell_type": "code",
   "execution_count": 231,
   "metadata": {},
   "outputs": [
    {
     "name": "stdout",
     "output_type": "stream",
     "text": [
      "Skewness of SalePrice: 1.88\n"
     ]
    },
    {
     "data": {
      "text/plain": [
       "<Axes: xlabel='SalePrice', ylabel='Count'>"
      ]
     },
     "execution_count": 231,
     "metadata": {},
     "output_type": "execute_result"
    },
    {
     "data": {
      "image/png": "[encoded data removed]",
      "text/plain": [
       "<Figure size 800x300 with 1 Axes>"
      ]
     },
     "metadata": {},
     "output_type": "display_data"
    }
   ],
   "source": [
    "# Check additionaly the distribution of the target variable SalePrice\n",
    "skewness = skew(df['SalePrice'])\n",
    "print(f\"Skewness of SalePrice: {skewness:.2f}\")\n",
    "\n",
    "plt.figure(figsize=(8, 3))\n",
    "sns.histplot(df['SalePrice'])"
   ]
  },
  {
   "cell_type": "code",
   "execution_count": 232,
   "metadata": {},
   "outputs": [
    {
     "name": "stdout",
     "output_type": "stream",
     "text": [
      "Missing LotFrontage (1460 rows): Median SalePrice: 172400.00\n",
      "Present LotFrontage (1460 rows): Median SalePrice: 159500.00\n",
      "Difference (Missing - Present): 12900.00\n"
     ]
    }
   ],
   "source": [
    "# The skewness of LotFrontage exceeds 2 which suggests substantial nonnormality. Imputing the mean looks not justified. \n",
    "# The skewness of the target feature is as well relatively high. Let's compare its median values for missing and present LotFrontage values to decide on the imputation strategy.\n",
    "\n",
    "median_missing = df.loc[df['LotFrontage'].isna(), 'SalePrice'].median()\n",
    "median_present = df.loc[df['LotFrontage'].notna(), 'SalePrice'].median()\n",
    "\n",
    "print(f\"Missing LotFrontage ({df['LotFrontage'].isna().shape[0]} rows): Median SalePrice: {median_missing:.2f}\")\n",
    "print(f\"Present LotFrontage ({df['LotFrontage'].notna().shape[0]} rows): Median SalePrice: {median_present:.2f}\")\n",
    "print(f\"Difference (Missing - Present): {median_missing - median_present:.2f}\")"
   ]
  },
  {
   "cell_type": "markdown",
   "metadata": {},
   "source": [
    "The 12900 median SalePrice difference suggests missingness is informative. Filling with the mean (or even median) of LotFrontage ignores this pattern and could bias the model by assuming missing values behave like present ones, which they don’t (higher median SalePrice).\n",
    "To account for this factor let's introduce a new binary feature to flag missingness in addition to filling the original column with median values."
   ]
  },
  {
   "cell_type": "code",
   "execution_count": 233,
   "metadata": {},
   "outputs": [],
   "source": [
    "df['LotFrontage_missing'] = df['LotFrontage'].isna().astype(int)            # 1 if LotFrontage is missing, 0 otherwise\n",
    "df['LotFrontage'] = df['LotFrontage'].fillna(df['LotFrontage'].median())    # impute the median value"
   ]
  },
  {
   "cell_type": "markdown",
   "metadata": {},
   "source": [
    "Let's now evaluate how the imputation of LotFrontage affected its correlation with SalePrice"
   ]
  },
  {
   "cell_type": "code",
   "execution_count": 234,
   "metadata": {},
   "outputs": [
    {
     "name": "stdout",
     "output_type": "stream",
     "text": [
      "Correlation between LotFrontage (post-imputation) and SalePrice: 0.335\n",
      "Correlation between LotFrontage (pre-imputation) and SalePrice: 0.352\n"
     ]
    }
   ],
   "source": [
    "# Correlation between LotFrontage (post-imputation) and SalePrice\n",
    "correlation = df['LotFrontage'].corr(df['SalePrice'])\n",
    "print(f\"Correlation between LotFrontage (post-imputation) and SalePrice: {correlation:.3f}\")\n",
    "\n",
    "# For comparison, compute correlation pre-imputation (on non-missing data)\n",
    "correlation_pre = df.loc[df['LotFrontage_missing'] == 0, 'LotFrontage'].corr(df.loc[df['LotFrontage_missing'] == 0, 'SalePrice'])\n",
    "print(f\"Correlation between LotFrontage (pre-imputation) and SalePrice: {correlation_pre:.3f}\")"
   ]
  },
  {
   "cell_type": "markdown",
   "metadata": {},
   "source": [
    "Impact of Imputation:\n",
    "- The drop from 0.352 to 0.335 is small (~4.8% relative decrease). This suggests that median imputation didn’t significantly distort the relationship between LotFrontage and SalePrice.\n",
    "- However, even this slight decrease indicates that the imputation introduced a bit of noise. The 259 imputed values (17.7% of the data) are all set to the median, which reduces the variability in LotFrontage and slightly weakens its linear relationship with SalePrice."
   ]
  },
  {
   "cell_type": "markdown",
   "metadata": {},
   "source": [
    "- We can also try to implement regression imputation to predict missing LotFrontage values using other correlated with them features. \n",
    "- This might better preserve the relationship with SalePrice by imputing values that reflect patterns in the data.\n",
    "- Then we will compare which approach turned to be more efficient.\n",
    "- For this purpose let's first extract a few numerical features which show the strongest association with LotFrontage."
   ]
  },
  {
   "cell_type": "code",
   "execution_count": 235,
   "metadata": {},
   "outputs": [
    {
     "name": "stdout",
     "output_type": "stream",
     "text": [
      "Correlations between LotFrontage and numerical features (<-0.3 or >0.3):\n",
      "MSSubClass     -0.357\n",
      "LotArea         0.305\n",
      "TotRmsAbvGrd    0.321\n",
      "GarageArea      0.324\n",
      "SalePrice       0.335\n",
      "TotalBsmtSF     0.363\n",
      "GrLivArea       0.368\n",
      "1stFlrSF        0.414\n",
      "Name: LotFrontage, dtype: float64\n"
     ]
    }
   ],
   "source": [
    "# Select numerical features and compute the correlation matrix\n",
    "corr_matrix = df.select_dtypes(include='number').corr().round(3)\n",
    "\n",
    "# Extract correlations involving LotFrontage and sort\n",
    "lotfrontage_corrs = corr_matrix['LotFrontage'].sort_values()\n",
    "\n",
    "# Filter correlations: keep only those < -0.3 or > 0.3\n",
    "filtered_corrs = lotfrontage_corrs[(lotfrontage_corrs < -0.3) | (lotfrontage_corrs > 0.3)].drop('LotFrontage')\n",
    "\n",
    "# Display the result\n",
    "print(\"Correlations between LotFrontage and numerical features (<-0.3 or >0.3):\")\n",
    "print(filtered_corrs)"
   ]
  },
  {
   "cell_type": "code",
   "execution_count": 236,
   "metadata": {},
   "outputs": [],
   "source": [
    "# Select features for prediction\n",
    "features = filtered_corrs.index.tolist()\n",
    "\n",
    "# Split data\n",
    "train_data = df[df['LotFrontage_missing'] == 0]\n",
    "test_data = df[df['LotFrontage_missing'] == 1]\n",
    "\n",
    "# Fit model\n",
    "model = LinearRegression()\n",
    "model.fit(train_data[features], train_data['LotFrontage'])\n",
    "\n",
    "# Predict missing values. Assign the predicted values to the missing LotFrontage entries in the original DataFrame\n",
    "df.loc[df['LotFrontage_missing'] == 1, 'LotFrontage'] = model.predict(test_data[features])"
   ]
  },
  {
   "cell_type": "markdown",
   "metadata": {},
   "source": [
    "Now let's recheck the correlation to see if it improves"
   ]
  },
  {
   "cell_type": "code",
   "execution_count": 237,
   "metadata": {},
   "outputs": [
    {
     "name": "stdout",
     "output_type": "stream",
     "text": [
      "Correlation between LotFrontage (post-imputation) and SalePrice: 0.366\n",
      "Correlation between LotFrontage (pre-imputation) and SalePrice: 0.352\n"
     ]
    }
   ],
   "source": [
    "# Correlation between LotFrontage (post-imputation) and SalePrice\n",
    "correlation = df['LotFrontage'].corr(df['SalePrice'])\n",
    "print(f\"Correlation between LotFrontage (post-imputation) and SalePrice: {correlation:.3f}\")\n",
    "\n",
    "# For comparison, compute correlation pre-imputation (on non-missing data)\n",
    "correlation_pre = df.loc[df['LotFrontage_missing'] == 0, 'LotFrontage'].corr(\n",
    "    df.loc[df['LotFrontage_missing'] == 0, 'SalePrice']\n",
    ")\n",
    "print(f\"Correlation between LotFrontage (pre-imputation) and SalePrice: {correlation_pre:.3f}\")"
   ]
  },
  {
   "cell_type": "markdown",
   "metadata": {},
   "source": [
    "- The correlation with SalePrice improved (regression imputation vs median imputation: 0.368 vs. 0.335), indicating that LotFrontage is now a stronger predictor of SalePrice.\n",
    "- Unlike median imputation, which weakened the relationship, regression imputation strengthened it, suggesting that the imputed values are more representative of the true underlying LotFrontage values."
   ]
  },
  {
   "cell_type": "markdown",
   "metadata": {},
   "source": [
    "Now let's explore the second numeric variable win 8 NaNs: MasVnrArea (Masonry veneer area in square feet)"
   ]
  },
  {
   "cell_type": "code",
   "execution_count": 238,
   "metadata": {},
   "outputs": [
    {
     "data": {
      "text/plain": [
       "<Axes: xlabel='MasVnrArea', ylabel='Count'>"
      ]
     },
     "execution_count": 238,
     "metadata": {},
     "output_type": "execute_result"
    },
    {
     "data": {
      "image/png": "[encoded data removed]",
      "text/plain": [
       "<Figure size 800x300 with 1 Axes>"
      ]
     },
     "metadata": {},
     "output_type": "display_data"
    }
   ],
   "source": [
    "plt.figure(figsize=(8, 3))\n",
    "sns.histplot(df['MasVnrArea'].dropna(), kde=True)"
   ]
  },
  {
   "cell_type": "markdown",
   "metadata": {},
   "source": [
    "- There are a lot of zero values which correspond to absence of masonry veneer in certain houses. We just need to make sure that 8 missing values also belong to houses without masonry veneer.\n",
    "- In the dataset there is a categorical feature MasVnrType which signifies which type of masonry veneer was used. \n",
    "- If in the corresponding rows there are no values, this would indicate that 8 missing values comply with the above-mentioned requirement."
   ]
  },
  {
   "cell_type": "code",
   "execution_count": 239,
   "metadata": {},
   "outputs": [
    {
     "data": {
      "text/plain": [
       "234     NaN\n",
       "529     NaN\n",
       "650     NaN\n",
       "936     NaN\n",
       "973     NaN\n",
       "977     NaN\n",
       "1243    NaN\n",
       "1278    NaN\n",
       "Name: MasVnrType, dtype: object"
      ]
     },
     "execution_count": 239,
     "metadata": {},
     "output_type": "execute_result"
    }
   ],
   "source": [
    "df.loc[df['MasVnrArea'].isna(), 'MasVnrType']"
   ]
  },
  {
   "cell_type": "code",
   "execution_count": 240,
   "metadata": {},
   "outputs": [
    {
     "data": {
      "text/plain": [
       "0"
      ]
     },
     "execution_count": 240,
     "metadata": {},
     "output_type": "execute_result"
    }
   ],
   "source": [
    "df['MasVnrArea'] = df['MasVnrArea'].fillna(df['MasVnrArea'].median())       # fill nulls with median which is equal 0\n",
    "df['MasVnrArea'].isnull().sum()                                             # check if nulls are filled\n",
    "\n",
    "# The 0 values in MasVnrArea are not missing values but rather indicate that there is no masonry veneer.\n",
    "# In the dataset there is already the categorical feature MasVnrType where absent veneer is indicated by the value None.\n",
    "# So we already have a feature indicating the absence of masonry veneer. No need to create new one based on null values in MasVnrArea."
   ]
  },
  {
   "cell_type": "markdown",
   "metadata": {},
   "source": [
    "Check the last numerical feature containing 81 NaNs: GarageYrBlt (Year garage was built)"
   ]
  },
  {
   "cell_type": "code",
   "execution_count": 241,
   "metadata": {},
   "outputs": [
    {
     "data": {
      "text/plain": [
       "<Axes: xlabel='GarageYrBlt', ylabel='Count'>"
      ]
     },
     "execution_count": 241,
     "metadata": {},
     "output_type": "execute_result"
    },
    {
     "data": {
      "image/png": "[encoded data removed]",
      "text/plain": [
       "<Figure size 800x300 with 1 Axes>"
      ]
     },
     "metadata": {},
     "output_type": "display_data"
    }
   ],
   "source": [
    "plt.figure(figsize=(8, 3))\n",
    "sns.histplot(df['GarageYrBlt'].dropna(), kde=True)"
   ]
  },
  {
   "cell_type": "code",
   "execution_count": 242,
   "metadata": {},
   "outputs": [
    {
     "name": "stdout",
     "output_type": "stream",
     "text": [
      "Correlation between GarageYrBlt and YearBuilt: 0.826\n"
     ]
    }
   ],
   "source": [
    "# This feature has relatively hight number of NaNs and is likely to be strongly correlated with another feature (YearBuilt) which has no NaNs\n",
    "# Let's check the correlation between GarageYrBlt and YearBuilt\n",
    "corr = df.GarageYrBlt.corr(df[\"YearBuilt\"])\n",
    "print(f\"Correlation between GarageYrBlt and YearBuilt: {corr:.3f}\")"
   ]
  },
  {
   "cell_type": "code",
   "execution_count": 243,
   "metadata": {},
   "outputs": [],
   "source": [
    "# The correlation is fairly strong -> danger of multicollinearity\n",
    "# It seems justified to drop GarageYrBlt as YearBuilt must be enough to generally cover the relevant to the house age info\n",
    "df = df.drop(['GarageYrBlt'], axis=1)"
   ]
  },
  {
   "cell_type": "markdown",
   "metadata": {},
   "source": [
    "### Let's now deal with categorical features containing NaNs"
   ]
  },
  {
   "cell_type": "code",
   "execution_count": 244,
   "metadata": {},
   "outputs": [
    {
     "data": {
      "application/vnd.microsoft.datawrangler.viewer.v0+json": {
       "columns": [
        {
         "name": "index",
         "rawType": "object",
         "type": "string"
        },
        {
         "name": "Alley",
         "rawType": "object",
         "type": "unknown"
        },
        {
         "name": "MasVnrType",
         "rawType": "object",
         "type": "unknown"
        },
        {
         "name": "BsmtQual",
         "rawType": "object",
         "type": "unknown"
        },
        {
         "name": "BsmtCond",
         "rawType": "object",
         "type": "unknown"
        },
        {
         "name": "BsmtExposure",
         "rawType": "object",
         "type": "unknown"
        },
        {
         "name": "BsmtFinType1",
         "rawType": "object",
         "type": "unknown"
        },
        {
         "name": "BsmtFinType2",
         "rawType": "object",
         "type": "unknown"
        },
        {
         "name": "Electrical",
         "rawType": "object",
         "type": "unknown"
        },
        {
         "name": "FireplaceQu",
         "rawType": "object",
         "type": "unknown"
        },
        {
         "name": "GarageType",
         "rawType": "object",
         "type": "unknown"
        },
        {
         "name": "GarageFinish",
         "rawType": "object",
         "type": "unknown"
        },
        {
         "name": "GarageQual",
         "rawType": "object",
         "type": "unknown"
        },
        {
         "name": "GarageCond",
         "rawType": "object",
         "type": "unknown"
        },
        {
         "name": "PoolQC",
         "rawType": "object",
         "type": "unknown"
        },
        {
         "name": "Fence",
         "rawType": "object",
         "type": "unknown"
        },
        {
         "name": "MiscFeature",
         "rawType": "object",
         "type": "unknown"
        }
       ],
       "conversionMethod": "pd.DataFrame",
       "ref": "43626286-5c79-48d3-8717-e01c677d6d73",
       "rows": [
        [
         "count",
         "91",
         "588",
         "1423",
         "1423",
         "1422",
         "1423",
         "1422",
         "1459",
         "770",
         "1379",
         "1379",
         "1379",
         "1379",
         "7",
         "281",
         "54"
        ],
        [
         "unique",
         "2",
         "3",
         "4",
         "4",
         "4",
         "6",
         "6",
         "5",
         "5",
         "6",
         "3",
         "5",
         "5",
         "3",
         "4",
         "4"
        ],
        [
         "top",
         "Grvl",
         "BrkFace",
         "TA",
         "TA",
         "No",
         "Unf",
         "Unf",
         "SBrkr",
         "Gd",
         "Attchd",
         "Unf",
         "TA",
         "TA",
         "Gd",
         "MnPrv",
         "Shed"
        ],
        [
         "freq",
         "50",
         "445",
         "649",
         "1311",
         "953",
         "430",
         "1256",
         "1334",
         "380",
         "870",
         "605",
         "1311",
         "1326",
         "3",
         "157",
         "49"
        ]
       ],
       "shape": {
        "columns": 16,
        "rows": 4
       }
      },
      "text/html": [
       "<div>\n",
       "<style scoped>\n",
       "    .dataframe tbody tr th:only-of-type {\n",
       "        vertical-align: middle;\n",
       "    }\n",
       "\n",
       "    .dataframe tbody tr th {\n",
       "        vertical-align: top;\n",
       "    }\n",
       "\n",
       "    .dataframe thead th {\n",
       "        text-align: right;\n",
       "    }\n",
       "</style>\n",
       "<table border=\"1\" class=\"dataframe\">\n",
       "  <thead>\n",
       "    <tr style=\"text-align: right;\">\n",
       "      <th></th>\n",
       "      <th>Alley</th>\n",
       "      <th>MasVnrType</th>\n",
       "      <th>BsmtQual</th>\n",
       "      <th>BsmtCond</th>\n",
       "      <th>BsmtExposure</th>\n",
       "      <th>BsmtFinType1</th>\n",
       "      <th>BsmtFinType2</th>\n",
       "      <th>Electrical</th>\n",
       "      <th>FireplaceQu</th>\n",
       "      <th>GarageType</th>\n",
       "      <th>GarageFinish</th>\n",
       "      <th>GarageQual</th>\n",
       "      <th>GarageCond</th>\n",
       "      <th>PoolQC</th>\n",
       "      <th>Fence</th>\n",
       "      <th>MiscFeature</th>\n",
       "    </tr>\n",
       "  </thead>\n",
       "  <tbody>\n",
       "    <tr>\n",
       "      <th>count</th>\n",
       "      <td>91</td>\n",
       "      <td>588</td>\n",
       "      <td>1423</td>\n",
       "      <td>1423</td>\n",
       "      <td>1422</td>\n",
       "      <td>1423</td>\n",
       "      <td>1422</td>\n",
       "      <td>1459</td>\n",
       "      <td>770</td>\n",
       "      <td>1379</td>\n",
       "      <td>1379</td>\n",
       "      <td>1379</td>\n",
       "      <td>1379</td>\n",
       "      <td>7</td>\n",
       "      <td>281</td>\n",
       "      <td>54</td>\n",
       "    </tr>\n",
       "    <tr>\n",
       "      <th>unique</th>\n",
       "      <td>2</td>\n",
       "      <td>3</td>\n",
       "      <td>4</td>\n",
       "      <td>4</td>\n",
       "      <td>4</td>\n",
       "      <td>6</td>\n",
       "      <td>6</td>\n",
       "      <td>5</td>\n",
       "      <td>5</td>\n",
       "      <td>6</td>\n",
       "      <td>3</td>\n",
       "      <td>5</td>\n",
       "      <td>5</td>\n",
       "      <td>3</td>\n",
       "      <td>4</td>\n",
       "      <td>4</td>\n",
       "    </tr>\n",
       "    <tr>\n",
       "      <th>top</th>\n",
       "      <td>Grvl</td>\n",
       "      <td>BrkFace</td>\n",
       "      <td>TA</td>\n",
       "      <td>TA</td>\n",
       "      <td>No</td>\n",
       "      <td>Unf</td>\n",
       "      <td>Unf</td>\n",
       "      <td>SBrkr</td>\n",
       "      <td>Gd</td>\n",
       "      <td>Attchd</td>\n",
       "      <td>Unf</td>\n",
       "      <td>TA</td>\n",
       "      <td>TA</td>\n",
       "      <td>Gd</td>\n",
       "      <td>MnPrv</td>\n",
       "      <td>Shed</td>\n",
       "    </tr>\n",
       "    <tr>\n",
       "      <th>freq</th>\n",
       "      <td>50</td>\n",
       "      <td>445</td>\n",
       "      <td>649</td>\n",
       "      <td>1311</td>\n",
       "      <td>953</td>\n",
       "      <td>430</td>\n",
       "      <td>1256</td>\n",
       "      <td>1334</td>\n",
       "      <td>380</td>\n",
       "      <td>870</td>\n",
       "      <td>605</td>\n",
       "      <td>1311</td>\n",
       "      <td>1326</td>\n",
       "      <td>3</td>\n",
       "      <td>157</td>\n",
       "      <td>49</td>\n",
       "    </tr>\n",
       "  </tbody>\n",
       "</table>\n",
       "</div>"
      ],
      "text/plain": [
       "       Alley MasVnrType BsmtQual BsmtCond BsmtExposure BsmtFinType1  \\\n",
       "count     91        588     1423     1423         1422         1423   \n",
       "unique     2          3        4        4            4            6   \n",
       "top     Grvl    BrkFace       TA       TA           No          Unf   \n",
       "freq      50        445      649     1311          953          430   \n",
       "\n",
       "       BsmtFinType2 Electrical FireplaceQu GarageType GarageFinish GarageQual  \\\n",
       "count          1422       1459         770       1379         1379       1379   \n",
       "unique            6          5           5          6            3          5   \n",
       "top             Unf      SBrkr          Gd     Attchd          Unf         TA   \n",
       "freq           1256       1334         380        870          605       1311   \n",
       "\n",
       "       GarageCond PoolQC  Fence MiscFeature  \n",
       "count        1379      7    281          54  \n",
       "unique          5      3      4           4  \n",
       "top            TA     Gd  MnPrv        Shed  \n",
       "freq         1326      3    157          49  "
      ]
     },
     "execution_count": 244,
     "metadata": {},
     "output_type": "execute_result"
    }
   ],
   "source": [
    "cols_obj_with_nulls = [feature for feature in cols_with_nulls_names if feature != 'GarageYrBlt']    # list of object columns with nulls\n",
    "df[cols_obj_with_nulls].select_dtypes(include=['object']).describe(include='all').round(2)          # describe features to better understand their quality and granularity"
   ]
  },
  {
   "cell_type": "code",
   "execution_count": 245,
   "metadata": {},
   "outputs": [
    {
     "name": "stdout",
     "output_type": "stream",
     "text": [
      "Alley           1369\n",
      "MasVnrType       872\n",
      "BsmtQual          37\n",
      "BsmtCond          37\n",
      "BsmtExposure      38\n",
      "BsmtFinType1      37\n",
      "BsmtFinType2      38\n",
      "Electrical         1\n",
      "FireplaceQu      690\n",
      "GarageType        81\n",
      "GarageFinish      81\n",
      "GarageQual        81\n",
      "GarageCond        81\n",
      "PoolQC          1453\n",
      "Fence           1179\n",
      "MiscFeature     1406\n",
      "dtype: int64\n"
     ]
    }
   ],
   "source": [
    "obj_with_nulls = df.select_dtypes(include=['object']).isnull().sum()    # count null values in remaining 'object' features\n",
    "print(obj_with_nulls[obj_with_nulls > 0])                               # filter columns with null values"
   ]
  },
  {
   "cell_type": "markdown",
   "metadata": {},
   "source": [
    "### Alley"
   ]
  },
  {
   "cell_type": "code",
   "execution_count": 246,
   "metadata": {},
   "outputs": [
    {
     "name": "stdout",
     "output_type": "stream",
     "text": [
      "Alley\n",
      "NaN     1369\n",
      "Grvl      50\n",
      "Pave      41\n",
      "Name: count, dtype: int64\n"
     ]
    },
    {
     "data": {
      "text/plain": [
       "<Axes: xlabel='Alley', ylabel='SalePrice'>"
      ]
     },
     "execution_count": 246,
     "metadata": {},
     "output_type": "execute_result"
    },
    {
     "data": {
      "image/png": "[encoded data removed]",
      "text/plain": [
       "<Figure size 640x480 with 1 Axes>"
      ]
     },
     "metadata": {},
     "output_type": "display_data"
    }
   ],
   "source": [
    "print(df['Alley'].value_counts(dropna=False))       # check the distribution of the Alley (Type of alley access to property: Gravel, Paved and None) feature\n",
    "sns.boxenplot(x='Alley', y='SalePrice', data=df)    # check the distribution of SalePrice by Alley type"
   ]
  },
  {
   "cell_type": "code",
   "execution_count": 247,
   "metadata": {},
   "outputs": [
    {
     "name": "stdout",
     "output_type": "stream",
     "text": [
      "Median SalePrice by Alley:\n",
      "Alley\n",
      "Grvl    119500.0\n",
      "Pave    172500.0\n",
      "Name: SalePrice, dtype: float64\n"
     ]
    }
   ],
   "source": [
    "# The visually significant differences in SalePrice justify keeping all features and distinguishing between Grvl and Pave and NoAlley.\n",
    "# Use target encoding with the median SalePrice. This preserves the signal from all three categories (NoAlley, Grvl, Pave) while handling the rare categories effectively\n",
    "alley_medians = df.groupby('Alley')['SalePrice'].median()\n",
    "df['Alley'] = df['Alley'].map(alley_medians)\n",
    "print(\"Median SalePrice by Alley:\")\n",
    "print(alley_medians)"
   ]
  },
  {
   "cell_type": "markdown",
   "metadata": {},
   "source": [
    "### MasVnrType"
   ]
  },
  {
   "cell_type": "code",
   "execution_count": 248,
   "metadata": {},
   "outputs": [
    {
     "data": {
      "text/plain": [
       "MasVnrType\n",
       "None       872\n",
       "BrkFace    445\n",
       "Stone      128\n",
       "BrkCmn      15\n",
       "Name: count, dtype: int64"
      ]
     },
     "execution_count": 248,
     "metadata": {},
     "output_type": "execute_result"
    }
   ],
   "source": [
    "# Replace NaN with \"None\"\n",
    "df['MasVnrType'] = df['MasVnrType'].fillna('None')\n",
    "# Check the frequency distribution of the MasVnrType (Masonry veneer type: Brick Face, Stone, Cinder Block, None) feature\n",
    "df['MasVnrType'].value_counts(dropna=False)       "
   ]
  },
  {
   "cell_type": "code",
   "execution_count": null,
   "metadata": {},
   "outputs": [
    {
     "name": "stdout",
     "output_type": "stream",
     "text": [
      "Median SalePrice by MasVnrType:\n",
      "MasVnrType\n",
      "BrkCmn     139000.0\n",
      "BrkFace    181000.0\n",
      "None       143125.0\n",
      "Stone      246839.0\n",
      "Name: SalePrice, dtype: float64\n"
     ]
    }
   ],
   "source": [
    "# Given the rare category BrkCmn (only 15 instances), target encoding (replacing each category with the median SalePrice for that category) seems like a good choice. \n",
    "# It handles rare categories well and keeps the feature as a single column.\n",
    "masvnr_medians = df.groupby('MasVnrType')['SalePrice'].median()\n",
    "df['MasVnrType'] = df['MasVnrType'].map(masvnr_medians)\n",
    "print(\"Median SalePrice by MasVnrType:\")\n",
    "print(masvnr_medians)"
   ]
  },
  {
   "cell_type": "markdown",
   "metadata": {},
   "source": [
    "### Bsmt... features:"
   ]
  },
  {
   "cell_type": "markdown",
   "metadata": {},
   "source": [
    "- BsmtQual (Evaluates the height of the basement), \n",
    "- BsmtCond (Evaluates the general condition of the basement), \n",
    "- BsmtExposure (Refers to walkout or garden level walls), \n",
    "- BsmtFinType1 (Rating of basement finished area), \n",
    "- BsmtFinType2 (Rating of basement finished area (if multiple types))"
   ]
  },
  {
   "cell_type": "code",
   "execution_count": null,
   "metadata": {},
   "outputs": [],
   "source": []
  },
  {
   "cell_type": "code",
   "execution_count": 36,
   "metadata": {},
   "outputs": [
    {
     "name": "stdout",
     "output_type": "stream",
     "text": [
      "\n",
      "Mean of numeric features grouped by BsmtQual:\n",
      "          BsmtFinSF1  BsmtFinSF2  BsmtUnfSF  TotalBsmtSF\n",
      "BsmtQual                                                \n",
      "Ex            855.33       23.56     766.71      1645.60\n",
      "Fa            130.71        7.89     594.43       733.03\n",
      "Gd            472.50       34.66     623.91      1131.07\n",
      "TA            381.57       66.90     506.96       955.43\n",
      "NaN             0.00        0.00       0.00         0.00\n",
      "--------------------------------------------------\n",
      "\n",
      "Mean of numeric features grouped by BsmtCond:\n",
      "          BsmtFinSF1  BsmtFinSF2  BsmtUnfSF  TotalBsmtSF\n",
      "BsmtCond                                                \n",
      "Fa            217.76       13.07     640.91       871.73\n",
      "Gd            450.37      104.77     579.02      1134.15\n",
      "Po            175.00        0.00     647.00       822.00\n",
      "TA            463.99       46.20     580.02      1090.20\n",
      "NaN             0.00        0.00       0.00         0.00\n",
      "--------------------------------------------------\n",
      "\n",
      "Mean of numeric features grouped by BsmtExposure:\n",
      "              BsmtFinSF1  BsmtFinSF2  BsmtUnfSF  TotalBsmtSF\n",
      "BsmtExposure                                                \n",
      "Av                553.67       43.55     586.17      1183.38\n",
      "Gd                925.77       95.81     439.02      1460.60\n",
      "Mn                468.85       77.58     553.76      1100.19\n",
      "No                365.01       38.46     604.13      1007.60\n",
      "NaN                 0.00        0.00      24.63        24.63\n",
      "--------------------------------------------------\n",
      "\n",
      "Mean of numeric features grouped by BsmtFinType1:\n",
      "              BsmtFinSF1  BsmtFinSF2  BsmtUnfSF  TotalBsmtSF\n",
      "BsmtFinType1                                                \n",
      "ALQ               619.86       77.23     346.71      1043.81\n",
      "BLQ               536.67       94.26     371.99      1002.91\n",
      "GLQ               801.73       19.63     455.84      1277.20\n",
      "LwQ               379.54      257.47     388.57      1025.58\n",
      "Rec               516.60       73.40     424.49      1014.49\n",
      "Unf                 0.00        0.00     979.27       979.27\n",
      "NaN                 0.00        0.00       0.00         0.00\n",
      "--------------------------------------------------\n",
      "\n",
      "Mean of numeric features grouped by BsmtFinType2:\n",
      "              BsmtFinSF1  BsmtFinSF2  BsmtUnfSF  TotalBsmtSF\n",
      "BsmtFinType2                                                \n",
      "ALQ               350.79      626.16     237.84      1214.79\n",
      "BLQ               399.27      329.91     357.18      1086.36\n",
      "GLQ               231.14      658.00     234.07      1123.21\n",
      "LwQ               621.07      310.74     149.96      1081.76\n",
      "Rec               401.22      392.46     330.67      1124.35\n",
      "Unf               456.43        0.00     622.80      1079.23\n",
      "NaN                29.58       12.61      42.18        84.37\n",
      "--------------------------------------------------\n"
     ]
    }
   ],
   "source": [
    "# List of categorical basement features\n",
    "bsmt_categorical_features = ['BsmtQual', 'BsmtCond', 'BsmtExposure', 'BsmtFinType1', 'BsmtFinType2']\n",
    "\n",
    "# List of numeric basement features\n",
    "bsmt_numeric_features = ['BsmtFinSF1', 'BsmtFinSF2', 'BsmtUnfSF', 'TotalBsmtSF']\n",
    "\n",
    "# Dictionary to store results\n",
    "results = {}\n",
    "\n",
    "# Loop through each categorical feature\n",
    "for feature in bsmt_categorical_features:\n",
    "    # Group by the categorical feature and calculate the mean of numeric features\n",
    "    # Use dropna=False to include NA as a category\n",
    "    group_means = df.groupby(feature, dropna=False)[bsmt_numeric_features].mean()\n",
    "    # Store the result in the dictionary\n",
    "    results[feature] = group_means\n",
    "\n",
    "# Display the results for each categorical feature\n",
    "for feature, means in results.items():\n",
    "    print(f\"\\nMean of numeric features grouped by {feature}:\")\n",
    "    print(means.round(2))\n",
    "    print(\"-\" * 50)"
   ]
  },
  {
   "cell_type": "code",
   "execution_count": null,
   "metadata": {},
   "outputs": [],
   "source": []
  },
  {
   "cell_type": "code",
   "execution_count": null,
   "metadata": {},
   "outputs": [],
   "source": []
  },
  {
   "cell_type": "markdown",
   "metadata": {},
   "source": [
    "\n",
    "---\n",
    "\n",
    "## **2. Exploratory Data Analysis (EDA)**\n",
    "\n",
    "### Question 3: Describe the dataset's numerical features.\n",
    "- Use `describe()` to get a summary of the dataset's numerical columns.\n",
    "- Which feature(s) have the highest and lowest values? Are there any surprising observations?\n",
    "\n",
    "### Question 4: Visualize the distribution of house prices.\n",
    "- Create a histogram of the house prices. Is the distribution normal or skewed?\n",
    "\n",
    "### Question 5: Explore relationships between features and house prices.\n",
    "- Create scatter plots for at least 3 features vs. house prices (target variable).\n",
    "- What relationships do you observe between the selected features and the target?\n",
    "\n",
    "---\n",
    "\n",
    "## **3. Feature Selection**\n",
    "\n",
    "### Question 6: Correlation Analysis\n",
    "- Calculate the correlation matrix of the dataset.\n",
    "- Based on the correlation, identify at least 2 features that are highly correlated with house prices.\n",
    "- Are there any features that are strongly correlated with each other but not with the target?\n",
    "\n",
    "---\n",
    "\n",
    "## **4. Regression Modeling**\n",
    "\n",
    "### Question 7: Split the dataset\n",
    "- Split the dataset into training and testing sets. Use an 80/20 split.\n",
    "- Make sure to separate the target variable (house prices) from the features.\n",
    "\n",
    "### Question 8: Train a Linear Regression Model\n",
    "- Train a Linear Regression model using the training data.\n",
    "- Evaluate the model's performance on the test data by calculating the Mean Squared Error (MSE).\n",
    "\n",
    "### Question 9: Feature Importance (Optional)\n",
    "- If using a model like Ridge or Lasso, identify which features are most important in predicting house prices.\n",
    "\n",
    "---\n",
    "\n",
    "## **5. Conclusion**\n",
    "- Summarize your findings and observations.\n",
    "- Reflect on the regression model's performance and whether there are any improvements you would recommend."
   ]
  }
 ],
 "metadata": {
  "kernelspec": {
   "display_name": "myenv",
   "language": "python",
   "name": "python3"
  },
  "language_info": {
   "codemirror_mode": {
    "name": "ipython",
    "version": 3
   },
   "file_extension": ".py",
   "mimetype": "text/x-python",
   "name": "python",
   "nbconvert_exporter": "python",
   "pygments_lexer": "ipython3",
   "version": "3.10.13"
  }
 },
 "nbformat": 4,
 "nbformat_minor": 2
}
