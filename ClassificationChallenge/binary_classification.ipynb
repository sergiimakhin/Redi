{
 "cells": [
  {
   "cell_type": "code",
   "execution_count": 356,
   "id": "4bd74079",
   "metadata": {},
   "outputs": [],
   "source": [
    "import pandas as pd\n",
    "import numpy as np\n",
    "import matplotlib.pyplot as plt\n",
    "import seaborn as sns"
   ]
  },
  {
   "cell_type": "code",
   "execution_count": 357,
   "id": "38f967de",
   "metadata": {},
   "outputs": [
    {
     "data": {
      "text/plain": [
       "(37636, 26)"
      ]
     },
     "execution_count": 357,
     "metadata": {},
     "output_type": "execute_result"
    }
   ],
   "source": [
    "df = pd.read_csv('labeled_data.csv', sep=';')\n",
    "df.shape"
   ]
  },
  {
   "cell_type": "code",
   "execution_count": 358,
   "id": "e9d6fe7a",
   "metadata": {},
   "outputs": [
    {
     "data": {
      "text/plain": [
       "Index(['ID', 'Maker', ' Genmodel', ' Genmodel_ID', 'Adv_year', 'Adv_month',\n",
       "       'Color', 'Reg_year', 'Bodytype', 'Runned_Miles', 'Engin_size',\n",
       "       'Gearbox', 'Fuel_type', 'Price', 'Seat_num', 'Door_num', 'issue',\n",
       "       'issue_id', 'Adv_day', 'breakdown_date', 'repair_complexity',\n",
       "       'repair_cost', 'repair_hours', 'repair_date', 'value', 'Label'],\n",
       "      dtype='object')"
      ]
     },
     "execution_count": 358,
     "metadata": {},
     "output_type": "execute_result"
    }
   ],
   "source": [
    "df.columns"
   ]
  },
  {
   "cell_type": "code",
   "execution_count": 359,
   "id": "2ee1ca0f",
   "metadata": {},
   "outputs": [],
   "source": [
    "df = df.drop('ID', axis=1)  # drop \"Id\" column as uninformative"
   ]
  },
  {
   "cell_type": "code",
   "execution_count": 360,
   "id": "9ec6c19b",
   "metadata": {},
   "outputs": [],
   "source": [
    "# define function to uniformly format column names (remove whitespaces and change to lowercase)\n",
    "def clean_column_names(df):\n",
    "    df = df.rename(columns=lambda x: x.strip().lower())\n",
    "    return df"
   ]
  },
  {
   "cell_type": "code",
   "execution_count": 361,
   "id": "f8651d15",
   "metadata": {},
   "outputs": [
    {
     "data": {
      "text/plain": [
       "Index(['maker', 'genmodel', 'genmodel_id', 'adv_year', 'adv_month', 'color',\n",
       "       'reg_year', 'bodytype', 'runned_miles', 'engin_size', 'gearbox',\n",
       "       'fuel_type', 'price', 'seat_num', 'door_num', 'issue', 'issue_id',\n",
       "       'adv_day', 'breakdown_date', 'repair_complexity', 'repair_cost',\n",
       "       'repair_hours', 'repair_date', 'value', 'label'],\n",
       "      dtype='object')"
      ]
     },
     "execution_count": 361,
     "metadata": {},
     "output_type": "execute_result"
    }
   ],
   "source": [
    "# apply the newly defined function\n",
    "df = clean_column_names(df)\n",
    "df.columns"
   ]
  },
  {
   "cell_type": "code",
   "execution_count": 362,
   "id": "96834620",
   "metadata": {},
   "outputs": [
    {
     "data": {
      "text/plain": [
       "Index(['maker', 'genmodel', 'genmodel_id', 'adv_year', 'adv_month', 'color',\n",
       "       'reg_year', 'bodytype', 'mileage', 'engine_size', 'gearbox',\n",
       "       'fuel_type', 'price', 'seat_num', 'door_num', 'issue', 'issue_id',\n",
       "       'adv_day', 'breakdown_date', 'repair_complexity', 'repair_cost',\n",
       "       'repair_hours', 'repair_date', 'value', 'label'],\n",
       "      dtype='object')"
      ]
     },
     "execution_count": 362,
     "metadata": {},
     "output_type": "execute_result"
    }
   ],
   "source": [
    "# solve minor column name issues\n",
    "df.rename(columns={'engin_size': 'engine_size', 'runned_miles': 'mileage'}, inplace=True)\n",
    "df.columns"
   ]
  },
  {
   "cell_type": "code",
   "execution_count": 363,
   "id": "f604130a",
   "metadata": {},
   "outputs": [
    {
     "data": {
      "text/plain": [
       "False"
      ]
     },
     "execution_count": 363,
     "metadata": {},
     "output_type": "execute_result"
    }
   ],
   "source": [
    "# check for NaNs\n",
    "df.isnull().sum().any()"
   ]
  },
  {
   "cell_type": "code",
   "execution_count": 364,
   "id": "50eab1b0",
   "metadata": {},
   "outputs": [
    {
     "data": {
      "text/plain": [
       "False"
      ]
     },
     "execution_count": 364,
     "metadata": {},
     "output_type": "execute_result"
    }
   ],
   "source": [
    "# check for duplicate rows\n",
    "df.duplicated().any()"
   ]
  },
  {
   "cell_type": "markdown",
   "id": "9173a98e",
   "metadata": {},
   "source": [
    "## Clean numerical features"
   ]
  },
  {
   "cell_type": "code",
   "execution_count": 365,
   "id": "12a51b12",
   "metadata": {},
   "outputs": [],
   "source": [
    "# define a function to find indices for outliers in a column\n",
    "def find_outliers(feature):\n",
    "\n",
    "    # Convert input to numpy array\n",
    "    data = np.array(feature)\n",
    "    \n",
    "    # Calculate Q1, Q3, and IQR\n",
    "    Q1 = np.percentile(data, 25)\n",
    "    Q3 = np.percentile(data, 75)\n",
    "    IQR = Q3 - Q1\n",
    "    \n",
    "    # Define outlier boundaries\n",
    "    lower_bound = Q1 - 1.5 * IQR\n",
    "    upper_bound = Q3 + 1.5 * IQR\n",
    "    \n",
    "    # Find outliers\n",
    "    outlier_indices = np.where((data < lower_bound) | (data > upper_bound))[0]\n",
    "    \n",
    "    return outlier_indices.tolist()"
   ]
  },
  {
   "cell_type": "code",
   "execution_count": 366,
   "id": "0b3857b0",
   "metadata": {},
   "outputs": [
    {
     "data": {
      "application/vnd.microsoft.datawrangler.viewer.v0+json": {
       "columns": [
        {
         "name": "index",
         "rawType": "object",
         "type": "string"
        },
        {
         "name": "count",
         "rawType": "float64",
         "type": "float"
        },
        {
         "name": "mean",
         "rawType": "float64",
         "type": "float"
        },
        {
         "name": "std",
         "rawType": "float64",
         "type": "float"
        },
        {
         "name": "min",
         "rawType": "float64",
         "type": "float"
        },
        {
         "name": "25%",
         "rawType": "float64",
         "type": "float"
        },
        {
         "name": "50%",
         "rawType": "float64",
         "type": "float"
        },
        {
         "name": "75%",
         "rawType": "float64",
         "type": "float"
        },
        {
         "name": "max",
         "rawType": "float64",
         "type": "float"
        }
       ],
       "conversionMethod": "pd.DataFrame",
       "ref": "9560f169-cc9a-4381-9114-44cdf384734e",
       "rows": [
        [
         "adv_year",
         "37636.0",
         "2006.1",
         "147.53",
         "202.0",
         "2018.0",
         "2018.0",
         "2018.0",
         "2021.0"
        ],
        [
         "adv_month",
         "37636.0",
         "5.68",
         "2.07",
         "1.0",
         "4.0",
         "5.0",
         "7.0",
         "13.0"
        ],
        [
         "reg_year",
         "37636.0",
         "2012.38",
         "4.57",
         "1960.0",
         "2009.0",
         "2013.0",
         "2016.0",
         "2019.0"
        ],
        [
         "mileage",
         "37636.0",
         "48194.86",
         "39475.09",
         "-19826.0",
         "15389.75",
         "39249.0",
         "74204.5",
         "900000.0"
        ],
        [
         "price",
         "37636.0",
         "11840.0",
         "34044.82",
         "125.0",
         "3500.0",
         "7343.5",
         "11990.0",
         "2599990.0"
        ],
        [
         "seat_num",
         "37636.0",
         "5.11",
         "1.64",
         "2.0",
         "5.0",
         "5.0",
         "5.0",
         "20.0"
        ],
        [
         "door_num",
         "37636.0",
         "4.35",
         "1.12",
         "0.0",
         "3.0",
         "5.0",
         "5.0",
         "7.0"
        ],
        [
         "issue_id",
         "37636.0",
         "0.5",
         "1.13",
         "0.0",
         "0.0",
         "0.0",
         "0.0",
         "5.0"
        ],
        [
         "adv_day",
         "37636.0",
         "14.49",
         "8.09",
         "1.0",
         "7.0",
         "14.0",
         "22.0",
         "28.0"
        ],
        [
         "repair_complexity",
         "37636.0",
         "1.28",
         "0.55",
         "1.0",
         "1.0",
         "1.0",
         "1.0",
         "4.0"
        ],
        [
         "repair_cost",
         "37636.0",
         "309.05",
         "1547.47",
         "-44470.0",
         "25.16",
         "84.3",
         "243.24",
         "98690.12"
        ],
        [
         "repair_hours",
         "37636.0",
         "53.42",
         "718.34",
         "0.5",
         "1.0",
         "2.0",
         "6.0",
         "73134.61"
        ],
        [
         "value",
         "37636.0",
         "11248.02",
         "32342.56",
         "112.3",
         "3327.64",
         "6975.04",
         "11386.71",
         "2469992.74"
        ],
        [
         "label",
         "37636.0",
         "0.11",
         "0.31",
         "0.0",
         "0.0",
         "0.0",
         "0.0",
         "1.0"
        ]
       ],
       "shape": {
        "columns": 8,
        "rows": 14
       }
      },
      "text/html": [
       "<div>\n",
       "<style scoped>\n",
       "    .dataframe tbody tr th:only-of-type {\n",
       "        vertical-align: middle;\n",
       "    }\n",
       "\n",
       "    .dataframe tbody tr th {\n",
       "        vertical-align: top;\n",
       "    }\n",
       "\n",
       "    .dataframe thead th {\n",
       "        text-align: right;\n",
       "    }\n",
       "</style>\n",
       "<table border=\"1\" class=\"dataframe\">\n",
       "  <thead>\n",
       "    <tr style=\"text-align: right;\">\n",
       "      <th></th>\n",
       "      <th>count</th>\n",
       "      <th>mean</th>\n",
       "      <th>std</th>\n",
       "      <th>min</th>\n",
       "      <th>25%</th>\n",
       "      <th>50%</th>\n",
       "      <th>75%</th>\n",
       "      <th>max</th>\n",
       "    </tr>\n",
       "  </thead>\n",
       "  <tbody>\n",
       "    <tr>\n",
       "      <th>adv_year</th>\n",
       "      <td>37636.0</td>\n",
       "      <td>2006.10</td>\n",
       "      <td>147.53</td>\n",
       "      <td>202.0</td>\n",
       "      <td>2018.00</td>\n",
       "      <td>2018.00</td>\n",
       "      <td>2018.00</td>\n",
       "      <td>2021.00</td>\n",
       "    </tr>\n",
       "    <tr>\n",
       "      <th>adv_month</th>\n",
       "      <td>37636.0</td>\n",
       "      <td>5.68</td>\n",
       "      <td>2.07</td>\n",
       "      <td>1.0</td>\n",
       "      <td>4.00</td>\n",
       "      <td>5.00</td>\n",
       "      <td>7.00</td>\n",
       "      <td>13.00</td>\n",
       "    </tr>\n",
       "    <tr>\n",
       "      <th>reg_year</th>\n",
       "      <td>37636.0</td>\n",
       "      <td>2012.38</td>\n",
       "      <td>4.57</td>\n",
       "      <td>1960.0</td>\n",
       "      <td>2009.00</td>\n",
       "      <td>2013.00</td>\n",
       "      <td>2016.00</td>\n",
       "      <td>2019.00</td>\n",
       "    </tr>\n",
       "    <tr>\n",
       "      <th>mileage</th>\n",
       "      <td>37636.0</td>\n",
       "      <td>48194.86</td>\n",
       "      <td>39475.09</td>\n",
       "      <td>-19826.0</td>\n",
       "      <td>15389.75</td>\n",
       "      <td>39249.00</td>\n",
       "      <td>74204.50</td>\n",
       "      <td>900000.00</td>\n",
       "    </tr>\n",
       "    <tr>\n",
       "      <th>price</th>\n",
       "      <td>37636.0</td>\n",
       "      <td>11840.00</td>\n",
       "      <td>34044.82</td>\n",
       "      <td>125.0</td>\n",
       "      <td>3500.00</td>\n",
       "      <td>7343.50</td>\n",
       "      <td>11990.00</td>\n",
       "      <td>2599990.00</td>\n",
       "    </tr>\n",
       "    <tr>\n",
       "      <th>seat_num</th>\n",
       "      <td>37636.0</td>\n",
       "      <td>5.11</td>\n",
       "      <td>1.64</td>\n",
       "      <td>2.0</td>\n",
       "      <td>5.00</td>\n",
       "      <td>5.00</td>\n",
       "      <td>5.00</td>\n",
       "      <td>20.00</td>\n",
       "    </tr>\n",
       "    <tr>\n",
       "      <th>door_num</th>\n",
       "      <td>37636.0</td>\n",
       "      <td>4.35</td>\n",
       "      <td>1.12</td>\n",
       "      <td>0.0</td>\n",
       "      <td>3.00</td>\n",
       "      <td>5.00</td>\n",
       "      <td>5.00</td>\n",
       "      <td>7.00</td>\n",
       "    </tr>\n",
       "    <tr>\n",
       "      <th>issue_id</th>\n",
       "      <td>37636.0</td>\n",
       "      <td>0.50</td>\n",
       "      <td>1.13</td>\n",
       "      <td>0.0</td>\n",
       "      <td>0.00</td>\n",
       "      <td>0.00</td>\n",
       "      <td>0.00</td>\n",
       "      <td>5.00</td>\n",
       "    </tr>\n",
       "    <tr>\n",
       "      <th>adv_day</th>\n",
       "      <td>37636.0</td>\n",
       "      <td>14.49</td>\n",
       "      <td>8.09</td>\n",
       "      <td>1.0</td>\n",
       "      <td>7.00</td>\n",
       "      <td>14.00</td>\n",
       "      <td>22.00</td>\n",
       "      <td>28.00</td>\n",
       "    </tr>\n",
       "    <tr>\n",
       "      <th>repair_complexity</th>\n",
       "      <td>37636.0</td>\n",
       "      <td>1.28</td>\n",
       "      <td>0.55</td>\n",
       "      <td>1.0</td>\n",
       "      <td>1.00</td>\n",
       "      <td>1.00</td>\n",
       "      <td>1.00</td>\n",
       "      <td>4.00</td>\n",
       "    </tr>\n",
       "    <tr>\n",
       "      <th>repair_cost</th>\n",
       "      <td>37636.0</td>\n",
       "      <td>309.05</td>\n",
       "      <td>1547.47</td>\n",
       "      <td>-44470.0</td>\n",
       "      <td>25.16</td>\n",
       "      <td>84.30</td>\n",
       "      <td>243.24</td>\n",
       "      <td>98690.12</td>\n",
       "    </tr>\n",
       "    <tr>\n",
       "      <th>repair_hours</th>\n",
       "      <td>37636.0</td>\n",
       "      <td>53.42</td>\n",
       "      <td>718.34</td>\n",
       "      <td>0.5</td>\n",
       "      <td>1.00</td>\n",
       "      <td>2.00</td>\n",
       "      <td>6.00</td>\n",
       "      <td>73134.61</td>\n",
       "    </tr>\n",
       "    <tr>\n",
       "      <th>value</th>\n",
       "      <td>37636.0</td>\n",
       "      <td>11248.02</td>\n",
       "      <td>32342.56</td>\n",
       "      <td>112.3</td>\n",
       "      <td>3327.64</td>\n",
       "      <td>6975.04</td>\n",
       "      <td>11386.71</td>\n",
       "      <td>2469992.74</td>\n",
       "    </tr>\n",
       "    <tr>\n",
       "      <th>label</th>\n",
       "      <td>37636.0</td>\n",
       "      <td>0.11</td>\n",
       "      <td>0.31</td>\n",
       "      <td>0.0</td>\n",
       "      <td>0.00</td>\n",
       "      <td>0.00</td>\n",
       "      <td>0.00</td>\n",
       "      <td>1.00</td>\n",
       "    </tr>\n",
       "  </tbody>\n",
       "</table>\n",
       "</div>"
      ],
      "text/plain": [
       "                     count      mean       std      min       25%       50%  \\\n",
       "adv_year           37636.0   2006.10    147.53    202.0   2018.00   2018.00   \n",
       "adv_month          37636.0      5.68      2.07      1.0      4.00      5.00   \n",
       "reg_year           37636.0   2012.38      4.57   1960.0   2009.00   2013.00   \n",
       "mileage            37636.0  48194.86  39475.09 -19826.0  15389.75  39249.00   \n",
       "price              37636.0  11840.00  34044.82    125.0   3500.00   7343.50   \n",
       "seat_num           37636.0      5.11      1.64      2.0      5.00      5.00   \n",
       "door_num           37636.0      4.35      1.12      0.0      3.00      5.00   \n",
       "issue_id           37636.0      0.50      1.13      0.0      0.00      0.00   \n",
       "adv_day            37636.0     14.49      8.09      1.0      7.00     14.00   \n",
       "repair_complexity  37636.0      1.28      0.55      1.0      1.00      1.00   \n",
       "repair_cost        37636.0    309.05   1547.47 -44470.0     25.16     84.30   \n",
       "repair_hours       37636.0     53.42    718.34      0.5      1.00      2.00   \n",
       "value              37636.0  11248.02  32342.56    112.3   3327.64   6975.04   \n",
       "label              37636.0      0.11      0.31      0.0      0.00      0.00   \n",
       "\n",
       "                        75%         max  \n",
       "adv_year            2018.00     2021.00  \n",
       "adv_month              7.00       13.00  \n",
       "reg_year            2016.00     2019.00  \n",
       "mileage            74204.50   900000.00  \n",
       "price              11990.00  2599990.00  \n",
       "seat_num               5.00       20.00  \n",
       "door_num               5.00        7.00  \n",
       "issue_id               0.00        5.00  \n",
       "adv_day               22.00       28.00  \n",
       "repair_complexity      1.00        4.00  \n",
       "repair_cost          243.24    98690.12  \n",
       "repair_hours           6.00    73134.61  \n",
       "value              11386.71  2469992.74  \n",
       "label                  0.00        1.00  "
      ]
     },
     "execution_count": 366,
     "metadata": {},
     "output_type": "execute_result"
    }
   ],
   "source": [
    "# describe numerical features\n",
    "df.select_dtypes(np.number).describe().round(2).T"
   ]
  },
  {
   "cell_type": "code",
   "execution_count": 367,
   "id": "091ba5cf",
   "metadata": {},
   "outputs": [
    {
     "data": {
      "text/plain": [
       "<Axes: >"
      ]
     },
     "execution_count": 367,
     "metadata": {},
     "output_type": "execute_result"
    },
    {
     "data": {
      "image/png": "[encoded data removed]",
      "text/plain": [
       "<Figure size 640x480 with 2 Axes>"
      ]
     },
     "metadata": {},
     "output_type": "display_data"
    }
   ],
   "source": [
    "# First check how much numerical features correlate with one another\n",
    "\n",
    "corr_matrix = df.select_dtypes(np.number).corr().round(2)\n",
    "sns.heatmap(corr_matrix, annot=True, annot_kws={'size': 8})"
   ]
  },
  {
   "cell_type": "code",
   "execution_count": 368,
   "id": "9a2c7b7c",
   "metadata": {},
   "outputs": [],
   "source": [
    "# Features 'price' and 'value' appears to be the same variable.\n",
    "\n",
    "# drop 'value'\n",
    "df = df.drop('value', axis=1)"
   ]
  },
  {
   "cell_type": "code",
   "execution_count": 369,
   "id": "975e54d2",
   "metadata": {},
   "outputs": [
    {
     "data": {
      "text/plain": [
       "250"
      ]
     },
     "execution_count": 369,
     "metadata": {},
     "output_type": "execute_result"
    }
   ],
   "source": [
    "# 'adv_year' feature contains oddly low minimum value\n",
    "# count number of cars an advertisement year lower than 1950\n",
    "df['adv_year'][df['adv_year'] < 1950].shape[0]"
   ]
  },
  {
   "cell_type": "code",
   "execution_count": 370,
   "id": "e50ceb4b",
   "metadata": {},
   "outputs": [
    {
     "data": {
      "text/plain": [
       "array([202], dtype=int64)"
      ]
     },
     "execution_count": 370,
     "metadata": {},
     "output_type": "execute_result"
    }
   ],
   "source": [
    "# We have 250 unreasonably old dates\n",
    "# check if there is any variability in those\n",
    "df['adv_year'][df['adv_year'] < 1950].unique()"
   ]
  },
  {
   "cell_type": "code",
   "execution_count": 371,
   "id": "faa744f8",
   "metadata": {},
   "outputs": [
    {
     "data": {
      "text/plain": [
       "adv_year\n",
       "2012        1\n",
       "2013        2\n",
       "2014        5\n",
       "2015       10\n",
       "2016       62\n",
       "2017     1366\n",
       "2018    33302\n",
       "2019       21\n",
       "2020      250\n",
       "2021     2617\n",
       "dtype: int64"
      ]
     },
     "execution_count": 371,
     "metadata": {},
     "output_type": "execute_result"
    }
   ],
   "source": [
    "# No variability: 250 values have 'adv_year' equal to 202\n",
    "# this number should most likely stand for 2020, hence replace the values\n",
    "df['adv_year'] = df['adv_year'].replace(202, 2020)\n",
    "# check the frequency distribution for different years\n",
    "df.groupby('adv_year').size()"
   ]
  },
  {
   "cell_type": "code",
   "execution_count": 372,
   "id": "3db661ab",
   "metadata": {},
   "outputs": [
    {
     "data": {
      "text/plain": [
       "adv_month\n",
       "1      736\n",
       "2     1346\n",
       "3     2969\n",
       "4     6049\n",
       "5     8772\n",
       "6     3376\n",
       "7     5314\n",
       "8     7761\n",
       "9      301\n",
       "10     279\n",
       "11     368\n",
       "12     364\n",
       "13       1\n",
       "dtype: int64"
      ]
     },
     "execution_count": 372,
     "metadata": {},
     "output_type": "execute_result"
    }
   ],
   "source": [
    "# looks credible\n",
    "\n",
    "# Now let's check 'adv_month' feature\n",
    "df.groupby('adv_month').size()"
   ]
  },
  {
   "cell_type": "code",
   "execution_count": 373,
   "id": "75f61c9a",
   "metadata": {},
   "outputs": [],
   "source": [
    "# Month 13 most likely belongs to 12, hence replace the value\n",
    "df['adv_month'] = df['adv_month'].replace(13, 12)"
   ]
  },
  {
   "cell_type": "code",
   "execution_count": 374,
   "id": "6698f798",
   "metadata": {},
   "outputs": [
    {
     "data": {
      "text/plain": [
       "adv_day\n",
       "1     1331\n",
       "2     1361\n",
       "3     1356\n",
       "4     1315\n",
       "5     1350\n",
       "6     1323\n",
       "7     1431\n",
       "8     1408\n",
       "9     1372\n",
       "10    1316\n",
       "11    1305\n",
       "12    1366\n",
       "13    1313\n",
       "14    1343\n",
       "15    1299\n",
       "16    1353\n",
       "17    1285\n",
       "18    1290\n",
       "19    1337\n",
       "20    1371\n",
       "21    1340\n",
       "22    1378\n",
       "23    1344\n",
       "24    1409\n",
       "25    1316\n",
       "26    1387\n",
       "27    1284\n",
       "28    1353\n",
       "dtype: int64"
      ]
     },
     "execution_count": 374,
     "metadata": {},
     "output_type": "execute_result"
    }
   ],
   "source": [
    "# check advertisment day\n",
    "df.groupby('adv_day').size()"
   ]
  },
  {
   "cell_type": "code",
   "execution_count": 375,
   "id": "e8191807",
   "metadata": {},
   "outputs": [],
   "source": [
    "# looks ok overall though kind of strange to have 28 days for each month\n",
    "\n",
    "# Let's combine advertisement day, month and year into one date feature and drop redundant columns\n",
    "df['adv_date'] = pd.to_datetime({'year': df['adv_year'], 'month': df['adv_month'], 'day': df['adv_day']})\n",
    "df = df.drop(['adv_year', 'adv_month', 'adv_day'], axis=1)"
   ]
  },
  {
   "cell_type": "code",
   "execution_count": 376,
   "id": "25fd6394",
   "metadata": {},
   "outputs": [
    {
     "data": {
      "text/plain": [
       "2882    2021-06-28\n",
       "18822   2021-06-28\n",
       "16943   2021-06-28\n",
       "Name: adv_date, dtype: datetime64[ns]"
      ]
     },
     "execution_count": 376,
     "metadata": {},
     "output_type": "execute_result"
    }
   ],
   "source": [
    "# check the most recent advertisement dates to find a feasible reference point for calculating advertisement recency\n",
    "df['adv_date'].sort_values().tail(3)"
   ]
  },
  {
   "cell_type": "code",
   "execution_count": 377,
   "id": "792e4938",
   "metadata": {},
   "outputs": [
    {
     "data": {
      "text/plain": [
       "<Axes: xlabel='adv_recency', ylabel='Count'>"
      ]
     },
     "execution_count": 377,
     "metadata": {},
     "output_type": "execute_result"
    },
    {
     "data": {
      "image/png": "[encoded data removed]",
      "text/plain": [
       "<Figure size 800x300 with 1 Axes>"
      ]
     },
     "metadata": {},
     "output_type": "display_data"
    }
   ],
   "source": [
    "# let's use 2022-01-01 as a reference date\n",
    "reference_date = pd.to_datetime('2022-01-01')\n",
    "\n",
    "# distance to the reference date in days (recency)\n",
    "df['adv_recency'] = (reference_date - df['adv_date']).dt.days\n",
    "\n",
    "# extract additional features to represent possible cyclic predictors such as weekday and month\n",
    "df['month'] = df['adv_date'].dt.month\n",
    "df['weekday'] = df['adv_date'].dt.weekday\n",
    "\n",
    "df = df.drop('adv_date', axis=1)  # drop 'adv_date' as redundant\n",
    "\n",
    "# plot the distribution plot for 'adv_recency'\n",
    "plt.figure(figsize=(8, 3))\n",
    "sns.histplot(df['adv_recency'])"
   ]
  },
  {
   "cell_type": "code",
   "execution_count": 378,
   "id": "d9af64b6",
   "metadata": {},
   "outputs": [],
   "source": [
    "# 'adv_recency' distribution is far from normal\n",
    "# hence apply log transformation\n",
    "df['adv_recency_log'] = np.log1p(df['adv_recency'])\n",
    "\n",
    "df = df.drop('adv_recency', axis=1)  # drop 'adv_recency' as redundant\n",
    "\n",
    "# and use RobustScaler\n",
    "from sklearn.preprocessing import RobustScaler\n",
    "scaler = RobustScaler()\n",
    "df['adv_recency_scaled'] = scaler.fit_transform(df[['adv_recency_log']])\n",
    "\n",
    "# drop 'adv_recency_log' as redundant\n",
    "df = df.drop('adv_recency_log', axis=1)"
   ]
  },
  {
   "cell_type": "code",
   "execution_count": 379,
   "id": "20647193",
   "metadata": {},
   "outputs": [
    {
     "data": {
      "text/plain": [
       "weekday\n",
       "0    5441\n",
       "1    5374\n",
       "2    5319\n",
       "3    5282\n",
       "4    5442\n",
       "5    5424\n",
       "6    5354\n",
       "Name: count, dtype: int64"
      ]
     },
     "execution_count": 379,
     "metadata": {},
     "output_type": "execute_result"
    }
   ],
   "source": [
    "# check the newly engineered features, first check weekdays\n",
    "df['weekday'].value_counts().sort_index()"
   ]
  },
  {
   "cell_type": "code",
   "execution_count": 380,
   "id": "04ea4ec8",
   "metadata": {},
   "outputs": [
    {
     "data": {
      "text/plain": [
       "month\n",
       "1      736\n",
       "2     1346\n",
       "3     2969\n",
       "4     6049\n",
       "5     8772\n",
       "6     3376\n",
       "7     5314\n",
       "8     7761\n",
       "9      301\n",
       "10     279\n",
       "11     368\n",
       "12     365\n",
       "Name: count, dtype: int64"
      ]
     },
     "execution_count": 380,
     "metadata": {},
     "output_type": "execute_result"
    }
   ],
   "source": [
    "# check months\n",
    "df['month'].value_counts().sort_index()"
   ]
  },
  {
   "cell_type": "code",
   "execution_count": 381,
   "id": "0f154aaf",
   "metadata": {},
   "outputs": [],
   "source": [
    "# Features like month and weekday are cyclic (e.g., December is close to January, Sunday to Monday etc.)\n",
    "# Logistic regression treats them as linear, which can miss this relationship\n",
    "# We will encode them as sin/cos pairs to capture their cyclic nature:\n",
    "\n",
    "# cyclic encoding for month\n",
    "df['month_sin'] = np.sin(2 * np.pi * df['month'] / 12)\n",
    "df['month_cos'] = np.cos(2 * np.pi * df['month'] / 12)\n",
    "\n",
    "# cyclic encoding for weekday\n",
    "df['weekday_sin'] = np.sin(2 * np.pi * df['weekday'] / 7)\n",
    "df['weekday_cos'] = np.cos(2 * np.pi * df['weekday'] / 7)\n",
    "\n",
    "# Drop adv_day, month and weekday as we don't need them anymore\n",
    "df = df.drop(['month', 'weekday'], axis=1)"
   ]
  },
  {
   "cell_type": "code",
   "execution_count": 382,
   "id": "9cd43943",
   "metadata": {},
   "outputs": [
    {
     "data": {
      "text/plain": [
       "<Axes: xlabel='reg_year', ylabel='Count'>"
      ]
     },
     "execution_count": 382,
     "metadata": {},
     "output_type": "execute_result"
    },
    {
     "data": {
      "image/png": "[encoded data removed]",
      "text/plain": [
       "<Figure size 800x300 with 1 Axes>"
      ]
     },
     "metadata": {},
     "output_type": "display_data"
    }
   ],
   "source": [
    "# Check 'reg_year' distribution\n",
    "plt.figure(figsize=(8, 3))\n",
    "sns.histplot(df['reg_year'])"
   ]
  },
  {
   "cell_type": "code",
   "execution_count": 383,
   "id": "8fc6cd6e",
   "metadata": {},
   "outputs": [],
   "source": [
    "# Instead of using the absolute year (reg_year), let's calculate the age of the vehicle by subtracting reg_year from a reference year\n",
    "# This captures the recency of the vehicle (e.g., newer vehicles might be more likely to have a positive label)\n",
    "\n",
    "# calculate vehicle age (using 2022 as reference)\n",
    "df['vehicle_age'] = 2022 - df['reg_year']\n",
    "\n",
    "# drop 'reg_year'\n",
    "df = df.drop('reg_year', axis = 1)\n",
    "\n",
    "# log transform the feature as it looks highly left skewed\n",
    "df['vehicle_age_log'] = np.log1p(df['vehicle_age'])\n",
    "\n",
    "# use RobustScaler\n",
    "scaler = RobustScaler()\n",
    "df['vehicle_age_scaled'] = scaler.fit_transform(df[['vehicle_age_log']])\n",
    "\n",
    "# drop 'vehicle_age_log' and 'vehicle_age' as redundant\n",
    "df = df.drop(['vehicle_age', 'vehicle_age_log'], axis=1)\n"
   ]
  },
  {
   "cell_type": "code",
   "execution_count": 384,
   "id": "2ea6a3d8",
   "metadata": {},
   "outputs": [
    {
     "data": {
      "text/plain": [
       "<Axes: xlabel='mileage', ylabel='Count'>"
      ]
     },
     "execution_count": 384,
     "metadata": {},
     "output_type": "execute_result"
    },
    {
     "data": {
      "image/png": "[encoded data removed]",
      "text/plain": [
       "<Figure size 800x300 with 1 Axes>"
      ]
     },
     "metadata": {},
     "output_type": "display_data"
    }
   ],
   "source": [
    "# Check 'mileage' feature\n",
    "plt.figure(figsize=(8, 3))\n",
    "sns.histplot(df['mileage'])"
   ]
  },
  {
   "cell_type": "code",
   "execution_count": 385,
   "id": "83f930ee",
   "metadata": {},
   "outputs": [
    {
     "data": {
      "text/plain": [
       "134"
      ]
     },
     "execution_count": 385,
     "metadata": {},
     "output_type": "execute_result"
    }
   ],
   "source": [
    "# count negative values\n",
    "df.query('mileage < 0').shape[0]"
   ]
  },
  {
   "cell_type": "code",
   "execution_count": 386,
   "id": "65cdfee6",
   "metadata": {},
   "outputs": [
    {
     "data": {
      "text/plain": [
       "<Axes: xlabel='mileage', ylabel='Count'>"
      ]
     },
     "execution_count": 386,
     "metadata": {},
     "output_type": "execute_result"
    },
    {
     "data": {
      "image/png": "[encoded data removed]",
      "text/plain": [
       "<Figure size 800x300 with 1 Axes>"
      ]
     },
     "metadata": {},
     "output_type": "display_data"
    }
   ],
   "source": [
    "# check detailed distribution of negative values for 'mileage'\n",
    "plt.figure(figsize=(8, 3))\n",
    "sns.histplot(df['mileage'][df['mileage'] < 0])"
   ]
  },
  {
   "cell_type": "code",
   "execution_count": 387,
   "id": "aafd6534",
   "metadata": {},
   "outputs": [],
   "source": [
    "# looks like negative sign is a typo here\n",
    "# let's convert negative mileage to positive\n",
    "df['mileage'] = df['mileage'].abs()\n",
    "# log transform the feature\n",
    "df['mileage_log'] = np.log1p(df['mileage'])"
   ]
  },
  {
   "cell_type": "code",
   "execution_count": 388,
   "id": "6c360ce1",
   "metadata": {},
   "outputs": [
    {
     "data": {
      "image/png": "[encoded data removed]",
      "text/plain": [
       "<Figure size 800x400 with 1 Axes>"
      ]
     },
     "metadata": {},
     "output_type": "display_data"
    }
   ],
   "source": [
    "# To reduce the impact of outliers on the logistic regression model, apply RobustScaler to the feature\n",
    "scaler = RobustScaler()\n",
    "df['mileage_scaled'] = scaler.fit_transform(df[['mileage_log']])\n",
    "\n",
    "# Visualize the resulting disctribution change\n",
    "plt.figure(figsize=(8, 4))\n",
    "sns.histplot(df['mileage_log'], color='orange', label='mileage_log')\n",
    "sns.histplot(df['mileage_scaled'], color='blue', label='mileage_scaled')\n",
    "plt.xlabel('Value')\n",
    "plt.ylabel('Count')\n",
    "plt.legend()\n",
    "plt.show()"
   ]
  },
  {
   "cell_type": "code",
   "execution_count": 389,
   "id": "a5a25fdd",
   "metadata": {},
   "outputs": [],
   "source": [
    "# Drop 'mileage_log' and 'mileage'\n",
    "df = df.drop(columns=['mileage', 'mileage_log'])"
   ]
  },
  {
   "cell_type": "code",
   "execution_count": 390,
   "id": "b2847cd8",
   "metadata": {},
   "outputs": [
    {
     "data": {
      "text/plain": [
       "<Axes: xlabel='price', ylabel='Count'>"
      ]
     },
     "execution_count": 390,
     "metadata": {},
     "output_type": "execute_result"
    },
    {
     "data": {
      "image/png": "[encoded data removed]",
      "text/plain": [
       "<Figure size 800x300 with 1 Axes>"
      ]
     },
     "metadata": {},
     "output_type": "display_data"
    }
   ],
   "source": [
    "# Vizualise the distribution of the 'price' feature\n",
    "plt.figure(figsize=(8, 3))\n",
    "sns.histplot(df['price'])"
   ]
  },
  {
   "cell_type": "code",
   "execution_count": 391,
   "id": "18dfd96c",
   "metadata": {},
   "outputs": [
    {
     "data": {
      "text/plain": [
       "28015    125.0\n",
       "21484    150.0\n",
       "32137    180.0\n",
       "174      195.0\n",
       "12595    195.0\n",
       "18814    199.0\n",
       "2321     200.0\n",
       "22214    200.0\n",
       "33684    200.0\n",
       "36126    200.0\n",
       "Name: price, dtype: float64"
      ]
     },
     "execution_count": 391,
     "metadata": {},
     "output_type": "execute_result"
    }
   ],
   "source": [
    "# 'price' feature is heavily right skewed\n",
    "# let's check 10 lowest values\n",
    "df['price'].sort_values().head(10)"
   ]
  },
  {
   "cell_type": "code",
   "execution_count": 392,
   "id": "0e223f8d",
   "metadata": {},
   "outputs": [
    {
     "data": {
      "text/plain": [
       "31763     350000.0\n",
       "1319      399950.0\n",
       "32506     459990.0\n",
       "16699     535000.0\n",
       "6882      599950.0\n",
       "28321    1250000.0\n",
       "31892    2000000.0\n",
       "28611    2195000.0\n",
       "20088    2500000.0\n",
       "5582     2599990.0\n",
       "Name: price, dtype: float64"
      ]
     },
     "execution_count": 392,
     "metadata": {},
     "output_type": "execute_result"
    }
   ],
   "source": [
    "# check 10 highest 'price' values\n",
    "df['price'].sort_values().tail(10)"
   ]
  },
  {
   "cell_type": "code",
   "execution_count": 393,
   "id": "7474b601",
   "metadata": {},
   "outputs": [
    {
     "name": "stdout",
     "output_type": "stream",
     "text": [
      "1958\n"
     ]
    }
   ],
   "source": [
    "# All outliers seem to be real numbers as it is not impossible to sell used cars very cheap and premium cars very expensive\n",
    "# Still let's check how many outliers we have\n",
    "price_outliers_indices = find_outliers(df['price'])\n",
    "print(len(df['price'][price_outliers_indices]))"
   ]
  },
  {
   "cell_type": "code",
   "execution_count": 394,
   "id": "37a2958a",
   "metadata": {},
   "outputs": [
    {
     "name": "stdout",
     "output_type": "stream",
     "text": [
      "1130\n"
     ]
    }
   ],
   "source": [
    "# Too many outliers. Let's log-transform the feature and check if it helped\n",
    "df['log_price'] = np.log1p(df['price'])\n",
    "price_outliers_indices = find_outliers(df['log_price'])\n",
    "print(len(df['log_price'][price_outliers_indices]))"
   ]
  },
  {
   "cell_type": "code",
   "execution_count": 395,
   "id": "2dd1aa6d",
   "metadata": {},
   "outputs": [
    {
     "data": {
      "image/png": "[encoded data removed]",
      "text/plain": [
       "<Figure size 800x400 with 1 Axes>"
      ]
     },
     "metadata": {},
     "output_type": "display_data"
    }
   ],
   "source": [
    "# We still have quite a large number of outliers which can be detrimental to the quality of predictive model\n",
    "# To reduce their impact on the logistic regression model, let's apply RobustScaler (instead of StandardScaler)\n",
    "scaler = RobustScaler()\n",
    "df['price_scaled'] = scaler.fit_transform(df[['log_price']])\n",
    "\n",
    "# Let's visualize the resulting disctribution change\n",
    "plt.figure(figsize=(8, 4))\n",
    "sns.histplot(df['log_price'], color='orange', label='log_price')\n",
    "sns.histplot(df['price_scaled'], color='blue', label='price_scaled')\n",
    "plt.xlabel('Value')\n",
    "plt.ylabel('Count')\n",
    "plt.legend()\n",
    "plt.show()"
   ]
  },
  {
   "cell_type": "code",
   "execution_count": 396,
   "id": "6d7a6a17",
   "metadata": {},
   "outputs": [],
   "source": [
    "# Drop 'price' and 'log_price'\n",
    "df = df.drop(columns=['price', 'log_price'])"
   ]
  },
  {
   "cell_type": "code",
   "execution_count": 397,
   "id": "7eac2991",
   "metadata": {},
   "outputs": [
    {
     "data": {
      "text/plain": [
       "seat_num\n",
       "2.0       654\n",
       "3.0        27\n",
       "4.0      6233\n",
       "5.0     27278\n",
       "6.0       149\n",
       "7.0      2516\n",
       "8.0        38\n",
       "9.0        31\n",
       "10.0       61\n",
       "11.0       71\n",
       "12.0       57\n",
       "13.0       56\n",
       "14.0       74\n",
       "15.0       72\n",
       "16.0       67\n",
       "17.0       53\n",
       "18.0       65\n",
       "19.0       70\n",
       "20.0       64\n",
       "Name: count, dtype: int64"
      ]
     },
     "execution_count": 397,
     "metadata": {},
     "output_type": "execute_result"
    }
   ],
   "source": [
    "# Check the frequency for each 'seat_num\" case\n",
    "df['seat_num'].value_counts().sort_index()"
   ]
  },
  {
   "cell_type": "code",
   "execution_count": 398,
   "id": "852cff02",
   "metadata": {},
   "outputs": [],
   "source": [
    "# While seat_num is numeric (integers), its distribution suggests it behaves more like a categorical feature\n",
    "# The long tail (8–20 seats) has low frequencies, and these rare values may not add much predictive power\n",
    "# Let's group the values into bins based on frequency and practical significance:\n",
    "# 2–3 seats: Small vehicles (e.g., sports cars, compact cars)\n",
    "# 4–5 seats: Standard vehicles (most common)\n",
    "# 6–7 seats: Larger family vehicles or SUVs\n",
    "# 8+ seats: Vans, buses, or specialty vehicles\n",
    "\n",
    "bins = [2, 3, 5, 7, 20]  # Define bin edges\n",
    "labels = ['2-3', '4-5', '6-7', '8+']  # Bin labels\n",
    "df['seat_num_binned'] = pd.cut(df['seat_num'], bins=bins, labels=labels, include_lowest=True)\n",
    "\n",
    "# One-hot encode the binned feature\n",
    "df = pd.get_dummies(df, columns=['seat_num_binned'], prefix='seat_num', drop_first=True)\n",
    "\n",
    "# Drop integer 'seat_num'\n",
    "df = df.drop('seat_num', axis=1)"
   ]
  },
  {
   "cell_type": "code",
   "execution_count": 399,
   "id": "d14cceec",
   "metadata": {},
   "outputs": [
    {
     "data": {
      "text/plain": [
       "door_num\n",
       "0.0      606\n",
       "2.0     1828\n",
       "3.0     7536\n",
       "4.0     1113\n",
       "5.0    26482\n",
       "6.0       70\n",
       "7.0        1\n",
       "Name: count, dtype: int64"
      ]
     },
     "execution_count": 399,
     "metadata": {},
     "output_type": "execute_result"
    }
   ],
   "source": [
    "# check 'door_num' feature\n",
    "df['door_num'].value_counts().sort_index()"
   ]
  },
  {
   "cell_type": "code",
   "execution_count": 400,
   "id": "492e6c7a",
   "metadata": {},
   "outputs": [
    {
     "data": {
      "text/plain": [
       "bodytype\n",
       "Car Derived Van      1\n",
       "Combi Van            2\n",
       "Convertible         46\n",
       "Coupe               78\n",
       "Estate              69\n",
       "Hatchback          234\n",
       "MPV                 64\n",
       "Pickup               8\n",
       "SUV                 18\n",
       "Saloon              18\n",
       "Wood                68\n",
       "dtype: int64"
      ]
     },
     "execution_count": 400,
     "metadata": {},
     "output_type": "execute_result"
    }
   ],
   "source": [
    "# The presence of 606 vehicles with 0 doors is unusual and might indicate either missing data or special vehicles (e.g. motorcycles)\n",
    "# Let's check how these vehicles are associated with 'bodytype'\n",
    "df[df['door_num'] == 0].groupby('bodytype').size()"
   ]
  },
  {
   "cell_type": "code",
   "execution_count": 401,
   "id": "20aad97d",
   "metadata": {},
   "outputs": [],
   "source": [
    "# It is obvious now that zero-doored vehicles refer to a missing value placeholder. Dropping relevant rows seems unpractical\n",
    "# The most direct solution would be imputing the mode of 'door_num' which is 5 doors (~70% of all cases)\n",
    "# Additionaly we will bin and one-hot-encode the feature\n",
    "\n",
    "df['door_num'] = df['door_num'].replace(0, 5)  # Impute 0 as 5\n",
    "bins = [2, 3, 5, 7]\n",
    "labels = ['2-3', '4-5', '6+']\n",
    "df['door_num_binned'] = pd.cut(df['door_num'], bins=bins, labels=labels, include_lowest=True)\n",
    "\n",
    "# One-hot encode the binned feature\n",
    "df = pd.get_dummies(df, columns=['door_num_binned'], prefix='door_num', drop_first=True)\n",
    "\n",
    "# Drop 'door_num'\n",
    "df = df.drop(['door_num'], axis=1)"
   ]
  },
  {
   "cell_type": "code",
   "execution_count": 402,
   "id": "a3e8b5a6",
   "metadata": {},
   "outputs": [
    {
     "data": {
      "text/plain": [
       "issue_id\n",
       "0    30092\n",
       "2     2046\n",
       "1     1942\n",
       "3     1906\n",
       "4     1196\n",
       "5      454\n",
       "Name: count, dtype: int64"
      ]
     },
     "execution_count": 402,
     "metadata": {},
     "output_type": "execute_result"
    }
   ],
   "source": [
    "# Check 'issue_id'\n",
    "df['issue_id'].value_counts()"
   ]
  },
  {
   "cell_type": "code",
   "execution_count": 403,
   "id": "0cba3c4f",
   "metadata": {},
   "outputs": [],
   "source": [
    "# It is not clear what information this feature represents but most likely the number of issues or defects identified with a vehicle\n",
    "# It looks plausible that the majority of sold cars had no defects and that the number of cars decreases with the number of identified issues\n",
    "# Seems reasonable to treat this feature like the previous one which implies binning to reduce dimensionality, and one-hot-encoding\n",
    "\n",
    "bins = [0, 1, 3, 5]\n",
    "labels = ['0', '1-2', '3+']\n",
    "df['issue_id_binned'] = pd.cut(df['issue_id'], bins=bins, labels=labels, include_lowest=True)\n",
    "\n",
    "# One-hot encode\n",
    "df = pd.get_dummies(df, columns=['issue_id_binned'], prefix='issue_id', drop_first=True)\n",
    "\n",
    "# drop 'issue_id'\n",
    "df = df.drop(['issue_id'], axis=1)"
   ]
  },
  {
   "cell_type": "code",
   "execution_count": 404,
   "id": "820d8194",
   "metadata": {},
   "outputs": [
    {
     "data": {
      "text/plain": [
       "repair_complexity\n",
       "1    28739\n",
       "2     7292\n",
       "3     1510\n",
       "4       95\n",
       "Name: count, dtype: int64"
      ]
     },
     "execution_count": 404,
     "metadata": {},
     "output_type": "execute_result"
    }
   ],
   "source": [
    "# Check 'repair_complexity'\n",
    "df['repair_complexity'].value_counts()"
   ]
  },
  {
   "cell_type": "code",
   "execution_count": 405,
   "id": "b7767d89",
   "metadata": {},
   "outputs": [],
   "source": [
    "# bin and one-hot-encode 'repair_complexity'\n",
    "bins = [0, 1, 2, 4]\n",
    "labels = ['1', '2', '3-4']\n",
    "df['repair_complexity_binned'] = pd.cut(df['repair_complexity'], bins=bins, labels=labels, include_lowest=True)\n",
    "df = pd.get_dummies(df, columns=['repair_complexity_binned'], prefix='repair_complexity', drop_first=True)\n",
    "\n",
    "# drop 'repair_complexity'\n",
    "df = df.drop(['repair_complexity'], axis=1)"
   ]
  },
  {
   "cell_type": "code",
   "execution_count": 406,
   "id": "03f2d32e",
   "metadata": {},
   "outputs": [
    {
     "data": {
      "text/plain": [
       "<Axes: xlabel='repair_cost', ylabel='Count'>"
      ]
     },
     "execution_count": 406,
     "metadata": {},
     "output_type": "execute_result"
    },
    {
     "data": {
      "image/png": "[encoded data removed]",
      "text/plain": [
       "<Figure size 800x300 with 1 Axes>"
      ]
     },
     "metadata": {},
     "output_type": "display_data"
    }
   ],
   "source": [
    "# visualize 'repair_cost'\n",
    "plt.figure(figsize=(8, 3))\n",
    "sns.histplot(df['repair_cost'])"
   ]
  },
  {
   "cell_type": "code",
   "execution_count": 407,
   "id": "51f3e477",
   "metadata": {},
   "outputs": [
    {
     "data": {
      "text/plain": [
       "<Axes: xlabel='repair_cost_log', ylabel='Count'>"
      ]
     },
     "execution_count": 407,
     "metadata": {},
     "output_type": "execute_result"
    },
    {
     "data": {
      "image/png": "[encoded data removed]",
      "text/plain": [
       "<Figure size 800x300 with 1 Axes>"
      ]
     },
     "metadata": {},
     "output_type": "display_data"
    }
   ],
   "source": [
    "# invert negative values and log transform the feature\n",
    "df['repair_cost_log'] = np.log1p(df['repair_cost'].abs())\n",
    "\n",
    "# drop 'repair_complexity'\n",
    "df = df.drop(['repair_cost'], axis=1)\n",
    "\n",
    "# visualize 'repair_cost_log'\n",
    "plt.figure(figsize=(8, 3))\n",
    "sns.histplot(df['repair_cost_log'])"
   ]
  },
  {
   "cell_type": "code",
   "execution_count": 408,
   "id": "447e8a8b",
   "metadata": {},
   "outputs": [],
   "source": [
    "# To reduce the impact of outliers on the logistic regression model, let's apply RobustScaler\n",
    "\n",
    "from sklearn.preprocessing import RobustScaler\n",
    "scaler = RobustScaler()\n",
    "df['repair_cost_scaled'] = scaler.fit_transform(df[['repair_cost_log']])\n",
    "\n",
    "# drop 'repair_cost_log'\n",
    "df = df.drop('repair_cost_log', axis=1)"
   ]
  },
  {
   "cell_type": "code",
   "execution_count": 409,
   "id": "1e4ed4b7",
   "metadata": {},
   "outputs": [
    {
     "data": {
      "text/plain": [
       "<Axes: xlabel='repair_hours_log', ylabel='Count'>"
      ]
     },
     "execution_count": 409,
     "metadata": {},
     "output_type": "execute_result"
    },
    {
     "data": {
      "image/png": "[encoded data removed]",
      "text/plain": [
       "<Figure size 800x300 with 1 Axes>"
      ]
     },
     "metadata": {},
     "output_type": "display_data"
    }
   ],
   "source": [
    "# 'repair_hours_log' feature is extremely skewed, so that the computer struggles to build a histplot for it\n",
    "# let's first log transform it\n",
    "df['repair_hours_log'] = np.log1p(df['repair_hours'])\n",
    "\n",
    "# visualize 'repair_hours_log'\n",
    "plt.figure(figsize=(8, 3))\n",
    "sns.histplot(df['repair_hours_log'])"
   ]
  },
  {
   "cell_type": "code",
   "execution_count": 410,
   "id": "492d6bc2",
   "metadata": {},
   "outputs": [
    {
     "name": "stdout",
     "output_type": "stream",
     "text": [
      "repair_hours_binned\n",
      "0-2           20464\n",
      "2-10          13005\n",
      "10-50          2374\n",
      "50-100          324\n",
      "100-200         314\n",
      "200-500         393\n",
      "500-1000        373\n",
      "1000-10000      372\n",
      "Name: count, dtype: int64\n"
     ]
    }
   ],
   "source": [
    "# The feature is heavily skewed even after log transformation\n",
    "# Let's examine the distribution more closely\n",
    "\n",
    "# Define the bins\n",
    "bins = [0, 2, 10, 50, 100, 200, 500, 1000, 10000]\n",
    "\n",
    "# Bin the repair_hours column\n",
    "labels = ['0-2', '2-10', '10-50', '50-100', '100-200', '200-500', '500-1000', '1000-10000']\n",
    "df['repair_hours_binned'] = pd.cut(df['repair_hours'], bins=bins, labels=labels, include_lowest=True)\n",
    "\n",
    "# Count the rows in each bin\n",
    "bin_counts = df['repair_hours_binned'].value_counts().sort_index()\n",
    "\n",
    "# Print the counts\n",
    "print(bin_counts)"
   ]
  },
  {
   "cell_type": "code",
   "execution_count": 411,
   "id": "61b2fb64",
   "metadata": {},
   "outputs": [],
   "source": [
    "# To avoid dropping outliers (to prevent their negative impact on the model) let's bin the feature more tightly and one-hot-encode it\n",
    "\n",
    "# Define the bins\n",
    "bins = [0, 2, 10, 100, 10000]\n",
    "\n",
    "# Bin and one-hot-encode the repair_hours column\n",
    "labels = ['0-2', '2-10', '10-100', '100-10000']\n",
    "df['repair_hours_binned'] = pd.cut(df['repair_hours'], bins=bins, labels=labels, include_lowest=True)\n",
    "df = pd.get_dummies(df, columns=['repair_hours_binned'], prefix='repair_hours', drop_first=True)\n",
    "\n",
    "# drop 'repair_hours' and 'repair_hours_log' as redundant\n",
    "df = df.drop(['repair_hours', 'repair_hours_log'], axis=1)"
   ]
  },
  {
   "cell_type": "markdown",
   "id": "7c3ea051",
   "metadata": {},
   "source": [
    "## Cleaning categorical features"
   ]
  },
  {
   "cell_type": "code",
   "execution_count": 412,
   "id": "011ca106",
   "metadata": {},
   "outputs": [
    {
     "data": {
      "application/vnd.microsoft.datawrangler.viewer.v0+json": {
       "columns": [
        {
         "name": "index",
         "rawType": "object",
         "type": "string"
        },
        {
         "name": "count",
         "rawType": "object",
         "type": "unknown"
        },
        {
         "name": "unique",
         "rawType": "object",
         "type": "unknown"
        },
        {
         "name": "top",
         "rawType": "object",
         "type": "string"
        },
        {
         "name": "freq",
         "rawType": "object",
         "type": "unknown"
        }
       ],
       "conversionMethod": "pd.DataFrame",
       "ref": "08407db0-6396-4267-9281-19a82ca9d753",
       "rows": [
        [
         "maker",
         "37636",
         "25",
         "Ford",
         "18763"
        ],
        [
         "genmodel",
         "37636",
         "196",
         "Focus",
         "3612"
        ],
        [
         "genmodel_id",
         "37636",
         "195",
         "29_14",
         "3612"
        ],
        [
         "color",
         "37636",
         "22",
         "Black",
         "5825"
        ],
        [
         "bodytype",
         "37636",
         "15",
         "Hatchback",
         "20558"
        ],
        [
         "engine_size",
         "37636",
         "54",
         "1.6L",
         "8838"
        ],
        [
         "gearbox",
         "37636",
         "4",
         "Manual",
         "30980"
        ],
        [
         "fuel_type",
         "37636",
         "12",
         "Petrol",
         "21409"
        ],
        [
         "issue",
         "37636",
         "90",
         "Transmission Issue",
         "2350"
        ],
        [
         "breakdown_date",
         "37636",
         "930",
         "2018-05-05",
         "297"
        ],
        [
         "repair_date",
         "37636",
         "982",
         "2018-05-05",
         "296"
        ]
       ],
       "shape": {
        "columns": 4,
        "rows": 11
       }
      },
      "text/html": [
       "<div>\n",
       "<style scoped>\n",
       "    .dataframe tbody tr th:only-of-type {\n",
       "        vertical-align: middle;\n",
       "    }\n",
       "\n",
       "    .dataframe tbody tr th {\n",
       "        vertical-align: top;\n",
       "    }\n",
       "\n",
       "    .dataframe thead th {\n",
       "        text-align: right;\n",
       "    }\n",
       "</style>\n",
       "<table border=\"1\" class=\"dataframe\">\n",
       "  <thead>\n",
       "    <tr style=\"text-align: right;\">\n",
       "      <th></th>\n",
       "      <th>count</th>\n",
       "      <th>unique</th>\n",
       "      <th>top</th>\n",
       "      <th>freq</th>\n",
       "    </tr>\n",
       "  </thead>\n",
       "  <tbody>\n",
       "    <tr>\n",
       "      <th>maker</th>\n",
       "      <td>37636</td>\n",
       "      <td>25</td>\n",
       "      <td>Ford</td>\n",
       "      <td>18763</td>\n",
       "    </tr>\n",
       "    <tr>\n",
       "      <th>genmodel</th>\n",
       "      <td>37636</td>\n",
       "      <td>196</td>\n",
       "      <td>Focus</td>\n",
       "      <td>3612</td>\n",
       "    </tr>\n",
       "    <tr>\n",
       "      <th>genmodel_id</th>\n",
       "      <td>37636</td>\n",
       "      <td>195</td>\n",
       "      <td>29_14</td>\n",
       "      <td>3612</td>\n",
       "    </tr>\n",
       "    <tr>\n",
       "      <th>color</th>\n",
       "      <td>37636</td>\n",
       "      <td>22</td>\n",
       "      <td>Black</td>\n",
       "      <td>5825</td>\n",
       "    </tr>\n",
       "    <tr>\n",
       "      <th>bodytype</th>\n",
       "      <td>37636</td>\n",
       "      <td>15</td>\n",
       "      <td>Hatchback</td>\n",
       "      <td>20558</td>\n",
       "    </tr>\n",
       "    <tr>\n",
       "      <th>engine_size</th>\n",
       "      <td>37636</td>\n",
       "      <td>54</td>\n",
       "      <td>1.6L</td>\n",
       "      <td>8838</td>\n",
       "    </tr>\n",
       "    <tr>\n",
       "      <th>gearbox</th>\n",
       "      <td>37636</td>\n",
       "      <td>4</td>\n",
       "      <td>Manual</td>\n",
       "      <td>30980</td>\n",
       "    </tr>\n",
       "    <tr>\n",
       "      <th>fuel_type</th>\n",
       "      <td>37636</td>\n",
       "      <td>12</td>\n",
       "      <td>Petrol</td>\n",
       "      <td>21409</td>\n",
       "    </tr>\n",
       "    <tr>\n",
       "      <th>issue</th>\n",
       "      <td>37636</td>\n",
       "      <td>90</td>\n",
       "      <td>Transmission Issue</td>\n",
       "      <td>2350</td>\n",
       "    </tr>\n",
       "    <tr>\n",
       "      <th>breakdown_date</th>\n",
       "      <td>37636</td>\n",
       "      <td>930</td>\n",
       "      <td>2018-05-05</td>\n",
       "      <td>297</td>\n",
       "    </tr>\n",
       "    <tr>\n",
       "      <th>repair_date</th>\n",
       "      <td>37636</td>\n",
       "      <td>982</td>\n",
       "      <td>2018-05-05</td>\n",
       "      <td>296</td>\n",
       "    </tr>\n",
       "  </tbody>\n",
       "</table>\n",
       "</div>"
      ],
      "text/plain": [
       "                count unique                 top   freq\n",
       "maker           37636     25                Ford  18763\n",
       "genmodel        37636    196               Focus   3612\n",
       "genmodel_id     37636    195               29_14   3612\n",
       "color           37636     22               Black   5825\n",
       "bodytype        37636     15           Hatchback  20558\n",
       "engine_size     37636     54                1.6L   8838\n",
       "gearbox         37636      4              Manual  30980\n",
       "fuel_type       37636     12              Petrol  21409\n",
       "issue           37636     90  Transmission Issue   2350\n",
       "breakdown_date  37636    930          2018-05-05    297\n",
       "repair_date     37636    982          2018-05-05    296"
      ]
     },
     "execution_count": 412,
     "metadata": {},
     "output_type": "execute_result"
    }
   ],
   "source": [
    "df.select_dtypes('object').describe(include='all').T"
   ]
  },
  {
   "cell_type": "code",
   "execution_count": 413,
   "id": "65d8728a",
   "metadata": {},
   "outputs": [
    {
     "data": {
      "text/plain": [
       "maker\n",
       "Abarth         3\n",
       "Bentley        7\n",
       "Bugatti        1\n",
       "Cadillac       3\n",
       "Caterham       1\n",
       "Chevrolet     16\n",
       "Chrysler       8\n",
       "Citroen       27\n",
       "Corvette       1\n",
       "DAX            1\n",
       "DS             5\n",
       "Dacia          4\n",
       "Daewoo         2\n",
       "Daihatsu       6\n",
       "Daimler        1\n",
       "Dodge          7\n",
       "Ferrari       21\n",
       "Fiat          28\n",
       "Ford          33\n",
       "GMC            1\n",
       "Great Wall     1\n",
       "Grinnall       1\n",
       "Honda         17\n",
       "Hummer         2\n",
       "Hyundai        2\n",
       "Name: genmodel, dtype: int64"
      ]
     },
     "execution_count": 413,
     "metadata": {},
     "output_type": "execute_result"
    }
   ],
   "source": [
    "# Features 'maker' and 'genmodel' are related and can be combined into one feature\n",
    "# Count the number of unique values in 'genmodel' for each 'maker'\n",
    "df['genmodel'].groupby(df['maker']).nunique()"
   ]
  },
  {
   "cell_type": "code",
   "execution_count": 414,
   "id": "0d67de3f",
   "metadata": {},
   "outputs": [],
   "source": [
    "# Combine maker and genmodel with grouping\n",
    "df['maker_genmodel'] = df['maker'].astype(str) + '_' + df['genmodel'].astype(str)\n",
    "combined_counts = df['maker_genmodel'].value_counts()\n",
    "def group_rare_genmodels(row):\n",
    "    maker = row['maker']\n",
    "    maker_genmodel = row['maker_genmodel']\n",
    "    maker_count = df['maker'].value_counts()[maker]\n",
    "    threshold = max(376, maker_count * 0.01)\n",
    "    if combined_counts[maker_genmodel] < threshold:\n",
    "        return f\"{maker}_Other\"\n",
    "    return maker_genmodel\n",
    "df['maker_genmodel_grouped'] = df.apply(group_rare_genmodels, axis=1)\n",
    "df = pd.get_dummies(df, columns=['maker_genmodel_grouped'], prefix='maker_genmodel', drop_first=True)\n",
    "df = df.drop(['maker', 'genmodel', 'maker_genmodel'], axis=1)"
   ]
  },
  {
   "cell_type": "code",
   "execution_count": 415,
   "id": "b123b09f",
   "metadata": {},
   "outputs": [],
   "source": [
    "df = df.drop('genmodel_id', axis=1)  # drop 'genmodel_id' as uninformative"
   ]
  },
  {
   "cell_type": "code",
   "execution_count": 416,
   "id": "dbe0b7ef",
   "metadata": {},
   "outputs": [
    {
     "data": {
      "text/plain": [
       "color\n",
       "Black          5825\n",
       "Blue           5804\n",
       "Silver         5552\n",
       "Grey           4686\n",
       "White          4504\n",
       "Red            4221\n",
       "Gelb           2944\n",
       "Green           952\n",
       "Brown           666\n",
       "Yellow          660\n",
       "Orange          491\n",
       "Purple          469\n",
       "Beige           295\n",
       "Bronze          184\n",
       "Gold            135\n",
       "Pink            112\n",
       "Multicolour     100\n",
       "Turquoise        10\n",
       "Magenta           9\n",
       "Burgundy          8\n",
       "Maroon            8\n",
       "Indigo            1\n",
       "Name: count, dtype: int64"
      ]
     },
     "execution_count": 416,
     "metadata": {},
     "output_type": "execute_result"
    }
   ],
   "source": [
    "df.color.value_counts()"
   ]
  },
  {
   "cell_type": "code",
   "execution_count": 417,
   "id": "0ecf79cc",
   "metadata": {},
   "outputs": [],
   "source": [
    "# Group rare colors\n",
    "color_counts = df['color'].value_counts()\n",
    "colors_to_keep = color_counts[color_counts >= 376].index\n",
    "df['color_grouped'] = df['color'].apply(lambda x: x if x in colors_to_keep else 'Other')\n",
    "df = pd.get_dummies(df, columns=['color_grouped'], prefix='color', drop_first=True)\n",
    "df = df.drop('color', axis=1)  # drop 'color' as uninformative"
   ]
  },
  {
   "cell_type": "code",
   "execution_count": 418,
   "id": "c0df4d16",
   "metadata": {},
   "outputs": [
    {
     "data": {
      "text/plain": [
       "bodytype\n",
       "Hatchback          20558\n",
       "MPV                 6333\n",
       "SUV                 5703\n",
       "Estate              1296\n",
       "Convertible         1292\n",
       "Coupe                957\n",
       "Pickup               654\n",
       "Saloon               505\n",
       "Wood                 122\n",
       "Combi Van            102\n",
       "Car Derived Van       47\n",
       "Minibus               45\n",
       "Panel Van             19\n",
       "Window Van             2\n",
       "Tipper                 1\n",
       "Name: count, dtype: int64"
      ]
     },
     "execution_count": 418,
     "metadata": {},
     "output_type": "execute_result"
    }
   ],
   "source": [
    "df['bodytype'].value_counts()"
   ]
  },
  {
   "cell_type": "code",
   "execution_count": 419,
   "id": "76a63e17",
   "metadata": {},
   "outputs": [],
   "source": [
    "# Group rare bodytypes\n",
    "bodytype_counts = df['bodytype'].value_counts()\n",
    "bodytypes_to_keep = bodytype_counts[bodytype_counts >= 376].index  # 1% of 37,636 ≈ 376\n",
    "df['bodytypes_grouped'] = df['bodytype'].apply(lambda x: x if x in bodytypes_to_keep else 'Other')\n",
    "\n",
    "# Clean the category names by replacing spaces with underscores\n",
    "df['bodytypes_grouped'] = df['bodytypes_grouped'].str.replace(' ', '_')\n",
    "\n",
    "# One-hot encode\n",
    "df = pd.get_dummies(df, columns=['bodytypes_grouped'], prefix='bodytype', drop_first=True)\n",
    "\n",
    "# Drop the original bodytype column\n",
    "df = df.drop('bodytype', axis=1)"
   ]
  },
  {
   "cell_type": "code",
   "execution_count": 420,
   "id": "fabee98f",
   "metadata": {},
   "outputs": [
    {
     "data": {
      "text/plain": [
       "array(['1.0L', '2.0L', '1.25L', '1.2L', '2.5L', '1.6L', '1.4L', '2.2L',\n",
       "       '0.9L', '6.0L', '1.3L', '1.5L', '4.3L', '1.8L', '6.2L', '1.1L',\n",
       "       '1.9L', '5.0L', '5.5L', '2.8L', '4.0L', '3.2L', '999.0L', '4.5L',\n",
       "       '2.3L', '2.4L', '0.8L', '3.9L', '6.3L', '3.0L', '3.6L', '1.7L',\n",
       "       '4.7L', '3.3L', '5.7L', '6.5L', '3.7L', '6.75L', '2.7L', '6.8L',\n",
       "       '3.5L', '5.2L', '0.66L', '2.9L', '5.3L', '6.7L', '6.4L', '6.1L',\n",
       "       '5.4L', '7.0L', '3.8L', '4.6L', '5.8L', '4.2L'], dtype=object)"
      ]
     },
     "execution_count": 420,
     "metadata": {},
     "output_type": "execute_result"
    }
   ],
   "source": [
    "# check 'engine_size' feature\n",
    "df['engine_size'].unique()"
   ]
  },
  {
   "cell_type": "code",
   "execution_count": 421,
   "id": "bcb41ada",
   "metadata": {},
   "outputs": [
    {
     "data": {
      "text/plain": [
       "<Axes: xlabel='engine_size_numeric', ylabel='Count'>"
      ]
     },
     "execution_count": 421,
     "metadata": {},
     "output_type": "execute_result"
    },
    {
     "data": {
      "image/png": "[encoded data removed]",
      "text/plain": [
       "<Figure size 800x300 with 1 Axes>"
      ]
     },
     "metadata": {},
     "output_type": "display_data"
    }
   ],
   "source": [
    "# Let's convert 'engine_size' to a numeric type and deal with obviously erroneous '999.0L' value\n",
    "\n",
    "# Convert engine_size to numeric\n",
    "df['engine_size_numeric'] = df['engine_size'].str.replace('L', '').astype(float)\n",
    "\n",
    "# Handle the outlier (999.0L)\n",
    "df['engine_size_numeric'] = df['engine_size_numeric'].replace(999.0, np.nan)\n",
    "df['engine_size_numeric'] = df['engine_size_numeric'].fillna(df['engine_size_numeric'].median())\n",
    "\n",
    "# Check the distribution of the cleaned engine_size\n",
    "plt.figure(figsize=(8, 3))\n",
    "sns.histplot(df['engine_size_numeric'])"
   ]
  },
  {
   "cell_type": "code",
   "execution_count": 422,
   "id": "6c2cda5e",
   "metadata": {},
   "outputs": [],
   "source": [
    "# Scale the feature\n",
    "scaler = RobustScaler()\n",
    "df['engine_size_scaled'] = scaler.fit_transform(df[['engine_size_numeric']])\n",
    "\n",
    "# Drop unnesessary columns\n",
    "df = df.drop(['engine_size', 'engine_size_numeric'], axis=1)"
   ]
  },
  {
   "cell_type": "code",
   "execution_count": 423,
   "id": "fe19ff0b",
   "metadata": {},
   "outputs": [
    {
     "data": {
      "text/plain": [
       "gearbox\n",
       "Manual            30980\n",
       "Automatic          6607\n",
       "Hybrid               27\n",
       "Semi-Automatic       22\n",
       "Name: count, dtype: int64"
      ]
     },
     "execution_count": 423,
     "metadata": {},
     "output_type": "execute_result"
    }
   ],
   "source": [
    "# check 'gearbox' feature\n",
    "df['gearbox'].value_counts()"
   ]
  },
  {
   "cell_type": "code",
   "execution_count": 424,
   "id": "d3b1905b",
   "metadata": {},
   "outputs": [
    {
     "name": "stdout",
     "output_type": "stream",
     "text": [
      "gearbox_binary\n",
      "0    30980\n",
      "1     6656\n",
      "Name: count, dtype: int64\n"
     ]
    }
   ],
   "source": [
    "# Unite the rarest values (Hybrid, Semi-Automatic) into Automatic\n",
    "df['gearbox'] = df['gearbox'].replace(['Hybrid', 'Semi-Automatic'], 'Automatic')\n",
    "\n",
    "# Convert to binary (1 for Automatic, 0 for Manual)\n",
    "df['gearbox_binary'] = df['gearbox'].map({'Automatic': 1, 'Manual': 0})\n",
    "\n",
    "# Drop the original gearbox column\n",
    "df = df.drop('gearbox', axis=1)\n",
    "\n",
    "# Verify the result\n",
    "print(df['gearbox_binary'].value_counts())"
   ]
  },
  {
   "cell_type": "code",
   "execution_count": 425,
   "id": "2ca71b0e",
   "metadata": {},
   "outputs": [
    {
     "data": {
      "text/plain": [
       "fuel_type\n",
       "Petrol                                     21409\n",
       "Diesel                                     14394\n",
       "still_Diesel_but_you_found_an_easteregg     1586\n",
       "Hybrid  Petrol/Electric                      159\n",
       "Petrol Hybrid                                 40\n",
       "Hydrogen                                      28\n",
       "Electric                                       6\n",
       "Hybrid  Diesel/Electric                        6\n",
       "Bi Fuel                                        4\n",
       "Petrol Ethanol                                 2\n",
       "Hybrid  Petrol/Electric Plug-in                1\n",
       "Petrol Plug-in Hybrid                          1\n",
       "Name: count, dtype: int64"
      ]
     },
     "execution_count": 425,
     "metadata": {},
     "output_type": "execute_result"
    }
   ],
   "source": [
    "# check 'fuel_type' feature\n",
    "df['fuel_type'].value_counts()"
   ]
  },
  {
   "cell_type": "code",
   "execution_count": 426,
   "id": "dc1913e7",
   "metadata": {},
   "outputs": [],
   "source": [
    "# Get rid of the easteregg :D\n",
    "df['fuel_type'] = df['fuel_type'].replace('still_Diesel_but_you_found_an_easteregg', 'Diesel')"
   ]
  },
  {
   "cell_type": "code",
   "execution_count": 427,
   "id": "f8959023",
   "metadata": {},
   "outputs": [],
   "source": [
    "# join all 'Hybrids' together\n",
    "mask = df['fuel_type'].str.contains('Hybrid', case=False)\n",
    "df['fuel_type'] = df['fuel_type'].mask(mask, 'Hybrid')"
   ]
  },
  {
   "cell_type": "code",
   "execution_count": 428,
   "id": "67dd5bd3",
   "metadata": {},
   "outputs": [
    {
     "name": "stdout",
     "output_type": "stream",
     "text": [
      "fuel_type\n",
      "Petrol    21409\n",
      "Diesel    15980\n",
      "Other       247\n",
      "Name: count, dtype: int64\n"
     ]
    }
   ],
   "source": [
    "# Unite low-frequency values (<376) into 'Other'\n",
    "fuel_counts = df['fuel_type'].value_counts()\n",
    "fuels_to_keep = fuel_counts[fuel_counts >= 376].index\n",
    "df['fuel_type'] = df['fuel_type'].apply(lambda x: x if x in fuels_to_keep else 'Other')\n",
    "\n",
    "# Verify the result\n",
    "print(df['fuel_type'].value_counts())"
   ]
  },
  {
   "cell_type": "code",
   "execution_count": 429,
   "id": "729258c5",
   "metadata": {},
   "outputs": [],
   "source": [
    "# One-hot encode the fuel_type feature\n",
    "df = pd.get_dummies(df, columns=['fuel_type'], prefix='fuel_type', drop_first=True)\n"
   ]
  },
  {
   "cell_type": "code",
   "execution_count": 430,
   "id": "189725b9",
   "metadata": {},
   "outputs": [
    {
     "data": {
      "text/plain": [
       "array(['Excessive Emissions', '  Radiator Leaking  ',\n",
       "       '     Engine Issue     ', 'Flat Tyres', 'Windscreen Crack',\n",
       "       'Transmission Issue', 'Alternator Failing', 'Brake Pads Worn',\n",
       "       'Engine Issue', 'Tyre Alignment', 'Steering Wheel Shaking',\n",
       "       'Radiator Leaking', 'Gear Box Issue', 'Starter Motor Issue',\n",
       "       '    Transmission Issue    ', '  Tyre Alignment  ',\n",
       "       'Electrical Issue', 'Sensor Malfunction',\n",
       "       '    Radiator Leaking    ', '    Electrical Issue    ',\n",
       "       'Warning Light', '  Excessive Emissions  ',\n",
       "       '   Brake Pads Worn   ', '  Flat Tyres  ',\n",
       "       '     Windscreen Crack     ', ' Transmission Issue ',\n",
       "       '  Transmission Issue  ', '     Flat Tyres     ',\n",
       "       '    Steering Wheel Shaking    ', '  Alternator Failing  ',\n",
       "       '    Warning Light    ', '   Sensor Malfunction   ',\n",
       "       ' Flat Tyres ', '    Starter Motor Issue    ',\n",
       "       '  Steering Wheel Shaking  ', ' Brake Pads Worn ',\n",
       "       '     Electrical Issue     ', '  Sensor Malfunction  ',\n",
       "       '    Excessive Emissions    ', '    Sensor Malfunction    ',\n",
       "       '   Flat Tyres   ', '   Warning Light   ',\n",
       "       '   Radiator Leaking   ', ' Warning Light ',\n",
       "       '   Alternator Failing   ', '    Windscreen Crack    ',\n",
       "       ' Alternator Failing ', '    Brake Pads Worn    ',\n",
       "       '   Electrical Issue   ', '  Gear Box Issue  ',\n",
       "       '  Starter Motor Issue  ', '    Tyre Alignment    ',\n",
       "       '  Brake Pads Worn  ', '     Steering Wheel Shaking     ',\n",
       "       '   Excessive Emissions   ', ' Starter Motor Issue ',\n",
       "       ' Excessive Emissions ', '     Alternator Failing     ',\n",
       "       ' Steering Wheel Shaking ', '     Gear Box Issue     ',\n",
       "       '    Alternator Failing    ', '   Gear Box Issue   ',\n",
       "       '    Flat Tyres    ', '  Engine Issue  ',\n",
       "       '     Warning Light     ', '     Starter Motor Issue     ',\n",
       "       '   Tyre Alignment   ', '     Sensor Malfunction     ',\n",
       "       ' Tyre Alignment ', '   Starter Motor Issue   ',\n",
       "       '     Brake Pads Worn     ', '   Windscreen Crack   ',\n",
       "       '     Radiator Leaking     ', ' Sensor Malfunction ',\n",
       "       '   Transmission Issue   ', '    Engine Issue    ',\n",
       "       '  Windscreen Crack  ', ' Electrical Issue ',\n",
       "       '     Excessive Emissions     ', '     Transmission Issue     ',\n",
       "       '   Engine Issue   ', '  Electrical Issue  ',\n",
       "       '    Gear Box Issue    ', '     Tyre Alignment     ',\n",
       "       '   Steering Wheel Shaking   ', '  Warning Light  ',\n",
       "       ' Windscreen Crack ', ' Radiator Leaking ', ' Engine Issue ',\n",
       "       ' Gear Box Issue '], dtype=object)"
      ]
     },
     "execution_count": 430,
     "metadata": {},
     "output_type": "execute_result"
    }
   ],
   "source": [
    "# check 'issue' feature\n",
    "df['issue'].unique()\n"
   ]
  },
  {
   "cell_type": "code",
   "execution_count": 431,
   "id": "e610f548",
   "metadata": {},
   "outputs": [],
   "source": [
    "# the feature has a lot of whitespaces, let's stip it\n",
    "df['issue'] = df['issue'].apply(lambda x: x.strip())"
   ]
  },
  {
   "cell_type": "code",
   "execution_count": 432,
   "id": "454d04f9",
   "metadata": {},
   "outputs": [
    {
     "data": {
      "text/plain": [
       "issue\n",
       "Flat Tyres                2609\n",
       "Transmission Issue        2591\n",
       "Alternator Failing        2586\n",
       "Warning Light             2542\n",
       "Brake Pads Worn           2535\n",
       "Engine Issue              2531\n",
       "Radiator Leaking          2530\n",
       "Steering Wheel Shaking    2522\n",
       "Windscreen Crack          2487\n",
       "Starter Motor Issue       2483\n",
       "Gear Box Issue            2481\n",
       "Tyre Alignment            2475\n",
       "Sensor Malfunction        2445\n",
       "Electrical Issue          2422\n",
       "Excessive Emissions       2397\n",
       "Name: count, dtype: int64"
      ]
     },
     "execution_count": 432,
     "metadata": {},
     "output_type": "execute_result"
    }
   ],
   "source": [
    "# now we have a reasonable number of distinct values\n",
    "df['issue'].value_counts()"
   ]
  },
  {
   "cell_type": "code",
   "execution_count": 433,
   "id": "50ca5299",
   "metadata": {},
   "outputs": [],
   "source": [
    "# replace whitespaces with underscores in the issue values\n",
    "df['issue'] = df['issue'].str.replace(' ', '_')\n",
    "\n",
    "# One-hot encode the issue feature\n",
    "df = pd.get_dummies(df, columns=['issue'], prefix='issue', drop_first=True)"
   ]
  },
  {
   "cell_type": "code",
   "execution_count": 434,
   "id": "59fe2af5",
   "metadata": {},
   "outputs": [],
   "source": [
    "# The last two features are 'breakdown_date' and 'repair_date'\n",
    "# Let's combine them into one feature 'repair_duration' which will represent the time between breakdown and repair\n",
    "\n",
    "# Convert the date columns to datetime\n",
    "df['breakdown_date'] = pd.to_datetime(df['breakdown_date'])\n",
    "df['repair_date'] = pd.to_datetime(df['repair_date'])\n",
    "\n",
    "# Calculate the number of days between repair_date and breakdown_date\n",
    "df['days_to_repair'] = (df['repair_date'] - df['breakdown_date']).dt.days\n",
    "\n",
    "# Drop the original date columns\n",
    "df = df.drop(['breakdown_date', 'repair_date'], axis=1)"
   ]
  },
  {
   "cell_type": "code",
   "execution_count": 435,
   "id": "134f829c",
   "metadata": {},
   "outputs": [
    {
     "data": {
      "text/plain": [
       "<Axes: xlabel='days_to_repair', ylabel='Count'>"
      ]
     },
     "execution_count": 435,
     "metadata": {},
     "output_type": "execute_result"
    },
    {
     "data": {
      "image/png": "[encoded data removed]",
      "text/plain": [
       "<Figure size 800x300 with 1 Axes>"
      ]
     },
     "metadata": {},
     "output_type": "display_data"
    }
   ],
   "source": [
    "# Visualize the distribution of the 'days_to_repair' feature\n",
    "plt.figure(figsize=(8, 3))\n",
    "sns.histplot(df['days_to_repair'])"
   ]
  },
  {
   "cell_type": "code",
   "execution_count": 436,
   "id": "288fcc97",
   "metadata": {},
   "outputs": [],
   "source": [
    "# log transform the feature as it looks highly right skewed\n",
    "df['days_to_repair_log'] = np.log1p(df['days_to_repair'])\n",
    "df = df.drop('days_to_repair', axis=1)"
   ]
  },
  {
   "cell_type": "code",
   "execution_count": 437,
   "id": "627aa966",
   "metadata": {},
   "outputs": [
    {
     "data": {
      "text/plain": [
       "<Axes: xlabel='days_to_repair_log', ylabel='Count'>"
      ]
     },
     "execution_count": 437,
     "metadata": {},
     "output_type": "execute_result"
    },
    {
     "data": {
      "image/png": "[encoded data removed]",
      "text/plain": [
       "<Figure size 800x300 with 1 Axes>"
      ]
     },
     "metadata": {},
     "output_type": "display_data"
    }
   ],
   "source": [
    "# Visualize the distribution of the 'days_to_repair' feature\n",
    "plt.figure(figsize=(8, 3))\n",
    "sns.histplot(df['days_to_repair_log'])"
   ]
  },
  {
   "cell_type": "code",
   "execution_count": 438,
   "id": "8b670ce1",
   "metadata": {},
   "outputs": [],
   "source": [
    "# It looks feasible (as the majority of values are zeroes) to add an additional binary feature to show whether the repair was done on the same day as the breakdown\n",
    "\n",
    "# Create a binary indicator for zero values (same-day repairs)\n",
    "df['is_same_day_repair'] = (df['days_to_repair_log'] == 0).astype(int)\n",
    "\n",
    "# Scale the log-transformed feature\n",
    "df['days_to_repair_log_scaled'] = scaler.fit_transform(df[['days_to_repair_log']])\n",
    "\n",
    "# Drop the original and intermediate columns\n",
    "df = df.drop(['days_to_repair_log'], axis=1)"
   ]
  },
  {
   "cell_type": "code",
   "execution_count": null,
   "id": "c893e12a",
   "metadata": {},
   "outputs": [
    {
     "data": {
      "text/plain": [
       "(37636, 110)"
      ]
     },
     "execution_count": 439,
     "metadata": {},
     "output_type": "execute_result"
    }
   ],
   "source": [
    "# The resulting dataframe contains 110 features which is quite a lot but still ok for such a big dataset\n",
    "# Check the final shape of the dataframe\n",
    "df.shape"
   ]
  },
  {
   "cell_type": "code",
   "execution_count": 440,
   "id": "d60c8052",
   "metadata": {},
   "outputs": [
    {
     "data": {
      "text/plain": [
       "96"
      ]
     },
     "execution_count": 440,
     "metadata": {},
     "output_type": "execute_result"
    }
   ],
   "source": [
    "# The dataframe contains 96 boolean 1/0 features\n",
    "len(df.select_dtypes('bool').columns)"
   ]
  },
  {
   "cell_type": "code",
   "execution_count": null,
   "id": "bd9041d3",
   "metadata": {},
   "outputs": [
    {
     "data": {
      "text/plain": [
       "14"
      ]
     },
     "execution_count": 441,
     "metadata": {},
     "output_type": "execute_result"
    }
   ],
   "source": [
    "# ... and 14 numeric features one of which is a target variable ('label')\n",
    "len(df.select_dtypes('number').columns)"
   ]
  },
  {
   "cell_type": "code",
   "execution_count": 442,
   "id": "3eb6f944",
   "metadata": {},
   "outputs": [
    {
     "data": {
      "text/plain": [
       "110"
      ]
     },
     "execution_count": 442,
     "metadata": {},
     "output_type": "execute_result"
    }
   ],
   "source": [
    "# Select boolean columns and convert to int\n",
    "bool_cols = df.select_dtypes('bool').columns\n",
    "df[bool_cols] = df[bool_cols].astype(int)\n",
    "\n",
    "# Now all features are numeric\n",
    "len(df.select_dtypes(np.number).columns)"
   ]
  },
  {
   "cell_type": "code",
   "execution_count": 443,
   "id": "bcfe366e",
   "metadata": {},
   "outputs": [
    {
     "name": "stdout",
     "output_type": "stream",
     "text": [
      "Lowest correlations (most negative):\n",
      "days_to_repair_log_scaled  is_same_day_repair   -0.832303\n",
      "seat_num_4-5               seat_num_6-7         -0.786822\n",
      "price_scaled               vehicle_age_scaled   -0.712522\n",
      "is_same_day_repair         repair_cost_scaled   -0.605811\n",
      "mileage_scaled             price_scaled         -0.537837\n",
      "dtype: float64\n",
      "\n",
      "Highest correlations (most positive):\n",
      "maker_genmodel_Bentley_Continental  repair_complexity_3-4         0.585985\n",
      "maker_genmodel_Citroen_Other        repair_complexity_2           0.595998\n",
      "mileage_scaled                      vehicle_age_scaled            0.647483\n",
      "engine_size_scaled                  repair_complexity_3-4         0.706512\n",
      "bodytype_Pickup                     maker_genmodel_Ford_Ranger    0.936884\n",
      "dtype: float64\n"
     ]
    }
   ],
   "source": [
    "# Test possible correlations between features to avoid multicollinearity\n",
    "\n",
    "# Compute correlations, unstack, sort, and remove self-correlations\n",
    "corr_series = df.corr().unstack().sort_values()\n",
    "corr_series = corr_series[corr_series != 1.0]\n",
    "\n",
    "# Remove duplicate pairs\n",
    "corr_series = corr_series[corr_series.index.map(lambda x: x[0] < x[1])]\n",
    "\n",
    "# Show the 5 most negative and 5 most positive correlations\n",
    "print(\"Lowest correlations (most negative):\")\n",
    "print(corr_series.head())\n",
    "print(\"\\nHighest correlations (most positive):\")\n",
    "print(corr_series.tail())"
   ]
  },
  {
   "cell_type": "code",
   "execution_count": 444,
   "id": "daa98d08",
   "metadata": {},
   "outputs": [],
   "source": [
    "# Possible multicollinearity between features 'bodytype_Pickup' and 'maker_genmodel_Ford_Ranger'\n",
    "# Still let's keep them both as they represent different aspects of the data\n",
    "# We'll regularize the model and see how it performs with all features"
   ]
  },
  {
   "cell_type": "code",
   "execution_count": null,
   "id": "2ea10d69",
   "metadata": {},
   "outputs": [],
   "source": []
  }
 ],
 "metadata": {
  "kernelspec": {
   "display_name": "base",
   "language": "python",
   "name": "python3"
  },
  "language_info": {
   "codemirror_mode": {
    "name": "ipython",
    "version": 3
   },
   "file_extension": ".py",
   "mimetype": "text/x-python",
   "name": "python",
   "nbconvert_exporter": "python",
   "pygments_lexer": "ipython3",
   "version": "3.12.7"
  }
 },
 "nbformat": 4,
 "nbformat_minor": 5
}
