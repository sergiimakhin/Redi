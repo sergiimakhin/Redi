{
 "cells": [
  {
   "cell_type": "code",
   "execution_count": 1,
   "id": "4bd74079",
   "metadata": {},
   "outputs": [],
   "source": [
    "import pandas as pd\n",
    "import numpy as np\n",
    "import matplotlib.pyplot as plt\n",
    "import seaborn as sns"
   ]
  },
  {
   "cell_type": "code",
   "execution_count": 2,
   "id": "38f967de",
   "metadata": {},
   "outputs": [
    {
     "data": {
      "text/plain": [
       "(37636, 26)"
      ]
     },
     "execution_count": 2,
     "metadata": {},
     "output_type": "execute_result"
    }
   ],
   "source": [
    "df = pd.read_csv('labeled_data.csv', sep=';')\n",
    "udf = pd.read_csv('unlabeled_data.csv', sep=';')\n",
    "df.shape"
   ]
  },
  {
   "cell_type": "code",
   "execution_count": 3,
   "id": "a0e2b9bb",
   "metadata": {},
   "outputs": [
    {
     "data": {
      "application/vnd.microsoft.datawrangler.viewer.v0+json": {
       "columns": [
        {
         "name": "index",
         "rawType": "int64",
         "type": "integer"
        },
        {
         "name": "ID",
         "rawType": "int64",
         "type": "integer"
        },
        {
         "name": "Maker",
         "rawType": "object",
         "type": "string"
        },
        {
         "name": " Genmodel",
         "rawType": "object",
         "type": "string"
        },
        {
         "name": " Genmodel_ID",
         "rawType": "object",
         "type": "string"
        },
        {
         "name": "Adv_year",
         "rawType": "int64",
         "type": "integer"
        },
        {
         "name": "Adv_month",
         "rawType": "int64",
         "type": "integer"
        },
        {
         "name": "Color",
         "rawType": "object",
         "type": "string"
        },
        {
         "name": "Reg_year",
         "rawType": "float64",
         "type": "float"
        },
        {
         "name": "Bodytype",
         "rawType": "object",
         "type": "string"
        },
        {
         "name": "Runned_Miles",
         "rawType": "int64",
         "type": "integer"
        },
        {
         "name": "Engin_size",
         "rawType": "object",
         "type": "string"
        },
        {
         "name": "Gearbox",
         "rawType": "object",
         "type": "string"
        },
        {
         "name": "Fuel_type",
         "rawType": "object",
         "type": "string"
        },
        {
         "name": "Price",
         "rawType": "float64",
         "type": "float"
        },
        {
         "name": "Seat_num",
         "rawType": "float64",
         "type": "float"
        },
        {
         "name": "Door_num",
         "rawType": "float64",
         "type": "float"
        },
        {
         "name": "issue",
         "rawType": "object",
         "type": "string"
        },
        {
         "name": "issue_id",
         "rawType": "int64",
         "type": "integer"
        },
        {
         "name": "Adv_day",
         "rawType": "int64",
         "type": "integer"
        },
        {
         "name": "breakdown_date",
         "rawType": "object",
         "type": "string"
        },
        {
         "name": "repair_complexity",
         "rawType": "int64",
         "type": "integer"
        },
        {
         "name": "repair_cost",
         "rawType": "float64",
         "type": "float"
        },
        {
         "name": "repair_hours",
         "rawType": "float64",
         "type": "float"
        },
        {
         "name": "repair_date",
         "rawType": "object",
         "type": "string"
        },
        {
         "name": "value",
         "rawType": "float64",
         "type": "float"
        },
        {
         "name": "Label",
         "rawType": "int64",
         "type": "integer"
        }
       ],
       "conversionMethod": "pd.DataFrame",
       "ref": "be8e4c69-9abb-4183-a240-a46da2d8586f",
       "rows": [
        [
         "0",
         "11224",
         "Chevrolet",
         "Matiz",
         "16_12",
         "2018",
         "8",
         "Silver",
         "2008.0",
         "Hatchback",
         "61200",
         "1.0L",
         "Manual",
         "Petrol",
         "699.0",
         "5.0",
         "5.0",
         "Excessive Emissions",
         "0",
         "7",
         "2018-08-07",
         "1",
         "20.6291",
         "1.0",
         "2018-08-07",
         "664.756621144312",
         "0"
        ],
        [
         "1",
         "13673",
         "Ford",
         "Kuga",
         "29_25",
         "2018",
         "5",
         "White",
         "2015.0",
         "SUV",
         "36579",
         "2.0L",
         "Manual",
         "Diesel",
         "12191.0",
         "5.0",
         "5.0",
         "  Radiator Leaking  ",
         "0",
         "9",
         "2018-05-09",
         "1",
         "283.82",
         "2.0",
         "2018-05-09",
         "11581.84404071752",
         "0"
        ],
        [
         "2",
         "9528",
         "Ford",
         "Fiesta",
         "29_13",
         "2018",
         "7",
         "Red",
         "2010.0",
         "Hatchback",
         "71000",
         "1.25L",
         "Manual",
         "Petrol",
         "2600.0",
         "5.0",
         "3.0",
         "     Engine Issue     ",
         "3",
         "14",
         "2018-07-14",
         "1",
         "500.0",
         "12.0",
         "2018-07-17",
         "2469.09489589162",
         "0"
        ],
        [
         "3",
         "40424",
         "DS",
         "3",
         "21_1",
         "2018",
         "3",
         "Black",
         "2017.0",
         "Hatchback",
         "6449",
         "1.2L",
         "Manual",
         "Petrol",
         "13458.0",
         "5.0",
         "3.0",
         "Flat Tyres",
         "0",
         "25",
         "2018-03-25",
         "2",
         "44.0374",
         "2.0",
         "2018-03-25",
         "12785.925743662918",
         "0"
        ],
        [
         "4",
         "10711",
         "Ford",
         "S-Max",
         "29_31",
         "2018",
         "5",
         "White",
         "2014.0",
         "MPV",
         "63751",
         "2.0L",
         "Automatic",
         "still_Diesel_but_you_found_an_easteregg",
         "11799.0",
         "7.0",
         "5.0",
         "Windscreen Crack",
         "0",
         "14",
         "2018-05-14",
         "1",
         "27.0794",
         "1.0",
         "2018-05-14",
         "11203.607998761752",
         "0"
        ]
       ],
       "shape": {
        "columns": 26,
        "rows": 5
       }
      },
      "text/html": [
       "<div>\n",
       "<style scoped>\n",
       "    .dataframe tbody tr th:only-of-type {\n",
       "        vertical-align: middle;\n",
       "    }\n",
       "\n",
       "    .dataframe tbody tr th {\n",
       "        vertical-align: top;\n",
       "    }\n",
       "\n",
       "    .dataframe thead th {\n",
       "        text-align: right;\n",
       "    }\n",
       "</style>\n",
       "<table border=\"1\" class=\"dataframe\">\n",
       "  <thead>\n",
       "    <tr style=\"text-align: right;\">\n",
       "      <th></th>\n",
       "      <th>ID</th>\n",
       "      <th>Maker</th>\n",
       "      <th>Genmodel</th>\n",
       "      <th>Genmodel_ID</th>\n",
       "      <th>Adv_year</th>\n",
       "      <th>Adv_month</th>\n",
       "      <th>Color</th>\n",
       "      <th>Reg_year</th>\n",
       "      <th>Bodytype</th>\n",
       "      <th>Runned_Miles</th>\n",
       "      <th>...</th>\n",
       "      <th>issue</th>\n",
       "      <th>issue_id</th>\n",
       "      <th>Adv_day</th>\n",
       "      <th>breakdown_date</th>\n",
       "      <th>repair_complexity</th>\n",
       "      <th>repair_cost</th>\n",
       "      <th>repair_hours</th>\n",
       "      <th>repair_date</th>\n",
       "      <th>value</th>\n",
       "      <th>Label</th>\n",
       "    </tr>\n",
       "  </thead>\n",
       "  <tbody>\n",
       "    <tr>\n",
       "      <th>0</th>\n",
       "      <td>11224</td>\n",
       "      <td>Chevrolet</td>\n",
       "      <td>Matiz</td>\n",
       "      <td>16_12</td>\n",
       "      <td>2018</td>\n",
       "      <td>8</td>\n",
       "      <td>Silver</td>\n",
       "      <td>2008.0</td>\n",
       "      <td>Hatchback</td>\n",
       "      <td>61200</td>\n",
       "      <td>...</td>\n",
       "      <td>Excessive Emissions</td>\n",
       "      <td>0</td>\n",
       "      <td>7</td>\n",
       "      <td>2018-08-07</td>\n",
       "      <td>1</td>\n",
       "      <td>20.6291</td>\n",
       "      <td>1.0</td>\n",
       "      <td>2018-08-07</td>\n",
       "      <td>664.756621</td>\n",
       "      <td>0</td>\n",
       "    </tr>\n",
       "    <tr>\n",
       "      <th>1</th>\n",
       "      <td>13673</td>\n",
       "      <td>Ford</td>\n",
       "      <td>Kuga</td>\n",
       "      <td>29_25</td>\n",
       "      <td>2018</td>\n",
       "      <td>5</td>\n",
       "      <td>White</td>\n",
       "      <td>2015.0</td>\n",
       "      <td>SUV</td>\n",
       "      <td>36579</td>\n",
       "      <td>...</td>\n",
       "      <td>Radiator Leaking</td>\n",
       "      <td>0</td>\n",
       "      <td>9</td>\n",
       "      <td>2018-05-09</td>\n",
       "      <td>1</td>\n",
       "      <td>283.8200</td>\n",
       "      <td>2.0</td>\n",
       "      <td>2018-05-09</td>\n",
       "      <td>11581.844041</td>\n",
       "      <td>0</td>\n",
       "    </tr>\n",
       "    <tr>\n",
       "      <th>2</th>\n",
       "      <td>9528</td>\n",
       "      <td>Ford</td>\n",
       "      <td>Fiesta</td>\n",
       "      <td>29_13</td>\n",
       "      <td>2018</td>\n",
       "      <td>7</td>\n",
       "      <td>Red</td>\n",
       "      <td>2010.0</td>\n",
       "      <td>Hatchback</td>\n",
       "      <td>71000</td>\n",
       "      <td>...</td>\n",
       "      <td>Engine Issue</td>\n",
       "      <td>3</td>\n",
       "      <td>14</td>\n",
       "      <td>2018-07-14</td>\n",
       "      <td>1</td>\n",
       "      <td>500.0000</td>\n",
       "      <td>12.0</td>\n",
       "      <td>2018-07-17</td>\n",
       "      <td>2469.094896</td>\n",
       "      <td>0</td>\n",
       "    </tr>\n",
       "    <tr>\n",
       "      <th>3</th>\n",
       "      <td>40424</td>\n",
       "      <td>DS</td>\n",
       "      <td>3</td>\n",
       "      <td>21_1</td>\n",
       "      <td>2018</td>\n",
       "      <td>3</td>\n",
       "      <td>Black</td>\n",
       "      <td>2017.0</td>\n",
       "      <td>Hatchback</td>\n",
       "      <td>6449</td>\n",
       "      <td>...</td>\n",
       "      <td>Flat Tyres</td>\n",
       "      <td>0</td>\n",
       "      <td>25</td>\n",
       "      <td>2018-03-25</td>\n",
       "      <td>2</td>\n",
       "      <td>44.0374</td>\n",
       "      <td>2.0</td>\n",
       "      <td>2018-03-25</td>\n",
       "      <td>12785.925744</td>\n",
       "      <td>0</td>\n",
       "    </tr>\n",
       "    <tr>\n",
       "      <th>4</th>\n",
       "      <td>10711</td>\n",
       "      <td>Ford</td>\n",
       "      <td>S-Max</td>\n",
       "      <td>29_31</td>\n",
       "      <td>2018</td>\n",
       "      <td>5</td>\n",
       "      <td>White</td>\n",
       "      <td>2014.0</td>\n",
       "      <td>MPV</td>\n",
       "      <td>63751</td>\n",
       "      <td>...</td>\n",
       "      <td>Windscreen Crack</td>\n",
       "      <td>0</td>\n",
       "      <td>14</td>\n",
       "      <td>2018-05-14</td>\n",
       "      <td>1</td>\n",
       "      <td>27.0794</td>\n",
       "      <td>1.0</td>\n",
       "      <td>2018-05-14</td>\n",
       "      <td>11203.607999</td>\n",
       "      <td>0</td>\n",
       "    </tr>\n",
       "  </tbody>\n",
       "</table>\n",
       "<p>5 rows × 26 columns</p>\n",
       "</div>"
      ],
      "text/plain": [
       "      ID      Maker  Genmodel  Genmodel_ID  Adv_year  Adv_month   Color  \\\n",
       "0  11224  Chevrolet     Matiz        16_12      2018          8  Silver   \n",
       "1  13673       Ford      Kuga        29_25      2018          5   White   \n",
       "2   9528       Ford    Fiesta        29_13      2018          7     Red   \n",
       "3  40424         DS         3         21_1      2018          3   Black   \n",
       "4  10711       Ford     S-Max        29_31      2018          5   White   \n",
       "\n",
       "   Reg_year   Bodytype  Runned_Miles  ...                   issue issue_id  \\\n",
       "0    2008.0  Hatchback         61200  ...     Excessive Emissions        0   \n",
       "1    2015.0        SUV         36579  ...      Radiator Leaking          0   \n",
       "2    2010.0  Hatchback         71000  ...       Engine Issue             3   \n",
       "3    2017.0  Hatchback          6449  ...              Flat Tyres        0   \n",
       "4    2014.0        MPV         63751  ...        Windscreen Crack        0   \n",
       "\n",
       "  Adv_day  breakdown_date  repair_complexity  repair_cost repair_hours  \\\n",
       "0       7      2018-08-07                  1      20.6291          1.0   \n",
       "1       9      2018-05-09                  1     283.8200          2.0   \n",
       "2      14      2018-07-14                  1     500.0000         12.0   \n",
       "3      25      2018-03-25                  2      44.0374          2.0   \n",
       "4      14      2018-05-14                  1      27.0794          1.0   \n",
       "\n",
       "   repair_date         value Label  \n",
       "0   2018-08-07    664.756621     0  \n",
       "1   2018-05-09  11581.844041     0  \n",
       "2   2018-07-17   2469.094896     0  \n",
       "3   2018-03-25  12785.925744     0  \n",
       "4   2018-05-14  11203.607999     0  \n",
       "\n",
       "[5 rows x 26 columns]"
      ]
     },
     "execution_count": 3,
     "metadata": {},
     "output_type": "execute_result"
    }
   ],
   "source": [
    "df.head()"
   ]
  },
  {
   "cell_type": "code",
   "execution_count": 4,
   "id": "ab5bc734",
   "metadata": {},
   "outputs": [
    {
     "data": {
      "application/vnd.microsoft.datawrangler.viewer.v0+json": {
       "columns": [
        {
         "name": "index",
         "rawType": "int64",
         "type": "integer"
        },
        {
         "name": "ID",
         "rawType": "int64",
         "type": "integer"
        },
        {
         "name": "Maker",
         "rawType": "object",
         "type": "string"
        },
        {
         "name": " Genmodel",
         "rawType": "object",
         "type": "string"
        },
        {
         "name": " Genmodel_ID",
         "rawType": "object",
         "type": "string"
        },
        {
         "name": "Adv_year",
         "rawType": "int64",
         "type": "integer"
        },
        {
         "name": "Adv_month",
         "rawType": "int64",
         "type": "integer"
        },
        {
         "name": "Color",
         "rawType": "object",
         "type": "string"
        },
        {
         "name": "Reg_year",
         "rawType": "float64",
         "type": "float"
        },
        {
         "name": "Bodytype",
         "rawType": "object",
         "type": "string"
        },
        {
         "name": "Runned_Miles",
         "rawType": "int64",
         "type": "integer"
        },
        {
         "name": "Engin_size",
         "rawType": "object",
         "type": "string"
        },
        {
         "name": "Gearbox",
         "rawType": "object",
         "type": "string"
        },
        {
         "name": "Fuel_type",
         "rawType": "object",
         "type": "string"
        },
        {
         "name": "Price",
         "rawType": "float64",
         "type": "float"
        },
        {
         "name": "Seat_num",
         "rawType": "float64",
         "type": "float"
        },
        {
         "name": "Door_num",
         "rawType": "float64",
         "type": "float"
        },
        {
         "name": "issue",
         "rawType": "object",
         "type": "string"
        },
        {
         "name": "issue_id",
         "rawType": "int64",
         "type": "integer"
        },
        {
         "name": "Adv_day",
         "rawType": "int64",
         "type": "integer"
        },
        {
         "name": "breakdown_date",
         "rawType": "object",
         "type": "string"
        },
        {
         "name": "repair_complexity",
         "rawType": "int64",
         "type": "integer"
        },
        {
         "name": "repair_cost",
         "rawType": "float64",
         "type": "float"
        },
        {
         "name": "repair_hours",
         "rawType": "float64",
         "type": "float"
        },
        {
         "name": "repair_date",
         "rawType": "object",
         "type": "string"
        },
        {
         "name": "value",
         "rawType": "float64",
         "type": "float"
        }
       ],
       "conversionMethod": "pd.DataFrame",
       "ref": "42768191-c8ff-4376-bc8d-6faa900747a3",
       "rows": [
        [
         "0",
         "29455",
         "Ford",
         "Kuga",
         "29_25",
         "2018",
         "4",
         "Green",
         "2015.0",
         "SUV",
         "34000",
         "2.0L",
         "Automatic",
         "Diesel",
         "17290.0",
         "5.0",
         "5.0",
         "Starter Motor Issue",
         "0",
         "15",
         "2018-04-15",
         "1",
         "232.9",
         "3.0",
         "2018-04-15",
         "16423.78470696411"
        ],
        [
         "1",
         "41446",
         "Fiat",
         "500",
         "28_2",
         "2018",
         "8",
         "White",
         "2009.0",
         "Hatchback",
         "65000",
         "1.2L",
         "Manual",
         "Petrol",
         "3980.0",
         "4.0",
         "3.0",
         "Warning Light",
         "0",
         "6",
         "2018-08-06",
         "1",
         "219.8",
         "9.0",
         "2018-08-08",
         "3784.5246778099527"
        ],
        [
         "2",
         "42116",
         "Fiat",
         "500",
         "28_2",
         "2018",
         "4",
         "Black",
         "2012.0",
         "Hatchback",
         "54491",
         "1.2L",
         "Manual",
         "Petrol",
         "4495.0",
         "4.0",
         "3.0",
         "Flat Tyres",
         "0",
         "24",
         "2018-04-24",
         "1",
         "21.3485",
         "1.0",
         "2018-04-24",
         "4272.171246361211"
        ],
        [
         "3",
         "32619",
         "Citroen",
         "DS4",
         "21_3",
         "2018",
         "7",
         "Silver",
         "2011.0",
         "Hatchback",
         "98000",
         "1.6L",
         "Manual",
         "still_Diesel_but_you_found_an_easteregg",
         "4795.0",
         "5.0",
         "5.0",
         "Starter Motor Issue",
         "0",
         "12",
         "2018-07-12",
         "2",
         "167.95",
         "6.0",
         "2018-07-13",
         "4552.297593381432"
        ],
        [
         "4",
         "51078",
         "Abarth",
         "595",
         "2_4",
         "2018",
         "6",
         "Red",
         "2014.0",
         "Hatchback",
         "49583",
         "1.4L",
         "Automatic",
         "Petrol",
         "11000.0",
         "4.0",
         "3.0",
         "     Brake Pads Worn     ",
         "0",
         "20",
         "2018-06-20",
         "2",
         "85.5",
         "4.0",
         "2018-06-21",
         "10447.615695231589"
        ]
       ],
       "shape": {
        "columns": 25,
        "rows": 5
       }
      },
      "text/html": [
       "<div>\n",
       "<style scoped>\n",
       "    .dataframe tbody tr th:only-of-type {\n",
       "        vertical-align: middle;\n",
       "    }\n",
       "\n",
       "    .dataframe tbody tr th {\n",
       "        vertical-align: top;\n",
       "    }\n",
       "\n",
       "    .dataframe thead th {\n",
       "        text-align: right;\n",
       "    }\n",
       "</style>\n",
       "<table border=\"1\" class=\"dataframe\">\n",
       "  <thead>\n",
       "    <tr style=\"text-align: right;\">\n",
       "      <th></th>\n",
       "      <th>ID</th>\n",
       "      <th>Maker</th>\n",
       "      <th>Genmodel</th>\n",
       "      <th>Genmodel_ID</th>\n",
       "      <th>Adv_year</th>\n",
       "      <th>Adv_month</th>\n",
       "      <th>Color</th>\n",
       "      <th>Reg_year</th>\n",
       "      <th>Bodytype</th>\n",
       "      <th>Runned_Miles</th>\n",
       "      <th>...</th>\n",
       "      <th>Door_num</th>\n",
       "      <th>issue</th>\n",
       "      <th>issue_id</th>\n",
       "      <th>Adv_day</th>\n",
       "      <th>breakdown_date</th>\n",
       "      <th>repair_complexity</th>\n",
       "      <th>repair_cost</th>\n",
       "      <th>repair_hours</th>\n",
       "      <th>repair_date</th>\n",
       "      <th>value</th>\n",
       "    </tr>\n",
       "  </thead>\n",
       "  <tbody>\n",
       "    <tr>\n",
       "      <th>0</th>\n",
       "      <td>29455</td>\n",
       "      <td>Ford</td>\n",
       "      <td>Kuga</td>\n",
       "      <td>29_25</td>\n",
       "      <td>2018</td>\n",
       "      <td>4</td>\n",
       "      <td>Green</td>\n",
       "      <td>2015.0</td>\n",
       "      <td>SUV</td>\n",
       "      <td>34000</td>\n",
       "      <td>...</td>\n",
       "      <td>5.0</td>\n",
       "      <td>Starter Motor Issue</td>\n",
       "      <td>0</td>\n",
       "      <td>15</td>\n",
       "      <td>2018-04-15</td>\n",
       "      <td>1</td>\n",
       "      <td>232.9000</td>\n",
       "      <td>3.0</td>\n",
       "      <td>2018-04-15</td>\n",
       "      <td>16423.784707</td>\n",
       "    </tr>\n",
       "    <tr>\n",
       "      <th>1</th>\n",
       "      <td>41446</td>\n",
       "      <td>Fiat</td>\n",
       "      <td>500</td>\n",
       "      <td>28_2</td>\n",
       "      <td>2018</td>\n",
       "      <td>8</td>\n",
       "      <td>White</td>\n",
       "      <td>2009.0</td>\n",
       "      <td>Hatchback</td>\n",
       "      <td>65000</td>\n",
       "      <td>...</td>\n",
       "      <td>3.0</td>\n",
       "      <td>Warning Light</td>\n",
       "      <td>0</td>\n",
       "      <td>6</td>\n",
       "      <td>2018-08-06</td>\n",
       "      <td>1</td>\n",
       "      <td>219.8000</td>\n",
       "      <td>9.0</td>\n",
       "      <td>2018-08-08</td>\n",
       "      <td>3784.524678</td>\n",
       "    </tr>\n",
       "    <tr>\n",
       "      <th>2</th>\n",
       "      <td>42116</td>\n",
       "      <td>Fiat</td>\n",
       "      <td>500</td>\n",
       "      <td>28_2</td>\n",
       "      <td>2018</td>\n",
       "      <td>4</td>\n",
       "      <td>Black</td>\n",
       "      <td>2012.0</td>\n",
       "      <td>Hatchback</td>\n",
       "      <td>54491</td>\n",
       "      <td>...</td>\n",
       "      <td>3.0</td>\n",
       "      <td>Flat Tyres</td>\n",
       "      <td>0</td>\n",
       "      <td>24</td>\n",
       "      <td>2018-04-24</td>\n",
       "      <td>1</td>\n",
       "      <td>21.3485</td>\n",
       "      <td>1.0</td>\n",
       "      <td>2018-04-24</td>\n",
       "      <td>4272.171246</td>\n",
       "    </tr>\n",
       "    <tr>\n",
       "      <th>3</th>\n",
       "      <td>32619</td>\n",
       "      <td>Citroen</td>\n",
       "      <td>DS4</td>\n",
       "      <td>21_3</td>\n",
       "      <td>2018</td>\n",
       "      <td>7</td>\n",
       "      <td>Silver</td>\n",
       "      <td>2011.0</td>\n",
       "      <td>Hatchback</td>\n",
       "      <td>98000</td>\n",
       "      <td>...</td>\n",
       "      <td>5.0</td>\n",
       "      <td>Starter Motor Issue</td>\n",
       "      <td>0</td>\n",
       "      <td>12</td>\n",
       "      <td>2018-07-12</td>\n",
       "      <td>2</td>\n",
       "      <td>167.9500</td>\n",
       "      <td>6.0</td>\n",
       "      <td>2018-07-13</td>\n",
       "      <td>4552.297593</td>\n",
       "    </tr>\n",
       "    <tr>\n",
       "      <th>4</th>\n",
       "      <td>51078</td>\n",
       "      <td>Abarth</td>\n",
       "      <td>595</td>\n",
       "      <td>2_4</td>\n",
       "      <td>2018</td>\n",
       "      <td>6</td>\n",
       "      <td>Red</td>\n",
       "      <td>2014.0</td>\n",
       "      <td>Hatchback</td>\n",
       "      <td>49583</td>\n",
       "      <td>...</td>\n",
       "      <td>3.0</td>\n",
       "      <td>Brake Pads Worn</td>\n",
       "      <td>0</td>\n",
       "      <td>20</td>\n",
       "      <td>2018-06-20</td>\n",
       "      <td>2</td>\n",
       "      <td>85.5000</td>\n",
       "      <td>4.0</td>\n",
       "      <td>2018-06-21</td>\n",
       "      <td>10447.615695</td>\n",
       "    </tr>\n",
       "  </tbody>\n",
       "</table>\n",
       "<p>5 rows × 25 columns</p>\n",
       "</div>"
      ],
      "text/plain": [
       "      ID    Maker  Genmodel  Genmodel_ID  Adv_year  Adv_month   Color  \\\n",
       "0  29455     Ford      Kuga        29_25      2018          4   Green   \n",
       "1  41446     Fiat       500         28_2      2018          8   White   \n",
       "2  42116     Fiat       500         28_2      2018          4   Black   \n",
       "3  32619  Citroen       DS4         21_3      2018          7  Silver   \n",
       "4  51078   Abarth       595          2_4      2018          6     Red   \n",
       "\n",
       "   Reg_year   Bodytype  Runned_Miles  ... Door_num                      issue  \\\n",
       "0    2015.0        SUV         34000  ...      5.0        Starter Motor Issue   \n",
       "1    2009.0  Hatchback         65000  ...      3.0              Warning Light   \n",
       "2    2012.0  Hatchback         54491  ...      3.0                 Flat Tyres   \n",
       "3    2011.0  Hatchback         98000  ...      5.0        Starter Motor Issue   \n",
       "4    2014.0  Hatchback         49583  ...      3.0       Brake Pads Worn        \n",
       "\n",
       "  issue_id  Adv_day  breakdown_date  repair_complexity repair_cost  \\\n",
       "0        0       15      2018-04-15                  1    232.9000   \n",
       "1        0        6      2018-08-06                  1    219.8000   \n",
       "2        0       24      2018-04-24                  1     21.3485   \n",
       "3        0       12      2018-07-12                  2    167.9500   \n",
       "4        0       20      2018-06-20                  2     85.5000   \n",
       "\n",
       "   repair_hours  repair_date         value  \n",
       "0           3.0   2018-04-15  16423.784707  \n",
       "1           9.0   2018-08-08   3784.524678  \n",
       "2           1.0   2018-04-24   4272.171246  \n",
       "3           6.0   2018-07-13   4552.297593  \n",
       "4           4.0   2018-06-21  10447.615695  \n",
       "\n",
       "[5 rows x 25 columns]"
      ]
     },
     "execution_count": 4,
     "metadata": {},
     "output_type": "execute_result"
    }
   ],
   "source": [
    "udf.head()"
   ]
  },
  {
   "cell_type": "code",
   "execution_count": 5,
   "id": "e9d6fe7a",
   "metadata": {},
   "outputs": [
    {
     "data": {
      "text/plain": [
       "Index(['ID', 'Maker', ' Genmodel', ' Genmodel_ID', 'Adv_year', 'Adv_month',\n",
       "       'Color', 'Reg_year', 'Bodytype', 'Runned_Miles', 'Engin_size',\n",
       "       'Gearbox', 'Fuel_type', 'Price', 'Seat_num', 'Door_num', 'issue',\n",
       "       'issue_id', 'Adv_day', 'breakdown_date', 'repair_complexity',\n",
       "       'repair_cost', 'repair_hours', 'repair_date', 'value', 'Label'],\n",
       "      dtype='object')"
      ]
     },
     "execution_count": 5,
     "metadata": {},
     "output_type": "execute_result"
    }
   ],
   "source": [
    "df.columns"
   ]
  },
  {
   "cell_type": "code",
   "execution_count": 6,
   "id": "2ee1ca0f",
   "metadata": {},
   "outputs": [],
   "source": [
    "df = df.drop('ID', axis=1)  # drop \"Id\" column as uninformative\n",
    "udf = udf.drop('ID', axis=1)  # drop \"Id\" column as uninformative"
   ]
  },
  {
   "cell_type": "code",
   "execution_count": 7,
   "id": "9ec6c19b",
   "metadata": {},
   "outputs": [],
   "source": [
    "# define function to uniformly format column names (remove whitespaces and change to lowercase)\n",
    "def clean_column_names(df):\n",
    "    df = df.rename(columns=lambda x: x.strip().lower())\n",
    "    return df"
   ]
  },
  {
   "cell_type": "code",
   "execution_count": 8,
   "id": "f8651d15",
   "metadata": {},
   "outputs": [
    {
     "data": {
      "text/plain": [
       "Index(['maker', 'genmodel', 'genmodel_id', 'adv_year', 'adv_month', 'color',\n",
       "       'reg_year', 'bodytype', 'runned_miles', 'engin_size', 'gearbox',\n",
       "       'fuel_type', 'price', 'seat_num', 'door_num', 'issue', 'issue_id',\n",
       "       'adv_day', 'breakdown_date', 'repair_complexity', 'repair_cost',\n",
       "       'repair_hours', 'repair_date', 'value', 'label'],\n",
       "      dtype='object')"
      ]
     },
     "execution_count": 8,
     "metadata": {},
     "output_type": "execute_result"
    }
   ],
   "source": [
    "# apply the newly defined function\n",
    "df = clean_column_names(df)\n",
    "udf = clean_column_names(udf)\n",
    "df.columns"
   ]
  },
  {
   "cell_type": "code",
   "execution_count": 9,
   "id": "96834620",
   "metadata": {},
   "outputs": [
    {
     "data": {
      "text/plain": [
       "Index(['maker', 'genmodel', 'genmodel_id', 'adv_year', 'adv_month', 'color',\n",
       "       'reg_year', 'bodytype', 'mileage', 'engine_size', 'gearbox',\n",
       "       'fuel_type', 'price', 'seat_num', 'door_num', 'issue', 'issue_id',\n",
       "       'adv_day', 'breakdown_date', 'repair_complexity', 'repair_cost',\n",
       "       'repair_hours', 'repair_date', 'value', 'label'],\n",
       "      dtype='object')"
      ]
     },
     "execution_count": 9,
     "metadata": {},
     "output_type": "execute_result"
    }
   ],
   "source": [
    "# solve minor column name issues\n",
    "df.rename(columns={'engin_size': 'engine_size', 'runned_miles': 'mileage'}, inplace=True)\n",
    "udf.rename(columns={'engin_size': 'engine_size', 'runned_miles': 'mileage'}, inplace=True)\n",
    "df.columns"
   ]
  },
  {
   "cell_type": "code",
   "execution_count": 10,
   "id": "f604130a",
   "metadata": {},
   "outputs": [
    {
     "data": {
      "text/plain": [
       "False"
      ]
     },
     "execution_count": 10,
     "metadata": {},
     "output_type": "execute_result"
    }
   ],
   "source": [
    "# check for NaNs\n",
    "df.isnull().sum().any()"
   ]
  },
  {
   "cell_type": "code",
   "execution_count": 11,
   "id": "50eab1b0",
   "metadata": {},
   "outputs": [
    {
     "data": {
      "text/plain": [
       "False"
      ]
     },
     "execution_count": 11,
     "metadata": {},
     "output_type": "execute_result"
    }
   ],
   "source": [
    "# check for duplicate rows\n",
    "df.duplicated().any()"
   ]
  },
  {
   "cell_type": "markdown",
   "id": "9173a98e",
   "metadata": {},
   "source": [
    "## Clean numerical features"
   ]
  },
  {
   "cell_type": "code",
   "execution_count": 12,
   "id": "12a51b12",
   "metadata": {},
   "outputs": [],
   "source": [
    "# define a function to find indices for outliers in a column\n",
    "def find_outliers(feature):\n",
    "\n",
    "    # Convert input to numpy array\n",
    "    data = np.array(feature)\n",
    "    \n",
    "    # Calculate Q1, Q3, and IQR\n",
    "    Q1 = np.percentile(data, 25)\n",
    "    Q3 = np.percentile(data, 75)\n",
    "    IQR = Q3 - Q1\n",
    "    \n",
    "    # Define outlier boundaries\n",
    "    lower_bound = Q1 - 1.5 * IQR\n",
    "    upper_bound = Q3 + 1.5 * IQR\n",
    "    \n",
    "    # Find outliers\n",
    "    outlier_indices = np.where((data < lower_bound) | (data > upper_bound))[0]\n",
    "    \n",
    "    return outlier_indices.tolist()"
   ]
  },
  {
   "cell_type": "code",
   "execution_count": 13,
   "id": "0b3857b0",
   "metadata": {},
   "outputs": [
    {
     "data": {
      "application/vnd.microsoft.datawrangler.viewer.v0+json": {
       "columns": [
        {
         "name": "index",
         "rawType": "object",
         "type": "string"
        },
        {
         "name": "count",
         "rawType": "float64",
         "type": "float"
        },
        {
         "name": "mean",
         "rawType": "float64",
         "type": "float"
        },
        {
         "name": "std",
         "rawType": "float64",
         "type": "float"
        },
        {
         "name": "min",
         "rawType": "float64",
         "type": "float"
        },
        {
         "name": "25%",
         "rawType": "float64",
         "type": "float"
        },
        {
         "name": "50%",
         "rawType": "float64",
         "type": "float"
        },
        {
         "name": "75%",
         "rawType": "float64",
         "type": "float"
        },
        {
         "name": "max",
         "rawType": "float64",
         "type": "float"
        }
       ],
       "conversionMethod": "pd.DataFrame",
       "ref": "25317f3e-17a2-4788-af69-031c0e8f29f0",
       "rows": [
        [
         "adv_year",
         "37636.0",
         "2006.1",
         "147.53",
         "202.0",
         "2018.0",
         "2018.0",
         "2018.0",
         "2021.0"
        ],
        [
         "adv_month",
         "37636.0",
         "5.68",
         "2.07",
         "1.0",
         "4.0",
         "5.0",
         "7.0",
         "13.0"
        ],
        [
         "reg_year",
         "37636.0",
         "2012.38",
         "4.57",
         "1960.0",
         "2009.0",
         "2013.0",
         "2016.0",
         "2019.0"
        ],
        [
         "mileage",
         "37636.0",
         "48194.86",
         "39475.09",
         "-19826.0",
         "15389.75",
         "39249.0",
         "74204.5",
         "900000.0"
        ],
        [
         "price",
         "37636.0",
         "11840.0",
         "34044.82",
         "125.0",
         "3500.0",
         "7343.5",
         "11990.0",
         "2599990.0"
        ],
        [
         "seat_num",
         "37636.0",
         "5.11",
         "1.64",
         "2.0",
         "5.0",
         "5.0",
         "5.0",
         "20.0"
        ],
        [
         "door_num",
         "37636.0",
         "4.35",
         "1.12",
         "0.0",
         "3.0",
         "5.0",
         "5.0",
         "7.0"
        ],
        [
         "issue_id",
         "37636.0",
         "0.5",
         "1.13",
         "0.0",
         "0.0",
         "0.0",
         "0.0",
         "5.0"
        ],
        [
         "adv_day",
         "37636.0",
         "14.49",
         "8.09",
         "1.0",
         "7.0",
         "14.0",
         "22.0",
         "28.0"
        ],
        [
         "repair_complexity",
         "37636.0",
         "1.28",
         "0.55",
         "1.0",
         "1.0",
         "1.0",
         "1.0",
         "4.0"
        ],
        [
         "repair_cost",
         "37636.0",
         "309.05",
         "1547.47",
         "-44470.0",
         "25.16",
         "84.3",
         "243.24",
         "98690.12"
        ],
        [
         "repair_hours",
         "37636.0",
         "53.42",
         "718.34",
         "0.5",
         "1.0",
         "2.0",
         "6.0",
         "73134.61"
        ],
        [
         "value",
         "37636.0",
         "11248.02",
         "32342.56",
         "112.3",
         "3327.64",
         "6975.04",
         "11386.71",
         "2469992.74"
        ],
        [
         "label",
         "37636.0",
         "0.11",
         "0.31",
         "0.0",
         "0.0",
         "0.0",
         "0.0",
         "1.0"
        ]
       ],
       "shape": {
        "columns": 8,
        "rows": 14
       }
      },
      "text/html": [
       "<div>\n",
       "<style scoped>\n",
       "    .dataframe tbody tr th:only-of-type {\n",
       "        vertical-align: middle;\n",
       "    }\n",
       "\n",
       "    .dataframe tbody tr th {\n",
       "        vertical-align: top;\n",
       "    }\n",
       "\n",
       "    .dataframe thead th {\n",
       "        text-align: right;\n",
       "    }\n",
       "</style>\n",
       "<table border=\"1\" class=\"dataframe\">\n",
       "  <thead>\n",
       "    <tr style=\"text-align: right;\">\n",
       "      <th></th>\n",
       "      <th>count</th>\n",
       "      <th>mean</th>\n",
       "      <th>std</th>\n",
       "      <th>min</th>\n",
       "      <th>25%</th>\n",
       "      <th>50%</th>\n",
       "      <th>75%</th>\n",
       "      <th>max</th>\n",
       "    </tr>\n",
       "  </thead>\n",
       "  <tbody>\n",
       "    <tr>\n",
       "      <th>adv_year</th>\n",
       "      <td>37636.0</td>\n",
       "      <td>2006.10</td>\n",
       "      <td>147.53</td>\n",
       "      <td>202.0</td>\n",
       "      <td>2018.00</td>\n",
       "      <td>2018.00</td>\n",
       "      <td>2018.00</td>\n",
       "      <td>2021.00</td>\n",
       "    </tr>\n",
       "    <tr>\n",
       "      <th>adv_month</th>\n",
       "      <td>37636.0</td>\n",
       "      <td>5.68</td>\n",
       "      <td>2.07</td>\n",
       "      <td>1.0</td>\n",
       "      <td>4.00</td>\n",
       "      <td>5.00</td>\n",
       "      <td>7.00</td>\n",
       "      <td>13.00</td>\n",
       "    </tr>\n",
       "    <tr>\n",
       "      <th>reg_year</th>\n",
       "      <td>37636.0</td>\n",
       "      <td>2012.38</td>\n",
       "      <td>4.57</td>\n",
       "      <td>1960.0</td>\n",
       "      <td>2009.00</td>\n",
       "      <td>2013.00</td>\n",
       "      <td>2016.00</td>\n",
       "      <td>2019.00</td>\n",
       "    </tr>\n",
       "    <tr>\n",
       "      <th>mileage</th>\n",
       "      <td>37636.0</td>\n",
       "      <td>48194.86</td>\n",
       "      <td>39475.09</td>\n",
       "      <td>-19826.0</td>\n",
       "      <td>15389.75</td>\n",
       "      <td>39249.00</td>\n",
       "      <td>74204.50</td>\n",
       "      <td>900000.00</td>\n",
       "    </tr>\n",
       "    <tr>\n",
       "      <th>price</th>\n",
       "      <td>37636.0</td>\n",
       "      <td>11840.00</td>\n",
       "      <td>34044.82</td>\n",
       "      <td>125.0</td>\n",
       "      <td>3500.00</td>\n",
       "      <td>7343.50</td>\n",
       "      <td>11990.00</td>\n",
       "      <td>2599990.00</td>\n",
       "    </tr>\n",
       "    <tr>\n",
       "      <th>seat_num</th>\n",
       "      <td>37636.0</td>\n",
       "      <td>5.11</td>\n",
       "      <td>1.64</td>\n",
       "      <td>2.0</td>\n",
       "      <td>5.00</td>\n",
       "      <td>5.00</td>\n",
       "      <td>5.00</td>\n",
       "      <td>20.00</td>\n",
       "    </tr>\n",
       "    <tr>\n",
       "      <th>door_num</th>\n",
       "      <td>37636.0</td>\n",
       "      <td>4.35</td>\n",
       "      <td>1.12</td>\n",
       "      <td>0.0</td>\n",
       "      <td>3.00</td>\n",
       "      <td>5.00</td>\n",
       "      <td>5.00</td>\n",
       "      <td>7.00</td>\n",
       "    </tr>\n",
       "    <tr>\n",
       "      <th>issue_id</th>\n",
       "      <td>37636.0</td>\n",
       "      <td>0.50</td>\n",
       "      <td>1.13</td>\n",
       "      <td>0.0</td>\n",
       "      <td>0.00</td>\n",
       "      <td>0.00</td>\n",
       "      <td>0.00</td>\n",
       "      <td>5.00</td>\n",
       "    </tr>\n",
       "    <tr>\n",
       "      <th>adv_day</th>\n",
       "      <td>37636.0</td>\n",
       "      <td>14.49</td>\n",
       "      <td>8.09</td>\n",
       "      <td>1.0</td>\n",
       "      <td>7.00</td>\n",
       "      <td>14.00</td>\n",
       "      <td>22.00</td>\n",
       "      <td>28.00</td>\n",
       "    </tr>\n",
       "    <tr>\n",
       "      <th>repair_complexity</th>\n",
       "      <td>37636.0</td>\n",
       "      <td>1.28</td>\n",
       "      <td>0.55</td>\n",
       "      <td>1.0</td>\n",
       "      <td>1.00</td>\n",
       "      <td>1.00</td>\n",
       "      <td>1.00</td>\n",
       "      <td>4.00</td>\n",
       "    </tr>\n",
       "    <tr>\n",
       "      <th>repair_cost</th>\n",
       "      <td>37636.0</td>\n",
       "      <td>309.05</td>\n",
       "      <td>1547.47</td>\n",
       "      <td>-44470.0</td>\n",
       "      <td>25.16</td>\n",
       "      <td>84.30</td>\n",
       "      <td>243.24</td>\n",
       "      <td>98690.12</td>\n",
       "    </tr>\n",
       "    <tr>\n",
       "      <th>repair_hours</th>\n",
       "      <td>37636.0</td>\n",
       "      <td>53.42</td>\n",
       "      <td>718.34</td>\n",
       "      <td>0.5</td>\n",
       "      <td>1.00</td>\n",
       "      <td>2.00</td>\n",
       "      <td>6.00</td>\n",
       "      <td>73134.61</td>\n",
       "    </tr>\n",
       "    <tr>\n",
       "      <th>value</th>\n",
       "      <td>37636.0</td>\n",
       "      <td>11248.02</td>\n",
       "      <td>32342.56</td>\n",
       "      <td>112.3</td>\n",
       "      <td>3327.64</td>\n",
       "      <td>6975.04</td>\n",
       "      <td>11386.71</td>\n",
       "      <td>2469992.74</td>\n",
       "    </tr>\n",
       "    <tr>\n",
       "      <th>label</th>\n",
       "      <td>37636.0</td>\n",
       "      <td>0.11</td>\n",
       "      <td>0.31</td>\n",
       "      <td>0.0</td>\n",
       "      <td>0.00</td>\n",
       "      <td>0.00</td>\n",
       "      <td>0.00</td>\n",
       "      <td>1.00</td>\n",
       "    </tr>\n",
       "  </tbody>\n",
       "</table>\n",
       "</div>"
      ],
      "text/plain": [
       "                     count      mean       std      min       25%       50%  \\\n",
       "adv_year           37636.0   2006.10    147.53    202.0   2018.00   2018.00   \n",
       "adv_month          37636.0      5.68      2.07      1.0      4.00      5.00   \n",
       "reg_year           37636.0   2012.38      4.57   1960.0   2009.00   2013.00   \n",
       "mileage            37636.0  48194.86  39475.09 -19826.0  15389.75  39249.00   \n",
       "price              37636.0  11840.00  34044.82    125.0   3500.00   7343.50   \n",
       "seat_num           37636.0      5.11      1.64      2.0      5.00      5.00   \n",
       "door_num           37636.0      4.35      1.12      0.0      3.00      5.00   \n",
       "issue_id           37636.0      0.50      1.13      0.0      0.00      0.00   \n",
       "adv_day            37636.0     14.49      8.09      1.0      7.00     14.00   \n",
       "repair_complexity  37636.0      1.28      0.55      1.0      1.00      1.00   \n",
       "repair_cost        37636.0    309.05   1547.47 -44470.0     25.16     84.30   \n",
       "repair_hours       37636.0     53.42    718.34      0.5      1.00      2.00   \n",
       "value              37636.0  11248.02  32342.56    112.3   3327.64   6975.04   \n",
       "label              37636.0      0.11      0.31      0.0      0.00      0.00   \n",
       "\n",
       "                        75%         max  \n",
       "adv_year            2018.00     2021.00  \n",
       "adv_month              7.00       13.00  \n",
       "reg_year            2016.00     2019.00  \n",
       "mileage            74204.50   900000.00  \n",
       "price              11990.00  2599990.00  \n",
       "seat_num               5.00       20.00  \n",
       "door_num               5.00        7.00  \n",
       "issue_id               0.00        5.00  \n",
       "adv_day               22.00       28.00  \n",
       "repair_complexity      1.00        4.00  \n",
       "repair_cost          243.24    98690.12  \n",
       "repair_hours           6.00    73134.61  \n",
       "value              11386.71  2469992.74  \n",
       "label                  0.00        1.00  "
      ]
     },
     "execution_count": 13,
     "metadata": {},
     "output_type": "execute_result"
    }
   ],
   "source": [
    "# describe numerical features\n",
    "df.select_dtypes(np.number).describe().round(2).T"
   ]
  },
  {
   "cell_type": "code",
   "execution_count": null,
   "id": "091ba5cf",
   "metadata": {},
   "outputs": [
    {
     "data": {
      "text/plain": [
       "<Axes: >"
      ]
     },
     "execution_count": 14,
     "metadata": {},
     "output_type": "execute_result"
    },
    {
     "data": {
      "image/png": "[encoded data removed]",
      "text/plain": [
       "<Figure size 640x480 with 2 Axes>"
      ]
     },
     "metadata": {},
     "output_type": "display_data"
    }
   ],
   "source": [
    "# First check how strongly numerical features correlate with one another\n",
    "\n",
    "corr_matrix = df.select_dtypes(np.number).corr().round(2)\n",
    "sns.heatmap(corr_matrix, annot=True, annot_kws={'size': 8})"
   ]
  },
  {
   "cell_type": "code",
   "execution_count": null,
   "id": "9a2c7b7c",
   "metadata": {},
   "outputs": [],
   "source": [
    "# Features 'price' and 'value' appear to be the same variable.\n",
    "\n",
    "# drop 'value'\n",
    "df = df.drop('value', axis=1)\n",
    "udf = udf.drop('value', axis=1)"
   ]
  },
  {
   "cell_type": "code",
   "execution_count": null,
   "id": "975e54d2",
   "metadata": {},
   "outputs": [
    {
     "data": {
      "text/plain": [
       "250"
      ]
     },
     "execution_count": 16,
     "metadata": {},
     "output_type": "execute_result"
    }
   ],
   "source": [
    "# 'adv_year' feature contains an oddly low minimum value\n",
    "# count number of cars an advertisement year lower than 1950\n",
    "df['adv_year'][df['adv_year'] < 1950].shape[0]"
   ]
  },
  {
   "cell_type": "code",
   "execution_count": 17,
   "id": "79cc0bd5",
   "metadata": {},
   "outputs": [
    {
     "data": {
      "text/plain": [
       "100"
      ]
     },
     "execution_count": 17,
     "metadata": {},
     "output_type": "execute_result"
    }
   ],
   "source": [
    "udf['adv_year'][udf['adv_year'] < 1950].shape[0]"
   ]
  },
  {
   "cell_type": "code",
   "execution_count": 18,
   "id": "e50ceb4b",
   "metadata": {},
   "outputs": [
    {
     "data": {
      "text/plain": [
       "array([202], dtype=int64)"
      ]
     },
     "execution_count": 18,
     "metadata": {},
     "output_type": "execute_result"
    }
   ],
   "source": [
    "# We have 250 unreasonably old dates\n",
    "# check if there is any variability in those\n",
    "df['adv_year'][df['adv_year'] < 1950].unique()"
   ]
  },
  {
   "cell_type": "code",
   "execution_count": 19,
   "id": "54f01e95",
   "metadata": {},
   "outputs": [
    {
     "data": {
      "text/plain": [
       "array([202], dtype=int64)"
      ]
     },
     "execution_count": 19,
     "metadata": {},
     "output_type": "execute_result"
    }
   ],
   "source": [
    "udf['adv_year'][udf['adv_year'] < 1950].unique()"
   ]
  },
  {
   "cell_type": "code",
   "execution_count": 20,
   "id": "faa744f8",
   "metadata": {},
   "outputs": [
    {
     "data": {
      "text/plain": [
       "adv_year\n",
       "2012        1\n",
       "2013        2\n",
       "2014        5\n",
       "2015       10\n",
       "2016       62\n",
       "2017     1366\n",
       "2018    33302\n",
       "2019       21\n",
       "2020      250\n",
       "2021     2617\n",
       "dtype: int64"
      ]
     },
     "execution_count": 20,
     "metadata": {},
     "output_type": "execute_result"
    }
   ],
   "source": [
    "# No variability: 250 values have 'adv_year' equal to 202\n",
    "# this number should most likely stand for 2020, hence replace the values\n",
    "df['adv_year'] = df['adv_year'].replace(202, 2020)\n",
    "# check the frequency distribution for different years\n",
    "df.groupby('adv_year').size()"
   ]
  },
  {
   "cell_type": "code",
   "execution_count": 21,
   "id": "6c2ac51f",
   "metadata": {},
   "outputs": [
    {
     "data": {
      "text/plain": [
       "adv_year\n",
       "2014        1\n",
       "2015        4\n",
       "2016       33\n",
       "2017      585\n",
       "2018    14274\n",
       "2019        2\n",
       "2020      100\n",
       "2021     1131\n",
       "dtype: int64"
      ]
     },
     "execution_count": 21,
     "metadata": {},
     "output_type": "execute_result"
    }
   ],
   "source": [
    "udf['adv_year'] = udf['adv_year'].replace(202, 2020)\n",
    "udf.groupby('adv_year').size()"
   ]
  },
  {
   "cell_type": "code",
   "execution_count": 22,
   "id": "3db661ab",
   "metadata": {},
   "outputs": [
    {
     "data": {
      "text/plain": [
       "adv_month\n",
       "1      736\n",
       "2     1346\n",
       "3     2969\n",
       "4     6049\n",
       "5     8772\n",
       "6     3376\n",
       "7     5314\n",
       "8     7761\n",
       "9      301\n",
       "10     279\n",
       "11     368\n",
       "12     364\n",
       "13       1\n",
       "dtype: int64"
      ]
     },
     "execution_count": 22,
     "metadata": {},
     "output_type": "execute_result"
    }
   ],
   "source": [
    "# looks credible\n",
    "\n",
    "# Now let's check 'adv_month' feature\n",
    "df.groupby('adv_month').size()"
   ]
  },
  {
   "cell_type": "code",
   "execution_count": 23,
   "id": "7040474d",
   "metadata": {},
   "outputs": [
    {
     "data": {
      "text/plain": [
       "adv_month\n",
       "1      322\n",
       "2      553\n",
       "3     1305\n",
       "4     2572\n",
       "5     3795\n",
       "6     1401\n",
       "7     2221\n",
       "8     3386\n",
       "9      128\n",
       "10     128\n",
       "11     166\n",
       "12     153\n",
       "dtype: int64"
      ]
     },
     "execution_count": 23,
     "metadata": {},
     "output_type": "execute_result"
    }
   ],
   "source": [
    "udf.groupby('adv_month').size()"
   ]
  },
  {
   "cell_type": "code",
   "execution_count": 24,
   "id": "75f61c9a",
   "metadata": {},
   "outputs": [],
   "source": [
    "# Month 13 most likely belongs to 12, hence replace the value\n",
    "df['adv_month'] = df['adv_month'].replace(13, 12)"
   ]
  },
  {
   "cell_type": "code",
   "execution_count": 25,
   "id": "6698f798",
   "metadata": {},
   "outputs": [
    {
     "data": {
      "text/plain": [
       "adv_day\n",
       "1     1331\n",
       "2     1361\n",
       "3     1356\n",
       "4     1315\n",
       "5     1350\n",
       "6     1323\n",
       "7     1431\n",
       "8     1408\n",
       "9     1372\n",
       "10    1316\n",
       "11    1305\n",
       "12    1366\n",
       "13    1313\n",
       "14    1343\n",
       "15    1299\n",
       "16    1353\n",
       "17    1285\n",
       "18    1290\n",
       "19    1337\n",
       "20    1371\n",
       "21    1340\n",
       "22    1378\n",
       "23    1344\n",
       "24    1409\n",
       "25    1316\n",
       "26    1387\n",
       "27    1284\n",
       "28    1353\n",
       "dtype: int64"
      ]
     },
     "execution_count": 25,
     "metadata": {},
     "output_type": "execute_result"
    }
   ],
   "source": [
    "# check advertisment day\n",
    "df.groupby('adv_day').size()"
   ]
  },
  {
   "cell_type": "code",
   "execution_count": 26,
   "id": "c7d54881",
   "metadata": {},
   "outputs": [
    {
     "data": {
      "text/plain": [
       "adv_day\n",
       "1     573\n",
       "2     603\n",
       "3     568\n",
       "4     524\n",
       "5     592\n",
       "6     546\n",
       "7     579\n",
       "8     589\n",
       "9     634\n",
       "10    598\n",
       "11    589\n",
       "12    567\n",
       "13    601\n",
       "14    541\n",
       "15    570\n",
       "16    607\n",
       "17    546\n",
       "18    556\n",
       "19    548\n",
       "20    617\n",
       "21    569\n",
       "22    558\n",
       "23    561\n",
       "24    614\n",
       "25    552\n",
       "26    560\n",
       "27    583\n",
       "28    585\n",
       "dtype: int64"
      ]
     },
     "execution_count": 26,
     "metadata": {},
     "output_type": "execute_result"
    }
   ],
   "source": [
    "udf.groupby('adv_day').size()"
   ]
  },
  {
   "cell_type": "code",
   "execution_count": 27,
   "id": "e8191807",
   "metadata": {},
   "outputs": [],
   "source": [
    "# looks ok overall though kind of strange to have 28 days for each month\n",
    "\n",
    "# Let's combine advertisement day, month and year into one date feature and drop redundant columns\n",
    "df['adv_date'] = pd.to_datetime({'year': df['adv_year'], 'month': df['adv_month'], 'day': df['adv_day']})\n",
    "df = df.drop(['adv_year', 'adv_month', 'adv_day'], axis=1)"
   ]
  },
  {
   "cell_type": "code",
   "execution_count": 28,
   "id": "4fb4f2ee",
   "metadata": {},
   "outputs": [],
   "source": [
    "udf['adv_date'] = pd.to_datetime({'year': udf['adv_year'], 'month': udf['adv_month'], 'day': udf['adv_day']})\n",
    "udf = udf.drop(['adv_year', 'adv_month', 'adv_day'], axis=1)"
   ]
  },
  {
   "cell_type": "code",
   "execution_count": 29,
   "id": "25fd6394",
   "metadata": {},
   "outputs": [
    {
     "data": {
      "text/plain": [
       "2882    2021-06-28\n",
       "18822   2021-06-28\n",
       "16943   2021-06-28\n",
       "Name: adv_date, dtype: datetime64[ns]"
      ]
     },
     "execution_count": 29,
     "metadata": {},
     "output_type": "execute_result"
    }
   ],
   "source": [
    "# check the most recent advertisement dates to find a feasible reference point for calculating advertisement recency\n",
    "df['adv_date'].sort_values().tail(3)"
   ]
  },
  {
   "cell_type": "code",
   "execution_count": 30,
   "id": "fa5e4e03",
   "metadata": {},
   "outputs": [
    {
     "data": {
      "text/plain": [
       "11985   2021-06-28\n",
       "15989   2021-06-28\n",
       "11707   2021-06-28\n",
       "Name: adv_date, dtype: datetime64[ns]"
      ]
     },
     "execution_count": 30,
     "metadata": {},
     "output_type": "execute_result"
    }
   ],
   "source": [
    "udf['adv_date'].sort_values().tail(3)"
   ]
  },
  {
   "cell_type": "code",
   "execution_count": 31,
   "id": "792e4938",
   "metadata": {},
   "outputs": [
    {
     "data": {
      "text/plain": [
       "<Axes: xlabel='adv_recency', ylabel='Count'>"
      ]
     },
     "execution_count": 31,
     "metadata": {},
     "output_type": "execute_result"
    },
    {
     "data": {
      "image/png": "[encoded data removed]",
      "text/plain": [
       "<Figure size 800x300 with 1 Axes>"
      ]
     },
     "metadata": {},
     "output_type": "display_data"
    }
   ],
   "source": [
    "# let's use 2022-01-01 as a reference date\n",
    "reference_date = pd.to_datetime('2022-01-01')\n",
    "\n",
    "# distance to the reference date in days (recency)\n",
    "df['adv_recency'] = (reference_date - df['adv_date']).dt.days\n",
    "udf['adv_recency'] = (reference_date - udf['adv_date']).dt.days\n",
    "\n",
    "\n",
    "# extract additional features to represent possible cyclic predictors such as weekday and month\n",
    "df['month'] = df['adv_date'].dt.month\n",
    "udf['month'] = udf['adv_date'].dt.month\n",
    "\n",
    "df['weekday'] = df['adv_date'].dt.weekday\n",
    "udf['weekday'] = udf['adv_date'].dt.weekday\n",
    "\n",
    "df = df.drop('adv_date', axis=1)  # drop 'adv_date' as redundant\n",
    "udf = udf.drop('adv_date', axis=1)\n",
    "\n",
    "# plot the distribution plot for 'adv_recency'\n",
    "plt.figure(figsize=(8, 3))\n",
    "sns.histplot(df['adv_recency'])"
   ]
  },
  {
   "cell_type": "code",
   "execution_count": 32,
   "id": "d9af64b6",
   "metadata": {},
   "outputs": [],
   "source": [
    "# 'adv_recency' distribution is far from normal\n",
    "# hence apply log transformation\n",
    "df['adv_recency_log'] = np.log1p(df['adv_recency'])\n",
    "udf['adv_recency_log'] = np.log1p(udf['adv_recency'])\n",
    "\n",
    "df = df.drop('adv_recency', axis=1)  # drop 'adv_recency' as redundant\n",
    "udf = udf.drop('adv_recency', axis=1)\n",
    "\n",
    "# and use RobustScaler\n",
    "from sklearn.preprocessing import RobustScaler\n",
    "scaler = RobustScaler()\n",
    "df['adv_recency_scaled'] = scaler.fit_transform(df[['adv_recency_log']])\n",
    "udf['adv_recency_scaled'] = scaler.transform(udf[['adv_recency_log']])\n",
    "\n",
    "# drop 'adv_recency_log' as redundant\n",
    "df = df.drop('adv_recency_log', axis=1)\n",
    "udf = udf.drop('adv_recency_log', axis=1)"
   ]
  },
  {
   "cell_type": "code",
   "execution_count": 33,
   "id": "20647193",
   "metadata": {},
   "outputs": [
    {
     "data": {
      "text/plain": [
       "weekday\n",
       "0    5441\n",
       "1    5374\n",
       "2    5319\n",
       "3    5282\n",
       "4    5442\n",
       "5    5424\n",
       "6    5354\n",
       "Name: count, dtype: int64"
      ]
     },
     "execution_count": 33,
     "metadata": {},
     "output_type": "execute_result"
    }
   ],
   "source": [
    "# check the newly engineered features, first check weekdays\n",
    "df['weekday'].value_counts().sort_index()"
   ]
  },
  {
   "cell_type": "code",
   "execution_count": 34,
   "id": "04ea4ec8",
   "metadata": {},
   "outputs": [
    {
     "data": {
      "text/plain": [
       "month\n",
       "1      736\n",
       "2     1346\n",
       "3     2969\n",
       "4     6049\n",
       "5     8772\n",
       "6     3376\n",
       "7     5314\n",
       "8     7761\n",
       "9      301\n",
       "10     279\n",
       "11     368\n",
       "12     365\n",
       "Name: count, dtype: int64"
      ]
     },
     "execution_count": 34,
     "metadata": {},
     "output_type": "execute_result"
    }
   ],
   "source": [
    "# check months\n",
    "df['month'].value_counts().sort_index()"
   ]
  },
  {
   "cell_type": "code",
   "execution_count": 35,
   "id": "0f154aaf",
   "metadata": {},
   "outputs": [],
   "source": [
    "# Features like month and weekday are cyclic (e.g., December is close to January, Sunday to Monday etc.)\n",
    "# Logistic regression treats them as linear, which can miss this relationship\n",
    "# We will encode them as sin/cos pairs to capture their cyclic nature:\n",
    "\n",
    "# cyclic encoding for month\n",
    "df['month_sin'] = np.sin(2 * np.pi * df['month'] / 12)\n",
    "df['month_cos'] = np.cos(2 * np.pi * df['month'] / 12)\n",
    "\n",
    "udf['month_sin'] = np.sin(2 * np.pi * udf['month'] / 12)\n",
    "udf['month_cos'] = np.cos(2 * np.pi * udf['month'] / 12)\n",
    "# cyclic encoding for weekday\n",
    "df['weekday_sin'] = np.sin(2 * np.pi * df['weekday'] / 7)\n",
    "df['weekday_cos'] = np.cos(2 * np.pi * df['weekday'] / 7)\n",
    "\n",
    "udf['weekday_sin'] = np.sin(2 * np.pi * udf['weekday'] / 7)\n",
    "udf['weekday_cos'] = np.cos(2 * np.pi * udf['weekday'] / 7)\n",
    "\n",
    "# Drop adv_day, month and weekday as we don't need them anymore\n",
    "df = df.drop(['month', 'weekday'], axis=1)\n",
    "udf = udf.drop(['month', 'weekday'], axis=1)"
   ]
  },
  {
   "cell_type": "code",
   "execution_count": 36,
   "id": "9cd43943",
   "metadata": {},
   "outputs": [
    {
     "data": {
      "text/plain": [
       "<Axes: xlabel='reg_year', ylabel='Count'>"
      ]
     },
     "execution_count": 36,
     "metadata": {},
     "output_type": "execute_result"
    },
    {
     "data": {
      "image/png": "[encoded data removed]",
      "text/plain": [
       "<Figure size 800x300 with 1 Axes>"
      ]
     },
     "metadata": {},
     "output_type": "display_data"
    }
   ],
   "source": [
    "# Check 'reg_year' distribution\n",
    "plt.figure(figsize=(8, 3))\n",
    "sns.histplot(df['reg_year'])"
   ]
  },
  {
   "cell_type": "code",
   "execution_count": 37,
   "id": "8fc6cd6e",
   "metadata": {},
   "outputs": [],
   "source": [
    "# Instead of using the absolute year (reg_year), let's calculate the age of the vehicle by subtracting reg_year from a reference year\n",
    "# This captures the recency of the vehicle (e.g., newer vehicles might be more likely to have a positive label)\n",
    "\n",
    "# calculate vehicle age (using 2022 as reference)\n",
    "df['vehicle_age'] = 2022 - df['reg_year']\n",
    "udf['vehicle_age'] = 2022 - udf['reg_year']\n",
    "\n",
    "# drop 'reg_year'\n",
    "df = df.drop('reg_year', axis = 1)\n",
    "udf = udf.drop('reg_year', axis = 1)\n",
    "\n",
    "# log transform the feature as it looks highly left skewed\n",
    "df['vehicle_age_log'] = np.log1p(df['vehicle_age'])\n",
    "udf['vehicle_age_log'] = np.log1p(udf['vehicle_age'])\n",
    "\n",
    "# use RobustScaler\n",
    "scaler = RobustScaler()\n",
    "df['vehicle_age_scaled'] = scaler.fit_transform(df[['vehicle_age_log']])\n",
    "udf['vehicle_age_scaled'] = scaler.transform(udf[['vehicle_age_log']])\n",
    "\n",
    "# drop 'vehicle_age_log' and 'vehicle_age' as redundant\n",
    "df = df.drop(['vehicle_age', 'vehicle_age_log'], axis=1)\n",
    "udf = udf.drop(['vehicle_age', 'vehicle_age_log'], axis=1)\n"
   ]
  },
  {
   "cell_type": "code",
   "execution_count": 38,
   "id": "2ea6a3d8",
   "metadata": {},
   "outputs": [
    {
     "data": {
      "text/plain": [
       "<Axes: xlabel='mileage', ylabel='Count'>"
      ]
     },
     "execution_count": 38,
     "metadata": {},
     "output_type": "execute_result"
    },
    {
     "data": {
      "image/png": "[encoded data removed]",
      "text/plain": [
       "<Figure size 800x300 with 1 Axes>"
      ]
     },
     "metadata": {},
     "output_type": "display_data"
    }
   ],
   "source": [
    "# Check 'mileage' feature\n",
    "plt.figure(figsize=(8, 3))\n",
    "sns.histplot(df['mileage'])"
   ]
  },
  {
   "cell_type": "code",
   "execution_count": 39,
   "id": "83f930ee",
   "metadata": {},
   "outputs": [
    {
     "data": {
      "text/plain": [
       "134"
      ]
     },
     "execution_count": 39,
     "metadata": {},
     "output_type": "execute_result"
    }
   ],
   "source": [
    "# count negative values\n",
    "df.query('mileage < 0').shape[0]"
   ]
  },
  {
   "cell_type": "code",
   "execution_count": 40,
   "id": "18e9e9cb",
   "metadata": {},
   "outputs": [
    {
     "data": {
      "text/plain": [
       "73"
      ]
     },
     "execution_count": 40,
     "metadata": {},
     "output_type": "execute_result"
    }
   ],
   "source": [
    "udf.query('mileage < 0').shape[0]"
   ]
  },
  {
   "cell_type": "code",
   "execution_count": 41,
   "id": "65cdfee6",
   "metadata": {},
   "outputs": [
    {
     "data": {
      "text/plain": [
       "<Axes: xlabel='mileage', ylabel='Count'>"
      ]
     },
     "execution_count": 41,
     "metadata": {},
     "output_type": "execute_result"
    },
    {
     "data": {
      "image/png": "[encoded data removed]",
      "text/plain": [
       "<Figure size 800x300 with 1 Axes>"
      ]
     },
     "metadata": {},
     "output_type": "display_data"
    }
   ],
   "source": [
    "# check detailed distribution of negative values for 'mileage'\n",
    "plt.figure(figsize=(8, 3))\n",
    "sns.histplot(df['mileage'][df['mileage'] < 0])"
   ]
  },
  {
   "cell_type": "code",
   "execution_count": 42,
   "id": "aafd6534",
   "metadata": {},
   "outputs": [],
   "source": [
    "# looks like negative sign is a typo here\n",
    "# let's convert negative mileage to positive\n",
    "df['mileage'] = df['mileage'].abs()\n",
    "udf['mileage'] = udf['mileage'].abs()\n",
    "# log transform the feature\n",
    "df['mileage_log'] = np.log1p(df['mileage'])\n",
    "udf['mileage_log'] = np.log1p(udf['mileage'])"
   ]
  },
  {
   "cell_type": "code",
   "execution_count": 43,
   "id": "6c360ce1",
   "metadata": {},
   "outputs": [
    {
     "data": {
      "image/png": "[encoded data removed]",
      "text/plain": [
       "<Figure size 800x400 with 1 Axes>"
      ]
     },
     "metadata": {},
     "output_type": "display_data"
    }
   ],
   "source": [
    "# To reduce the impact of outliers on the logistic regression model, apply RobustScaler to the feature\n",
    "scaler = RobustScaler()\n",
    "df['mileage_scaled'] = scaler.fit_transform(df[['mileage_log']])\n",
    "udf['mileage_scaled'] = scaler.transform(udf[['mileage_log']])\n",
    "\n",
    "# Visualize the resulting disctribution change\n",
    "plt.figure(figsize=(8, 4))\n",
    "sns.histplot(df['mileage_log'], color='orange', label='mileage_log')\n",
    "sns.histplot(df['mileage_scaled'], color='blue', label='mileage_scaled')\n",
    "plt.xlabel('Value')\n",
    "plt.ylabel('Count')\n",
    "plt.legend()\n",
    "plt.show()"
   ]
  },
  {
   "cell_type": "code",
   "execution_count": 44,
   "id": "a5a25fdd",
   "metadata": {},
   "outputs": [],
   "source": [
    "# Drop 'mileage_log' and 'mileage'\n",
    "df = df.drop(columns=['mileage', 'mileage_log'])\n",
    "udf = udf.drop(columns=['mileage', 'mileage_log'])"
   ]
  },
  {
   "cell_type": "code",
   "execution_count": 45,
   "id": "b2847cd8",
   "metadata": {},
   "outputs": [
    {
     "data": {
      "text/plain": [
       "<Axes: xlabel='price', ylabel='Count'>"
      ]
     },
     "execution_count": 45,
     "metadata": {},
     "output_type": "execute_result"
    },
    {
     "data": {
      "image/png": "[encoded data removed]",
      "text/plain": [
       "<Figure size 800x300 with 1 Axes>"
      ]
     },
     "metadata": {},
     "output_type": "display_data"
    }
   ],
   "source": [
    "# Vizualise the distribution of the 'price' feature\n",
    "plt.figure(figsize=(8, 3))\n",
    "sns.histplot(df['price'])"
   ]
  },
  {
   "cell_type": "code",
   "execution_count": 46,
   "id": "18dfd96c",
   "metadata": {},
   "outputs": [
    {
     "data": {
      "text/plain": [
       "28015    125.0\n",
       "21484    150.0\n",
       "32137    180.0\n",
       "174      195.0\n",
       "12595    195.0\n",
       "18814    199.0\n",
       "2321     200.0\n",
       "22214    200.0\n",
       "33684    200.0\n",
       "36126    200.0\n",
       "Name: price, dtype: float64"
      ]
     },
     "execution_count": 46,
     "metadata": {},
     "output_type": "execute_result"
    }
   ],
   "source": [
    "# 'price' feature is heavily right skewed\n",
    "# let's check 10 lowest values\n",
    "df['price'].sort_values().head(10)"
   ]
  },
  {
   "cell_type": "code",
   "execution_count": 47,
   "id": "0e223f8d",
   "metadata": {},
   "outputs": [
    {
     "data": {
      "text/plain": [
       "31763     350000.0\n",
       "1319      399950.0\n",
       "32506     459990.0\n",
       "16699     535000.0\n",
       "6882      599950.0\n",
       "28321    1250000.0\n",
       "31892    2000000.0\n",
       "28611    2195000.0\n",
       "20088    2500000.0\n",
       "5582     2599990.0\n",
       "Name: price, dtype: float64"
      ]
     },
     "execution_count": 47,
     "metadata": {},
     "output_type": "execute_result"
    }
   ],
   "source": [
    "# check 10 highest 'price' values\n",
    "df['price'].sort_values().tail(10)"
   ]
  },
  {
   "cell_type": "code",
   "execution_count": 48,
   "id": "7474b601",
   "metadata": {},
   "outputs": [
    {
     "name": "stdout",
     "output_type": "stream",
     "text": [
      "1958\n"
     ]
    }
   ],
   "source": [
    "# All outliers seem to be real numbers as it is not impossible to sell used cars very cheap and premium cars very expensive\n",
    "# Still let's check how many outliers we have\n",
    "price_outliers_indices = find_outliers(df['price'])\n",
    "print(len(df['price'][price_outliers_indices]))"
   ]
  },
  {
   "cell_type": "code",
   "execution_count": 49,
   "id": "c61f0da7",
   "metadata": {},
   "outputs": [
    {
     "name": "stdout",
     "output_type": "stream",
     "text": [
      "898\n"
     ]
    }
   ],
   "source": [
    "price_outliers_indices2 = find_outliers(udf['price'])\n",
    "print(len(udf['price'][price_outliers_indices2]))"
   ]
  },
  {
   "cell_type": "code",
   "execution_count": 50,
   "id": "37a2958a",
   "metadata": {},
   "outputs": [
    {
     "name": "stdout",
     "output_type": "stream",
     "text": [
      "1130\n",
      "540\n"
     ]
    }
   ],
   "source": [
    "# Too many outliers. Let's log-transform the feature and check if it helped\n",
    "df['log_price'] = np.log1p(df['price'])\n",
    "udf['log_price'] = np.log1p(udf['price'])\n",
    "price_outliers_indices = find_outliers(df['log_price'])\n",
    "price_outliers_indices2 = find_outliers(udf['log_price'])\n",
    "print(len(df['log_price'][price_outliers_indices]))\n",
    "print(len(udf['log_price'][price_outliers_indices2]))"
   ]
  },
  {
   "cell_type": "code",
   "execution_count": 51,
   "id": "2dd1aa6d",
   "metadata": {},
   "outputs": [
    {
     "data": {
      "image/png": "[encoded data removed]",
      "text/plain": [
       "<Figure size 800x400 with 1 Axes>"
      ]
     },
     "metadata": {},
     "output_type": "display_data"
    }
   ],
   "source": [
    "# We still have quite a large number of outliers which can be detrimental to the quality of predictive model\n",
    "# To reduce their impact on the logistic regression model, let's apply RobustScaler (instead of StandardScaler)\n",
    "scaler = RobustScaler()\n",
    "df['price_scaled'] = scaler.fit_transform(df[['log_price']])\n",
    "udf['price_scaled'] = scaler.transform(udf[['log_price']])\n",
    "\n",
    "# Let's visualize the resulting disctribution change\n",
    "plt.figure(figsize=(8, 4))\n",
    "sns.histplot(df['log_price'], color='orange', label='log_price')\n",
    "sns.histplot(df['price_scaled'], color='blue', label='price_scaled')\n",
    "plt.xlabel('Value')\n",
    "plt.ylabel('Count')\n",
    "plt.legend()\n",
    "plt.show()"
   ]
  },
  {
   "cell_type": "code",
   "execution_count": 52,
   "id": "6d7a6a17",
   "metadata": {},
   "outputs": [],
   "source": [
    "# Drop 'price' and 'log_price'\n",
    "df = df.drop(columns=['price', 'log_price'])\n",
    "udf = udf.drop(columns=['price', 'log_price'])"
   ]
  },
  {
   "cell_type": "code",
   "execution_count": 53,
   "id": "7eac2991",
   "metadata": {},
   "outputs": [
    {
     "data": {
      "text/plain": [
       "seat_num\n",
       "2.0       654\n",
       "3.0        27\n",
       "4.0      6233\n",
       "5.0     27278\n",
       "6.0       149\n",
       "7.0      2516\n",
       "8.0        38\n",
       "9.0        31\n",
       "10.0       61\n",
       "11.0       71\n",
       "12.0       57\n",
       "13.0       56\n",
       "14.0       74\n",
       "15.0       72\n",
       "16.0       67\n",
       "17.0       53\n",
       "18.0       65\n",
       "19.0       70\n",
       "20.0       64\n",
       "Name: count, dtype: int64"
      ]
     },
     "execution_count": 53,
     "metadata": {},
     "output_type": "execute_result"
    }
   ],
   "source": [
    "# Check the frequency for each 'seat_num\" case\n",
    "df['seat_num'].value_counts().sort_index()"
   ]
  },
  {
   "cell_type": "code",
   "execution_count": 54,
   "id": "93fad594",
   "metadata": {},
   "outputs": [
    {
     "data": {
      "text/plain": [
       "seat_num\n",
       "2.0       304\n",
       "3.0        14\n",
       "4.0      2678\n",
       "5.0     11669\n",
       "6.0        71\n",
       "7.0      1095\n",
       "8.0        19\n",
       "9.0        14\n",
       "10.0       24\n",
       "11.0       27\n",
       "12.0       29\n",
       "13.0       22\n",
       "14.0       25\n",
       "15.0       19\n",
       "16.0       28\n",
       "17.0       28\n",
       "18.0       19\n",
       "19.0       25\n",
       "20.0       20\n",
       "Name: count, dtype: int64"
      ]
     },
     "execution_count": 54,
     "metadata": {},
     "output_type": "execute_result"
    }
   ],
   "source": [
    "udf['seat_num'].value_counts().sort_index()"
   ]
  },
  {
   "cell_type": "code",
   "execution_count": 55,
   "id": "852cff02",
   "metadata": {},
   "outputs": [],
   "source": [
    "# While seat_num is numeric (integers), its distribution suggests it behaves more like a categorical feature\n",
    "# The long tail (8–20 seats) has low frequencies, and these rare values may not add much predictive power\n",
    "# Let's group the values into bins based on frequency and practical significance:\n",
    "# 2–3 seats: Small vehicles (e.g., sports cars, compact cars)\n",
    "# 4–5 seats: Standard vehicles (most common)\n",
    "# 6–7 seats: Larger family vehicles or SUVs\n",
    "# 8+ seats: Vans, buses, or specialty vehicles\n",
    "\n",
    "bins = [2, 3, 5, 7, 20]  # Define bin edges\n",
    "labels = ['2-3', '4-5', '6-7', '8+']  # Bin labels\n",
    "df['seat_num_binned'] = pd.cut(df['seat_num'], bins=bins, labels=labels, include_lowest=True)\n",
    "udf['seat_num_binned'] = pd.cut(udf['seat_num'], bins=bins, labels=labels, include_lowest=True)\n",
    "\n",
    "# One-hot encode the binned feature\n",
    "df = pd.get_dummies(df, columns=['seat_num_binned'], prefix='seat_num', drop_first=True)\n",
    "udf = pd.get_dummies(udf, columns=['seat_num_binned'], prefix='seat_num', drop_first=True)\n",
    "\n",
    "# Drop integer 'seat_num'\n",
    "df = df.drop('seat_num', axis=1)\n",
    "udf = udf.drop('seat_num', axis=1)"
   ]
  },
  {
   "cell_type": "code",
   "execution_count": 56,
   "id": "d14cceec",
   "metadata": {},
   "outputs": [
    {
     "data": {
      "text/plain": [
       "door_num\n",
       "0.0      606\n",
       "2.0     1828\n",
       "3.0     7536\n",
       "4.0     1113\n",
       "5.0    26482\n",
       "6.0       70\n",
       "7.0        1\n",
       "Name: count, dtype: int64"
      ]
     },
     "execution_count": 56,
     "metadata": {},
     "output_type": "execute_result"
    }
   ],
   "source": [
    "# check 'door_num' feature\n",
    "df['door_num'].value_counts().sort_index()"
   ]
  },
  {
   "cell_type": "code",
   "execution_count": 57,
   "id": "f252e8d4",
   "metadata": {},
   "outputs": [
    {
     "data": {
      "text/plain": [
       "door_num\n",
       "0.0      248\n",
       "2.0      815\n",
       "3.0     3196\n",
       "4.0      452\n",
       "5.0    11391\n",
       "6.0       28\n",
       "Name: count, dtype: int64"
      ]
     },
     "execution_count": 57,
     "metadata": {},
     "output_type": "execute_result"
    }
   ],
   "source": [
    "udf['door_num'].value_counts().sort_index()"
   ]
  },
  {
   "cell_type": "code",
   "execution_count": 58,
   "id": "492e6c7a",
   "metadata": {},
   "outputs": [
    {
     "data": {
      "text/plain": [
       "bodytype\n",
       "Car Derived Van      1\n",
       "Combi Van            2\n",
       "Convertible         46\n",
       "Coupe               78\n",
       "Estate              69\n",
       "Hatchback          234\n",
       "MPV                 64\n",
       "Pickup               8\n",
       "SUV                 18\n",
       "Saloon              18\n",
       "Wood                68\n",
       "dtype: int64"
      ]
     },
     "execution_count": 58,
     "metadata": {},
     "output_type": "execute_result"
    }
   ],
   "source": [
    "# The presence of 606 vehicles with 0 doors is unusual and might indicate either missing data or special vehicles (e.g. motorcycles)\n",
    "# Let's check how these vehicles are associated with 'bodytype'\n",
    "df[df['door_num'] == 0].groupby('bodytype').size()"
   ]
  },
  {
   "cell_type": "code",
   "execution_count": 59,
   "id": "20aad97d",
   "metadata": {},
   "outputs": [],
   "source": [
    "# It is obvious now that zero-doored vehicles refer to a missing value placeholder. Dropping relevant rows seems unpractical\n",
    "# The most direct solution would be imputing the mode of 'door_num' which is 5 doors (~70% of all cases)\n",
    "# Additionaly we will bin and one-hot-encode the feature\n",
    "\n",
    "df['door_num'] = df['door_num'].replace(0, 5)  # Impute 0 as 5\n",
    "udf['door_num'] = udf['door_num'].replace(0, 5)  # Impute 0 as 5\n",
    "bins = [2, 3, 5, 7]\n",
    "labels = ['2-3', '4-5', '6+']\n",
    "df['door_num_binned'] = pd.cut(df['door_num'], bins=bins, labels=labels, include_lowest=True)\n",
    "udf['door_num_binned'] = pd.cut(udf['door_num'], bins=bins, labels=labels, include_lowest=True)\n",
    "\n",
    "# One-hot encode the binned feature\n",
    "df = pd.get_dummies(df, columns=['door_num_binned'], prefix='door_num', drop_first=True)\n",
    "udf = pd.get_dummies(udf, columns=['door_num_binned'], prefix='door_num', drop_first=True)\n",
    "\n",
    "# Drop 'door_num'\n",
    "df = df.drop(['door_num'], axis=1)\n",
    "udf = udf.drop(['door_num'], axis=1)"
   ]
  },
  {
   "cell_type": "code",
   "execution_count": 60,
   "id": "a3e8b5a6",
   "metadata": {},
   "outputs": [
    {
     "data": {
      "text/plain": [
       "issue_id\n",
       "0    30092\n",
       "2     2046\n",
       "1     1942\n",
       "3     1906\n",
       "4     1196\n",
       "5      454\n",
       "Name: count, dtype: int64"
      ]
     },
     "execution_count": 60,
     "metadata": {},
     "output_type": "execute_result"
    }
   ],
   "source": [
    "# Check 'issue_id'\n",
    "df['issue_id'].value_counts()"
   ]
  },
  {
   "cell_type": "code",
   "execution_count": 61,
   "id": "ad8e5e20",
   "metadata": {},
   "outputs": [
    {
     "data": {
      "text/plain": [
       "issue_id\n",
       "0    12895\n",
       "1      857\n",
       "3      853\n",
       "2      849\n",
       "4      465\n",
       "5      211\n",
       "Name: count, dtype: int64"
      ]
     },
     "execution_count": 61,
     "metadata": {},
     "output_type": "execute_result"
    }
   ],
   "source": [
    "udf['issue_id'].value_counts()"
   ]
  },
  {
   "cell_type": "code",
   "execution_count": 62,
   "id": "0cba3c4f",
   "metadata": {},
   "outputs": [],
   "source": [
    "# It is not clear what information this feature represents but most likely the number of issues or defects identified with a vehicle\n",
    "# It looks plausible that the majority of sold cars had no defects and that the number of cars decreases with the number of identified issues\n",
    "# Seems reasonable to treat this feature like the previous one which implies binning to reduce dimensionality, and one-hot-encoding\n",
    "\n",
    "bins = [0, 1, 3, 5]\n",
    "labels = ['0', '1-2', '3+']\n",
    "df['issue_id_binned'] = pd.cut(df['issue_id'], bins=bins, labels=labels, include_lowest=True)\n",
    "udf['issue_id_binned'] = pd.cut(udf['issue_id'], bins=bins, labels=labels, include_lowest=True)\n",
    "\n",
    "# One-hot encode\n",
    "df = pd.get_dummies(df, columns=['issue_id_binned'], prefix='issue_id', drop_first=True)\n",
    "udf = pd.get_dummies(udf, columns=['issue_id_binned'], prefix='issue_id', drop_first=True)\n",
    "\n",
    "# drop 'issue_id'\n",
    "df = df.drop(['issue_id'], axis=1)\n",
    "udf = udf.drop(['issue_id'], axis=1)"
   ]
  },
  {
   "cell_type": "code",
   "execution_count": 63,
   "id": "820d8194",
   "metadata": {},
   "outputs": [
    {
     "data": {
      "text/plain": [
       "repair_complexity\n",
       "1    28739\n",
       "2     7292\n",
       "3     1510\n",
       "4       95\n",
       "Name: count, dtype: int64"
      ]
     },
     "execution_count": 63,
     "metadata": {},
     "output_type": "execute_result"
    }
   ],
   "source": [
    "# Check 'repair_complexity'\n",
    "df['repair_complexity'].value_counts()"
   ]
  },
  {
   "cell_type": "code",
   "execution_count": 64,
   "id": "cc6b0d09",
   "metadata": {},
   "outputs": [
    {
     "data": {
      "text/plain": [
       "repair_complexity\n",
       "1    12311\n",
       "2     3104\n",
       "3      670\n",
       "4       45\n",
       "Name: count, dtype: int64"
      ]
     },
     "execution_count": 64,
     "metadata": {},
     "output_type": "execute_result"
    }
   ],
   "source": [
    "udf['repair_complexity'].value_counts()"
   ]
  },
  {
   "cell_type": "code",
   "execution_count": 65,
   "id": "b7767d89",
   "metadata": {},
   "outputs": [],
   "source": [
    "# bin and one-hot-encode 'repair_complexity'\n",
    "bins = [0, 1, 2, 4]\n",
    "labels = ['1', '2', '3-4']\n",
    "df['repair_complexity_binned'] = pd.cut(df['repair_complexity'], bins=bins, labels=labels, include_lowest=True)\n",
    "udf['repair_complexity_binned'] = pd.cut(udf['repair_complexity'], bins=bins, labels=labels, include_lowest=True)\n",
    "df = pd.get_dummies(df, columns=['repair_complexity_binned'], prefix='repair_complexity', drop_first=True)\n",
    "udf = pd.get_dummies(udf, columns=['repair_complexity_binned'], prefix='repair_complexity', drop_first=True)\n",
    "\n",
    "# drop 'repair_complexity'\n",
    "df = df.drop(['repair_complexity'], axis=1)\n",
    "udf = udf.drop(['repair_complexity'], axis=1)"
   ]
  },
  {
   "cell_type": "code",
   "execution_count": 66,
   "id": "03f2d32e",
   "metadata": {},
   "outputs": [
    {
     "data": {
      "text/plain": [
       "<Axes: xlabel='repair_cost', ylabel='Count'>"
      ]
     },
     "execution_count": 66,
     "metadata": {},
     "output_type": "execute_result"
    },
    {
     "data": {
      "image/png": "[encoded data removed]",
      "text/plain": [
       "<Figure size 800x300 with 1 Axes>"
      ]
     },
     "metadata": {},
     "output_type": "display_data"
    }
   ],
   "source": [
    "# visualize 'repair_cost'\n",
    "plt.figure(figsize=(8, 3))\n",
    "sns.histplot(df['repair_cost'])"
   ]
  },
  {
   "cell_type": "code",
   "execution_count": 67,
   "id": "51f3e477",
   "metadata": {},
   "outputs": [
    {
     "data": {
      "text/plain": [
       "<Axes: xlabel='repair_cost_log', ylabel='Count'>"
      ]
     },
     "execution_count": 67,
     "metadata": {},
     "output_type": "execute_result"
    },
    {
     "data": {
      "image/png": "[encoded data removed]",
      "text/plain": [
       "<Figure size 800x300 with 1 Axes>"
      ]
     },
     "metadata": {},
     "output_type": "display_data"
    }
   ],
   "source": [
    "# invert negative values and log transform the feature\n",
    "df['repair_cost_log'] = np.log1p(df['repair_cost'].abs())\n",
    "udf['repair_cost_log'] = np.log1p(udf['repair_cost'].abs())\n",
    "\n",
    "# drop 'repair_complexity'\n",
    "df = df.drop(['repair_cost'], axis=1)\n",
    "udf = udf.drop(['repair_cost'], axis=1)\n",
    "\n",
    "# visualize 'repair_cost_log'\n",
    "plt.figure(figsize=(8, 3))\n",
    "sns.histplot(df['repair_cost_log'])"
   ]
  },
  {
   "cell_type": "code",
   "execution_count": 68,
   "id": "447e8a8b",
   "metadata": {},
   "outputs": [],
   "source": [
    "# To reduce the impact of outliers on the logistic regression model, let's apply RobustScaler\n",
    "\n",
    "from sklearn.preprocessing import RobustScaler\n",
    "scaler = RobustScaler()\n",
    "df['repair_cost_scaled'] = scaler.fit_transform(df[['repair_cost_log']])\n",
    "udf['repair_cost_scaled'] = scaler.transform(udf[['repair_cost_log']])\n",
    "\n",
    "# drop 'repair_cost_log'\n",
    "df = df.drop('repair_cost_log', axis=1)\n",
    "udf = udf.drop('repair_cost_log', axis=1)"
   ]
  },
  {
   "cell_type": "code",
   "execution_count": 69,
   "id": "1e4ed4b7",
   "metadata": {},
   "outputs": [
    {
     "data": {
      "text/plain": [
       "<Axes: xlabel='repair_hours_log', ylabel='Count'>"
      ]
     },
     "execution_count": 69,
     "metadata": {},
     "output_type": "execute_result"
    },
    {
     "data": {
      "image/png": "[encoded data removed]",
      "text/plain": [
       "<Figure size 800x300 with 1 Axes>"
      ]
     },
     "metadata": {},
     "output_type": "display_data"
    }
   ],
   "source": [
    "# 'repair_hours_log' feature is extremely skewed, so that the computer struggles to build a histplot for it\n",
    "# let's first log transform it\n",
    "df['repair_hours_log'] = np.log1p(df['repair_hours'])\n",
    "udf['repair_hours_log'] = np.log1p(udf['repair_hours'])\n",
    "\n",
    "# visualize 'repair_hours_log'\n",
    "plt.figure(figsize=(8, 3))\n",
    "sns.histplot(df['repair_hours_log'])"
   ]
  },
  {
   "cell_type": "code",
   "execution_count": 70,
   "id": "492d6bc2",
   "metadata": {},
   "outputs": [
    {
     "name": "stdout",
     "output_type": "stream",
     "text": [
      "repair_hours_binned\n",
      "0-2           20464\n",
      "2-10          13005\n",
      "10-50          2374\n",
      "50-100          324\n",
      "100-200         314\n",
      "200-500         393\n",
      "500-1000        373\n",
      "1000-10000      372\n",
      "Name: count, dtype: int64\n",
      "repair_hours_binned\n",
      "0-2           8854\n",
      "2-10          5492\n",
      "10-50         1029\n",
      "50-100         121\n",
      "100-200        154\n",
      "200-500        169\n",
      "500-1000       148\n",
      "1000-10000     150\n",
      "Name: count, dtype: int64\n"
     ]
    }
   ],
   "source": [
    "# The feature is heavily skewed even after log transformation\n",
    "# Let's examine the distribution more closely\n",
    "\n",
    "# Define the bins\n",
    "bins = [0, 2, 10, 50, 100, 200, 500, 1000, 10000]\n",
    "\n",
    "# Bin the repair_hours column\n",
    "labels = ['0-2', '2-10', '10-50', '50-100', '100-200', '200-500', '500-1000', '1000-10000']\n",
    "df['repair_hours_binned'] = pd.cut(df['repair_hours'], bins=bins, labels=labels, include_lowest=True)\n",
    "udf['repair_hours_binned'] = pd.cut(udf['repair_hours'], bins=bins, labels=labels, include_lowest=True)\n",
    "\n",
    "# Count the rows in each bin\n",
    "bin_counts = df['repair_hours_binned'].value_counts().sort_index()\n",
    "udf_bin_counts = udf['repair_hours_binned'].value_counts().sort_index()\n",
    "\n",
    "# Print the counts\n",
    "print(bin_counts)\n",
    "print(udf_bin_counts)"
   ]
  },
  {
   "cell_type": "code",
   "execution_count": 71,
   "id": "61b2fb64",
   "metadata": {},
   "outputs": [],
   "source": [
    "# To avoid dropping outliers (to prevent their negative impact on the model) let's bin the feature more tightly and one-hot-encode it\n",
    "\n",
    "# Define the bins\n",
    "bins = [0, 2, 10, 100, 10000]\n",
    "\n",
    "# Bin and one-hot-encode the repair_hours column\n",
    "labels = ['0-2', '2-10', '10-100', '100-10000']\n",
    "df['repair_hours_binned'] = pd.cut(df['repair_hours'], bins=bins, labels=labels, include_lowest=True)\n",
    "udf['repair_hours_binned'] = pd.cut(udf['repair_hours'], bins=bins, labels=labels, include_lowest=True)\n",
    "df = pd.get_dummies(df, columns=['repair_hours_binned'], prefix='repair_hours', drop_first=True)\n",
    "udf = pd.get_dummies(udf, columns=['repair_hours_binned'], prefix='repair_hours', drop_first=True)\n",
    "\n",
    "# drop 'repair_hours' and 'repair_hours_log' as redundant\n",
    "df = df.drop(['repair_hours', 'repair_hours_log'], axis=1)\n",
    "udf = udf.drop(['repair_hours', 'repair_hours_log'], axis=1)"
   ]
  },
  {
   "cell_type": "markdown",
   "id": "7c3ea051",
   "metadata": {},
   "source": [
    "## Cleaning categorical features"
   ]
  },
  {
   "cell_type": "code",
   "execution_count": 72,
   "id": "011ca106",
   "metadata": {},
   "outputs": [
    {
     "data": {
      "application/vnd.microsoft.datawrangler.viewer.v0+json": {
       "columns": [
        {
         "name": "index",
         "rawType": "object",
         "type": "string"
        },
        {
         "name": "count",
         "rawType": "object",
         "type": "unknown"
        },
        {
         "name": "unique",
         "rawType": "object",
         "type": "unknown"
        },
        {
         "name": "top",
         "rawType": "object",
         "type": "string"
        },
        {
         "name": "freq",
         "rawType": "object",
         "type": "unknown"
        }
       ],
       "conversionMethod": "pd.DataFrame",
       "ref": "c7da68a7-ee66-4aeb-a899-7817bad065e3",
       "rows": [
        [
         "maker",
         "37636",
         "25",
         "Ford",
         "18763"
        ],
        [
         "genmodel",
         "37636",
         "196",
         "Focus",
         "3612"
        ],
        [
         "genmodel_id",
         "37636",
         "195",
         "29_14",
         "3612"
        ],
        [
         "color",
         "37636",
         "22",
         "Black",
         "5825"
        ],
        [
         "bodytype",
         "37636",
         "15",
         "Hatchback",
         "20558"
        ],
        [
         "engine_size",
         "37636",
         "54",
         "1.6L",
         "8838"
        ],
        [
         "gearbox",
         "37636",
         "4",
         "Manual",
         "30980"
        ],
        [
         "fuel_type",
         "37636",
         "12",
         "Petrol",
         "21409"
        ],
        [
         "issue",
         "37636",
         "90",
         "Transmission Issue",
         "2350"
        ],
        [
         "breakdown_date",
         "37636",
         "930",
         "2018-05-05",
         "297"
        ],
        [
         "repair_date",
         "37636",
         "982",
         "2018-05-05",
         "296"
        ]
       ],
       "shape": {
        "columns": 4,
        "rows": 11
       }
      },
      "text/html": [
       "<div>\n",
       "<style scoped>\n",
       "    .dataframe tbody tr th:only-of-type {\n",
       "        vertical-align: middle;\n",
       "    }\n",
       "\n",
       "    .dataframe tbody tr th {\n",
       "        vertical-align: top;\n",
       "    }\n",
       "\n",
       "    .dataframe thead th {\n",
       "        text-align: right;\n",
       "    }\n",
       "</style>\n",
       "<table border=\"1\" class=\"dataframe\">\n",
       "  <thead>\n",
       "    <tr style=\"text-align: right;\">\n",
       "      <th></th>\n",
       "      <th>count</th>\n",
       "      <th>unique</th>\n",
       "      <th>top</th>\n",
       "      <th>freq</th>\n",
       "    </tr>\n",
       "  </thead>\n",
       "  <tbody>\n",
       "    <tr>\n",
       "      <th>maker</th>\n",
       "      <td>37636</td>\n",
       "      <td>25</td>\n",
       "      <td>Ford</td>\n",
       "      <td>18763</td>\n",
       "    </tr>\n",
       "    <tr>\n",
       "      <th>genmodel</th>\n",
       "      <td>37636</td>\n",
       "      <td>196</td>\n",
       "      <td>Focus</td>\n",
       "      <td>3612</td>\n",
       "    </tr>\n",
       "    <tr>\n",
       "      <th>genmodel_id</th>\n",
       "      <td>37636</td>\n",
       "      <td>195</td>\n",
       "      <td>29_14</td>\n",
       "      <td>3612</td>\n",
       "    </tr>\n",
       "    <tr>\n",
       "      <th>color</th>\n",
       "      <td>37636</td>\n",
       "      <td>22</td>\n",
       "      <td>Black</td>\n",
       "      <td>5825</td>\n",
       "    </tr>\n",
       "    <tr>\n",
       "      <th>bodytype</th>\n",
       "      <td>37636</td>\n",
       "      <td>15</td>\n",
       "      <td>Hatchback</td>\n",
       "      <td>20558</td>\n",
       "    </tr>\n",
       "    <tr>\n",
       "      <th>engine_size</th>\n",
       "      <td>37636</td>\n",
       "      <td>54</td>\n",
       "      <td>1.6L</td>\n",
       "      <td>8838</td>\n",
       "    </tr>\n",
       "    <tr>\n",
       "      <th>gearbox</th>\n",
       "      <td>37636</td>\n",
       "      <td>4</td>\n",
       "      <td>Manual</td>\n",
       "      <td>30980</td>\n",
       "    </tr>\n",
       "    <tr>\n",
       "      <th>fuel_type</th>\n",
       "      <td>37636</td>\n",
       "      <td>12</td>\n",
       "      <td>Petrol</td>\n",
       "      <td>21409</td>\n",
       "    </tr>\n",
       "    <tr>\n",
       "      <th>issue</th>\n",
       "      <td>37636</td>\n",
       "      <td>90</td>\n",
       "      <td>Transmission Issue</td>\n",
       "      <td>2350</td>\n",
       "    </tr>\n",
       "    <tr>\n",
       "      <th>breakdown_date</th>\n",
       "      <td>37636</td>\n",
       "      <td>930</td>\n",
       "      <td>2018-05-05</td>\n",
       "      <td>297</td>\n",
       "    </tr>\n",
       "    <tr>\n",
       "      <th>repair_date</th>\n",
       "      <td>37636</td>\n",
       "      <td>982</td>\n",
       "      <td>2018-05-05</td>\n",
       "      <td>296</td>\n",
       "    </tr>\n",
       "  </tbody>\n",
       "</table>\n",
       "</div>"
      ],
      "text/plain": [
       "                count unique                 top   freq\n",
       "maker           37636     25                Ford  18763\n",
       "genmodel        37636    196               Focus   3612\n",
       "genmodel_id     37636    195               29_14   3612\n",
       "color           37636     22               Black   5825\n",
       "bodytype        37636     15           Hatchback  20558\n",
       "engine_size     37636     54                1.6L   8838\n",
       "gearbox         37636      4              Manual  30980\n",
       "fuel_type       37636     12              Petrol  21409\n",
       "issue           37636     90  Transmission Issue   2350\n",
       "breakdown_date  37636    930          2018-05-05    297\n",
       "repair_date     37636    982          2018-05-05    296"
      ]
     },
     "execution_count": 72,
     "metadata": {},
     "output_type": "execute_result"
    }
   ],
   "source": [
    "df.select_dtypes('object').describe(include='all').T"
   ]
  },
  {
   "cell_type": "code",
   "execution_count": 73,
   "id": "6a0d0695",
   "metadata": {},
   "outputs": [
    {
     "data": {
      "text/plain": [
       "Index(['maker', 'genmodel', 'genmodel_id', 'color', 'bodytype', 'engine_size',\n",
       "       'gearbox', 'fuel_type', 'issue', 'breakdown_date', 'repair_date',\n",
       "       'label', 'adv_recency_scaled', 'month_sin', 'month_cos', 'weekday_sin',\n",
       "       'weekday_cos', 'vehicle_age_scaled', 'mileage_scaled', 'price_scaled',\n",
       "       'seat_num_4-5', 'seat_num_6-7', 'seat_num_8+', 'door_num_4-5',\n",
       "       'door_num_6+', 'issue_id_1-2', 'issue_id_3+', 'repair_complexity_2',\n",
       "       'repair_complexity_3-4', 'repair_cost_scaled', 'repair_hours_2-10',\n",
       "       'repair_hours_10-100', 'repair_hours_100-10000'],\n",
       "      dtype='object')"
      ]
     },
     "execution_count": 73,
     "metadata": {},
     "output_type": "execute_result"
    }
   ],
   "source": [
    "df.columns"
   ]
  },
  {
   "cell_type": "code",
   "execution_count": 74,
   "id": "e8daa607",
   "metadata": {},
   "outputs": [
    {
     "data": {
      "text/plain": [
       "Index(['maker', 'genmodel', 'genmodel_id', 'color', 'bodytype', 'engine_size',\n",
       "       'gearbox', 'fuel_type', 'issue', 'breakdown_date', 'repair_date',\n",
       "       'adv_recency_scaled', 'month_sin', 'month_cos', 'weekday_sin',\n",
       "       'weekday_cos', 'vehicle_age_scaled', 'mileage_scaled', 'price_scaled',\n",
       "       'seat_num_4-5', 'seat_num_6-7', 'seat_num_8+', 'door_num_4-5',\n",
       "       'door_num_6+', 'issue_id_1-2', 'issue_id_3+', 'repair_complexity_2',\n",
       "       'repair_complexity_3-4', 'repair_cost_scaled', 'repair_hours_2-10',\n",
       "       'repair_hours_10-100', 'repair_hours_100-10000'],\n",
       "      dtype='object')"
      ]
     },
     "execution_count": 74,
     "metadata": {},
     "output_type": "execute_result"
    }
   ],
   "source": [
    "udf.columns"
   ]
  },
  {
   "cell_type": "code",
   "execution_count": 75,
   "id": "65d8728a",
   "metadata": {},
   "outputs": [],
   "source": [
    "# 'genmodel_id' feature represents the combination of other two features, namely 'maker' and 'genmodel', which can be dropped\n",
    "df = df.drop(['maker', 'genmodel'], axis=1)  # drop 'maker' and 'genmodel' as uninformative\n",
    "udf = udf.drop(['maker', 'genmodel'], axis=1)"
   ]
  },
  {
   "cell_type": "code",
   "execution_count": null,
   "id": "84375a2e",
   "metadata": {},
   "outputs": [
    {
     "name": "stdout",
     "output_type": "stream",
     "text": [
      "Number of unique genmodel_id in df: 195\n",
      "genmodel_id frequencies in df:\n",
      " genmodel_id\n",
      "29_14    3612\n",
      "29_13    3318\n",
      "29_27    2191\n",
      "28_2     1966\n",
      "29_25    1800\n",
      "         ... \n",
      "20_1        1\n",
      "16_19       1\n",
      "27_4        1\n",
      "16_17       1\n",
      "28_6        1\n",
      "Name: count, Length: 195, dtype: int64\n",
      "Number of rare genmodel_id values (fewer than 376 rows): 170\n",
      "Unique genmodel_id_grouped in df: 26\n",
      "Unique genmodel_id_grouped in udf: 41\n",
      "Training set shape: (37636, 31)\n",
      "Test set shape: (16130, 30)\n",
      "Sample of genmodel_id_encoded in df: 0    0.094674\n",
      "1    0.081270\n",
      "2    0.099489\n",
      "3    0.092100\n",
      "4    0.096202\n",
      "Name: genmodel_id_encoded, dtype: float64\n",
      "Sample of genmodel_id_encoded in udf: 0    0.081270\n",
      "1    0.074443\n",
      "2    0.074443\n",
      "3    0.089266\n",
      "4    0.094674\n",
      "Name: genmodel_id_encoded, dtype: float64\n"
     ]
    }
   ],
   "source": [
    "# Compute frequency of genmodel_id in the training set (df)\n",
    "genmodel_id_counts = df['genmodel_id'].value_counts()\n",
    "print(\"Number of unique genmodel_id in df:\", len(genmodel_id_counts))\n",
    "print(\"genmodel_id frequencies in df:\\n\", genmodel_id_counts)\n",
    "\n",
    "# Group rare genmodel_id values in df (fewer than 1% of the dataset rows)\n",
    "threshold = 376     # 1% of the dataset\n",
    "rare_genmodel_ids = genmodel_id_counts[genmodel_id_counts < threshold].index\n",
    "print(f\"Number of rare genmodel_id values (fewer than {threshold} rows):\", len(rare_genmodel_ids))\n",
    "\n",
    "# Replace rare genmodel_id values with 'Other' in both df and udf\n",
    "df['genmodel_id_grouped'] = df['genmodel_id'].apply(\n",
    "    lambda x: 'Other' if x in rare_genmodel_ids else x\n",
    ")\n",
    "udf['genmodel_id_grouped'] = udf['genmodel_id'].apply(\n",
    "    lambda x: 'Other' if x in rare_genmodel_ids else x\n",
    ")\n",
    "print(\"Unique genmodel_id_grouped in df:\", df['genmodel_id_grouped'].nunique())\n",
    "print(\"Unique genmodel_id_grouped in udf:\", udf['genmodel_id_grouped'].nunique())\n",
    "\n",
    "# Apply target encoding based on the 'label' feature in df\n",
    "# Compute the mean target value for each genmodel_id_grouped category in df\n",
    "target_means = df.groupby('genmodel_id_grouped')['label'].mean()\n",
    "global_mean = df['label'].mean()  # Global mean for smoothing\n",
    "\n",
    "# Apply smoothing to avoid overfitting (especially for rare categories)\n",
    "# Using additive smoothing: encoded_value = (n * mean + m * global_mean) / (n + m)\n",
    "# where n is the count of the category, m is the smoothing factor\n",
    "smoothing_factor = 10  # Adjust this based on your data\n",
    "counts = df['genmodel_id_grouped'].value_counts()\n",
    "target_encoded = (counts * target_means + smoothing_factor * global_mean) / (counts + smoothing_factor)\n",
    "\n",
    "# Map the target-encoded values to both df and udf\n",
    "df['genmodel_id_encoded'] = df['genmodel_id_grouped'].map(target_encoded)\n",
    "udf['genmodel_id_encoded'] = udf['genmodel_id_grouped'].map(target_encoded).fillna(global_mean)\n",
    "# If a category in udf is not in df, use the global mean\n",
    "\n",
    "# Drop the original genmodel_id, maker, genmodel, and genmodel_id_grouped columns\n",
    "columns_to_drop = ['genmodel_id', 'maker', 'genmodel', 'genmodel_id_grouped']\n",
    "df = df.drop([col for col in columns_to_drop if col in df.columns], axis=1)\n",
    "udf = udf.drop([col for col in columns_to_drop if col in udf.columns], axis=1)\n",
    "\n",
    "# Align udf with df features (excluding the target 'label')\n",
    "features = [col for col in df.columns if col != 'label']\n",
    "udf = udf.reindex(columns=features, fill_value=0)\n",
    "\n",
    "# Verify the shapes and check the new feature\n",
    "print(\"Training set shape:\", df.shape)\n",
    "print(\"Test set shape:\", udf.shape)\n",
    "print(\"Sample of genmodel_id_encoded in df:\", df['genmodel_id_encoded'].head())\n",
    "print(\"Sample of genmodel_id_encoded in udf:\", udf['genmodel_id_encoded'].head())"
   ]
  },
  {
   "cell_type": "code",
   "execution_count": 77,
   "id": "dbe0b7ef",
   "metadata": {},
   "outputs": [
    {
     "data": {
      "text/plain": [
       "color\n",
       "Black          5825\n",
       "Blue           5804\n",
       "Silver         5552\n",
       "Grey           4686\n",
       "White          4504\n",
       "Red            4221\n",
       "Gelb           2944\n",
       "Green           952\n",
       "Brown           666\n",
       "Yellow          660\n",
       "Orange          491\n",
       "Purple          469\n",
       "Beige           295\n",
       "Bronze          184\n",
       "Gold            135\n",
       "Pink            112\n",
       "Multicolour     100\n",
       "Turquoise        10\n",
       "Magenta           9\n",
       "Burgundy          8\n",
       "Maroon            8\n",
       "Indigo            1\n",
       "Name: count, dtype: int64"
      ]
     },
     "execution_count": 77,
     "metadata": {},
     "output_type": "execute_result"
    }
   ],
   "source": [
    "df.color.value_counts()"
   ]
  },
  {
   "cell_type": "code",
   "execution_count": null,
   "id": "0ecf79cc",
   "metadata": {},
   "outputs": [
    {
     "name": "stdout",
     "output_type": "stream",
     "text": [
      "Number of unique color in df: 22\n",
      "color frequencies in df:\n",
      " color\n",
      "Black          5825\n",
      "Blue           5804\n",
      "Silver         5552\n",
      "Grey           4686\n",
      "White          4504\n",
      "Red            4221\n",
      "Gelb           2944\n",
      "Green           952\n",
      "Brown           666\n",
      "Yellow          660\n",
      "Orange          491\n",
      "Purple          469\n",
      "Beige           295\n",
      "Bronze          184\n",
      "Gold            135\n",
      "Pink            112\n",
      "Multicolour     100\n",
      "Turquoise        10\n",
      "Magenta           9\n",
      "Burgundy          8\n",
      "Maroon            8\n",
      "Indigo            1\n",
      "Name: count, dtype: int64\n",
      "Number of rare color values (fewer than 376 rows): 10\n",
      "Unique color_grouped in df: 13\n",
      "Unique color_grouped in udf: 13\n",
      "Training set shape: (37636, 31)\n",
      "Test set shape: (16130, 30)\n",
      "Sample of color_encoded in df: 0    0.067440\n",
      "1    0.074900\n",
      "2    0.076837\n",
      "3    0.073539\n",
      "4    0.074900\n",
      "Name: color_encoded, dtype: float64\n",
      "Sample of color_encoded in udf: 0    0.062473\n",
      "1    0.074900\n",
      "2    0.073539\n",
      "3    0.067440\n",
      "4    0.076837\n",
      "Name: color_encoded, dtype: float64\n"
     ]
    }
   ],
   "source": [
    "# Compute frequency of color in the training set (df)\n",
    "color_counts = df['color'].value_counts()\n",
    "print(\"Number of unique color in df:\", len(color_counts))\n",
    "print(\"color frequencies in df:\\n\", color_counts)\n",
    "\n",
    "# Group rare color values in df (fewer than 376 rows, 1% of dataset)\n",
    "threshold = 376\n",
    "rare_colors = color_counts[color_counts < threshold].index\n",
    "print(f\"Number of rare color values (fewer than {threshold} rows):\", len(rare_colors))\n",
    "\n",
    "# Replace rare color values with 'Other' in both df and udf\n",
    "df['color_grouped'] = df['color'].apply(\n",
    "    lambda x: 'Other' if x in rare_colors else x\n",
    ")\n",
    "udf['color_grouped'] = udf['color'].apply(\n",
    "    lambda x: 'Other' if x in rare_colors else x\n",
    ")\n",
    "print(\"Unique color_grouped in df:\", df['color_grouped'].nunique())\n",
    "print(\"Unique color_grouped in udf:\", udf['color_grouped'].nunique())\n",
    "\n",
    "# Apply target encoding based on the 'label' feature in df\n",
    "# Compute the mean target value for each color_grouped category in df\n",
    "target_means = df.groupby('color_grouped')['label'].mean()\n",
    "global_mean = df['label'].mean()  # Global mean for smoothing\n",
    "\n",
    "# Apply smoothing to avoid overfitting\n",
    "# Using additive smoothing: encoded_value = (n * mean + m * global_mean) / (n + m)\n",
    "# where n is the count of the category, m is the smoothing factor\n",
    "smoothing_factor = 10  # Consistent with the previous approach\n",
    "counts = df['color_grouped'].value_counts()\n",
    "target_encoded = (counts * target_means + smoothing_factor * global_mean) / (counts + smoothing_factor)\n",
    "\n",
    "# Map the target-encoded values to both df and udf\n",
    "df['color_encoded'] = df['color_grouped'].map(target_encoded)\n",
    "udf['color_encoded'] = udf['color_grouped'].map(target_encoded).fillna(global_mean)\n",
    "# If a category in udf is not in df, use the global mean\n",
    "\n",
    "# Drop the original color and color_grouped columns\n",
    "columns_to_drop = ['color', 'color_grouped']\n",
    "df = df.drop([col for col in columns_to_drop if col in df.columns], axis=1)\n",
    "udf = udf.drop([col for col in columns_to_drop if col in udf.columns], axis=1)\n",
    "\n",
    "# Align udf with df features (excluding the target 'label')\n",
    "features = [col for col in df.columns if col != 'label']\n",
    "udf = udf.reindex(columns=features, fill_value=0)\n",
    "\n",
    "# Verify the shapes and check the new feature\n",
    "print(\"Training set shape:\", df.shape)\n",
    "print(\"Test set shape:\", udf.shape)\n",
    "print(\"Sample of color_encoded in df:\", df['color_encoded'].head())\n",
    "print(\"Sample of color_encoded in udf:\", udf['color_encoded'].head())"
   ]
  },
  {
   "cell_type": "code",
   "execution_count": 79,
   "id": "c0df4d16",
   "metadata": {},
   "outputs": [
    {
     "data": {
      "text/plain": [
       "bodytype\n",
       "Hatchback          20558\n",
       "MPV                 6333\n",
       "SUV                 5703\n",
       "Estate              1296\n",
       "Convertible         1292\n",
       "Coupe                957\n",
       "Pickup               654\n",
       "Saloon               505\n",
       "Wood                 122\n",
       "Combi Van            102\n",
       "Car Derived Van       47\n",
       "Minibus               45\n",
       "Panel Van             19\n",
       "Window Van             2\n",
       "Tipper                 1\n",
       "Name: count, dtype: int64"
      ]
     },
     "execution_count": 79,
     "metadata": {},
     "output_type": "execute_result"
    }
   ],
   "source": [
    "df['bodytype'].value_counts()"
   ]
  },
  {
   "cell_type": "code",
   "execution_count": null,
   "id": "76a63e17",
   "metadata": {},
   "outputs": [
    {
     "name": "stdout",
     "output_type": "stream",
     "text": [
      "Number of unique bodytype in df: 15\n",
      "bodytype frequencies in df:\n",
      " bodytype\n",
      "Hatchback          20558\n",
      "MPV                 6333\n",
      "SUV                 5703\n",
      "Estate              1296\n",
      "Convertible         1292\n",
      "Coupe                957\n",
      "Pickup               654\n",
      "Saloon               505\n",
      "Wood                 122\n",
      "Combi Van            102\n",
      "Car Derived Van       47\n",
      "Minibus               45\n",
      "Panel Van             19\n",
      "Window Van             2\n",
      "Tipper                 1\n",
      "Name: count, dtype: int64\n",
      "Number of rare bodytype values (fewer than 376 rows): 7\n",
      "Unique bodytype_grouped in df: 9\n",
      "Unique bodytype_grouped in udf: 11\n",
      "Columns in df but not in udf: {'label'}\n",
      "Columns in udf but not in df: set()\n",
      "Common columns: {'issue', 'bodytype_Hatchback', 'weekday_sin', 'bodytype_Estate', 'repair_hours_10-100', 'repair_hours_100-10000', 'genmodel_id_encoded', 'door_num_6+', 'gearbox', 'bodytype_Other', 'weekday_cos', 'seat_num_8+', 'repair_complexity_2', 'bodytype_SUV', 'bodytype_Saloon', 'seat_num_6-7', 'engine_size', 'repair_hours_2-10', 'vehicle_age_scaled', 'repair_complexity_3-4', 'bodytype_MPV', 'color_encoded', 'month_sin', 'adv_recency_scaled', 'issue_id_1-2', 'repair_date', 'mileage_scaled', 'repair_cost_scaled', 'seat_num_4-5', 'fuel_type', 'bodytype_Coupe', 'breakdown_date', 'bodytype_Pickup', 'door_num_4-5', 'price_scaled', 'issue_id_3+', 'month_cos'}\n"
     ]
    }
   ],
   "source": [
    "# Compute frequency of bodytype in the training set (df)\n",
    "bodytype_counts = df['bodytype'].value_counts()\n",
    "print(\"Number of unique bodytype in df:\", len(bodytype_counts))\n",
    "print(\"bodytype frequencies in df:\\n\", bodytype_counts)\n",
    "\n",
    "# Group rare bodytype values in df (fewer than 376 rows, 1% of dataset)\n",
    "threshold = 376\n",
    "rare_bodytypes = bodytype_counts[bodytype_counts < threshold].index\n",
    "print(f\"Number of rare bodytype values (fewer than {threshold} rows):\", len(rare_bodytypes))\n",
    "\n",
    "# Replace rare bodytype values with 'Other' in both df and udf\n",
    "df['bodytype_grouped'] = df['bodytype'].apply(\n",
    "    lambda x: 'Other' if x in rare_bodytypes else x\n",
    ")\n",
    "udf['bodytype_grouped'] = udf['bodytype'].apply(\n",
    "    lambda x: 'Other' if x in rare_bodytypes else x\n",
    ")\n",
    "print(\"Unique bodytype_grouped in df:\", df['bodytype_grouped'].nunique())\n",
    "print(\"Unique bodytype_grouped in udf:\", udf['bodytype_grouped'].nunique())\n",
    "\n",
    "# One-hot encode the grouped bodytype in both datasets\n",
    "# One-hot encode in df\n",
    "df = pd.get_dummies(df, columns=['bodytype_grouped'], prefix='bodytype', drop_first=True)\n",
    "\n",
    "# Get the list of one-hot encoded columns from df\n",
    "one_hot_columns = [col for col in df.columns if col.startswith('bodytype_')]\n",
    "\n",
    "# One-hot encode in udf\n",
    "udf = pd.get_dummies(udf, columns=['bodytype_grouped'], prefix='bodytype', drop_first=True)\n",
    "\n",
    "# Align udf's bodytype_* columns with df without dropping other columns\n",
    "for col in one_hot_columns:\n",
    "    if col not in udf.columns:\n",
    "        udf[col] = 0  # Add missing bodytype_* columns with 0s\n",
    "# Drop extra bodytype_* columns in udf that aren't in df\n",
    "udf = udf.drop(columns=[col for col in udf.columns if col.startswith('bodytype_') and col not in one_hot_columns], errors='ignore')\n",
    "\n",
    "# Drop the original bodytype column\n",
    "df = df.drop('bodytype', axis=1)\n",
    "udf = udf.drop('bodytype', axis=1)\n",
    "\n",
    "# Final alignment to ensure identical columns (except for 'label')\n",
    "features = [col for col in df.columns if col != 'label']\n",
    "udf = udf.reindex(columns=features, fill_value=0)\n",
    "\n",
    "# Verify the columns\n",
    "df_cols = set(df.columns)\n",
    "udf_cols = set(udf.columns)\n",
    "print(\"Columns in df but not in udf:\", df_cols - udf_cols)\n",
    "print(\"Columns in udf but not in df:\", udf_cols - df_cols)\n",
    "print(\"Common columns:\", df_cols & udf_cols)"
   ]
  },
  {
   "cell_type": "code",
   "execution_count": 83,
   "id": "2170ddbf",
   "metadata": {},
   "outputs": [
    {
     "data": {
      "text/plain": [
       "(37636, 38)"
      ]
     },
     "execution_count": 83,
     "metadata": {},
     "output_type": "execute_result"
    }
   ],
   "source": [
    "df.shape"
   ]
  },
  {
   "cell_type": "code",
   "execution_count": 84,
   "id": "dd8aef48",
   "metadata": {},
   "outputs": [
    {
     "data": {
      "text/plain": [
       "(16130, 37)"
      ]
     },
     "execution_count": 84,
     "metadata": {},
     "output_type": "execute_result"
    }
   ],
   "source": [
    "udf.shape"
   ]
  },
  {
   "cell_type": "code",
   "execution_count": 85,
   "id": "119feea8",
   "metadata": {},
   "outputs": [
    {
     "name": "stdout",
     "output_type": "stream",
     "text": [
      "Columns in df but not in udf: {'label'}\n",
      "Columns in udf but not in df: set()\n",
      "Common columns: {'issue', 'bodytype_Hatchback', 'weekday_sin', 'bodytype_Estate', 'repair_hours_10-100', 'repair_hours_100-10000', 'genmodel_id_encoded', 'door_num_6+', 'gearbox', 'bodytype_Other', 'weekday_cos', 'seat_num_8+', 'repair_complexity_2', 'bodytype_SUV', 'bodytype_Saloon', 'seat_num_6-7', 'engine_size', 'repair_hours_2-10', 'vehicle_age_scaled', 'repair_complexity_3-4', 'bodytype_MPV', 'color_encoded', 'month_sin', 'adv_recency_scaled', 'issue_id_1-2', 'repair_date', 'mileage_scaled', 'repair_cost_scaled', 'seat_num_4-5', 'fuel_type', 'bodytype_Coupe', 'breakdown_date', 'bodytype_Pickup', 'door_num_4-5', 'price_scaled', 'issue_id_3+', 'month_cos'}\n"
     ]
    }
   ],
   "source": [
    "# Compare column names\n",
    "df_cols = set(df.columns)\n",
    "udf_cols = set(udf.columns)\n",
    "\n",
    "print(\"Columns in df but not in udf:\", df_cols - udf_cols)\n",
    "print(\"Columns in udf but not in df:\", udf_cols - df_cols)\n",
    "print(\"Common columns:\", df_cols & udf_cols)"
   ]
  },
  {
   "cell_type": "code",
   "execution_count": 86,
   "id": "fabee98f",
   "metadata": {},
   "outputs": [
    {
     "data": {
      "text/plain": [
       "array(['1.0L', '2.0L', '1.25L', '1.2L', '2.5L', '1.6L', '1.4L', '2.2L',\n",
       "       '0.9L', '6.0L', '1.3L', '1.5L', '4.3L', '1.8L', '6.2L', '1.1L',\n",
       "       '1.9L', '5.0L', '5.5L', '2.8L', '4.0L', '3.2L', '999.0L', '4.5L',\n",
       "       '2.3L', '2.4L', '0.8L', '3.9L', '6.3L', '3.0L', '3.6L', '1.7L',\n",
       "       '4.7L', '3.3L', '5.7L', '6.5L', '3.7L', '6.75L', '2.7L', '6.8L',\n",
       "       '3.5L', '5.2L', '0.66L', '2.9L', '5.3L', '6.7L', '6.4L', '6.1L',\n",
       "       '5.4L', '7.0L', '3.8L', '4.6L', '5.8L', '4.2L'], dtype=object)"
      ]
     },
     "execution_count": 86,
     "metadata": {},
     "output_type": "execute_result"
    }
   ],
   "source": [
    "# check 'engine_size' feature\n",
    "df['engine_size'].unique()"
   ]
  },
  {
   "cell_type": "code",
   "execution_count": 87,
   "id": "faf76b7f",
   "metadata": {},
   "outputs": [
    {
     "data": {
      "text/plain": [
       "array(['2.0L', '1.2L', '1.6L', '1.4L', '0.9L', '1.5L', '1.8L', '1.0L',\n",
       "       '2.2L', '1.3L', '5.0L', '6.0L', '1.25L', '3.9L', '1.9L', '3.0L',\n",
       "       '1.1L', '2.5L', '4.0L', '2.9L', '2.3L', '4.3L', '999.0L', '6.3L',\n",
       "       '1.7L', '2.8L', '2.4L', '3.2L', '6.7L', '2.7L', '5.8L', '8.0L',\n",
       "       '3.5L', '6.75L', '6.8L', '3.6L', '3.3L', '4.5L', '0.66L', '5.7L',\n",
       "       '6.2L', '6.1L', '5.4L', '0.8L', '4.6L', '5.5L', '6.5L', '3.7L',\n",
       "       '4.4L', '4.2L', '5.9L'], dtype=object)"
      ]
     },
     "execution_count": 87,
     "metadata": {},
     "output_type": "execute_result"
    }
   ],
   "source": [
    "udf['engine_size'].unique()"
   ]
  },
  {
   "cell_type": "code",
   "execution_count": 88,
   "id": "bcb41ada",
   "metadata": {},
   "outputs": [
    {
     "data": {
      "text/plain": [
       "<Axes: xlabel='engine_size_numeric', ylabel='Count'>"
      ]
     },
     "execution_count": 88,
     "metadata": {},
     "output_type": "execute_result"
    },
    {
     "data": {
      "image/png": "[encoded data removed]",
      "text/plain": [
       "<Figure size 800x300 with 1 Axes>"
      ]
     },
     "metadata": {},
     "output_type": "display_data"
    }
   ],
   "source": [
    "# Let's convert 'engine_size' to a numeric type and deal with obviously erroneous '999.0L' value\n",
    "\n",
    "# Convert engine_size to numeric\n",
    "df['engine_size_numeric'] = df['engine_size'].str.replace('L', '').astype(float)\n",
    "udf['engine_size_numeric'] = udf['engine_size'].str.replace('L', '').astype(float)\n",
    "\n",
    "# Handle the outlier (999.0L)\n",
    "df['engine_size_numeric'] = df['engine_size_numeric'].replace(999.0, np.nan)\n",
    "udf['engine_size_numeric'] = udf['engine_size_numeric'].replace(999.0, np.nan)\n",
    "\n",
    "df['engine_size_numeric'] = df['engine_size_numeric'].fillna(df['engine_size_numeric'].median())\n",
    "udf['engine_size_numeric'] = udf['engine_size_numeric'].fillna(udf['engine_size_numeric'].median())\n",
    "\n",
    "# Check the distribution of the cleaned engine_size\n",
    "plt.figure(figsize=(8, 3))\n",
    "sns.histplot(df['engine_size_numeric'])"
   ]
  },
  {
   "cell_type": "code",
   "execution_count": 89,
   "id": "6c2cda5e",
   "metadata": {},
   "outputs": [],
   "source": [
    "# Scale the feature\n",
    "scaler = RobustScaler()\n",
    "df['engine_size_scaled'] = scaler.fit_transform(df[['engine_size_numeric']])\n",
    "udf['engine_size_scaled'] = scaler.transform(udf[['engine_size_numeric']])\n",
    "\n",
    "# Drop unnesessary columns\n",
    "df = df.drop(['engine_size', 'engine_size_numeric'], axis=1)\n",
    "udf = udf.drop(['engine_size', 'engine_size_numeric'], axis=1)"
   ]
  },
  {
   "cell_type": "code",
   "execution_count": 90,
   "id": "fe19ff0b",
   "metadata": {},
   "outputs": [
    {
     "data": {
      "text/plain": [
       "gearbox\n",
       "Manual            30980\n",
       "Automatic          6607\n",
       "Hybrid               27\n",
       "Semi-Automatic       22\n",
       "Name: count, dtype: int64"
      ]
     },
     "execution_count": 90,
     "metadata": {},
     "output_type": "execute_result"
    }
   ],
   "source": [
    "# check 'gearbox' feature\n",
    "df['gearbox'].value_counts()"
   ]
  },
  {
   "cell_type": "code",
   "execution_count": 91,
   "id": "d3b1905b",
   "metadata": {},
   "outputs": [
    {
     "name": "stdout",
     "output_type": "stream",
     "text": [
      "gearbox_binary\n",
      "0    30980\n",
      "1     6656\n",
      "Name: count, dtype: int64\n",
      "gearbox_binary\n",
      "0    13187\n",
      "1     2943\n",
      "Name: count, dtype: int64\n"
     ]
    }
   ],
   "source": [
    "# Unite the rarest values (Hybrid, Semi-Automatic) into Automatic\n",
    "df['gearbox'] = df['gearbox'].replace(['Hybrid', 'Semi-Automatic'], 'Automatic')\n",
    "udf['gearbox'] = udf['gearbox'].replace(['Hybrid', 'Semi-Automatic'], 'Automatic')\n",
    "\n",
    "# Convert to binary (1 for Automatic, 0 for Manual)\n",
    "df['gearbox_binary'] = df['gearbox'].map({'Automatic': 1, 'Manual': 0})\n",
    "udf['gearbox_binary'] = udf['gearbox'].map({'Automatic': 1, 'Manual': 0})\n",
    "\n",
    "# Drop the original gearbox column\n",
    "df = df.drop('gearbox', axis=1)\n",
    "udf = udf.drop('gearbox', axis=1)\n",
    "\n",
    "# Verify the result\n",
    "print(df['gearbox_binary'].value_counts())\n",
    "print(udf['gearbox_binary'].value_counts())"
   ]
  },
  {
   "cell_type": "code",
   "execution_count": 92,
   "id": "2ca71b0e",
   "metadata": {},
   "outputs": [
    {
     "data": {
      "text/plain": [
       "fuel_type\n",
       "Petrol                                     21409\n",
       "Diesel                                     14394\n",
       "still_Diesel_but_you_found_an_easteregg     1586\n",
       "Hybrid  Petrol/Electric                      159\n",
       "Petrol Hybrid                                 40\n",
       "Hydrogen                                      28\n",
       "Electric                                       6\n",
       "Hybrid  Diesel/Electric                        6\n",
       "Bi Fuel                                        4\n",
       "Petrol Ethanol                                 2\n",
       "Hybrid  Petrol/Electric Plug-in                1\n",
       "Petrol Plug-in Hybrid                          1\n",
       "Name: count, dtype: int64"
      ]
     },
     "execution_count": 92,
     "metadata": {},
     "output_type": "execute_result"
    }
   ],
   "source": [
    "# check 'fuel_type' feature\n",
    "df['fuel_type'].value_counts()"
   ]
  },
  {
   "cell_type": "code",
   "execution_count": 93,
   "id": "dc1913e7",
   "metadata": {},
   "outputs": [],
   "source": [
    "# Get rid of the easteregg :D\n",
    "df['fuel_type'] = df['fuel_type'].replace('still_Diesel_but_you_found_an_easteregg', 'Diesel')\n",
    "udf['fuel_type'] = udf['fuel_type'].replace('still_Diesel_but_you_found_an_easteregg', 'Diesel')"
   ]
  },
  {
   "cell_type": "code",
   "execution_count": null,
   "id": "67dd5bd3",
   "metadata": {},
   "outputs": [
    {
     "name": "stdout",
     "output_type": "stream",
     "text": [
      "Number of unique fuel_type in df: 11\n",
      "fuel_type frequencies in df:\n",
      " fuel_type\n",
      "Petrol                             21409\n",
      "Diesel                             15980\n",
      "Hybrid  Petrol/Electric              159\n",
      "Petrol Hybrid                         40\n",
      "Hydrogen                              28\n",
      "Electric                               6\n",
      "Hybrid  Diesel/Electric                6\n",
      "Bi Fuel                                4\n",
      "Petrol Ethanol                         2\n",
      "Hybrid  Petrol/Electric Plug-in        1\n",
      "Petrol Plug-in Hybrid                  1\n",
      "Name: count, dtype: int64\n",
      "fuel_types with >= 376 rows (to keep as is): ['Petrol', 'Diesel']\n",
      "Unique fuel_type in df after grouping: 3\n",
      "Unique fuel_type in udf after grouping: 3\n",
      "fuel_type frequencies in df after grouping:\n",
      " fuel_type\n",
      "Petrol    21409\n",
      "Diesel    15980\n",
      "Other       247\n",
      "Name: count, dtype: int64\n",
      "fuel_type frequencies in udf after grouping:\n",
      " fuel_type\n",
      "Petrol    9203\n",
      "Diesel    6829\n",
      "Other       98\n",
      "Name: count, dtype: int64\n"
     ]
    }
   ],
   "source": [
    "# Compute frequency of fuel_type in the training set (df)\n",
    "fuel_counts = df['fuel_type'].value_counts()\n",
    "print(\"Number of unique fuel_type in df:\", len(fuel_counts))\n",
    "print(\"fuel_type frequencies in df:\\n\", fuel_counts)\n",
    "\n",
    "# Identify fuel_types to keep (those with >= 376 rows in df)\n",
    "threshold = 376\n",
    "fuels_to_keep = fuel_counts[fuel_counts >= 376].index\n",
    "print(f\"fuel_types with >= {threshold} rows (to keep as is):\", fuels_to_keep.tolist())\n",
    "\n",
    "# Unite low-frequency values (<376) into 'Other' in both df and udf\n",
    "df['fuel_type'] = df['fuel_type'].apply(lambda x: x if x in fuels_to_keep else 'Other')\n",
    "udf['fuel_type'] = udf['fuel_type'].apply(lambda x: x if x in fuels_to_keep else 'Other')\n",
    "\n",
    "# Verify the results\n",
    "print(\"Unique fuel_type in df after grouping:\", df['fuel_type'].nunique())\n",
    "print(\"Unique fuel_type in udf after grouping:\", udf['fuel_type'].nunique())\n",
    "print(\"fuel_type frequencies in df after grouping:\\n\", df['fuel_type'].value_counts())\n",
    "print(\"fuel_type frequencies in udf after grouping:\\n\", udf['fuel_type'].value_counts())"
   ]
  },
  {
   "cell_type": "code",
   "execution_count": 95,
   "id": "729258c5",
   "metadata": {},
   "outputs": [],
   "source": [
    "# One-hot encode the fuel_type feature\n",
    "df = pd.get_dummies(df, columns=['fuel_type'], prefix='fuel_type', drop_first=True)\n",
    "udf = pd.get_dummies(udf, columns=['fuel_type'], prefix='fuel_type', drop_first=True)"
   ]
  },
  {
   "cell_type": "code",
   "execution_count": 96,
   "id": "189725b9",
   "metadata": {},
   "outputs": [
    {
     "data": {
      "text/plain": [
       "array(['Excessive Emissions', '  Radiator Leaking  ',\n",
       "       '     Engine Issue     ', 'Flat Tyres', 'Windscreen Crack',\n",
       "       'Transmission Issue', 'Alternator Failing', 'Brake Pads Worn',\n",
       "       'Engine Issue', 'Tyre Alignment', 'Steering Wheel Shaking',\n",
       "       'Radiator Leaking', 'Gear Box Issue', 'Starter Motor Issue',\n",
       "       '    Transmission Issue    ', '  Tyre Alignment  ',\n",
       "       'Electrical Issue', 'Sensor Malfunction',\n",
       "       '    Radiator Leaking    ', '    Electrical Issue    ',\n",
       "       'Warning Light', '  Excessive Emissions  ',\n",
       "       '   Brake Pads Worn   ', '  Flat Tyres  ',\n",
       "       '     Windscreen Crack     ', ' Transmission Issue ',\n",
       "       '  Transmission Issue  ', '     Flat Tyres     ',\n",
       "       '    Steering Wheel Shaking    ', '  Alternator Failing  ',\n",
       "       '    Warning Light    ', '   Sensor Malfunction   ',\n",
       "       ' Flat Tyres ', '    Starter Motor Issue    ',\n",
       "       '  Steering Wheel Shaking  ', ' Brake Pads Worn ',\n",
       "       '     Electrical Issue     ', '  Sensor Malfunction  ',\n",
       "       '    Excessive Emissions    ', '    Sensor Malfunction    ',\n",
       "       '   Flat Tyres   ', '   Warning Light   ',\n",
       "       '   Radiator Leaking   ', ' Warning Light ',\n",
       "       '   Alternator Failing   ', '    Windscreen Crack    ',\n",
       "       ' Alternator Failing ', '    Brake Pads Worn    ',\n",
       "       '   Electrical Issue   ', '  Gear Box Issue  ',\n",
       "       '  Starter Motor Issue  ', '    Tyre Alignment    ',\n",
       "       '  Brake Pads Worn  ', '     Steering Wheel Shaking     ',\n",
       "       '   Excessive Emissions   ', ' Starter Motor Issue ',\n",
       "       ' Excessive Emissions ', '     Alternator Failing     ',\n",
       "       ' Steering Wheel Shaking ', '     Gear Box Issue     ',\n",
       "       '    Alternator Failing    ', '   Gear Box Issue   ',\n",
       "       '    Flat Tyres    ', '  Engine Issue  ',\n",
       "       '     Warning Light     ', '     Starter Motor Issue     ',\n",
       "       '   Tyre Alignment   ', '     Sensor Malfunction     ',\n",
       "       ' Tyre Alignment ', '   Starter Motor Issue   ',\n",
       "       '     Brake Pads Worn     ', '   Windscreen Crack   ',\n",
       "       '     Radiator Leaking     ', ' Sensor Malfunction ',\n",
       "       '   Transmission Issue   ', '    Engine Issue    ',\n",
       "       '  Windscreen Crack  ', ' Electrical Issue ',\n",
       "       '     Excessive Emissions     ', '     Transmission Issue     ',\n",
       "       '   Engine Issue   ', '  Electrical Issue  ',\n",
       "       '    Gear Box Issue    ', '     Tyre Alignment     ',\n",
       "       '   Steering Wheel Shaking   ', '  Warning Light  ',\n",
       "       ' Windscreen Crack ', ' Radiator Leaking ', ' Engine Issue ',\n",
       "       ' Gear Box Issue '], dtype=object)"
      ]
     },
     "execution_count": 96,
     "metadata": {},
     "output_type": "execute_result"
    }
   ],
   "source": [
    "# check 'issue' feature\n",
    "df['issue'].unique()\n"
   ]
  },
  {
   "cell_type": "code",
   "execution_count": 97,
   "id": "e610f548",
   "metadata": {},
   "outputs": [],
   "source": [
    "# the feature has a lot of whitespaces, let's stip it\n",
    "df['issue'] = df['issue'].apply(lambda x: x.strip())\n",
    "udf['issue'] = udf['issue'].apply(lambda x: x.strip())"
   ]
  },
  {
   "cell_type": "code",
   "execution_count": 98,
   "id": "454d04f9",
   "metadata": {},
   "outputs": [
    {
     "data": {
      "text/plain": [
       "issue\n",
       "Flat Tyres                2609\n",
       "Transmission Issue        2591\n",
       "Alternator Failing        2586\n",
       "Warning Light             2542\n",
       "Brake Pads Worn           2535\n",
       "Engine Issue              2531\n",
       "Radiator Leaking          2530\n",
       "Steering Wheel Shaking    2522\n",
       "Windscreen Crack          2487\n",
       "Starter Motor Issue       2483\n",
       "Gear Box Issue            2481\n",
       "Tyre Alignment            2475\n",
       "Sensor Malfunction        2445\n",
       "Electrical Issue          2422\n",
       "Excessive Emissions       2397\n",
       "Name: count, dtype: int64"
      ]
     },
     "execution_count": 98,
     "metadata": {},
     "output_type": "execute_result"
    }
   ],
   "source": [
    "# now we have a reasonable number of distinct values\n",
    "df['issue'].value_counts()"
   ]
  },
  {
   "cell_type": "code",
   "execution_count": 99,
   "id": "50ca5299",
   "metadata": {},
   "outputs": [],
   "source": [
    "# replace whitespaces with underscores in the issue values\n",
    "df['issue'] = df['issue'].str.replace(' ', '_')\n",
    "udf['issue'] = udf['issue'].str.replace(' ', '_')\n",
    "\n",
    "# One-hot encode the issue feature\n",
    "df = pd.get_dummies(df, columns=['issue'], prefix='issue', drop_first=True)\n",
    "udf = pd.get_dummies(udf, columns=['issue'], prefix='issue', drop_first=True)"
   ]
  },
  {
   "cell_type": "code",
   "execution_count": 100,
   "id": "59fe2af5",
   "metadata": {},
   "outputs": [],
   "source": [
    "# The last two features are 'breakdown_date' and 'repair_date'\n",
    "# Let's combine them into one feature 'repair_duration' which will represent the time between breakdown and repair\n",
    "\n",
    "# Convert the date columns to datetime\n",
    "df['breakdown_date'] = pd.to_datetime(df['breakdown_date'])\n",
    "df['repair_date'] = pd.to_datetime(df['repair_date'])\n",
    "\n",
    "udf['breakdown_date'] = pd.to_datetime(udf['breakdown_date'])\n",
    "udf['repair_date'] = pd.to_datetime(udf['repair_date'])\n",
    "\n",
    "# Calculate the number of days between repair_date and breakdown_date\n",
    "df['days_to_repair'] = (df['repair_date'] - df['breakdown_date']).dt.days\n",
    "udf['days_to_repair'] = (udf['repair_date'] - udf['breakdown_date']).dt.days\n",
    "\n",
    "# Drop the original date columns\n",
    "df = df.drop(['breakdown_date', 'repair_date'], axis=1)\n",
    "udf = udf.drop(['breakdown_date', 'repair_date'], axis=1)"
   ]
  },
  {
   "cell_type": "code",
   "execution_count": 101,
   "id": "134f829c",
   "metadata": {},
   "outputs": [
    {
     "data": {
      "text/plain": [
       "<Axes: xlabel='days_to_repair', ylabel='Count'>"
      ]
     },
     "execution_count": 101,
     "metadata": {},
     "output_type": "execute_result"
    },
    {
     "data": {
      "image/png": "[encoded data removed]",
      "text/plain": [
       "<Figure size 800x300 with 1 Axes>"
      ]
     },
     "metadata": {},
     "output_type": "display_data"
    }
   ],
   "source": [
    "# Visualize the distribution of the 'days_to_repair' feature\n",
    "plt.figure(figsize=(8, 3))\n",
    "sns.histplot(df['days_to_repair'])"
   ]
  },
  {
   "cell_type": "code",
   "execution_count": 102,
   "id": "288fcc97",
   "metadata": {},
   "outputs": [],
   "source": [
    "# log transform the feature as it looks highly right skewed\n",
    "df['days_to_repair_log'] = np.log1p(df['days_to_repair'])\n",
    "udf['days_to_repair_log'] = np.log1p(udf['days_to_repair'])\n",
    "\n",
    "df = df.drop('days_to_repair', axis=1)\n",
    "udf = udf.drop('days_to_repair', axis=1)"
   ]
  },
  {
   "cell_type": "code",
   "execution_count": 103,
   "id": "627aa966",
   "metadata": {},
   "outputs": [
    {
     "data": {
      "text/plain": [
       "<Axes: xlabel='days_to_repair_log', ylabel='Count'>"
      ]
     },
     "execution_count": 103,
     "metadata": {},
     "output_type": "execute_result"
    },
    {
     "data": {
      "image/png": "[encoded data removed]",
      "text/plain": [
       "<Figure size 800x300 with 1 Axes>"
      ]
     },
     "metadata": {},
     "output_type": "display_data"
    }
   ],
   "source": [
    "# Visualize the distribution of the 'days_to_repair' feature\n",
    "plt.figure(figsize=(8, 3))\n",
    "sns.histplot(df['days_to_repair_log'])"
   ]
  },
  {
   "cell_type": "code",
   "execution_count": 104,
   "id": "8b670ce1",
   "metadata": {},
   "outputs": [],
   "source": [
    "# It looks feasible (as the majority of values are zeroes) to add an additional binary feature to show whether the repair was done on the same day as the breakdown\n",
    "\n",
    "# Create a binary indicator for zero values (same-day repairs)\n",
    "df['is_same_day_repair'] = (df['days_to_repair_log'] == 0).astype(int)\n",
    "udf['is_same_day_repair'] = (udf['days_to_repair_log'] == 0).astype(int)\n",
    "\n",
    "# Scale the log-transformed feature\n",
    "df['days_to_repair_log_scaled'] = scaler.fit_transform(df[['days_to_repair_log']])\n",
    "udf['days_to_repair_log_scaled'] = scaler.transform(udf[['days_to_repair_log']])\n",
    "\n",
    "# Drop the original and intermediate columns\n",
    "df = df.drop(['days_to_repair_log'], axis=1)\n",
    "udf = udf.drop(['days_to_repair_log'], axis=1)"
   ]
  },
  {
   "cell_type": "code",
   "execution_count": 105,
   "id": "c893e12a",
   "metadata": {},
   "outputs": [
    {
     "data": {
      "text/plain": [
       "(37636, 52)"
      ]
     },
     "execution_count": 105,
     "metadata": {},
     "output_type": "execute_result"
    }
   ],
   "source": [
    "# Check the final shape of the dataframe\n",
    "df.shape"
   ]
  },
  {
   "cell_type": "code",
   "execution_count": 106,
   "id": "d60c8052",
   "metadata": {},
   "outputs": [
    {
     "data": {
      "text/plain": [
       "36"
      ]
     },
     "execution_count": 106,
     "metadata": {},
     "output_type": "execute_result"
    }
   ],
   "source": [
    "# The dataframe contains 36 boolean 1/0 features\n",
    "len(df.select_dtypes('bool').columns)"
   ]
  },
  {
   "cell_type": "code",
   "execution_count": 107,
   "id": "bd9041d3",
   "metadata": {},
   "outputs": [
    {
     "data": {
      "text/plain": [
       "16"
      ]
     },
     "execution_count": 107,
     "metadata": {},
     "output_type": "execute_result"
    }
   ],
   "source": [
    "# ... and 16 numeric features one of which is a target variable ('label')\n",
    "len(df.select_dtypes('number').columns)"
   ]
  },
  {
   "cell_type": "code",
   "execution_count": 108,
   "id": "3eb6f944",
   "metadata": {},
   "outputs": [
    {
     "data": {
      "text/plain": [
       "52"
      ]
     },
     "execution_count": 108,
     "metadata": {},
     "output_type": "execute_result"
    }
   ],
   "source": [
    "# Select boolean columns and convert to int\n",
    "bool_cols = df.select_dtypes('bool').columns\n",
    "df[bool_cols] = df[bool_cols].astype(int)\n",
    "\n",
    "# Now all features are numeric\n",
    "len(df.select_dtypes(np.number).columns)"
   ]
  },
  {
   "cell_type": "code",
   "execution_count": 109,
   "id": "cf10c71f",
   "metadata": {},
   "outputs": [
    {
     "data": {
      "text/plain": [
       "51"
      ]
     },
     "execution_count": 109,
     "metadata": {},
     "output_type": "execute_result"
    }
   ],
   "source": [
    "# Select boolean columns and convert to int\n",
    "bool_cols = udf.select_dtypes('bool').columns\n",
    "udf[bool_cols] = udf[bool_cols].astype(int)\n",
    "\n",
    "# Now all features are numeric\n",
    "len(udf.select_dtypes(np.number).columns)"
   ]
  },
  {
   "cell_type": "code",
   "execution_count": 110,
   "id": "bcfe366e",
   "metadata": {},
   "outputs": [
    {
     "name": "stdout",
     "output_type": "stream",
     "text": [
      "Lowest correlations (most negative):\n",
      "days_to_repair_log_scaled  is_same_day_repair   -0.832303\n",
      "seat_num_4-5               seat_num_6-7         -0.786822\n",
      "price_scaled               vehicle_age_scaled   -0.712522\n",
      "is_same_day_repair         repair_cost_scaled   -0.605811\n",
      "mileage_scaled             price_scaled         -0.537837\n",
      "dtype: float64\n",
      "\n",
      "Highest correlations (most positive):\n",
      "bodytype_MPV               seat_num_6-7              0.560298\n",
      "days_to_repair_log_scaled  repair_hours_100-10000    0.561871\n",
      "                           repair_cost_scaled        0.576292\n",
      "mileage_scaled             vehicle_age_scaled        0.647483\n",
      "engine_size_scaled         repair_complexity_3-4     0.706512\n",
      "dtype: float64\n"
     ]
    }
   ],
   "source": [
    "# Test possible correlations between features to foresee multicollinearity problems\n",
    "\n",
    "# Compute correlations, unstack, sort, and remove self-correlations\n",
    "corr_series = df.corr().unstack().sort_values()\n",
    "corr_series = corr_series[corr_series != 1.0]\n",
    "\n",
    "# Remove duplicate pairs\n",
    "corr_series = corr_series[corr_series.index.map(lambda x: x[0] < x[1])]\n",
    "\n",
    "# Show the 5 most negative and 5 most positive correlations\n",
    "print(\"Lowest correlations (most negative):\")\n",
    "print(corr_series.head())\n",
    "print(\"\\nHighest correlations (most positive):\")\n",
    "print(corr_series.tail())"
   ]
  },
  {
   "cell_type": "code",
   "execution_count": null,
   "id": "2ea10d69",
   "metadata": {},
   "outputs": [],
   "source": []
  },
  {
   "cell_type": "code",
   "execution_count": 114,
   "id": "b1a8238e",
   "metadata": {},
   "outputs": [
    {
     "name": "stdout",
     "output_type": "stream",
     "text": [
      "Collecting scikit-optimize\n",
      "  Using cached scikit_optimize-0.10.2-py2.py3-none-any.whl.metadata (9.7 kB)\n",
      "Requirement already satisfied: joblib>=0.11 in c:\\users\\samak\\anaconda3\\lib\\site-packages (from scikit-optimize) (1.4.2)\n",
      "Collecting pyaml>=16.9 (from scikit-optimize)\n",
      "  Using cached pyaml-25.1.0-py3-none-any.whl.metadata (12 kB)\n",
      "Requirement already satisfied: numpy>=1.20.3 in c:\\users\\samak\\anaconda3\\lib\\site-packages (from scikit-optimize) (1.26.4)\n",
      "Requirement already satisfied: scipy>=1.1.0 in c:\\users\\samak\\anaconda3\\lib\\site-packages (from scikit-optimize) (1.13.1)\n",
      "Requirement already satisfied: scikit-learn>=1.0.0 in c:\\users\\samak\\anaconda3\\lib\\site-packages (from scikit-optimize) (1.5.1)\n",
      "Requirement already satisfied: packaging>=21.3 in c:\\users\\samak\\appdata\\roaming\\python\\python312\\site-packages (from scikit-optimize) (23.2)\n",
      "Requirement already satisfied: PyYAML in c:\\users\\samak\\anaconda3\\lib\\site-packages (from pyaml>=16.9->scikit-optimize) (6.0.1)\n",
      "Requirement already satisfied: threadpoolctl>=3.1.0 in c:\\users\\samak\\anaconda3\\lib\\site-packages (from scikit-learn>=1.0.0->scikit-optimize) (3.5.0)\n",
      "Using cached scikit_optimize-0.10.2-py2.py3-none-any.whl (107 kB)\n",
      "Using cached pyaml-25.1.0-py3-none-any.whl (26 kB)\n",
      "Installing collected packages: pyaml, scikit-optimize\n",
      "Successfully installed pyaml-25.1.0 scikit-optimize-0.10.2\n"
     ]
    }
   ],
   "source": [
    "!pip install scikit-optimize"
   ]
  },
  {
   "cell_type": "code",
   "execution_count": null,
   "id": "13b835a9",
   "metadata": {},
   "outputs": [],
   "source": []
  },
  {
   "cell_type": "code",
   "execution_count": null,
   "id": "18ef4c1b",
   "metadata": {},
   "outputs": [
    {
     "name": "stdout",
     "output_type": "stream",
     "text": [
      "Fitting 5 folds for each of 1 candidates, totalling 5 fits\n",
      "Fitting 5 folds for each of 1 candidates, totalling 5 fits\n",
      "Fitting 5 folds for each of 1 candidates, totalling 5 fits\n",
      "Fitting 5 folds for each of 1 candidates, totalling 5 fits\n",
      "Fitting 5 folds for each of 1 candidates, totalling 5 fits\n",
      "Fitting 5 folds for each of 1 candidates, totalling 5 fits\n",
      "Fitting 5 folds for each of 1 candidates, totalling 5 fits\n",
      "Fitting 5 folds for each of 1 candidates, totalling 5 fits\n",
      "Fitting 5 folds for each of 1 candidates, totalling 5 fits\n",
      "Fitting 5 folds for each of 1 candidates, totalling 5 fits\n",
      "Fitting 5 folds for each of 1 candidates, totalling 5 fits\n",
      "Fitting 5 folds for each of 1 candidates, totalling 5 fits\n",
      "Fitting 5 folds for each of 1 candidates, totalling 5 fits\n",
      "Fitting 5 folds for each of 1 candidates, totalling 5 fits\n",
      "Fitting 5 folds for each of 1 candidates, totalling 5 fits\n",
      "Fitting 5 folds for each of 1 candidates, totalling 5 fits\n",
      "Fitting 5 folds for each of 1 candidates, totalling 5 fits\n",
      "Fitting 5 folds for each of 1 candidates, totalling 5 fits\n",
      "Fitting 5 folds for each of 1 candidates, totalling 5 fits\n",
      "Fitting 5 folds for each of 1 candidates, totalling 5 fits\n",
      "Fitting 5 folds for each of 1 candidates, totalling 5 fits\n",
      "Fitting 5 folds for each of 1 candidates, totalling 5 fits\n",
      "Fitting 5 folds for each of 1 candidates, totalling 5 fits\n",
      "Fitting 5 folds for each of 1 candidates, totalling 5 fits\n",
      "Fitting 5 folds for each of 1 candidates, totalling 5 fits\n",
      "Fitting 5 folds for each of 1 candidates, totalling 5 fits\n",
      "Fitting 5 folds for each of 1 candidates, totalling 5 fits\n",
      "Fitting 5 folds for each of 1 candidates, totalling 5 fits\n",
      "Fitting 5 folds for each of 1 candidates, totalling 5 fits\n",
      "Fitting 5 folds for each of 1 candidates, totalling 5 fits\n",
      "Fitting 5 folds for each of 1 candidates, totalling 5 fits\n",
      "Fitting 5 folds for each of 1 candidates, totalling 5 fits\n",
      "Fitting 5 folds for each of 1 candidates, totalling 5 fits\n",
      "Fitting 5 folds for each of 1 candidates, totalling 5 fits\n",
      "Fitting 5 folds for each of 1 candidates, totalling 5 fits\n",
      "Fitting 5 folds for each of 1 candidates, totalling 5 fits\n",
      "Fitting 5 folds for each of 1 candidates, totalling 5 fits\n",
      "Fitting 5 folds for each of 1 candidates, totalling 5 fits\n",
      "Fitting 5 folds for each of 1 candidates, totalling 5 fits\n",
      "Fitting 5 folds for each of 1 candidates, totalling 5 fits\n",
      "Best hyperparameters: OrderedDict({'C': 1.3620606353181255, 'penalty': 'l2'})\n",
      "Best cross-validation F1-score: 0.6793625146123425\n",
      "\n",
      "Validation Metrics:\n",
      "Accuracy: 0.9041\n",
      "Precision: 0.5371\n",
      "Recall: 0.9202\n",
      "F1-Score: 0.6783\n",
      "ROC AUC: 0.9397\n",
      "PR AUC: 0.5631\n"
     ]
    },
    {
     "data": {
      "image/png": "[encoded data removed]",
      "text/plain": [
       "<Figure size 1000x500 with 2 Axes>"
      ]
     },
     "metadata": {},
     "output_type": "display_data"
    }
   ],
   "source": [
    "from sklearn.model_selection import train_test_split, StratifiedKFold\n",
    "from sklearn.linear_model import LogisticRegression\n",
    "from sklearn.metrics import accuracy_score, precision_score, recall_score, f1_score, roc_auc_score, average_precision_score\n",
    "from sklearn.metrics import roc_curve, precision_recall_curve, auc\n",
    "from skopt import BayesSearchCV\n",
    "from skopt.space import Real, Categorical\n",
    "\n",
    "# Separate features and target\n",
    "X = df.drop(columns=['label'])\n",
    "y = df['label']\n",
    "\n",
    "# Split into training and validation sets (80-20 split, stratified)\n",
    "X_train, X_val, y_train, y_val = train_test_split(X, y, test_size=0.2, random_state=42, stratify=y)\n",
    "\n",
    "# Define Stratified K-Fold for cross-validation\n",
    "skf = StratifiedKFold(n_splits=5, shuffle=True, random_state=42)\n",
    "\n",
    "# Define the logistic regression model with balanced class weights\n",
    "logreg = LogisticRegression(solver='newton-cg', max_iter=1000, class_weight='balanced', random_state=42)\n",
    "\n",
    "# Define the hyperparameter search space for Bayesian optimization\n",
    "param_space = {\n",
    "    'C': Real(0.001, 100, prior='log-uniform'),  # Inverse of regularization strength\n",
    "    'penalty': Categorical(['l2']),  # L1 (Lasso) or L2 (Ridge) regularization\n",
    "}\n",
    "\n",
    "# Perform Bayesian optimization with Stratified K-Fold cross-validation\n",
    "bayes_search = BayesSearchCV(\n",
    "    estimator=logreg,\n",
    "    search_spaces=param_space,\n",
    "    n_iter=40,  # Number of iterations for Bayesian optimization\n",
    "    cv=skf,  # Stratified K-Fold cross-validation\n",
    "    scoring='f1',  # Optimize for F1-score (good for imbalanced data)\n",
    "    n_jobs=-1,  # Use all available cores\n",
    "    random_state=42,\n",
    "    verbose=1\n",
    ")\n",
    "bayes_search.fit(X_train, y_train)\n",
    "\n",
    "# Best model and parameters\n",
    "best_model = bayes_search.best_estimator_\n",
    "print(\"Best hyperparameters:\", bayes_search.best_params_)\n",
    "print(\"Best cross-validation F1-score:\", bayes_search.best_score_)\n",
    "\n",
    "# Evaluate the model on the validation set\n",
    "y_pred = best_model.predict(X_val)\n",
    "y_pred_proba = best_model.predict_proba(X_val)[:, 1]  # Probabilities for class 1\n",
    "\n",
    "# Calculate metrics\n",
    "accuracy = accuracy_score(y_val, y_pred)\n",
    "precision = precision_score(y_val, y_pred)\n",
    "recall = recall_score(y_val, y_pred)\n",
    "f1 = f1_score(y_val, y_pred)\n",
    "roc_auc = roc_auc_score(y_val, y_pred_proba)\n",
    "pr_auc = average_precision_score(y_val, y_pred_proba)\n",
    "\n",
    "# Print metrics\n",
    "print(\"\\nValidation Metrics:\")\n",
    "print(f\"Accuracy: {accuracy:.4f}\")\n",
    "print(f\"Precision: {precision:.4f}\")\n",
    "print(f\"Recall: {recall:.4f}\")\n",
    "print(f\"F1-Score: {f1:.4f}\")\n",
    "print(f\"ROC AUC: {roc_auc:.4f}\")\n",
    "print(f\"PR AUC: {pr_auc:.4f}\")\n",
    "\n",
    "\n",
    "# ROC Curve\n",
    "fpr, tpr, _ = roc_curve(y_val, y_pred_proba)\n",
    "roc_auc_value = auc(fpr, tpr)\n",
    "\n",
    "plt.figure(figsize=(10, 5))\n",
    "plt.subplot(1, 2, 1)\n",
    "plt.plot(fpr, tpr, label=f'ROC AUC = {roc_auc_value:.4f}')\n",
    "plt.plot([0, 1], [0, 1], 'k--')  # Diagonal line\n",
    "plt.xlabel('False Positive Rate')\n",
    "plt.ylabel('True Positive Rate')\n",
    "plt.title('ROC Curve')\n",
    "plt.legend(loc='lower right')\n",
    "plt.grid(True)\n",
    "\n",
    "# Precision-Recall Curve\n",
    "precision_vals, recall_vals, _ = precision_recall_curve(y_val, y_pred_proba)\n",
    "pr_auc_value = auc(recall_vals, precision_vals)\n",
    "\n",
    "plt.subplot(1, 2, 2)\n",
    "plt.plot(recall_vals, precision_vals, label=f'PR AUC = {pr_auc_value:.4f}')\n",
    "plt.xlabel('Recall')\n",
    "plt.ylabel('Precision')\n",
    "plt.title('Precision-Recall Curve')\n",
    "plt.legend(loc='lower left')\n",
    "plt.grid(True)\n",
    "\n",
    "plt.tight_layout()\n",
    "plt.show()"
   ]
  },
  {
   "cell_type": "markdown",
   "id": "e33b06e8",
   "metadata": {},
   "source": [
    "- With ~10% of the data being class 1, the model struggles to achieve high precision while maintaining high recall. \n",
    "- The high recall (0.9202) indicates the model is good at identifying most positive instances. \n",
    "- But the lower precision (0.5371) means it’s also predicting many false positives."
   ]
  },
  {
   "cell_type": "code",
   "execution_count": 131,
   "id": "747271ff",
   "metadata": {},
   "outputs": [
    {
     "data": {
      "text/plain": [
       "adv_recency_scaled              0\n",
       "month_sin                       0\n",
       "month_cos                       0\n",
       "weekday_sin                     0\n",
       "weekday_cos                     0\n",
       "vehicle_age_scaled              0\n",
       "mileage_scaled                  0\n",
       "price_scaled                    0\n",
       "seat_num_4-5                    0\n",
       "seat_num_6-7                    0\n",
       "seat_num_8+                     0\n",
       "door_num_4-5                    0\n",
       "door_num_6+                     0\n",
       "issue_id_1-2                    0\n",
       "issue_id_3+                     0\n",
       "repair_complexity_2             0\n",
       "repair_complexity_3-4           0\n",
       "repair_cost_scaled              0\n",
       "repair_hours_2-10               0\n",
       "repair_hours_10-100             0\n",
       "repair_hours_100-10000          0\n",
       "genmodel_id_encoded             0\n",
       "color_encoded                   0\n",
       "bodytype_Coupe                  0\n",
       "bodytype_Estate                 0\n",
       "bodytype_Hatchback              0\n",
       "bodytype_MPV                    0\n",
       "bodytype_Other                  0\n",
       "bodytype_Pickup                 0\n",
       "bodytype_SUV                    0\n",
       "bodytype_Saloon                 0\n",
       "engine_size_scaled              0\n",
       "gearbox_binary                  0\n",
       "fuel_type_Other                 0\n",
       "fuel_type_Petrol                0\n",
       "issue_Brake_Pads_Worn           0\n",
       "issue_Electrical_Issue          0\n",
       "issue_Engine_Issue              0\n",
       "issue_Excessive_Emissions       0\n",
       "issue_Flat_Tyres                0\n",
       "issue_Gear_Box_Issue            0\n",
       "issue_Radiator_Leaking          0\n",
       "issue_Sensor_Malfunction        0\n",
       "issue_Starter_Motor_Issue       0\n",
       "issue_Steering_Wheel_Shaking    0\n",
       "issue_Transmission_Issue        0\n",
       "issue_Tyre_Alignment            0\n",
       "issue_Warning_Light             0\n",
       "issue_Windscreen_Crack          0\n",
       "is_same_day_repair              0\n",
       "days_to_repair_log_scaled       1\n",
       "dtype: int64"
      ]
     },
     "execution_count": 131,
     "metadata": {},
     "output_type": "execute_result"
    }
   ],
   "source": [
    "udf.isnull().sum()"
   ]
  },
  {
   "cell_type": "code",
   "execution_count": 134,
   "id": "6991c425",
   "metadata": {},
   "outputs": [],
   "source": [
    "udf['days_to_repair_log_scaled'] = udf['days_to_repair_log_scaled'].fillna(udf['days_to_repair_log_scaled'].mean())"
   ]
  },
  {
   "cell_type": "code",
   "execution_count": 135,
   "id": "54715b80",
   "metadata": {},
   "outputs": [],
   "source": [
    "udf['Label'] = best_model.predict(udf)"
   ]
  },
  {
   "cell_type": "code",
   "execution_count": 128,
   "id": "85742e8b",
   "metadata": {},
   "outputs": [
    {
     "data": {
      "application/vnd.microsoft.datawrangler.viewer.v0+json": {
       "columns": [
        {
         "name": "index",
         "rawType": "int64",
         "type": "integer"
        },
        {
         "name": "ID",
         "rawType": "int64",
         "type": "integer"
        },
        {
         "name": "Label",
         "rawType": "int64",
         "type": "integer"
        }
       ],
       "conversionMethod": "pd.DataFrame",
       "ref": "c2a59331-1224-442e-9cc9-31430e549fda",
       "rows": [
        [
         "0",
         "29455",
         "1"
        ],
        [
         "1",
         "41446",
         "1"
        ],
        [
         "2",
         "42116",
         "1"
        ],
        [
         "3",
         "32619",
         "1"
        ],
        [
         "4",
         "51078",
         "1"
        ]
       ],
       "shape": {
        "columns": 2,
        "rows": 5
       }
      },
      "text/html": [
       "<div>\n",
       "<style scoped>\n",
       "    .dataframe tbody tr th:only-of-type {\n",
       "        vertical-align: middle;\n",
       "    }\n",
       "\n",
       "    .dataframe tbody tr th {\n",
       "        vertical-align: top;\n",
       "    }\n",
       "\n",
       "    .dataframe thead th {\n",
       "        text-align: right;\n",
       "    }\n",
       "</style>\n",
       "<table border=\"1\" class=\"dataframe\">\n",
       "  <thead>\n",
       "    <tr style=\"text-align: right;\">\n",
       "      <th></th>\n",
       "      <th>ID</th>\n",
       "      <th>Label</th>\n",
       "    </tr>\n",
       "  </thead>\n",
       "  <tbody>\n",
       "    <tr>\n",
       "      <th>0</th>\n",
       "      <td>29455</td>\n",
       "      <td>1</td>\n",
       "    </tr>\n",
       "    <tr>\n",
       "      <th>1</th>\n",
       "      <td>41446</td>\n",
       "      <td>1</td>\n",
       "    </tr>\n",
       "    <tr>\n",
       "      <th>2</th>\n",
       "      <td>42116</td>\n",
       "      <td>1</td>\n",
       "    </tr>\n",
       "    <tr>\n",
       "      <th>3</th>\n",
       "      <td>32619</td>\n",
       "      <td>1</td>\n",
       "    </tr>\n",
       "    <tr>\n",
       "      <th>4</th>\n",
       "      <td>51078</td>\n",
       "      <td>1</td>\n",
       "    </tr>\n",
       "  </tbody>\n",
       "</table>\n",
       "</div>"
      ],
      "text/plain": [
       "      ID  Label\n",
       "0  29455      1\n",
       "1  41446      1\n",
       "2  42116      1\n",
       "3  32619      1\n",
       "4  51078      1"
      ]
     },
     "execution_count": 128,
     "metadata": {},
     "output_type": "execute_result"
    }
   ],
   "source": [
    "example = pd.read_csv(\"example_prediction.csv\", sep=\";\")\n",
    "example.head()"
   ]
  },
  {
   "cell_type": "code",
   "execution_count": 136,
   "id": "5fcee537",
   "metadata": {},
   "outputs": [],
   "source": [
    "example2 = example.copy()"
   ]
  },
  {
   "cell_type": "code",
   "execution_count": 137,
   "id": "0388714c",
   "metadata": {},
   "outputs": [],
   "source": [
    "example2['Label'] = udf['Label']"
   ]
  },
  {
   "cell_type": "code",
   "execution_count": 138,
   "id": "31f177fa",
   "metadata": {},
   "outputs": [
    {
     "data": {
      "application/vnd.microsoft.datawrangler.viewer.v0+json": {
       "columns": [
        {
         "name": "index",
         "rawType": "int64",
         "type": "integer"
        },
        {
         "name": "ID",
         "rawType": "int64",
         "type": "integer"
        },
        {
         "name": "Label",
         "rawType": "int64",
         "type": "integer"
        }
       ],
       "conversionMethod": "pd.DataFrame",
       "ref": "10b5ebc0-843c-4d94-9e1d-ce08431bfd1b",
       "rows": [
        [
         "0",
         "29455",
         "0"
        ],
        [
         "1",
         "41446",
         "0"
        ],
        [
         "2",
         "42116",
         "0"
        ],
        [
         "3",
         "32619",
         "0"
        ],
        [
         "4",
         "51078",
         "0"
        ]
       ],
       "shape": {
        "columns": 2,
        "rows": 5
       }
      },
      "text/html": [
       "<div>\n",
       "<style scoped>\n",
       "    .dataframe tbody tr th:only-of-type {\n",
       "        vertical-align: middle;\n",
       "    }\n",
       "\n",
       "    .dataframe tbody tr th {\n",
       "        vertical-align: top;\n",
       "    }\n",
       "\n",
       "    .dataframe thead th {\n",
       "        text-align: right;\n",
       "    }\n",
       "</style>\n",
       "<table border=\"1\" class=\"dataframe\">\n",
       "  <thead>\n",
       "    <tr style=\"text-align: right;\">\n",
       "      <th></th>\n",
       "      <th>ID</th>\n",
       "      <th>Label</th>\n",
       "    </tr>\n",
       "  </thead>\n",
       "  <tbody>\n",
       "    <tr>\n",
       "      <th>0</th>\n",
       "      <td>29455</td>\n",
       "      <td>0</td>\n",
       "    </tr>\n",
       "    <tr>\n",
       "      <th>1</th>\n",
       "      <td>41446</td>\n",
       "      <td>0</td>\n",
       "    </tr>\n",
       "    <tr>\n",
       "      <th>2</th>\n",
       "      <td>42116</td>\n",
       "      <td>0</td>\n",
       "    </tr>\n",
       "    <tr>\n",
       "      <th>3</th>\n",
       "      <td>32619</td>\n",
       "      <td>0</td>\n",
       "    </tr>\n",
       "    <tr>\n",
       "      <th>4</th>\n",
       "      <td>51078</td>\n",
       "      <td>0</td>\n",
       "    </tr>\n",
       "  </tbody>\n",
       "</table>\n",
       "</div>"
      ],
      "text/plain": [
       "      ID  Label\n",
       "0  29455      0\n",
       "1  41446      0\n",
       "2  42116      0\n",
       "3  32619      0\n",
       "4  51078      0"
      ]
     },
     "execution_count": 138,
     "metadata": {},
     "output_type": "execute_result"
    }
   ],
   "source": [
    "example2.head()"
   ]
  },
  {
   "cell_type": "code",
   "execution_count": 139,
   "id": "d3062198",
   "metadata": {},
   "outputs": [],
   "source": [
    "example2.to_csv(\"result.csv\")"
   ]
  },
  {
   "cell_type": "code",
   "execution_count": null,
   "id": "d498a289",
   "metadata": {},
   "outputs": [],
   "source": []
  }
 ],
 "metadata": {
  "kernelspec": {
   "display_name": "base",
   "language": "python",
   "name": "python3"
  },
  "language_info": {
   "codemirror_mode": {
    "name": "ipython",
    "version": 3
   },
   "file_extension": ".py",
   "mimetype": "text/x-python",
   "name": "python",
   "nbconvert_exporter": "python",
   "pygments_lexer": "ipython3",
   "version": "3.12.7"
  }
 },
 "nbformat": 4,
 "nbformat_minor": 5
}
